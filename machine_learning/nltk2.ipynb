{
 "cells": [
  {
   "cell_type": "code",
   "execution_count": 1,
   "metadata": {},
   "outputs": [],
   "source": [
    "import urllib.request\n",
    "import json\n",
    "import datetime"
   ]
  },
  {
   "cell_type": "code",
   "execution_count": 2,
   "metadata": {},
   "outputs": [],
   "source": [
    "def gen_search_url(api_node, search_text, start_num, disp_num):\n",
    "    base = \"https://openapi.naver.com/v1/search\"\n",
    "    node = \"/\" + api_node + \".json\"\n",
    "    param_query = \"?query=\" + urllib.parse.quote(search_text)\n",
    "    param_start = \"&start=\" + str(start_num)\n",
    "    param_disp = \"&display=\" + str(disp_num)\n",
    "\n",
    "    return base + node + param_query + param_start + param_disp"
   ]
  },
  {
   "cell_type": "code",
   "execution_count": 3,
   "metadata": {},
   "outputs": [],
   "source": [
    "def get_result_onpage(url):\n",
    "    request = urllib.request.Request(url)\n",
    "    request.add_header(\"X-Naver-Client-Id\",client_id)\n",
    "    request.add_header(\"X-Naver-Client-Secret\",client_secret)\n",
    "    response = urllib.request.urlopen(request)\n",
    "    print(\"[%s] Url Request Success\" % datetime.datetime.now())\n",
    "    return json.loads(response.read().decode('utf-8'))"
   ]
  },
  {
   "cell_type": "code",
   "execution_count": 4,
   "metadata": {},
   "outputs": [
    {
     "name": "stdout",
     "output_type": "stream",
     "text": [
      "[2021-11-29 03:03:58.532948] Url Request Success\n"
     ]
    },
    {
     "data": {
      "text/plain": [
       "{'lastBuildDate': 'Mon, 29 Nov 2021 03:03:59 +0900',\n",
       " 'total': 207859,\n",
       " 'start': 10,\n",
       " 'display': 10,\n",
       " 'items': [{'title': '<b>파이썬</b>으로 만들 수 있는 간단한',\n",
       "   'link': 'https://kin.naver.com/qna/detail.naver?d1id=1&dirId=1040201&docId=405486928&qb=7YyM7J207I2s&enc=utf8&section=kin.qna&rank=10&search_sort=0&spq=0',\n",
       "   'description': '<b>파이썬</b>으로 만들 수 있는 짧으면서 간단한 인공지능 알려주세요. &quot;짧으면서 간단&quot;한 이라는 게 사람마다... <b>파이썬</b> Python Macro 구현 pyautogui 이미지 인식하여 마우스 컨트롤 하는 법 + opencv-python (tistory.com) 만들어진... '},\n",
       "  {'title': '<b>파이썬</b> 코딩',\n",
       "   'link': 'https://kin.naver.com/qna/detail.naver?d1id=1&dirId=10402&docId=404141529&qb=7YyM7J207I2s&enc=utf8&section=kin.qna&rank=11&search_sort=0&spq=0',\n",
       "   'description': \"... 로 출력되게 <b>파이썬</b>에서 코딩하려면 어떻게 해야하나요ㅜㅠ? 질문의 정확한 의도를 잘 모르지만........ def f(n) : A=2*(n-1)-1 print(f'A는 {A}입니다.') f(10) ====================== RESTART: D:\\\\python39\\\\1.py... \"},\n",
       "  {'title': '<b>파이썬</b> 노트북 환경',\n",
       "   'link': 'https://kin.naver.com/qna/detail.naver?d1id=11&dirId=1118&docId=405068278&qb=7YyM7J207I2s&enc=utf8&section=kin.qna&rank=12&search_sort=0&spq=0',\n",
       "   'description': '<b>파이썬</b> 구동을 위해 갖추어야 할 노트북 환경은 어떻게 되나요? 노트북을 구매할 때 고려해야 할 사항이 무엇인지... <b>파이썬</b>을 배우고 있는 중이라면 당장은 그렇게 좋은 사양의 노트북은 필요 없습니다. 하지만 실력이 좋아지고 다른... '},\n",
       "  {'title': '<b>파이썬</b> 라이브러리',\n",
       "   'link': 'https://kin.naver.com/qna/detail.naver?d1id=1&dirId=10402&docId=404633565&qb=7YyM7J207I2s&enc=utf8&section=kin.qna&rank=13&search_sort=0&spq=0',\n",
       "   'description': '... <b>파이썬</b>라이버러리는 어디서 다운받을수가 있나요 라이브러리라는 뜻은 특정 기능을 만들어서 공통으로 다른... 일반적으로 <b>파이썬</b>의 라이브러리는 pip 이라는 명령으로 설치를 하는데요. (이른바 공인된 라이브러리) 수학적인... '},\n",
       "  {'title': '<b>파이썬</b> 문제 질문(급함)',\n",
       "   'link': 'https://kin.naver.com/qna/detail.naver?d1id=1&dirId=10402&docId=404927377&qb=7YyM7J207I2s&enc=utf8&section=kin.qna&rank=14&search_sort=0&spq=0',\n",
       "   'description': \"<b>파이썬</b> 문제 import turtle from random import randint import time def problem6(): rept = int(input('반복문 숫자 입력 (20 - 50): ')) dist = 0 t.speed(8) for _ in range(rept): t.right(randint(1, 359)) rdist... \"},\n",
       "  {'title': 'Vscode <b>파이썬</b> 급해요',\n",
       "   'link': 'https://kin.naver.com/qna/detail.naver?d1id=1&dirId=10402&docId=405346081&qb=7YyM7J207I2s&enc=utf8&section=kin.qna&rank=15&search_sort=0&spq=0',\n",
       "   'description': '<b>파이썬</b> vscode로 독학해서 배우고 잇는데 <b>파이썬</b> 코드 실행이 안됩니다. 실행 버튼이 있긴한데 다른 영상들과... 전문가분들 도와주세요 ㅜㅜ  처음 <b>파이썬</b> 하시는 것이라면 vscode에서 하시는 것보다는 IDLE에서 하세요. <b>파이썬</b>을... '},\n",
       "  {'title': '사랑의 방정식 <b>파이썬</b>',\n",
       "   'link': 'https://kin.naver.com/qna/detail.naver?d1id=1&dirId=10402&docId=403682488&qb=7YyM7J207I2s&enc=utf8&section=kin.qna&rank=16&search_sort=0&spq=0',\n",
       "   'description': \"사랑의 방정식을 <b>파이썬</b>으로 돌릴 수는 없나요? 함수 축이 나오는 것까진 했는데... axis('equal') plt.plot(x, y) plt.title('fifth heart curve | parametric equations') plt.show() #<b>파이썬</b> #python \"},\n",
       "  {'title': '<b>파이썬</b> 질문 드립니다.',\n",
       "   'link': 'https://kin.naver.com/qna/detail.naver?d1id=1&dirId=10402&docId=406027869&qb=7YyM7J207I2s&enc=utf8&section=kin.qna&rank=17&search_sort=0&spq=0',\n",
       "   'description': '... <b>파이썬</b> 관련 한가지 질문을 드립니다. 제가 Jupiter Notebook을 사용하고 있습니다. 그리고 저한테... 제가 아직 <b>파이썬</b>을 공부한지 얼마 안된 초보자라 잘 모르겠습니다. 어떤 식으로 해야하는지... '},\n",
       "  {'title': '현재 프로그래밍 언어 <b>파이썬</b>이 제일 쉽나요?',\n",
       "   'link': 'https://kin.naver.com/qna/detail.naver?d1id=1&dirId=104&docId=405797109&qb=7YyM7J207I2s&enc=utf8&section=kin.qna&rank=18&search_sort=0&spq=0',\n",
       "   'description': '몇년전에 <b>파이썬</b>이 제일 쉽다고 들은 것 같은데 요즘도 그러나요?  코딩을 처음 접하는 초보자분들이 <b>파이썬</b>으로 코딩공부를 가장 많이 시작하십니다. https://blog.naver.com/95shinha/222490214649'},\n",
       "  {'title': '<b>파이썬</b> 질문있어요',\n",
       "   'link': 'https://kin.naver.com/qna/detail.naver?d1id=1&dirId=10402&docId=403482963&qb=7YyM7J207I2s&enc=utf8&section=kin.qna&rank=19&search_sort=0&spq=0',\n",
       "   'description': '[퀴즈1,퀴즈2, 퀴즈3] 이렇게 해서 코드를 짠다음에 퀴즈1를 고르면 그 퀴즈가 나오는 그런 코드는 <b>파이썬</b>에서는 못짜나요?? 짤수 있다면 알려주실 수 있을까요? 제가 가진 내공을 다 걸께요ㅜㅠ <b>파이썬</b>에서 지원하는 데이터... '}]}"
      ]
     },
     "execution_count": 4,
     "metadata": {},
     "output_type": "execute_result"
    }
   ],
   "source": [
    "client_id = \"RpCSsXQbjViP1An4myaR\"\n",
    "client_secret = \"g1hzDn5hAk\"\n",
    "\n",
    "url = gen_search_url('kin', '파이썬', 10, 10)\n",
    "one_result = get_result_onpage(url)\n",
    "one_result"
   ]
  },
  {
   "cell_type": "code",
   "execution_count": 6,
   "metadata": {},
   "outputs": [
    {
     "data": {
      "text/plain": [
       "'<b>파이썬</b>으로 만들 수 있는 짧으면서 간단한 인공지능 알려주세요. &quot;짧으면서 간단&quot;한 이라는 게 사람마다... <b>파이썬</b> Python Macro 구현 pyautogui 이미지 인식하여 마우스 컨트롤 하는 법 + opencv-python (tistory.com) 만들어진... '"
      ]
     },
     "execution_count": 6,
     "metadata": {},
     "output_type": "execute_result"
    }
   ],
   "source": [
    "one_result['items'][0]['description']"
   ]
  },
  {
   "cell_type": "code",
   "execution_count": 7,
   "metadata": {},
   "outputs": [],
   "source": [
    "def delete_tag(input_str):\n",
    "    input_str = input_str.replace(\"<b>\", \"\")\n",
    "    input_str = input_str.replace(\"</b>\", \"\")\n",
    "    return input_str"
   ]
  },
  {
   "cell_type": "code",
   "execution_count": 8,
   "metadata": {},
   "outputs": [],
   "source": [
    "def get_description(pages):\n",
    "    contents = []\n",
    "\n",
    "    for sentences in pages['items']:\n",
    "        contents.append(delete_tag(sentences['description']))\n",
    "\n",
    "    return contents"
   ]
  },
  {
   "cell_type": "code",
   "execution_count": 9,
   "metadata": {},
   "outputs": [
    {
     "data": {
      "text/plain": [
       "['파이썬으로 만들 수 있는 짧으면서 간단한 인공지능 알려주세요. &quot;짧으면서 간단&quot;한 이라는 게 사람마다... 파이썬 Python Macro 구현 pyautogui 이미지 인식하여 마우스 컨트롤 하는 법 + opencv-python (tistory.com) 만들어진... ',\n",
       " \"... 로 출력되게 파이썬에서 코딩하려면 어떻게 해야하나요ㅜㅠ? 질문의 정확한 의도를 잘 모르지만........ def f(n) : A=2*(n-1)-1 print(f'A는 {A}입니다.') f(10) ====================== RESTART: D:\\\\python39\\\\1.py... \",\n",
       " '파이썬 구동을 위해 갖추어야 할 노트북 환경은 어떻게 되나요? 노트북을 구매할 때 고려해야 할 사항이 무엇인지... 파이썬을 배우고 있는 중이라면 당장은 그렇게 좋은 사양의 노트북은 필요 없습니다. 하지만 실력이 좋아지고 다른... ',\n",
       " '... 파이썬라이버러리는 어디서 다운받을수가 있나요 라이브러리라는 뜻은 특정 기능을 만들어서 공통으로 다른... 일반적으로 파이썬의 라이브러리는 pip 이라는 명령으로 설치를 하는데요. (이른바 공인된 라이브러리) 수학적인... ',\n",
       " \"파이썬 문제 import turtle from random import randint import time def problem6(): rept = int(input('반복문 숫자 입력 (20 - 50): ')) dist = 0 t.speed(8) for _ in range(rept): t.right(randint(1, 359)) rdist... \",\n",
       " '파이썬 vscode로 독학해서 배우고 잇는데 파이썬 코드 실행이 안됩니다. 실행 버튼이 있긴한데 다른 영상들과... 전문가분들 도와주세요 ㅜㅜ  처음 파이썬 하시는 것이라면 vscode에서 하시는 것보다는 IDLE에서 하세요. 파이썬을... ',\n",
       " \"사랑의 방정식을 파이썬으로 돌릴 수는 없나요? 함수 축이 나오는 것까진 했는데... axis('equal') plt.plot(x, y) plt.title('fifth heart curve | parametric equations') plt.show() #파이썬 #python \",\n",
       " '... 파이썬 관련 한가지 질문을 드립니다. 제가 Jupiter Notebook을 사용하고 있습니다. 그리고 저한테... 제가 아직 파이썬을 공부한지 얼마 안된 초보자라 잘 모르겠습니다. 어떤 식으로 해야하는지... ',\n",
       " '몇년전에 파이썬이 제일 쉽다고 들은 것 같은데 요즘도 그러나요?  코딩을 처음 접하는 초보자분들이 파이썬으로 코딩공부를 가장 많이 시작하십니다. https://blog.naver.com/95shinha/222490214649',\n",
       " '[퀴즈1,퀴즈2, 퀴즈3] 이렇게 해서 코드를 짠다음에 퀴즈1를 고르면 그 퀴즈가 나오는 그런 코드는 파이썬에서는 못짜나요?? 짤수 있다면 알려주실 수 있을까요? 제가 가진 내공을 다 걸께요ㅜㅠ 파이썬에서 지원하는 데이터... ']"
      ]
     },
     "execution_count": 9,
     "metadata": {},
     "output_type": "execute_result"
    }
   ],
   "source": [
    "contents = get_description(one_result)\n",
    "contents"
   ]
  },
  {
   "cell_type": "code",
   "execution_count": 11,
   "metadata": {},
   "outputs": [],
   "source": [
    "from sklearn.feature_extraction.text import CountVectorizer\n",
    "from konlpy.tag import Okt"
   ]
  },
  {
   "cell_type": "code",
   "execution_count": 12,
   "metadata": {},
   "outputs": [],
   "source": [
    "t = Okt()\n",
    "vectorizer = CountVectorizer(min_df=1)"
   ]
  },
  {
   "cell_type": "code",
   "execution_count": 13,
   "metadata": {},
   "outputs": [
    {
     "data": {
      "text/plain": [
       "[['파이썬',\n",
       "  '으로',\n",
       "  '만들',\n",
       "  '수',\n",
       "  '있는',\n",
       "  '짧으면서',\n",
       "  '간단한',\n",
       "  '인공',\n",
       "  '지능',\n",
       "  '알려주세요',\n",
       "  '.',\n",
       "  '&',\n",
       "  'quot',\n",
       "  ';',\n",
       "  '짧으면서',\n",
       "  '간단',\n",
       "  '&',\n",
       "  'quot',\n",
       "  ';',\n",
       "  '한',\n",
       "  '이라는',\n",
       "  '게',\n",
       "  '사람',\n",
       "  '마다',\n",
       "  '...',\n",
       "  '파이썬',\n",
       "  'Python',\n",
       "  'Macro',\n",
       "  '구현',\n",
       "  'pyautogui',\n",
       "  '이미지',\n",
       "  '인식',\n",
       "  '하여',\n",
       "  '마우스',\n",
       "  '컨트롤',\n",
       "  '하는',\n",
       "  '법',\n",
       "  '+',\n",
       "  'opencv',\n",
       "  '-',\n",
       "  'python',\n",
       "  '(tistory.com',\n",
       "  ')',\n",
       "  '만들어진',\n",
       "  '...'],\n",
       " ['...',\n",
       "  '로',\n",
       "  '출력',\n",
       "  '되게',\n",
       "  '파이썬',\n",
       "  '에서',\n",
       "  '코딩',\n",
       "  '하려면',\n",
       "  '어떻게',\n",
       "  '해야하나요',\n",
       "  'ㅜㅠ',\n",
       "  '?',\n",
       "  '질문',\n",
       "  '의',\n",
       "  '정확한',\n",
       "  '의도',\n",
       "  '를',\n",
       "  '잘',\n",
       "  '모르지만',\n",
       "  '........',\n",
       "  'def',\n",
       "  'f',\n",
       "  '(',\n",
       "  'n',\n",
       "  ')',\n",
       "  ':',\n",
       "  'A',\n",
       "  '=',\n",
       "  '2',\n",
       "  '*(',\n",
       "  'n',\n",
       "  '-',\n",
       "  '1',\n",
       "  ')-',\n",
       "  '1',\n",
       "  'print',\n",
       "  '(',\n",
       "  'f',\n",
       "  \"'\",\n",
       "  'A',\n",
       "  '는',\n",
       "  '{',\n",
       "  'A',\n",
       "  '}',\n",
       "  '입니다',\n",
       "  \".')\",\n",
       "  'f',\n",
       "  '(',\n",
       "  '10',\n",
       "  ')',\n",
       "  '======================',\n",
       "  'RESTART',\n",
       "  ':',\n",
       "  'D',\n",
       "  ':\\\\',\n",
       "  'python',\n",
       "  '39',\n",
       "  '\\\\',\n",
       "  '1',\n",
       "  '.',\n",
       "  'py',\n",
       "  '...'],\n",
       " ['파이썬',\n",
       "  '구동',\n",
       "  '을',\n",
       "  '위해',\n",
       "  '갖추어야',\n",
       "  '할',\n",
       "  '노트북',\n",
       "  '환경',\n",
       "  '은',\n",
       "  '어떻게',\n",
       "  '되나요',\n",
       "  '?',\n",
       "  '노트북',\n",
       "  '을',\n",
       "  '구매',\n",
       "  '할',\n",
       "  '때',\n",
       "  '고려',\n",
       "  '해야',\n",
       "  '할',\n",
       "  '사항',\n",
       "  '이',\n",
       "  '무엇',\n",
       "  '인지',\n",
       "  '...',\n",
       "  '파이썬',\n",
       "  '을',\n",
       "  '배우고',\n",
       "  '있는',\n",
       "  '중이',\n",
       "  '라면',\n",
       "  '당장',\n",
       "  '은',\n",
       "  '그렇게',\n",
       "  '좋은',\n",
       "  '사양',\n",
       "  '의',\n",
       "  '노트북',\n",
       "  '은',\n",
       "  '필요',\n",
       "  '없습니다',\n",
       "  '.',\n",
       "  '하지만',\n",
       "  '실력',\n",
       "  '이',\n",
       "  '좋아지고',\n",
       "  '다른',\n",
       "  '...'],\n",
       " ['...',\n",
       "  '파이썬',\n",
       "  '라',\n",
       "  '이',\n",
       "  '버러',\n",
       "  '리',\n",
       "  '는',\n",
       "  '어디서',\n",
       "  '다운',\n",
       "  '받을수가',\n",
       "  '있나요',\n",
       "  '라이브러리',\n",
       "  '라는',\n",
       "  '뜻',\n",
       "  '은',\n",
       "  '특정',\n",
       "  '기능',\n",
       "  '을',\n",
       "  '만들어서',\n",
       "  '공통',\n",
       "  '으로',\n",
       "  '다른',\n",
       "  '...',\n",
       "  '일반',\n",
       "  '적',\n",
       "  '으로',\n",
       "  '파이썬',\n",
       "  '의',\n",
       "  '라이브러리',\n",
       "  '는',\n",
       "  'pip',\n",
       "  '이라는',\n",
       "  '명령',\n",
       "  '으로',\n",
       "  '설치',\n",
       "  '를',\n",
       "  '하는데요',\n",
       "  '.',\n",
       "  '(',\n",
       "  '이른바',\n",
       "  '공인',\n",
       "  '된',\n",
       "  '라이브러리',\n",
       "  ')',\n",
       "  '수학',\n",
       "  '적',\n",
       "  '인',\n",
       "  '...'],\n",
       " ['파이썬',\n",
       "  '문제',\n",
       "  'import',\n",
       "  'turtle',\n",
       "  'from',\n",
       "  'random',\n",
       "  'import',\n",
       "  'randint',\n",
       "  'import',\n",
       "  'time',\n",
       "  'def',\n",
       "  'problem',\n",
       "  '6',\n",
       "  '():',\n",
       "  'rept',\n",
       "  '=',\n",
       "  'int',\n",
       "  '(',\n",
       "  'input',\n",
       "  \"('\",\n",
       "  '반복',\n",
       "  '문',\n",
       "  '숫자',\n",
       "  '입력',\n",
       "  '(',\n",
       "  '20',\n",
       "  '-',\n",
       "  '50',\n",
       "  '):',\n",
       "  \"'))\",\n",
       "  'dist',\n",
       "  '=',\n",
       "  '0',\n",
       "  't',\n",
       "  '.',\n",
       "  'speed',\n",
       "  '(',\n",
       "  '8',\n",
       "  ')',\n",
       "  'for',\n",
       "  '_',\n",
       "  'in',\n",
       "  'range',\n",
       "  '(',\n",
       "  'rept',\n",
       "  '):',\n",
       "  't',\n",
       "  '.',\n",
       "  'right',\n",
       "  '(',\n",
       "  'randint',\n",
       "  '(',\n",
       "  '1',\n",
       "  ',',\n",
       "  '359',\n",
       "  '))',\n",
       "  'rdist',\n",
       "  '...'],\n",
       " ['파이썬',\n",
       "  'vscode',\n",
       "  '로',\n",
       "  '독학',\n",
       "  '해서',\n",
       "  '배우고',\n",
       "  '잇는데',\n",
       "  '파이썬',\n",
       "  '코드',\n",
       "  '실행',\n",
       "  '이',\n",
       "  '안됩니다',\n",
       "  '.',\n",
       "  '실행',\n",
       "  '버튼',\n",
       "  '이',\n",
       "  '있긴한데',\n",
       "  '다른',\n",
       "  '영상',\n",
       "  '들',\n",
       "  '과',\n",
       "  '...',\n",
       "  '전문가',\n",
       "  '분들',\n",
       "  '도와주세요',\n",
       "  'ㅜㅜ',\n",
       "  '처음',\n",
       "  '파이썬',\n",
       "  '하시는',\n",
       "  '것',\n",
       "  '이',\n",
       "  '라면',\n",
       "  'vscode',\n",
       "  '에서',\n",
       "  '하시는',\n",
       "  '것',\n",
       "  '보다는',\n",
       "  'IDLE',\n",
       "  '에서',\n",
       "  '하세요',\n",
       "  '.',\n",
       "  '파이썬',\n",
       "  '을',\n",
       "  '...'],\n",
       " ['사랑',\n",
       "  '의',\n",
       "  '방정식',\n",
       "  '을',\n",
       "  '파이썬',\n",
       "  '으로',\n",
       "  '돌릴',\n",
       "  '수',\n",
       "  '는',\n",
       "  '없나요',\n",
       "  '?',\n",
       "  '함수',\n",
       "  '축',\n",
       "  '이',\n",
       "  '나오는',\n",
       "  '것',\n",
       "  '까진',\n",
       "  '했는데',\n",
       "  '...',\n",
       "  'axis',\n",
       "  \"('\",\n",
       "  'equal',\n",
       "  \"')\",\n",
       "  'plt',\n",
       "  '.',\n",
       "  'plot',\n",
       "  '(',\n",
       "  'x',\n",
       "  ',',\n",
       "  'y',\n",
       "  ')',\n",
       "  'plt',\n",
       "  '.',\n",
       "  'title',\n",
       "  \"('\",\n",
       "  'fifth',\n",
       "  'heart',\n",
       "  'curve',\n",
       "  '|',\n",
       "  'parametric',\n",
       "  'equations',\n",
       "  \"')\",\n",
       "  'plt.show',\n",
       "  '()',\n",
       "  '#파이썬',\n",
       "  '#python'],\n",
       " ['...',\n",
       "  '파이썬',\n",
       "  '관련',\n",
       "  '한가지',\n",
       "  '질문',\n",
       "  '을',\n",
       "  '드립니다',\n",
       "  '.',\n",
       "  '제',\n",
       "  '가',\n",
       "  'Jupiter',\n",
       "  'Notebook',\n",
       "  '을',\n",
       "  '사용',\n",
       "  '하고',\n",
       "  '있습니다',\n",
       "  '.',\n",
       "  '그리고',\n",
       "  '저',\n",
       "  '한테',\n",
       "  '...',\n",
       "  '제',\n",
       "  '가',\n",
       "  '아직',\n",
       "  '파이썬',\n",
       "  '을',\n",
       "  '공부',\n",
       "  '한지',\n",
       "  '얼마',\n",
       "  '안된',\n",
       "  '초보자',\n",
       "  '라',\n",
       "  '잘',\n",
       "  '모르겠습니다',\n",
       "  '.',\n",
       "  '어떤',\n",
       "  '식',\n",
       "  '으로',\n",
       "  '해야하는지',\n",
       "  '...'],\n",
       " ['몇',\n",
       "  '년전',\n",
       "  '에',\n",
       "  '파이썬',\n",
       "  '이',\n",
       "  '제일',\n",
       "  '쉽다고',\n",
       "  '들은',\n",
       "  '것',\n",
       "  '같은데',\n",
       "  '요즘',\n",
       "  '도',\n",
       "  '그러나요',\n",
       "  '?',\n",
       "  '코딩',\n",
       "  '을',\n",
       "  '처음',\n",
       "  '접',\n",
       "  '하는',\n",
       "  '초보자',\n",
       "  '분들',\n",
       "  '이',\n",
       "  '파이썬',\n",
       "  '으로',\n",
       "  '코딩',\n",
       "  '공부',\n",
       "  '를',\n",
       "  '가장',\n",
       "  '많이',\n",
       "  '시작',\n",
       "  '하십니다',\n",
       "  '.',\n",
       "  'https://blog.naver.com/95shinha/222490214649'],\n",
       " ['[',\n",
       "  '퀴즈',\n",
       "  '1',\n",
       "  ',',\n",
       "  '퀴즈',\n",
       "  '2',\n",
       "  ',',\n",
       "  '퀴즈',\n",
       "  '3',\n",
       "  ']',\n",
       "  '이렇게',\n",
       "  '해서',\n",
       "  '코드',\n",
       "  '를',\n",
       "  '짠',\n",
       "  '다음',\n",
       "  '에',\n",
       "  '퀴즈',\n",
       "  '1',\n",
       "  '를',\n",
       "  '고르면',\n",
       "  '그',\n",
       "  '퀴즈',\n",
       "  '가',\n",
       "  '나오는',\n",
       "  '그런',\n",
       "  '코드',\n",
       "  '는',\n",
       "  '파이썬',\n",
       "  '에서는',\n",
       "  '못',\n",
       "  '짜나요',\n",
       "  '??',\n",
       "  '짤수',\n",
       "  '있다면',\n",
       "  '알려주실',\n",
       "  '수',\n",
       "  '있을까요',\n",
       "  '?',\n",
       "  '제',\n",
       "  '가',\n",
       "  '가진',\n",
       "  '내공',\n",
       "  '을',\n",
       "  '다',\n",
       "  '걸께요',\n",
       "  'ㅜㅠ',\n",
       "  '파이썬',\n",
       "  '에서',\n",
       "  '지원',\n",
       "  '하는',\n",
       "  '데이터',\n",
       "  '...']]"
      ]
     },
     "execution_count": 13,
     "metadata": {},
     "output_type": "execute_result"
    }
   ],
   "source": [
    "contents_tokens = [t.morphs(row) for row in contents]\n",
    "contents_tokens"
   ]
  },
  {
   "cell_type": "code",
   "execution_count": 14,
   "metadata": {},
   "outputs": [
    {
     "data": {
      "text/plain": [
       "45"
      ]
     },
     "execution_count": 14,
     "metadata": {},
     "output_type": "execute_result"
    }
   ],
   "source": [
    "len(contents_tokens[0])"
   ]
  },
  {
   "cell_type": "code",
   "execution_count": 15,
   "metadata": {},
   "outputs": [
    {
     "data": {
      "text/plain": [
       "[' 파이썬 으로 만들 수 있는 짧으면서 간단한 인공 지능 알려주세요 . & quot ; 짧으면서 간단 & quot ; 한 이라는 게 사람 마다 ... 파이썬 Python Macro 구현 pyautogui 이미지 인식 하여 마우스 컨트롤 하는 법 + opencv - python (tistory.com ) 만들어진 ...',\n",
       " \" ... 로 출력 되게 파이썬 에서 코딩 하려면 어떻게 해야하나요 ㅜㅠ ? 질문 의 정확한 의도 를 잘 모르지만 ........ def f ( n ) : A = 2 *( n - 1 )- 1 print ( f ' A 는 { A } 입니다 .') f ( 10 ) ====================== RESTART : D :\\\\ python 39 \\\\ 1 . py ...\",\n",
       " ' 파이썬 구동 을 위해 갖추어야 할 노트북 환경 은 어떻게 되나요 ? 노트북 을 구매 할 때 고려 해야 할 사항 이 무엇 인지 ... 파이썬 을 배우고 있는 중이 라면 당장 은 그렇게 좋은 사양 의 노트북 은 필요 없습니다 . 하지만 실력 이 좋아지고 다른 ...',\n",
       " ' ... 파이썬 라 이 버러 리 는 어디서 다운 받을수가 있나요 라이브러리 라는 뜻 은 특정 기능 을 만들어서 공통 으로 다른 ... 일반 적 으로 파이썬 의 라이브러리 는 pip 이라는 명령 으로 설치 를 하는데요 . ( 이른바 공인 된 라이브러리 ) 수학 적 인 ...',\n",
       " \" 파이썬 문제 import turtle from random import randint import time def problem 6 (): rept = int ( input (' 반복 문 숫자 입력 ( 20 - 50 ): ')) dist = 0 t . speed ( 8 ) for _ in range ( rept ): t . right ( randint ( 1 , 359 )) rdist ...\",\n",
       " ' 파이썬 vscode 로 독학 해서 배우고 잇는데 파이썬 코드 실행 이 안됩니다 . 실행 버튼 이 있긴한데 다른 영상 들 과 ... 전문가 분들 도와주세요 ㅜㅜ 처음 파이썬 하시는 것 이 라면 vscode 에서 하시는 것 보다는 IDLE 에서 하세요 . 파이썬 을 ...',\n",
       " \" 사랑 의 방정식 을 파이썬 으로 돌릴 수 는 없나요 ? 함수 축 이 나오는 것 까진 했는데 ... axis (' equal ') plt . plot ( x , y ) plt . title (' fifth heart curve | parametric equations ') plt.show () #파이썬 #python\",\n",
       " ' ... 파이썬 관련 한가지 질문 을 드립니다 . 제 가 Jupiter Notebook 을 사용 하고 있습니다 . 그리고 저 한테 ... 제 가 아직 파이썬 을 공부 한지 얼마 안된 초보자 라 잘 모르겠습니다 . 어떤 식 으로 해야하는지 ...',\n",
       " ' 몇 년전 에 파이썬 이 제일 쉽다고 들은 것 같은데 요즘 도 그러나요 ? 코딩 을 처음 접 하는 초보자 분들 이 파이썬 으로 코딩 공부 를 가장 많이 시작 하십니다 . https://blog.naver.com/95shinha/222490214649',\n",
       " ' [ 퀴즈 1 , 퀴즈 2 , 퀴즈 3 ] 이렇게 해서 코드 를 짠 다음 에 퀴즈 1 를 고르면 그 퀴즈 가 나오는 그런 코드 는 파이썬 에서는 못 짜나요 ?? 짤수 있다면 알려주실 수 있을까요 ? 제 가 가진 내공 을 다 걸께요 ㅜㅠ 파이썬 에서 지원 하는 데이터 ...']"
      ]
     },
     "execution_count": 15,
     "metadata": {},
     "output_type": "execute_result"
    }
   ],
   "source": [
    "contents_for_vectorize = []\n",
    "\n",
    "for content in contents_tokens:\n",
    "    sentence = ''\n",
    "    for word in content:\n",
    "        sentence = sentence + ' ' + word\n",
    "\n",
    "    contents_for_vectorize.append(sentence)\n",
    "\n",
    "contents_for_vectorize"
   ]
  },
  {
   "cell_type": "code",
   "execution_count": 16,
   "metadata": {},
   "outputs": [
    {
     "data": {
      "text/plain": [
       "<10x204 sparse matrix of type '<class 'numpy.int64'>'\n",
       "\twith 242 stored elements in Compressed Sparse Row format>"
      ]
     },
     "execution_count": 16,
     "metadata": {},
     "output_type": "execute_result"
    }
   ],
   "source": [
    "X = vectorizer.fit_transform(contents_for_vectorize)\n",
    "X"
   ]
  },
  {
   "cell_type": "code",
   "execution_count": 17,
   "metadata": {},
   "outputs": [
    {
     "data": {
      "text/plain": [
       "(10, 204)"
      ]
     },
     "execution_count": 17,
     "metadata": {},
     "output_type": "execute_result"
    }
   ],
   "source": [
    "num_samples, num_features = X.shape\n",
    "num_samples, num_features"
   ]
  },
  {
   "cell_type": "code",
   "execution_count": 18,
   "metadata": {},
   "outputs": [
    {
     "data": {
      "text/plain": [
       "[' 파이썬 을 배우는데 좋은 방법 이 어떤 것 인지 추천 해주세요']"
      ]
     },
     "execution_count": 18,
     "metadata": {},
     "output_type": "execute_result"
    }
   ],
   "source": [
    "new_post = ['파이썬을 배우는데 좋은 방법이 어떤 것인지 추천해주세요']\n",
    "new_post_tokens = [t.morphs(row) for row in new_post]\n",
    "\n",
    "new_post_for_vectorize = []\n",
    "\n",
    "for content in new_post_tokens:\n",
    "    sentence = ''\n",
    "    for word in content:\n",
    "        sentence = sentence + ' ' + word\n",
    "\n",
    "    new_post_for_vectorize.append(sentence)\n",
    "\n",
    "new_post_for_vectorize"
   ]
  },
  {
   "cell_type": "code",
   "execution_count": 19,
   "metadata": {},
   "outputs": [
    {
     "data": {
      "text/plain": [
       "array([[0, 0, 0, 0, 0, 0, 0, 0, 0, 0, 0, 0, 0, 0, 0, 0, 0, 0, 0, 0, 0, 0,\n",
       "        0, 0, 0, 0, 0, 0, 0, 0, 0, 0, 0, 0, 0, 0, 0, 0, 0, 0, 0, 0, 0, 0,\n",
       "        0, 0, 0, 0, 0, 0, 0, 0, 0, 0, 0, 0, 0, 0, 0, 0, 0, 0, 0, 0, 0, 0,\n",
       "        0, 0, 0, 0, 0, 0, 0, 0, 0, 0, 0, 0, 0, 0, 0, 0, 0, 0, 0, 0, 0, 0,\n",
       "        0, 0, 0, 0, 0, 0, 0, 0, 0, 0, 0, 0, 0, 0, 0, 0, 0, 0, 0, 0, 0, 0,\n",
       "        0, 0, 0, 0, 0, 0, 0, 0, 0, 0, 0, 0, 0, 0, 0, 0, 0, 0, 0, 0, 0, 0,\n",
       "        0, 0, 1, 0, 0, 0, 0, 0, 0, 0, 0, 0, 0, 0, 0, 0, 0, 0, 0, 0, 1, 0,\n",
       "        0, 0, 0, 0, 0, 0, 0, 0, 0, 0, 0, 0, 0, 1, 0, 0, 0, 0, 0, 0, 0, 0,\n",
       "        0, 0, 0, 0, 0, 0, 0, 1, 0, 0, 0, 0, 0, 0, 0, 0, 0, 0, 0, 0, 0, 0,\n",
       "        0, 0, 0, 0, 0, 0]], dtype=int64)"
      ]
     },
     "execution_count": 19,
     "metadata": {},
     "output_type": "execute_result"
    }
   ],
   "source": [
    "new_post_vec = vectorizer.transform(new_post_for_vectorize)\n",
    "new_post_vec.toarray()"
   ]
  },
  {
   "cell_type": "code",
   "execution_count": 20,
   "metadata": {},
   "outputs": [],
   "source": [
    "import scipy as sp\n",
    "\n",
    "def dist_raw(v1, v2):\n",
    "    delta = v1 - v2\n",
    "    return sp.linalg.norm(delta.toarray())"
   ]
  },
  {
   "cell_type": "code",
   "execution_count": 21,
   "metadata": {},
   "outputs": [],
   "source": [
    "dist = [dist_raw(each, new_post_vec) for each in X]"
   ]
  },
  {
   "cell_type": "code",
   "execution_count": 22,
   "metadata": {},
   "outputs": [
    {
     "data": {
      "text/plain": [
       "\"... 로 출력되게 파이썬에서 코딩하려면 어떻게 해야하나요ㅜㅠ? 질문의 정확한 의도를 잘 모르지만........ def f(n) : A=2*(n-1)-1 print(f'A는 {A}입니다.') f(10) ====================== RESTART: D:\\\\python39\\\\1.py... \""
      ]
     },
     "execution_count": 22,
     "metadata": {},
     "output_type": "execute_result"
    }
   ],
   "source": [
    "contents[dist.index(min(dist))]"
   ]
  },
  {
   "cell_type": "code",
   "execution_count": 23,
   "metadata": {},
   "outputs": [
    {
     "data": {
      "text/plain": [
       "(200, 2)"
      ]
     },
     "execution_count": 23,
     "metadata": {},
     "output_type": "execute_result"
    }
   ],
   "source": [
    "import seaborn as sns\n",
    "import matplotlib.pyplot as plt\n",
    "import numpy as np\n",
    "\n",
    "rng = np.random.RandomState(13)\n",
    "X = np.dot(rng.rand(2, 2), rng.randn(2, 200)).T\n",
    "X.shape"
   ]
  },
  {
   "cell_type": "code",
   "execution_count": 24,
   "metadata": {},
   "outputs": [
    {
     "data": {
      "text/plain": [
       "(-2.346839332894307, 2.4400046646752487, -3.8591181666878738, 4.08448257499405)"
      ]
     },
     "execution_count": 24,
     "metadata": {},
     "output_type": "execute_result"
    },
    {
     "data": {
      "image/png": "[encoded data removed]",
      "text/plain": [
       "<Figure size 432x288 with 1 Axes>"
      ]
     },
     "metadata": {
      "needs_background": "light"
     },
     "output_type": "display_data"
    }
   ],
   "source": [
    "plt.scatter(X[:, 0], X[:, 1])\n",
    "plt.axis('equal')"
   ]
  },
  {
   "cell_type": "code",
   "execution_count": 25,
   "metadata": {},
   "outputs": [
    {
     "data": {
      "text/plain": [
       "PCA(n_components=2, random_state=13)"
      ]
     },
     "execution_count": 25,
     "metadata": {},
     "output_type": "execute_result"
    }
   ],
   "source": [
    "from sklearn.decomposition import PCA\n",
    "\n",
    "pca = PCA(n_components=2, random_state=13)\n",
    "pca.fit(X)"
   ]
  },
  {
   "cell_type": "code",
   "execution_count": 26,
   "metadata": {},
   "outputs": [
    {
     "data": {
      "text/plain": [
       "array([[ 0.47802511,  0.87834617],\n",
       "       [-0.87834617,  0.47802511]])"
      ]
     },
     "execution_count": 26,
     "metadata": {},
     "output_type": "execute_result"
    }
   ],
   "source": [
    "pca.components_"
   ]
  },
  {
   "cell_type": "code",
   "execution_count": 27,
   "metadata": {},
   "outputs": [
    {
     "data": {
      "text/plain": [
       "array([1.82531406, 0.13209947])"
      ]
     },
     "execution_count": 27,
     "metadata": {},
     "output_type": "execute_result"
    }
   ],
   "source": [
    "pca.explained_variance_"
   ]
  },
  {
   "cell_type": "code",
   "execution_count": 28,
   "metadata": {},
   "outputs": [
    {
     "data": {
      "text/plain": [
       "array([0.93251326, 0.06748674])"
      ]
     },
     "execution_count": 28,
     "metadata": {},
     "output_type": "execute_result"
    }
   ],
   "source": [
    "pca.explained_variance_ratio_"
   ]
  },
  {
   "cell_type": "code",
   "execution_count": 31,
   "metadata": {},
   "outputs": [],
   "source": [
    "def draw_vector(v0, v1, ax=None):\n",
    "    ax = ax or plt.gca()\n",
    "    arrowprops = dict(\n",
    "        arrowstyle='->',\n",
    "        linewidth=2,\n",
    "        color='black',\n",
    "        shrinkA=0,\n",
    "        shrinkB=0\n",
    "    )\n",
    "    ax.annotate('',v1,v0,arrowprops=arrowprops)"
   ]
  },
  {
   "cell_type": "code",
   "execution_count": 34,
   "metadata": {},
   "outputs": [
    {
     "data": {
      "image/png": "[encoded data removed]",
      "text/plain": [
       "<Figure size 432x288 with 1 Axes>"
      ]
     },
     "metadata": {
      "needs_background": "light"
     },
     "output_type": "display_data"
    }
   ],
   "source": [
    "plt.scatter(X[:,0], X[:,1], alpha=0.4)\n",
    "\n",
    "for length, vector in zip(pca.explained_variance_, pca.components_):\n",
    "    v = vector * 3 * np.sqrt(length)\n",
    "    draw_vector(pca.mean_, pca.mean_ + v)\n",
    "\n",
    "plt.axis('equal')\n",
    "plt.show()\n"
   ]
  },
  {
   "cell_type": "code",
   "execution_count": null,
   "metadata": {},
   "outputs": [],
   "source": []
  }
 ],
 "metadata": {
  "interpreter": {
   "hash": "fff8a2ebda7d7c31fff9abc7af7b4b1a85e6e317ed9dea4607b41f7b3e93769e"
  },
  "kernelspec": {
   "display_name": "Python 3.8.11 64-bit ('ds_study': conda)",
   "language": "python",
   "name": "python3"
  },
  "language_info": {
   "codemirror_mode": {
    "name": "ipython",
    "version": 3
   },
   "file_extension": ".py",
   "mimetype": "text/x-python",
   "name": "python",
   "nbconvert_exporter": "python",
   "pygments_lexer": "ipython3",
   "version": "3.8.11"
  },
  "orig_nbformat": 4
 },
 "nbformat": 4,
 "nbformat_minor": 2
}
