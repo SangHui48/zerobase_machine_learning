{
 "cells": [
  {
   "cell_type": "code",
   "execution_count": 1,
   "metadata": {},
   "outputs": [],
   "source": [
    "import numpy as np\n",
    "import matplotlib.pyplot as plt\n",
    "from tqdm import tqdm_notebook"
   ]
  },
  {
   "cell_type": "code",
   "execution_count": 2,
   "metadata": {},
   "outputs": [],
   "source": [
    "def Softmax(x):\n",
    "    x = np.subtract(x, np.max(x))\n",
    "    ex = np.exp(x)\n",
    "\n",
    "    return ex / np.sum(ex)"
   ]
  },
  {
   "cell_type": "code",
   "execution_count": 3,
   "metadata": {},
   "outputs": [],
   "source": [
    "X = np.zeros((5, 5, 5))\n",
    "\n",
    "X[:, :, 0] = [[0,1,1,0,0], [0,0,1,0,0], [0,0,1,0,0], [0,0,1,0,0], [0,1,1,1,0]]\n",
    "X[:, :, 1] = [[1,1,1,1,0], [0,0,0,0,1], [0,1,1,1,0], [1,0,0,0,0], [1,1,1,1,1]]\n",
    "X[:, :, 2] = [[1,1,1,1,0], [0,0,0,0,1], [0,1,1,1,0], [0,0,0,0,1], [1,1,1,1,0]]\n",
    "X[:, :, 3] = [[0,0,0,1,0], [0,0,1,1,0], [0,1,0,1,0], [1,1,1,1,1], [0,0,0,1,0]]\n",
    "X[:, :, 4] = [[1,1,1,1,1], [1,0,0,0,0], [1,1,1,1,0], [0,0,0,0,1], [1,1,1,1,0]]\n",
    "\n"
   ]
  },
  {
   "cell_type": "code",
   "execution_count": 4,
   "metadata": {},
   "outputs": [],
   "source": [
    "D = np.array([\n",
    "    [[1,0,0,0,0]],\n",
    "    [[0,1,0,0,0]],\n",
    "    [[0,0,1,0,0]],\n",
    "    [[0,0,0,1,0]],\n",
    "    [[0,0,0,0,1]]\n",
    "])"
   ]
  },
  {
   "cell_type": "code",
   "execution_count": 5,
   "metadata": {},
   "outputs": [
    {
     "data": {
      "image/png": "[encoded data removed]",
      "text/plain": [
       "<Figure size 864x288 with 5 Axes>"
      ]
     },
     "metadata": {
      "needs_background": "light"
     },
     "output_type": "display_data"
    }
   ],
   "source": [
    "plt.figure(figsize=(12, 4))\n",
    "for n in range(5):\n",
    "    plt.subplot(1, 5, n+1)\n",
    "    plt.imshow(X[:, :, n])\n",
    "plt.show()"
   ]
  },
  {
   "cell_type": "code",
   "execution_count": 6,
   "metadata": {},
   "outputs": [],
   "source": [
    "def ReLU(x):\n",
    "    return np.maximum(0, x)"
   ]
  },
  {
   "cell_type": "code",
   "execution_count": 7,
   "metadata": {},
   "outputs": [],
   "source": [
    "def calcOutput_ReLU(W1, W2, W3, W4, x):\n",
    "    v1 = np.matmul(W1, x)\n",
    "    y1 = ReLU(v1)\n",
    "    v2 = np.matmul(W2, y1)\n",
    "    y2 = ReLU(v2)\n",
    "    v3 = np.matmul(W3, y2)\n",
    "    y3 = ReLU(v3)\n",
    "    v = np.matmul(W4, y3)\n",
    "    y = Softmax(v)\n",
    "\n",
    "    return y, v1, v2, v3, y1, y2, y3\n",
    "    "
   ]
  },
  {
   "cell_type": "code",
   "execution_count": 8,
   "metadata": {},
   "outputs": [],
   "source": [
    "def backpropagation_ReLU(d, y, W2, W3, W4, v1, v2, v3):\n",
    "    e = d - y\n",
    "    delta = e\n",
    "\n",
    "    e3 = np.matmul(W4.T, delta)\n",
    "    delta3 = (v3 > 0) * e3\n",
    "\n",
    "    e2 = np.matmul(W3.T, delta3)\n",
    "    delta2 = (v2 > 0) * e2\n",
    "\n",
    "    e1 = np.matmul(W2.T, delta2)\n",
    "    delta1 = (v1 > 0) * e1\n",
    "\n",
    "    return delta, delta1, delta2, delta3"
   ]
  },
  {
   "cell_type": "code",
   "execution_count": 9,
   "metadata": {},
   "outputs": [],
   "source": [
    "def calcWs(alpha, delta, delta1, delta2, delta3, y1, y2, y3, x, W1, W2, W3, W4):\n",
    "    dW4 = alpha * delta * y3.T\n",
    "    W4 = W4 + dW4\n",
    "\n",
    "    dW3 = alpha * delta3 * y2.T\n",
    "    W3 = W3 + dW3\n",
    "\n",
    "    dW2 = alpha * delta2 * y1.T\n",
    "    W2 = W2 + dW2\n",
    "\n",
    "    dW1 = alpha * delta1*x.T\n",
    "    W1 = W1 + dW1\n",
    "\n",
    "    return W1, W2, W3, W4"
   ]
  },
  {
   "cell_type": "code",
   "execution_count": 10,
   "metadata": {},
   "outputs": [],
   "source": [
    "def DeepReLU(W1, W2, W3, W4, X, D, alpha):\n",
    "    for k in range(5):\n",
    "        x = np.reshape(X[:,:,k], (25, 1))\n",
    "        d = D[k, :].T\n",
    "\n",
    "        y, v1, v2, v3, y1, y2, y3 = calcOutput_ReLU(W1, W2, W3, W4, x)\n",
    "        delta, delta1, delta2, delta3 = backpropagation_ReLU(d, y, W2, W3, W4, v1, v2, v3)\n",
    "        W1, W2, W3, W4 = calcWs(alpha, delta, delta1, delta2, delta3, y1, y2, y3, x, W1, W2, W3, W4)\n",
    "\n",
    "    return W1, W2, W3, W4"
   ]
  },
  {
   "cell_type": "code",
   "execution_count": 11,
   "metadata": {},
   "outputs": [
    {
     "data": {
      "application/vnd.jupyter.widget-view+json": {
       "model_id": "3395a13cb543432da7bd40c9c7afd833",
       "version_major": 2,
       "version_minor": 0
      },
      "text/plain": [
       "  0%|          | 0/10000 [00:00<?, ?it/s]"
      ]
     },
     "metadata": {},
     "output_type": "display_data"
    }
   ],
   "source": [
    "W1 = 2 * np.random.random((20, 25)) - 1\n",
    "W2 = 2 * np.random.random((20, 20)) - 1\n",
    "W3 = 2 * np.random.random((20, 20)) - 1\n",
    "W4 = 2 * np.random.random((5, 20)) - 1\n",
    "\n",
    "alpha = 0.01\n",
    "\n",
    "for epoch in tqdm_notebook(range(10000)):\n",
    "    W1, W2, W3, W4 = DeepReLU(W1, W2, W3, W4, X, D, alpha)"
   ]
  },
  {
   "cell_type": "code",
   "execution_count": 12,
   "metadata": {},
   "outputs": [],
   "source": [
    "def verify_algorithm(x, W1, W2, W3, W4):\n",
    "    v1 = np.matmul(W1, x)\n",
    "    y1 = ReLU(v1)\n",
    "\n",
    "    v2 = np.matmul(W2, y1)\n",
    "    y2 = ReLU(v2)\n",
    "\n",
    "    v3 = np.matmul(W3, y2)\n",
    "    y3 = ReLU(v3)\n",
    "\n",
    "    v = np.matmul(W4, y3)\n",
    "    y = Softmax(v)\n",
    "\n",
    "    return y"
   ]
  },
  {
   "cell_type": "code",
   "execution_count": 13,
   "metadata": {},
   "outputs": [],
   "source": [
    "N = 5"
   ]
  },
  {
   "cell_type": "code",
   "execution_count": 14,
   "metadata": {},
   "outputs": [
    {
     "name": "stdout",
     "output_type": "stream",
     "text": [
      "Y = 1\n",
      "[1]\n",
      "[[9.99986108e-01]\n",
      " [7.27893807e-06]\n",
      " [6.16414207e-08]\n",
      " [6.53555197e-06]\n",
      " [1.59061856e-08]]\n",
      "----------\n",
      "Y = 2\n",
      "[2]\n",
      "[[6.69053773e-14]\n",
      " [9.99965918e-01]\n",
      " [3.40815773e-05]\n",
      " [1.18949973e-15]\n",
      " [1.93660844e-17]]\n",
      "----------\n",
      "Y = 3\n",
      "[3]\n",
      "[[4.40941929e-09]\n",
      " [5.42106163e-05]\n",
      " [9.99930627e-01]\n",
      " [1.61832521e-09]\n",
      " [1.51567171e-05]]\n",
      "----------\n",
      "Y = 4\n",
      "[4]\n",
      "[[1.21380417e-06]\n",
      " [2.91449540e-09]\n",
      " [6.04756031e-07]\n",
      " [9.99984696e-01]\n",
      " [1.34820468e-05]]\n",
      "----------\n",
      "Y = 5\n",
      "[5]\n",
      "[[7.16768198e-12]\n",
      " [8.21990246e-11]\n",
      " [2.09875510e-05]\n",
      " [8.86554759e-06]\n",
      " [9.99970147e-01]]\n",
      "----------\n"
     ]
    }
   ],
   "source": [
    "for k in range(N):\n",
    "    x = np.reshape(X[:,:,k], (25,1))\n",
    "    y = verify_algorithm(x, W1, W2, W3, W4)\n",
    "\n",
    "    print(f'Y = {k + 1}')\n",
    "    print(np.argmax(y, axis=0) + 1)\n",
    "    print(y)\n",
    "    print('----------')"
   ]
  },
  {
   "cell_type": "code",
   "execution_count": 15,
   "metadata": {},
   "outputs": [],
   "source": [
    "X_test = np.zeros((5, 5, 5))\n",
    "\n",
    "X_test[:, :, 0] = [[0,0,0,0,0], [0,1,0,0,0], [1,0,1,0,0], [0,0,1,0,0], [0,1,1,1,0]]\n",
    "X_test[:, :, 1] = [[1,1,1,1,0], [0,0,0,0,0], [0,1,1,1,0], [0,0,0,0,1], [1,1,1,1,0]]\n",
    "X_test[:, :, 2] = [[0,0,0,1,0], [0,0,1,1,0], [0,1,0,0,0], [1,1,1,0,1], [0,0,0,1,0]]\n",
    "X_test[:, :, 3] = [[1,1,1,1,0], [0,0,0,0,1], [0,1,1,1,0], [1,0,0,0,0], [1,1,0,0,0]]\n",
    "X_test[:, :, 4] = [[0,1,1,1,1], [1,1,0,0,0], [1,1,1,1,0], [0,0,0,1,1], [1,1,1,1,0]]"
   ]
  },
  {
   "cell_type": "code",
   "execution_count": 16,
   "metadata": {},
   "outputs": [
    {
     "data": {
      "image/png": "[encoded data removed]",
      "text/plain": [
       "<Figure size 864x288 with 5 Axes>"
      ]
     },
     "metadata": {
      "needs_background": "light"
     },
     "output_type": "display_data"
    }
   ],
   "source": [
    "plt.figure(figsize=(12, 4))\n",
    "for n in range(5):\n",
    "    plt.subplot(1, 5, n+1)\n",
    "    plt.imshow(X_test[:, :, n])\n",
    "plt.show()"
   ]
  },
  {
   "cell_type": "code",
   "execution_count": 17,
   "metadata": {},
   "outputs": [
    {
     "name": "stdout",
     "output_type": "stream",
     "text": [
      "Y = 1\n",
      "[4]\n",
      "[[1.15922426e-01]\n",
      " [2.77959416e-05]\n",
      " [1.00660695e-02]\n",
      " [8.73961208e-01]\n",
      " [2.24998172e-05]]\n",
      "----------\n",
      "Y = 2\n",
      "[3]\n",
      "[[1.38860858e-07]\n",
      " [2.20002246e-03]\n",
      " [9.97726190e-01]\n",
      " [2.19708003e-08]\n",
      " [7.36265698e-05]]\n",
      "----------\n",
      "Y = 3\n",
      "[4]\n",
      "[[9.06575015e-10]\n",
      " [5.68749557e-10]\n",
      " [1.04084989e-05]\n",
      " [9.99988391e-01]\n",
      " [1.19879898e-06]]\n",
      "----------\n",
      "Y = 4\n",
      "[3]\n",
      "[[1.18518173e-06]\n",
      " [1.00634299e-02]\n",
      " [9.89884568e-01]\n",
      " [1.82808602e-06]\n",
      " [4.89891566e-05]]\n",
      "----------\n",
      "Y = 5\n",
      "[5]\n",
      "[[4.09346261e-13]\n",
      " [1.95810746e-12]\n",
      " [6.07260265e-04]\n",
      " [2.36146935e-03]\n",
      " [9.97031270e-01]]\n",
      "----------\n"
     ]
    }
   ],
   "source": [
    "learning_result = [0,0,0,0,0]\n",
    "for k in range(N):\n",
    "    x = np.reshape(X_test[:,:,k], (25,1))\n",
    "    y = verify_algorithm(x, W1, W2, W3, W4)\n",
    "\n",
    "    learning_result[k] = np.argmax(y, axis=0) + 1\n",
    "    print(f'Y = {k + 1}')\n",
    "    print(np.argmax(y, axis=0) + 1)\n",
    "    print(y)\n",
    "    print('----------')"
   ]
  },
  {
   "cell_type": "code",
   "execution_count": 19,
   "metadata": {},
   "outputs": [
    {
     "data": {
      "image/png": "[encoded data removed]",
      "text/plain": [
       "<Figure size 864x288 with 10 Axes>"
      ]
     },
     "metadata": {
      "needs_background": "light"
     },
     "output_type": "display_data"
    }
   ],
   "source": [
    "plt.figure(figsize=(12, 4))\n",
    "for k in range(5):\n",
    "    plt.subplot(2, 5, k+1)\n",
    "    plt.imshow(X_test[:, :, k])\n",
    "    plt.subplot(2, 5, k+6)\n",
    "    plt.imshow(X[:,:,learning_result[k][0] -1])\n",
    "plt.show()"
   ]
  },
  {
   "cell_type": "code",
   "execution_count": 23,
   "metadata": {},
   "outputs": [
    {
     "data": {
      "text/plain": [
       "2.1999999999999993"
      ]
     },
     "execution_count": 23,
     "metadata": {},
     "output_type": "execute_result"
    }
   ],
   "source": [
    "y = np.array([0.1, 0.2, 0.5, 0.8, 0.6, 0.4, 0.3, 1, 2, 3, 4])\n",
    "y.size * (1-0.8)\n"
   ]
  },
  {
   "cell_type": "code",
   "execution_count": 24,
   "metadata": {},
   "outputs": [
    {
     "data": {
      "text/plain": [
       "array([1, 4])"
      ]
     },
     "execution_count": 24,
     "metadata": {},
     "output_type": "execute_result"
    }
   ],
   "source": [
    "num = round(y.size * (1-0.8))\n",
    "np.random.choice(y.size, num)"
   ]
  },
  {
   "cell_type": "code",
   "execution_count": 25,
   "metadata": {},
   "outputs": [],
   "source": [
    "def Dropout(y, ratio):\n",
    "    ym = np.zeros_like(y)\n",
    "\n",
    "    num = round(y.size*(1-ratio))\n",
    "    idx = np.random.choice(y.size, num, replace=False)\n",
    "    ym[idx] = 1.0 / (1.0 - ratio)\n",
    "\n",
    "    return ym"
   ]
  },
  {
   "cell_type": "code",
   "execution_count": 26,
   "metadata": {},
   "outputs": [],
   "source": [
    "def sigmoid(x):\n",
    "    return 1.0 / (1.0 + np.exp(-x))"
   ]
  },
  {
   "cell_type": "code",
   "execution_count": 27,
   "metadata": {},
   "outputs": [],
   "source": [
    "def calcOutput_Dropout(W1, W2, W3, W4, x):\n",
    "    v1 = np.matmul(W1, x)\n",
    "    y1 = sigmoid(v1)\n",
    "    y1 = y1 * Dropout(y1, 0.2)\n",
    "\n",
    "    v2 = np.matmul(W2, y1)\n",
    "    y2 = sigmoid(v2)\n",
    "    y2 = y2 * Dropout(y2, 0.2)\n",
    "\n",
    "    v3 = np.matmul(W3, y2)\n",
    "    y3 = sigmoid(v3)\n",
    "    y3 = y3 * Dropout(y3, 0.2)\n",
    "\n",
    "    v = np.matmul(W4, y3)\n",
    "    y = Softmax(v)\n",
    "\n",
    "    return y, v1, v2, v3, y1, y2, y3"
   ]
  },
  {
   "cell_type": "code",
   "execution_count": null,
   "metadata": {},
   "outputs": [],
   "source": [
    "def backpropagation_Dropout(d, y, W2, W3, W4, v1, v2, v3):\n",
    "    e = d - y\n",
    "    delta = e\n",
    "\n",
    "    e3 = np.matmul(W4.T, delta)\n",
    "    delta3 = \n",
    "\n",
    "    e2 = np.matmul(W3.T, delta3)\n",
    "    delta2 = (v2 > 0) * e2\n",
    "\n",
    "    e1 = np.matmul(W2.T, delta2)\n",
    "    delta1 = (v1 > 0) * e1\n",
    "\n",
    "    return delta, delta1, delta2, delta3"
   ]
  }
 ],
 "metadata": {
  "interpreter": {
   "hash": "fff8a2ebda7d7c31fff9abc7af7b4b1a85e6e317ed9dea4607b41f7b3e93769e"
  },
  "kernelspec": {
   "display_name": "Python 3.8.11 64-bit ('ds_study': conda)",
   "language": "python",
   "name": "python3"
  },
  "language_info": {
   "codemirror_mode": {
    "name": "ipython",
    "version": 3
   },
   "file_extension": ".py",
   "mimetype": "text/x-python",
   "name": "python",
   "nbconvert_exporter": "python",
   "pygments_lexer": "ipython3",
   "version": "3.8.11"
  },
  "orig_nbformat": 4
 },
 "nbformat": 4,
 "nbformat_minor": 2
}
