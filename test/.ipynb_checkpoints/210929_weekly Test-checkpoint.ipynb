{
 "cells": [
  {
   "cell_type": "markdown",
   "metadata": {},
   "source": [
    "# 문제 1"
   ]
  },
  {
   "cell_type": "code",
   "execution_count": 1,
   "metadata": {},
   "outputs": [
    {
     "name": "stdout",
     "output_type": "stream",
     "text": [
      "total 1176\n",
      "drwxr-xr-x 1 sanghui 197121       0  9�썡 29 14:01 .\n",
      "drwxr-xr-x 1 sanghui 197121       0  9�썡 29 14:01 ..\n",
      "-rw-r--r-- 1 sanghui 197121 1197133  9�썡 29 14:00 CARD_SUBWAY_MONTH_202108.csv\n"
     ]
    }
   ],
   "source": [
    "!ls -alt ../test_data"
   ]
  },
  {
   "cell_type": "markdown",
   "metadata": {},
   "source": [
    "## 문제2"
   ]
  },
  {
   "cell_type": "code",
   "execution_count": 3,
   "metadata": {},
   "outputs": [
    {
     "data": {
      "text/html": [
       "<div>\n",
       "<style scoped>\n",
       "    .dataframe tbody tr th:only-of-type {\n",
       "        vertical-align: middle;\n",
       "    }\n",
       "\n",
       "    .dataframe tbody tr th {\n",
       "        vertical-align: top;\n",
       "    }\n",
       "\n",
       "    .dataframe thead th {\n",
       "        text-align: right;\n",
       "    }\n",
       "</style>\n",
       "<table border=\"1\" class=\"dataframe\">\n",
       "  <thead>\n",
       "    <tr style=\"text-align: right;\">\n",
       "      <th></th>\n",
       "      <th>사용일자</th>\n",
       "      <th>노선명</th>\n",
       "      <th>역명</th>\n",
       "      <th>승차총승객수</th>\n",
       "      <th>하차총승객수</th>\n",
       "      <th>등록일자</th>\n",
       "    </tr>\n",
       "  </thead>\n",
       "  <tbody>\n",
       "    <tr>\n",
       "      <th>20210801</th>\n",
       "      <td>중앙선</td>\n",
       "      <td>회기</td>\n",
       "      <td>10269</td>\n",
       "      <td>10305</td>\n",
       "      <td>20210804</td>\n",
       "      <td>NaN</td>\n",
       "    </tr>\n",
       "    <tr>\n",
       "      <th>20210801</th>\n",
       "      <td>일산선</td>\n",
       "      <td>마두</td>\n",
       "      <td>2306</td>\n",
       "      <td>2354</td>\n",
       "      <td>20210804</td>\n",
       "      <td>NaN</td>\n",
       "    </tr>\n",
       "    <tr>\n",
       "      <th>20210801</th>\n",
       "      <td>일산선</td>\n",
       "      <td>정발산</td>\n",
       "      <td>3334</td>\n",
       "      <td>3307</td>\n",
       "      <td>20210804</td>\n",
       "      <td>NaN</td>\n",
       "    </tr>\n",
       "    <tr>\n",
       "      <th>20210801</th>\n",
       "      <td>일산선</td>\n",
       "      <td>주엽</td>\n",
       "      <td>3047</td>\n",
       "      <td>3044</td>\n",
       "      <td>20210804</td>\n",
       "      <td>NaN</td>\n",
       "    </tr>\n",
       "    <tr>\n",
       "      <th>20210801</th>\n",
       "      <td>일산선</td>\n",
       "      <td>대화</td>\n",
       "      <td>4520</td>\n",
       "      <td>4151</td>\n",
       "      <td>20210804</td>\n",
       "      <td>NaN</td>\n",
       "    </tr>\n",
       "  </tbody>\n",
       "</table>\n",
       "</div>"
      ],
      "text/plain": [
       "         사용일자  노선명     역명  승차총승객수    하차총승객수  등록일자\n",
       "20210801  중앙선   회기  10269   10305  20210804   NaN\n",
       "20210801  일산선   마두   2306    2354  20210804   NaN\n",
       "20210801  일산선  정발산   3334    3307  20210804   NaN\n",
       "20210801  일산선   주엽   3047    3044  20210804   NaN\n",
       "20210801  일산선   대화   4520    4151  20210804   NaN"
      ]
     },
     "execution_count": 3,
     "metadata": {},
     "output_type": "execute_result"
    }
   ],
   "source": [
    "import pandas as pd\n",
    "\n",
    "df = pd.read_csv(\"../test_data/CARD_SUBWAY_MONTH_202108.csv\", index_col=0)\n",
    "df.head()\n"
   ]
  },
  {
   "cell_type": "markdown",
   "metadata": {},
   "source": [
    "## 문제3"
   ]
  },
  {
   "cell_type": "code",
   "execution_count": null,
   "metadata": {},
   "outputs": [],
   "source": []
  }
 ],
 "metadata": {
  "interpreter": {
   "hash": "fff8a2ebda7d7c31fff9abc7af7b4b1a85e6e317ed9dea4607b41f7b3e93769e"
  },
  "kernelspec": {
   "display_name": "Python 3 (ipykernel)",
   "language": "python",
   "name": "python3"
  },
  "language_info": {
   "codemirror_mode": {
    "name": "ipython",
    "version": 3
   },
   "file_extension": ".py",
   "mimetype": "text/x-python",
   "name": "python",
   "nbconvert_exporter": "python",
   "pygments_lexer": "ipython3",
   "version": "3.8.11"
  }
 },
 "nbformat": 4,
 "nbformat_minor": 2
}
