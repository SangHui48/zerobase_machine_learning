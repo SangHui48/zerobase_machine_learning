{
 "cells": [
  {
   "cell_type": "markdown",
   "metadata": {},
   "source": [
    "# 문제 1"
   ]
  },
  {
   "cell_type": "markdown",
   "metadata": {},
   "source": [
    "## TIOBE INDEX 상위 9개 언어 + R(14위) : Python, C, Java, C++, C#, Visual Basic, JavaScript, SQL, PHP, R\n",
    "## 10개 언어에 대한 출판 책 정보 수집하기\n",
    "\n",
    "---\n",
    "\n",
    "- 네이버 API 일일 검색량 제한이 25000건\n",
    "- disp = 1페이지당 100개, startnum = 최대 1000까지\n",
    "\n",
    "---\n",
    "\n",
    "- 검색 키워드 수정이 필요해서 다음과 같이 검색.\n",
    " \n",
    "- Python -> Python, 파이썬\n",
    "- C -> C programming, C 프로그래밍\n",
    "- Java -> Java, '자바' (JavaScript, 자바스크립트 포함된 결과 목록 제외 필요해보임)\n",
    "- JavaScript - JavaScript, '자바스크립트'\n",
    "- C++ -> C++\n",
    "- C# -> C#\n",
    "- Visual Basic -> Visual Basic\n",
    "- SQL -> SQL\n",
    "- PHP -> PHP\n",
    "- R -> R programming, R프로그래밍\n",
    "\n",
    "- 총 검색 결과 16500건 예상"
   ]
  },
  {
   "cell_type": "code",
   "execution_count": 218,
   "metadata": {},
   "outputs": [],
   "source": [
    "# 필요한 모듈 import\n",
    "import os\n",
    "import sys\n",
    "import json\n",
    "import datetime\n",
    "import platform\n",
    "import urllib.request\n",
    "import pandas as pd\n",
    "import numpy as np\n",
    "import seaborn as sns\n",
    "import matplotlib.pyplot as plt\n",
    "from matplotlib import font_manager, rc"
   ]
  },
  {
   "cell_type": "code",
   "execution_count": 17,
   "metadata": {},
   "outputs": [
    {
     "name": "stdout",
     "output_type": "stream",
     "text": [
      "Hangul OK in your Windows!!!\n"
     ]
    }
   ],
   "source": [
    "path = \"C:/Windows/Fonts/malgun.ttf\"\n",
    "\n",
    "if platform.system() == \"Darwin\":\n",
    "    print(\"Hangul OK in your MAC!!\")\n",
    "    rc(\"font\", family=\"Arial Unicode MS\")\n",
    "elif platform.system() == \"Windows\":\n",
    "    font_name = font_manager.FontProperties(fname=path).get_name()\n",
    "    print('Hangul OK in your Windows!!!')\n",
    "    rc(\"font\", family=font_name)\n",
    "else:\n",
    "    print('Unknown system. sorry!!~')\n",
    "\n",
    "plt.rcParams[\"axes.unicode_minus\"] = False"
   ]
  },
  {
   "cell_type": "code",
   "execution_count": 2,
   "metadata": {},
   "outputs": [],
   "source": [
    "# 네이버 API key\n",
    "client_id = \"RpCSsXQbjViP1An4myaR\"\n",
    "client_secret = \"g1hzDn5hAk\""
   ]
  },
  {
   "cell_type": "code",
   "execution_count": 3,
   "metadata": {},
   "outputs": [],
   "source": [
    "# 단일 검색 결과는 list 형태로 한번에 조회해오기\n",
    "single_keyword = ['C++', 'C#', 'Visual Basic', 'SQL', 'PHP']"
   ]
  },
  {
   "cell_type": "code",
   "execution_count": 6,
   "metadata": {},
   "outputs": [],
   "source": [
    "# 책 조회 url 생성 함수\n",
    "def gen_search_url(search_text, start_num, disp_num):\n",
    "    base = \"https://openapi.naver.com/v1/search/book\"\n",
    "    param_query = \"?query=\" + urllib.parse.quote(search_text)\n",
    "    param_start = \"&start=\" + str(start_num)\n",
    "    param_disp = \"&display=\" + str(disp_num)\n",
    "\n",
    "    return base + param_query + param_start + param_disp"
   ]
  },
  {
   "cell_type": "code",
   "execution_count": 7,
   "metadata": {},
   "outputs": [],
   "source": [
    "# 해당 페이지로부터 정보 얻어오기\n",
    "def get_result_onpage(url):\n",
    "    request = urllib.request.Request(url)\n",
    "    request.add_header(\"X-Naver-Client-Id\",client_id)\n",
    "    request.add_header(\"X-Naver-Client-Secret\",client_secret)\n",
    "    response = urllib.request.urlopen(request)\n",
    "    print(\"[%s] Url Request Success\" % datetime.datetime.now()) # log용 print\n",
    "    return json.loads(response.read().decode('utf-8'))"
   ]
  },
  {
   "cell_type": "code",
   "execution_count": 8,
   "metadata": {},
   "outputs": [
    {
     "name": "stdout",
     "output_type": "stream",
     "text": [
      "[2021-10-20 11:33:03.338792] Url Request Success\n"
     ]
    }
   ],
   "source": [
    "# return된 json에서 필요한 정보만 가져오기\n",
    "url = gen_search_url(\"Python\", 1, 3)\n",
    "one_result = get_result_onpage(url)"
   ]
  },
  {
   "cell_type": "code",
   "execution_count": 9,
   "metadata": {},
   "outputs": [
    {
     "data": {
      "text/plain": [
       "{'lastBuildDate': 'Wed, 20 Oct 2021 11:33:03 +0900',\n",
       " 'total': 6671,\n",
       " 'start': 1,\n",
       " 'display': 3,\n",
       " 'items': [{'title': 'Effective <b>Python</b> 2nd 이펙티브 파이썬 : 파이썬 코딩의 기술 (똑똑하게 코딩하는 법, 개정판)',\n",
       "   'link': 'http://book.naver.com/bookdb/book_detail.php?bid=16876960',\n",
       "   'image': 'https://bookthumb-phinf.pstatic.net/cover/168/769/16876960.jpg?type=m1&udate=20201222',\n",
       "   'author': '브렛 슬라킨 지음|오현석',\n",
       "   'price': '32000',\n",
       "   'discount': '28800',\n",
       "   'publisher': '길벗',\n",
       "   'pubdate': '20201030',\n",
       "   'isbn': '1165213192 9791165213190',\n",
       "   'description': '아마존 파이썬 프로그래밍 분야 베스트셀러, 〈Effective <b>Python</b>〉 전면 개정 증보판! \\n파이썬의 매력과 강점을 이용해 강력하고 우수한 성능의 코드를 작성하는 90가지 방법!\\n파이썬다운 방식으로 프로그램을 작성하는 방법, 파이썬을 사용하는 가장 좋은 방법에 대한 통찰을 담았다! 2판에서는 파이썬 3.... '},\n",
       "  {'title': '파이썬 딥러닝 파이토치(<b>Python</b> Deep Learning PyTorch)',\n",
       "   'link': 'http://book.naver.com/bookdb/book_detail.php?bid=16778336',\n",
       "   'image': 'https://bookthumb-phinf.pstatic.net/cover/167/783/16778336.jpg?type=m1&udate=20210929',\n",
       "   'author': '이경택|방성수|안상준',\n",
       "   'price': '25000',\n",
       "   'discount': '22500',\n",
       "   'publisher': '정보문화사',\n",
       "   'pubdate': '20201008',\n",
       "   'isbn': '8956748578 9788956748573',\n",
       "   'description': '파이썬은 선택이 아닌 필수! 파이토치로 딥러닝 입문하기!이 책은 딥러닝 기술에 초점을 두고 딥러닝을 구현하기 위해 파이썬을 이용하는데, 머신러닝 라이브러리인 파이토치를 활용하여 다양한 텐서를 지원하는 방법을 알아본다. 파이토치는 파이썬 코딩과 비슷하기 때문에 언어가 어렵지 않다.... '},\n",
       "  {'title': 'Intuitive <b>Python</b>: Productive Development for Projects That Last',\n",
       "   'link': 'http://book.naver.com/bookdb/book_detail.php?bid=20609396',\n",
       "   'image': 'https://bookthumb-phinf.pstatic.net/cover/206/093/20609396.jpg?type=m1&udate=20210610',\n",
       "   'author': 'MULLER|David',\n",
       "   'price': '38060',\n",
       "   'discount': '',\n",
       "   'publisher': 'PragmaticBookshelf',\n",
       "   'pubdate': '20211005',\n",
       "   'isbn': '1680508237 9781680508239',\n",
       "   'description': 'Developers power their projects with <b>Python</b> because it emphasizes readability, ease of use, and access to a meticulously maintained set... in <b>Python</b> is full of possibility. But to maintain a successful <b>Python</b> project, you need to know more than just the language. You need... '}]}"
      ]
     },
     "execution_count": 9,
     "metadata": {},
     "output_type": "execute_result"
    }
   ],
   "source": [
    "one_result"
   ]
  },
  {
   "cell_type": "code",
   "execution_count": 10,
   "metadata": {},
   "outputs": [
    {
     "data": {
      "text/plain": [
       "'Effective <b>Python</b> 2nd 이펙티브 파이썬 : 파이썬 코딩의 기술 (똑똑하게 코딩하는 법, 개정판)'"
      ]
     },
     "execution_count": 10,
     "metadata": {},
     "output_type": "execute_result"
    }
   ],
   "source": [
    "# 제목\n",
    "one_result[\"items\"][0].get(\"title\")"
   ]
  },
  {
   "cell_type": "code",
   "execution_count": 11,
   "metadata": {},
   "outputs": [
    {
     "data": {
      "text/plain": [
       "'길벗'"
      ]
     },
     "execution_count": 11,
     "metadata": {},
     "output_type": "execute_result"
    }
   ],
   "source": [
    "# 출판사\n",
    "one_result[\"items\"][0].get(\"publisher\")"
   ]
  },
  {
   "cell_type": "code",
   "execution_count": 12,
   "metadata": {},
   "outputs": [
    {
     "data": {
      "text/plain": [
       "'32000'"
      ]
     },
     "execution_count": 12,
     "metadata": {},
     "output_type": "execute_result"
    }
   ],
   "source": [
    "# 가격\n",
    "one_result[\"items\"][0].get(\"price\")"
   ]
  },
  {
   "cell_type": "code",
   "execution_count": 13,
   "metadata": {},
   "outputs": [
    {
     "data": {
      "text/plain": [
       "'28800'"
      ]
     },
     "execution_count": 13,
     "metadata": {},
     "output_type": "execute_result"
    }
   ],
   "source": [
    "# 할인가격\n",
    "one_result[\"items\"][0].get(\"discount\")"
   ]
  },
  {
   "cell_type": "code",
   "execution_count": 14,
   "metadata": {},
   "outputs": [
    {
     "data": {
      "text/plain": [
       "'20201030'"
      ]
     },
     "execution_count": 14,
     "metadata": {},
     "output_type": "execute_result"
    }
   ],
   "source": [
    "# 출판연도\n",
    "one_result[\"items\"][0].get(\"pubdate\")"
   ]
  },
  {
   "cell_type": "code",
   "execution_count": 15,
   "metadata": {},
   "outputs": [
    {
     "data": {
      "text/plain": [
       "'1165213192 9791165213190'"
      ]
     },
     "execution_count": 15,
     "metadata": {},
     "output_type": "execute_result"
    }
   ],
   "source": [
    "# isbn정보\n",
    "one_result[\"items\"][0].get('isbn')"
   ]
  },
  {
   "cell_type": "code",
   "execution_count": 18,
   "metadata": {},
   "outputs": [],
   "source": [
    "# 제목에 붙은 <b> 태그 지우기\n",
    "def delete_tag(input_str):\n",
    "    input_str = input_str.replace(\"<b>\", \"\")\n",
    "    input_str = input_str.replace(\"</b>\", \"\")\n",
    "    return input_str"
   ]
  },
  {
   "cell_type": "code",
   "execution_count": 21,
   "metadata": {},
   "outputs": [],
   "source": [
    "# 데이터 프레임화 시키는 함수\n",
    "def get_fields(keyword, json_data):\n",
    "    keyword = [keyword] * len(json_data[\"items\"])\n",
    "    title = [delete_tag(each[\"title\"]) for each in json_data[\"items\"]]\n",
    "    publisher = [delete_tag(each[\"publisher\"]) for each in json_data[\"items\"]]\n",
    "    price = [delete_tag(each[\"price\"]) for each in json_data[\"items\"]]\n",
    "    discount = [delete_tag(each[\"discount\"]) for each in json_data[\"items\"]]\n",
    "    pubdate = [delete_tag(each[\"pubdate\"]) for each in json_data[\"items\"]]\n",
    "    isbn = [delete_tag(each[\"isbn\"]) for each in json_data[\"items\"]]\n",
    "\n",
    "    result_pd = pd.DataFrame({\n",
    "        \"keyword\": keyword,\n",
    "        \"title\": title,\n",
    "        \"publisher\": publisher,\n",
    "        \"price\": price,\n",
    "        \"discount\": discount,\n",
    "        \"pubdate\": pubdate,\n",
    "        \"isbn\": isbn\n",
    "    })\n",
    "\n",
    "    return result_pd"
   ]
  },
  {
   "cell_type": "code",
   "execution_count": 22,
   "metadata": {},
   "outputs": [
    {
     "data": {
      "text/html": [
       "<div>\n",
       "<style scoped>\n",
       "    .dataframe tbody tr th:only-of-type {\n",
       "        vertical-align: middle;\n",
       "    }\n",
       "\n",
       "    .dataframe tbody tr th {\n",
       "        vertical-align: top;\n",
       "    }\n",
       "\n",
       "    .dataframe thead th {\n",
       "        text-align: right;\n",
       "    }\n",
       "</style>\n",
       "<table border=\"1\" class=\"dataframe\">\n",
       "  <thead>\n",
       "    <tr style=\"text-align: right;\">\n",
       "      <th></th>\n",
       "      <th>keyword</th>\n",
       "      <th>title</th>\n",
       "      <th>publisher</th>\n",
       "      <th>price</th>\n",
       "      <th>discount</th>\n",
       "      <th>pubdate</th>\n",
       "      <th>isbn</th>\n",
       "    </tr>\n",
       "  </thead>\n",
       "  <tbody>\n",
       "    <tr>\n",
       "      <th>0</th>\n",
       "      <td>Python</td>\n",
       "      <td>Effective Python 2nd 이펙티브 파이썬 : 파이썬 코딩의 기술 (똑똑...</td>\n",
       "      <td>길벗</td>\n",
       "      <td>32000</td>\n",
       "      <td>28800</td>\n",
       "      <td>20201030</td>\n",
       "      <td>1165213192 9791165213190</td>\n",
       "    </tr>\n",
       "    <tr>\n",
       "      <th>1</th>\n",
       "      <td>Python</td>\n",
       "      <td>파이썬 딥러닝 파이토치(Python Deep Learning PyTorch)</td>\n",
       "      <td>정보문화사</td>\n",
       "      <td>25000</td>\n",
       "      <td>22500</td>\n",
       "      <td>20201008</td>\n",
       "      <td>8956748578 9788956748573</td>\n",
       "    </tr>\n",
       "    <tr>\n",
       "      <th>2</th>\n",
       "      <td>Python</td>\n",
       "      <td>Intuitive Python: Productive Development for P...</td>\n",
       "      <td>PragmaticBookshelf</td>\n",
       "      <td>38060</td>\n",
       "      <td></td>\n",
       "      <td>20211005</td>\n",
       "      <td>1680508237 9781680508239</td>\n",
       "    </tr>\n",
       "  </tbody>\n",
       "</table>\n",
       "</div>"
      ],
      "text/plain": [
       "  keyword                                              title  \\\n",
       "0  Python  Effective Python 2nd 이펙티브 파이썬 : 파이썬 코딩의 기술 (똑똑...   \n",
       "1  Python         파이썬 딥러닝 파이토치(Python Deep Learning PyTorch)   \n",
       "2  Python  Intuitive Python: Productive Development for P...   \n",
       "\n",
       "            publisher  price discount   pubdate                      isbn  \n",
       "0                  길벗  32000    28800  20201030  1165213192 9791165213190  \n",
       "1               정보문화사  25000    22500  20201008  8956748578 9788956748573  \n",
       "2  PragmaticBookshelf  38060           20211005  1680508237 9781680508239  "
      ]
     },
     "execution_count": 22,
     "metadata": {},
     "output_type": "execute_result"
    }
   ],
   "source": [
    "# 함수 동작 test\n",
    "test = get_fields(\"Python\", one_result)\n",
    "test.head()"
   ]
  },
  {
   "cell_type": "code",
   "execution_count": 24,
   "metadata": {},
   "outputs": [
    {
     "name": "stdout",
     "output_type": "stream",
     "text": [
      "[2021-10-20 13:50:55.278176] Url Request Success\n",
      "[2021-10-20 13:50:55.666292] Url Request Success\n",
      "[2021-10-20 13:50:56.062262] Url Request Success\n",
      "[2021-10-20 13:50:56.464241] Url Request Success\n",
      "[2021-10-20 13:50:56.857571] Url Request Success\n",
      "[2021-10-20 13:50:57.267454] Url Request Success\n",
      "[2021-10-20 13:50:57.640998] Url Request Success\n",
      "[2021-10-20 13:50:58.068701] Url Request Success\n",
      "[2021-10-20 13:50:58.532170] Url Request Success\n",
      "[2021-10-20 13:50:58.899927] Url Request Success\n"
     ]
    }
   ],
   "source": [
    "# API로 데이터 검색\n",
    "# 같은 키워드 검색어 2개인 언어부터\n",
    "# python, c, java, javascript, r\n",
    "\n",
    "result_book = []\n",
    "\n",
    "for n in range(1, 1000, 100):\n",
    "    url = gen_search_url(\"Python\", n, 100)\n",
    "    json_result = get_result_onpage(url)\n",
    "    pd_result = get_fields(\"Python\", json_result)\n",
    "\n",
    "    result_book.append(pd_result)\n",
    "\n",
    "result_book = pd.concat(result_book)"
   ]
  },
  {
   "cell_type": "code",
   "execution_count": 25,
   "metadata": {},
   "outputs": [
    {
     "data": {
      "text/html": [
       "<div>\n",
       "<style scoped>\n",
       "    .dataframe tbody tr th:only-of-type {\n",
       "        vertical-align: middle;\n",
       "    }\n",
       "\n",
       "    .dataframe tbody tr th {\n",
       "        vertical-align: top;\n",
       "    }\n",
       "\n",
       "    .dataframe thead th {\n",
       "        text-align: right;\n",
       "    }\n",
       "</style>\n",
       "<table border=\"1\" class=\"dataframe\">\n",
       "  <thead>\n",
       "    <tr style=\"text-align: right;\">\n",
       "      <th></th>\n",
       "      <th>keyword</th>\n",
       "      <th>title</th>\n",
       "      <th>publisher</th>\n",
       "      <th>price</th>\n",
       "      <th>discount</th>\n",
       "      <th>pubdate</th>\n",
       "      <th>isbn</th>\n",
       "    </tr>\n",
       "  </thead>\n",
       "  <tbody>\n",
       "    <tr>\n",
       "      <th>0</th>\n",
       "      <td>Python</td>\n",
       "      <td>Effective Python 2nd 이펙티브 파이썬 : 파이썬 코딩의 기술 (똑똑...</td>\n",
       "      <td>길벗</td>\n",
       "      <td>32000</td>\n",
       "      <td>28800</td>\n",
       "      <td>20201030</td>\n",
       "      <td>1165213192 9791165213190</td>\n",
       "    </tr>\n",
       "    <tr>\n",
       "      <th>1</th>\n",
       "      <td>Python</td>\n",
       "      <td>파이썬 딥러닝 파이토치(Python Deep Learning PyTorch)</td>\n",
       "      <td>정보문화사</td>\n",
       "      <td>25000</td>\n",
       "      <td>22500</td>\n",
       "      <td>20201008</td>\n",
       "      <td>8956748578 9788956748573</td>\n",
       "    </tr>\n",
       "    <tr>\n",
       "      <th>2</th>\n",
       "      <td>Python</td>\n",
       "      <td>Intuitive Python: Productive Development for P...</td>\n",
       "      <td>PragmaticBookshelf</td>\n",
       "      <td>38060</td>\n",
       "      <td></td>\n",
       "      <td>20211005</td>\n",
       "      <td>1680508237 9781680508239</td>\n",
       "    </tr>\n",
       "    <tr>\n",
       "      <th>3</th>\n",
       "      <td>Python</td>\n",
       "      <td>Python으로 시작하는 빅데이터분석 및 인공지능 (개정판)</td>\n",
       "      <td>인피니티북스</td>\n",
       "      <td>26000</td>\n",
       "      <td>25500</td>\n",
       "      <td>20210225</td>\n",
       "      <td>118557879X 9791185578798</td>\n",
       "    </tr>\n",
       "    <tr>\n",
       "      <th>4</th>\n",
       "      <td>Python</td>\n",
       "      <td>Fluent Python: Clear, Concise, and Effective P...</td>\n",
       "      <td>O'ReillyMedia</td>\n",
       "      <td>99730</td>\n",
       "      <td></td>\n",
       "      <td>20211019</td>\n",
       "      <td>1492056359 9781492056355</td>\n",
       "    </tr>\n",
       "  </tbody>\n",
       "</table>\n",
       "</div>"
      ],
      "text/plain": [
       "  keyword                                              title  \\\n",
       "0  Python  Effective Python 2nd 이펙티브 파이썬 : 파이썬 코딩의 기술 (똑똑...   \n",
       "1  Python         파이썬 딥러닝 파이토치(Python Deep Learning PyTorch)   \n",
       "2  Python  Intuitive Python: Productive Development for P...   \n",
       "3  Python                  Python으로 시작하는 빅데이터분석 및 인공지능 (개정판)   \n",
       "4  Python  Fluent Python: Clear, Concise, and Effective P...   \n",
       "\n",
       "            publisher  price discount   pubdate                      isbn  \n",
       "0                  길벗  32000    28800  20201030  1165213192 9791165213190  \n",
       "1               정보문화사  25000    22500  20201008  8956748578 9788956748573  \n",
       "2  PragmaticBookshelf  38060           20211005  1680508237 9781680508239  \n",
       "3              인피니티북스  26000    25500  20210225  118557879X 9791185578798  \n",
       "4       O'ReillyMedia  99730           20211019  1492056359 9781492056355  "
      ]
     },
     "execution_count": 25,
     "metadata": {},
     "output_type": "execute_result"
    }
   ],
   "source": [
    "result_book.head()"
   ]
  },
  {
   "cell_type": "code",
   "execution_count": 26,
   "metadata": {},
   "outputs": [
    {
     "data": {
      "text/html": [
       "<div>\n",
       "<style scoped>\n",
       "    .dataframe tbody tr th:only-of-type {\n",
       "        vertical-align: middle;\n",
       "    }\n",
       "\n",
       "    .dataframe tbody tr th {\n",
       "        vertical-align: top;\n",
       "    }\n",
       "\n",
       "    .dataframe thead th {\n",
       "        text-align: right;\n",
       "    }\n",
       "</style>\n",
       "<table border=\"1\" class=\"dataframe\">\n",
       "  <thead>\n",
       "    <tr style=\"text-align: right;\">\n",
       "      <th></th>\n",
       "      <th>keyword</th>\n",
       "      <th>title</th>\n",
       "      <th>publisher</th>\n",
       "      <th>price</th>\n",
       "      <th>discount</th>\n",
       "      <th>pubdate</th>\n",
       "      <th>isbn</th>\n",
       "    </tr>\n",
       "  </thead>\n",
       "  <tbody>\n",
       "    <tr>\n",
       "      <th>95</th>\n",
       "      <td>Python</td>\n",
       "      <td>Computer Programming: 2 books in 1: LINUX COMM...</td>\n",
       "      <td>JordanEditors</td>\n",
       "      <td>53180</td>\n",
       "      <td></td>\n",
       "      <td>20210221</td>\n",
       "      <td>1801795975 9781801795975</td>\n",
       "    </tr>\n",
       "    <tr>\n",
       "      <th>96</th>\n",
       "      <td>Python</td>\n",
       "      <td>Computer Programming: 2 books in 1: LINUX COMM...</td>\n",
       "      <td>JordanEditors</td>\n",
       "      <td>57380</td>\n",
       "      <td></td>\n",
       "      <td>20210221</td>\n",
       "      <td>1801795967 9781801795968</td>\n",
       "    </tr>\n",
       "    <tr>\n",
       "      <th>97</th>\n",
       "      <td>Python</td>\n",
       "      <td>COMPUTER PROGRAMMING For Beginners: 4 books in...</td>\n",
       "      <td>JordanEditors</td>\n",
       "      <td>92380</td>\n",
       "      <td></td>\n",
       "      <td>20210221</td>\n",
       "      <td>1801796009 9781801796002</td>\n",
       "    </tr>\n",
       "    <tr>\n",
       "      <th>98</th>\n",
       "      <td>Python</td>\n",
       "      <td>COMPUTER PROGRAMMING For Beginners: 4 books in...</td>\n",
       "      <td>JordanEditors</td>\n",
       "      <td>104980</td>\n",
       "      <td></td>\n",
       "      <td>20210221</td>\n",
       "      <td>1801795983 9781801795982</td>\n",
       "    </tr>\n",
       "    <tr>\n",
       "      <th>99</th>\n",
       "      <td>Python</td>\n",
       "      <td>COMPUTER PROGRAMMING For Beginners: 4 books in...</td>\n",
       "      <td>JordanEditors</td>\n",
       "      <td>97980</td>\n",
       "      <td></td>\n",
       "      <td>20210221</td>\n",
       "      <td>1801795991 9781801795999</td>\n",
       "    </tr>\n",
       "  </tbody>\n",
       "</table>\n",
       "</div>"
      ],
      "text/plain": [
       "   keyword                                              title      publisher  \\\n",
       "95  Python  Computer Programming: 2 books in 1: LINUX COMM...  JordanEditors   \n",
       "96  Python  Computer Programming: 2 books in 1: LINUX COMM...  JordanEditors   \n",
       "97  Python  COMPUTER PROGRAMMING For Beginners: 4 books in...  JordanEditors   \n",
       "98  Python  COMPUTER PROGRAMMING For Beginners: 4 books in...  JordanEditors   \n",
       "99  Python  COMPUTER PROGRAMMING For Beginners: 4 books in...  JordanEditors   \n",
       "\n",
       "     price discount   pubdate                      isbn  \n",
       "95   53180           20210221  1801795975 9781801795975  \n",
       "96   57380           20210221  1801795967 9781801795968  \n",
       "97   92380           20210221  1801796009 9781801796002  \n",
       "98  104980           20210221  1801795983 9781801795982  \n",
       "99   97980           20210221  1801795991 9781801795999  "
      ]
     },
     "execution_count": 26,
     "metadata": {},
     "output_type": "execute_result"
    }
   ],
   "source": [
    "result_book.tail()"
   ]
  },
  {
   "cell_type": "code",
   "execution_count": 27,
   "metadata": {},
   "outputs": [
    {
     "name": "stdout",
     "output_type": "stream",
     "text": [
      "<class 'pandas.core.frame.DataFrame'>\n",
      "Int64Index: 1000 entries, 0 to 99\n",
      "Data columns (total 7 columns):\n",
      " #   Column     Non-Null Count  Dtype \n",
      "---  ------     --------------  ----- \n",
      " 0   keyword    1000 non-null   object\n",
      " 1   title      1000 non-null   object\n",
      " 2   publisher  1000 non-null   object\n",
      " 3   price      1000 non-null   object\n",
      " 4   discount   1000 non-null   object\n",
      " 5   pubdate    1000 non-null   object\n",
      " 6   isbn       1000 non-null   object\n",
      "dtypes: object(7)\n",
      "memory usage: 62.5+ KB\n"
     ]
    }
   ],
   "source": [
    "result_book.info()"
   ]
  },
  {
   "cell_type": "code",
   "execution_count": 28,
   "metadata": {},
   "outputs": [
    {
     "data": {
      "text/html": [
       "<div>\n",
       "<style scoped>\n",
       "    .dataframe tbody tr th:only-of-type {\n",
       "        vertical-align: middle;\n",
       "    }\n",
       "\n",
       "    .dataframe tbody tr th {\n",
       "        vertical-align: top;\n",
       "    }\n",
       "\n",
       "    .dataframe thead th {\n",
       "        text-align: right;\n",
       "    }\n",
       "</style>\n",
       "<table border=\"1\" class=\"dataframe\">\n",
       "  <thead>\n",
       "    <tr style=\"text-align: right;\">\n",
       "      <th></th>\n",
       "      <th>index</th>\n",
       "      <th>keyword</th>\n",
       "      <th>title</th>\n",
       "      <th>publisher</th>\n",
       "      <th>price</th>\n",
       "      <th>discount</th>\n",
       "      <th>pubdate</th>\n",
       "      <th>isbn</th>\n",
       "    </tr>\n",
       "  </thead>\n",
       "  <tbody>\n",
       "    <tr>\n",
       "      <th>995</th>\n",
       "      <td>95</td>\n",
       "      <td>Python</td>\n",
       "      <td>Computer Programming: 2 books in 1: LINUX COMM...</td>\n",
       "      <td>JordanEditors</td>\n",
       "      <td>53180</td>\n",
       "      <td></td>\n",
       "      <td>20210221</td>\n",
       "      <td>1801795975 9781801795975</td>\n",
       "    </tr>\n",
       "    <tr>\n",
       "      <th>996</th>\n",
       "      <td>96</td>\n",
       "      <td>Python</td>\n",
       "      <td>Computer Programming: 2 books in 1: LINUX COMM...</td>\n",
       "      <td>JordanEditors</td>\n",
       "      <td>57380</td>\n",
       "      <td></td>\n",
       "      <td>20210221</td>\n",
       "      <td>1801795967 9781801795968</td>\n",
       "    </tr>\n",
       "    <tr>\n",
       "      <th>997</th>\n",
       "      <td>97</td>\n",
       "      <td>Python</td>\n",
       "      <td>COMPUTER PROGRAMMING For Beginners: 4 books in...</td>\n",
       "      <td>JordanEditors</td>\n",
       "      <td>92380</td>\n",
       "      <td></td>\n",
       "      <td>20210221</td>\n",
       "      <td>1801796009 9781801796002</td>\n",
       "    </tr>\n",
       "    <tr>\n",
       "      <th>998</th>\n",
       "      <td>98</td>\n",
       "      <td>Python</td>\n",
       "      <td>COMPUTER PROGRAMMING For Beginners: 4 books in...</td>\n",
       "      <td>JordanEditors</td>\n",
       "      <td>104980</td>\n",
       "      <td></td>\n",
       "      <td>20210221</td>\n",
       "      <td>1801795983 9781801795982</td>\n",
       "    </tr>\n",
       "    <tr>\n",
       "      <th>999</th>\n",
       "      <td>99</td>\n",
       "      <td>Python</td>\n",
       "      <td>COMPUTER PROGRAMMING For Beginners: 4 books in...</td>\n",
       "      <td>JordanEditors</td>\n",
       "      <td>97980</td>\n",
       "      <td></td>\n",
       "      <td>20210221</td>\n",
       "      <td>1801795991 9781801795999</td>\n",
       "    </tr>\n",
       "  </tbody>\n",
       "</table>\n",
       "</div>"
      ],
      "text/plain": [
       "     index keyword                                              title  \\\n",
       "995     95  Python  Computer Programming: 2 books in 1: LINUX COMM...   \n",
       "996     96  Python  Computer Programming: 2 books in 1: LINUX COMM...   \n",
       "997     97  Python  COMPUTER PROGRAMMING For Beginners: 4 books in...   \n",
       "998     98  Python  COMPUTER PROGRAMMING For Beginners: 4 books in...   \n",
       "999     99  Python  COMPUTER PROGRAMMING For Beginners: 4 books in...   \n",
       "\n",
       "         publisher   price discount   pubdate                      isbn  \n",
       "995  JordanEditors   53180           20210221  1801795975 9781801795975  \n",
       "996  JordanEditors   57380           20210221  1801795967 9781801795968  \n",
       "997  JordanEditors   92380           20210221  1801796009 9781801796002  \n",
       "998  JordanEditors  104980           20210221  1801795983 9781801795982  \n",
       "999  JordanEditors   97980           20210221  1801795991 9781801795999  "
      ]
     },
     "execution_count": 28,
     "metadata": {},
     "output_type": "execute_result"
    }
   ],
   "source": [
    "# 인덱스 재설정\n",
    "result_book.reset_index(inplace=True)\n",
    "result_book.tail()"
   ]
  },
  {
   "cell_type": "code",
   "execution_count": 29,
   "metadata": {},
   "outputs": [
    {
     "data": {
      "text/html": [
       "<div>\n",
       "<style scoped>\n",
       "    .dataframe tbody tr th:only-of-type {\n",
       "        vertical-align: middle;\n",
       "    }\n",
       "\n",
       "    .dataframe tbody tr th {\n",
       "        vertical-align: top;\n",
       "    }\n",
       "\n",
       "    .dataframe thead th {\n",
       "        text-align: right;\n",
       "    }\n",
       "</style>\n",
       "<table border=\"1\" class=\"dataframe\">\n",
       "  <thead>\n",
       "    <tr style=\"text-align: right;\">\n",
       "      <th></th>\n",
       "      <th>keyword</th>\n",
       "      <th>title</th>\n",
       "      <th>publisher</th>\n",
       "      <th>price</th>\n",
       "      <th>discount</th>\n",
       "      <th>pubdate</th>\n",
       "      <th>isbn</th>\n",
       "    </tr>\n",
       "  </thead>\n",
       "  <tbody>\n",
       "    <tr>\n",
       "      <th>995</th>\n",
       "      <td>Python</td>\n",
       "      <td>Computer Programming: 2 books in 1: LINUX COMM...</td>\n",
       "      <td>JordanEditors</td>\n",
       "      <td>53180</td>\n",
       "      <td></td>\n",
       "      <td>20210221</td>\n",
       "      <td>1801795975 9781801795975</td>\n",
       "    </tr>\n",
       "    <tr>\n",
       "      <th>996</th>\n",
       "      <td>Python</td>\n",
       "      <td>Computer Programming: 2 books in 1: LINUX COMM...</td>\n",
       "      <td>JordanEditors</td>\n",
       "      <td>57380</td>\n",
       "      <td></td>\n",
       "      <td>20210221</td>\n",
       "      <td>1801795967 9781801795968</td>\n",
       "    </tr>\n",
       "    <tr>\n",
       "      <th>997</th>\n",
       "      <td>Python</td>\n",
       "      <td>COMPUTER PROGRAMMING For Beginners: 4 books in...</td>\n",
       "      <td>JordanEditors</td>\n",
       "      <td>92380</td>\n",
       "      <td></td>\n",
       "      <td>20210221</td>\n",
       "      <td>1801796009 9781801796002</td>\n",
       "    </tr>\n",
       "    <tr>\n",
       "      <th>998</th>\n",
       "      <td>Python</td>\n",
       "      <td>COMPUTER PROGRAMMING For Beginners: 4 books in...</td>\n",
       "      <td>JordanEditors</td>\n",
       "      <td>104980</td>\n",
       "      <td></td>\n",
       "      <td>20210221</td>\n",
       "      <td>1801795983 9781801795982</td>\n",
       "    </tr>\n",
       "    <tr>\n",
       "      <th>999</th>\n",
       "      <td>Python</td>\n",
       "      <td>COMPUTER PROGRAMMING For Beginners: 4 books in...</td>\n",
       "      <td>JordanEditors</td>\n",
       "      <td>97980</td>\n",
       "      <td></td>\n",
       "      <td>20210221</td>\n",
       "      <td>1801795991 9781801795999</td>\n",
       "    </tr>\n",
       "  </tbody>\n",
       "</table>\n",
       "</div>"
      ],
      "text/plain": [
       "    keyword                                              title      publisher  \\\n",
       "995  Python  Computer Programming: 2 books in 1: LINUX COMM...  JordanEditors   \n",
       "996  Python  Computer Programming: 2 books in 1: LINUX COMM...  JordanEditors   \n",
       "997  Python  COMPUTER PROGRAMMING For Beginners: 4 books in...  JordanEditors   \n",
       "998  Python  COMPUTER PROGRAMMING For Beginners: 4 books in...  JordanEditors   \n",
       "999  Python  COMPUTER PROGRAMMING For Beginners: 4 books in...  JordanEditors   \n",
       "\n",
       "      price discount   pubdate                      isbn  \n",
       "995   53180           20210221  1801795975 9781801795975  \n",
       "996   57380           20210221  1801795967 9781801795968  \n",
       "997   92380           20210221  1801796009 9781801796002  \n",
       "998  104980           20210221  1801795983 9781801795982  \n",
       "999   97980           20210221  1801795991 9781801795999  "
      ]
     },
     "execution_count": 29,
     "metadata": {},
     "output_type": "execute_result"
    }
   ],
   "source": [
    "del result_book[\"index\"]\n",
    "result_book.tail()"
   ]
  },
  {
   "cell_type": "code",
   "execution_count": 30,
   "metadata": {},
   "outputs": [
    {
     "name": "stdout",
     "output_type": "stream",
     "text": [
      "[2021-10-20 13:58:33.697935] Url Request Success\n",
      "[2021-10-20 13:58:34.060364] Url Request Success\n",
      "[2021-10-20 13:58:34.409398] Url Request Success\n",
      "[2021-10-20 13:58:34.747222] Url Request Success\n",
      "[2021-10-20 13:58:35.064375] Url Request Success\n",
      "[2021-10-20 13:58:35.386857] Url Request Success\n",
      "[2021-10-20 13:58:35.744327] Url Request Success\n",
      "[2021-10-20 13:58:36.136923] Url Request Success\n",
      "[2021-10-20 13:58:36.523732] Url Request Success\n",
      "[2021-10-20 13:58:36.897877] Url Request Success\n"
     ]
    },
    {
     "data": {
      "text/html": [
       "<div>\n",
       "<style scoped>\n",
       "    .dataframe tbody tr th:only-of-type {\n",
       "        vertical-align: middle;\n",
       "    }\n",
       "\n",
       "    .dataframe tbody tr th {\n",
       "        vertical-align: top;\n",
       "    }\n",
       "\n",
       "    .dataframe thead th {\n",
       "        text-align: right;\n",
       "    }\n",
       "</style>\n",
       "<table border=\"1\" class=\"dataframe\">\n",
       "  <thead>\n",
       "    <tr style=\"text-align: right;\">\n",
       "      <th></th>\n",
       "      <th>keyword</th>\n",
       "      <th>title</th>\n",
       "      <th>publisher</th>\n",
       "      <th>price</th>\n",
       "      <th>discount</th>\n",
       "      <th>pubdate</th>\n",
       "      <th>isbn</th>\n",
       "    </tr>\n",
       "  </thead>\n",
       "  <tbody>\n",
       "    <tr>\n",
       "      <th>0</th>\n",
       "      <td>파이썬</td>\n",
       "      <td>이것이 취업을 위한 코딩 테스트다 with 파이썬 (취업과 이직을 결정하는 알고리즘...</td>\n",
       "      <td>한빛미디어</td>\n",
       "      <td>34000</td>\n",
       "      <td>30600</td>\n",
       "      <td>20200805</td>\n",
       "      <td>1162243074 9791162243077</td>\n",
       "    </tr>\n",
       "    <tr>\n",
       "      <th>1</th>\n",
       "      <td>파이썬</td>\n",
       "      <td>Do it! 점프 투 파이썬</td>\n",
       "      <td>이지스퍼블리싱</td>\n",
       "      <td>18800</td>\n",
       "      <td>16900</td>\n",
       "      <td>20190620</td>\n",
       "      <td>1163030910 9791163030911</td>\n",
       "    </tr>\n",
       "    <tr>\n",
       "      <th>2</th>\n",
       "      <td>파이썬</td>\n",
       "      <td>혼자 공부하는 파이썬 (파이썬 최신 버전 반영)</td>\n",
       "      <td>한빛미디어</td>\n",
       "      <td>18000</td>\n",
       "      <td>16200</td>\n",
       "      <td>20190610</td>\n",
       "      <td>1162241888 9791162241882</td>\n",
       "    </tr>\n",
       "    <tr>\n",
       "      <th>3</th>\n",
       "      <td>파이썬</td>\n",
       "      <td>파이썬 알고리즘 인터뷰 (95가지 알고리즘 문제 풀이로 완성하는 코딩 테스트)</td>\n",
       "      <td>책만</td>\n",
       "      <td>38000</td>\n",
       "      <td>34200</td>\n",
       "      <td>20200715</td>\n",
       "      <td>1189909170 9791189909178</td>\n",
       "    </tr>\n",
       "    <tr>\n",
       "      <th>4</th>\n",
       "      <td>파이썬</td>\n",
       "      <td>파이썬 증권 데이터 분석 (파이썬 입문, 웹 스크레이핑, 트레이딩 전략, 자동 매매)</td>\n",
       "      <td>한빛미디어</td>\n",
       "      <td>32000</td>\n",
       "      <td>28800</td>\n",
       "      <td>20200701</td>\n",
       "      <td>1162243201 9791162243206</td>\n",
       "    </tr>\n",
       "  </tbody>\n",
       "</table>\n",
       "</div>"
      ],
      "text/plain": [
       "  keyword                                              title publisher  price  \\\n",
       "0     파이썬  이것이 취업을 위한 코딩 테스트다 with 파이썬 (취업과 이직을 결정하는 알고리즘...     한빛미디어  34000   \n",
       "1     파이썬                                    Do it! 점프 투 파이썬   이지스퍼블리싱  18800   \n",
       "2     파이썬                         혼자 공부하는 파이썬 (파이썬 최신 버전 반영)     한빛미디어  18000   \n",
       "3     파이썬        파이썬 알고리즘 인터뷰 (95가지 알고리즘 문제 풀이로 완성하는 코딩 테스트)        책만  38000   \n",
       "4     파이썬    파이썬 증권 데이터 분석 (파이썬 입문, 웹 스크레이핑, 트레이딩 전략, 자동 매매)     한빛미디어  32000   \n",
       "\n",
       "  discount   pubdate                      isbn  \n",
       "0    30600  20200805  1162243074 9791162243077  \n",
       "1    16900  20190620  1163030910 9791163030911  \n",
       "2    16200  20190610  1162241888 9791162241882  \n",
       "3    34200  20200715  1189909170 9791189909178  \n",
       "4    28800  20200701  1162243201 9791162243206  "
      ]
     },
     "execution_count": 30,
     "metadata": {},
     "output_type": "execute_result"
    }
   ],
   "source": [
    "# \"파이썬\"\n",
    "\n",
    "tmp_result = []\n",
    "for n in range(1, 1000, 100):\n",
    "    url = gen_search_url(\"파이썬\", n, 100)\n",
    "    json_result = get_result_onpage(url)\n",
    "    pd_result = get_fields(\"파이썬\", json_result)\n",
    "\n",
    "    tmp_result.append(pd_result)\n",
    "\n",
    "tmp_result = pd.concat(tmp_result)\n",
    "\n",
    "tmp_result.head()"
   ]
  },
  {
   "cell_type": "code",
   "execution_count": 31,
   "metadata": {},
   "outputs": [
    {
     "data": {
      "text/html": [
       "<div>\n",
       "<style scoped>\n",
       "    .dataframe tbody tr th:only-of-type {\n",
       "        vertical-align: middle;\n",
       "    }\n",
       "\n",
       "    .dataframe tbody tr th {\n",
       "        vertical-align: top;\n",
       "    }\n",
       "\n",
       "    .dataframe thead th {\n",
       "        text-align: right;\n",
       "    }\n",
       "</style>\n",
       "<table border=\"1\" class=\"dataframe\">\n",
       "  <thead>\n",
       "    <tr style=\"text-align: right;\">\n",
       "      <th></th>\n",
       "      <th>keyword</th>\n",
       "      <th>title</th>\n",
       "      <th>publisher</th>\n",
       "      <th>price</th>\n",
       "      <th>discount</th>\n",
       "      <th>pubdate</th>\n",
       "      <th>isbn</th>\n",
       "    </tr>\n",
       "  </thead>\n",
       "  <tbody>\n",
       "    <tr>\n",
       "      <th>95</th>\n",
       "      <td>파이썬</td>\n",
       "      <td>쿠버네티스 쿡북 (클라우드 네이티브 애플리케이션 구축)</td>\n",
       "      <td>에이콘출판</td>\n",
       "      <td>20000</td>\n",
       "      <td>18000</td>\n",
       "      <td>20180912</td>\n",
       "      <td>1161752013 9791161752013</td>\n",
       "    </tr>\n",
       "    <tr>\n",
       "      <th>96</th>\n",
       "      <td>파이썬</td>\n",
       "      <td>더 강해지다 Active Defense (실습으로 미리 준비하는 보안 프레임워크)</td>\n",
       "      <td>비제이퍼블릭</td>\n",
       "      <td>21000</td>\n",
       "      <td>18900</td>\n",
       "      <td>20191011</td>\n",
       "      <td>1190014505 9791190014502</td>\n",
       "    </tr>\n",
       "    <tr>\n",
       "      <th>97</th>\n",
       "      <td>파이썬</td>\n",
       "      <td>오픈 소스 소프트웨어 아키텍처 (25개 애플리케이션으로 배우는)</td>\n",
       "      <td>인사이트</td>\n",
       "      <td>36000</td>\n",
       "      <td>32400</td>\n",
       "      <td>20150511</td>\n",
       "      <td>8966261264 9788966261260</td>\n",
       "    </tr>\n",
       "    <tr>\n",
       "      <th>98</th>\n",
       "      <td>파이썬</td>\n",
       "      <td>라즈베리 파이, 상상을 현실로 만드는 프로젝트 입문편 + 라즈베리 파이 키트 세트</td>\n",
       "      <td>영진닷컴</td>\n",
       "      <td>105000</td>\n",
       "      <td></td>\n",
       "      <td>20181115</td>\n",
       "      <td>8931459610 9788931459616</td>\n",
       "    </tr>\n",
       "    <tr>\n",
       "      <th>99</th>\n",
       "      <td>파이썬</td>\n",
       "      <td>가장 쉬운 하스켈 책 (느긋하지만, 우아하고 세련된 함수형 언어)</td>\n",
       "      <td>비제이퍼블릭</td>\n",
       "      <td>28000</td>\n",
       "      <td>25200</td>\n",
       "      <td>20140225</td>\n",
       "      <td>8994774610 9788994774619</td>\n",
       "    </tr>\n",
       "  </tbody>\n",
       "</table>\n",
       "</div>"
      ],
      "text/plain": [
       "   keyword                                          title publisher   price  \\\n",
       "95     파이썬                 쿠버네티스 쿡북 (클라우드 네이티브 애플리케이션 구축)     에이콘출판   20000   \n",
       "96     파이썬  더 강해지다 Active Defense (실습으로 미리 준비하는 보안 프레임워크)    비제이퍼블릭   21000   \n",
       "97     파이썬            오픈 소스 소프트웨어 아키텍처 (25개 애플리케이션으로 배우는)      인사이트   36000   \n",
       "98     파이썬  라즈베리 파이, 상상을 현실로 만드는 프로젝트 입문편 + 라즈베리 파이 키트 세트      영진닷컴  105000   \n",
       "99     파이썬           가장 쉬운 하스켈 책 (느긋하지만, 우아하고 세련된 함수형 언어)    비제이퍼블릭   28000   \n",
       "\n",
       "   discount   pubdate                      isbn  \n",
       "95    18000  20180912  1161752013 9791161752013  \n",
       "96    18900  20191011  1190014505 9791190014502  \n",
       "97    32400  20150511  8966261264 9788966261260  \n",
       "98           20181115  8931459610 9788931459616  \n",
       "99    25200  20140225  8994774610 9788994774619  "
      ]
     },
     "execution_count": 31,
     "metadata": {},
     "output_type": "execute_result"
    }
   ],
   "source": [
    "tmp_result.tail()"
   ]
  },
  {
   "cell_type": "code",
   "execution_count": 32,
   "metadata": {},
   "outputs": [
    {
     "data": {
      "text/html": [
       "<div>\n",
       "<style scoped>\n",
       "    .dataframe tbody tr th:only-of-type {\n",
       "        vertical-align: middle;\n",
       "    }\n",
       "\n",
       "    .dataframe tbody tr th {\n",
       "        vertical-align: top;\n",
       "    }\n",
       "\n",
       "    .dataframe thead th {\n",
       "        text-align: right;\n",
       "    }\n",
       "</style>\n",
       "<table border=\"1\" class=\"dataframe\">\n",
       "  <thead>\n",
       "    <tr style=\"text-align: right;\">\n",
       "      <th></th>\n",
       "      <th>keyword</th>\n",
       "      <th>title</th>\n",
       "      <th>publisher</th>\n",
       "      <th>price</th>\n",
       "      <th>discount</th>\n",
       "      <th>pubdate</th>\n",
       "      <th>isbn</th>\n",
       "    </tr>\n",
       "  </thead>\n",
       "  <tbody>\n",
       "    <tr>\n",
       "      <th>995</th>\n",
       "      <td>파이썬</td>\n",
       "      <td>쿠버네티스 쿡북 (클라우드 네이티브 애플리케이션 구축)</td>\n",
       "      <td>에이콘출판</td>\n",
       "      <td>20000</td>\n",
       "      <td>18000</td>\n",
       "      <td>20180912</td>\n",
       "      <td>1161752013 9791161752013</td>\n",
       "    </tr>\n",
       "    <tr>\n",
       "      <th>996</th>\n",
       "      <td>파이썬</td>\n",
       "      <td>더 강해지다 Active Defense (실습으로 미리 준비하는 보안 프레임워크)</td>\n",
       "      <td>비제이퍼블릭</td>\n",
       "      <td>21000</td>\n",
       "      <td>18900</td>\n",
       "      <td>20191011</td>\n",
       "      <td>1190014505 9791190014502</td>\n",
       "    </tr>\n",
       "    <tr>\n",
       "      <th>997</th>\n",
       "      <td>파이썬</td>\n",
       "      <td>오픈 소스 소프트웨어 아키텍처 (25개 애플리케이션으로 배우는)</td>\n",
       "      <td>인사이트</td>\n",
       "      <td>36000</td>\n",
       "      <td>32400</td>\n",
       "      <td>20150511</td>\n",
       "      <td>8966261264 9788966261260</td>\n",
       "    </tr>\n",
       "    <tr>\n",
       "      <th>998</th>\n",
       "      <td>파이썬</td>\n",
       "      <td>라즈베리 파이, 상상을 현실로 만드는 프로젝트 입문편 + 라즈베리 파이 키트 세트</td>\n",
       "      <td>영진닷컴</td>\n",
       "      <td>105000</td>\n",
       "      <td></td>\n",
       "      <td>20181115</td>\n",
       "      <td>8931459610 9788931459616</td>\n",
       "    </tr>\n",
       "    <tr>\n",
       "      <th>999</th>\n",
       "      <td>파이썬</td>\n",
       "      <td>가장 쉬운 하스켈 책 (느긋하지만, 우아하고 세련된 함수형 언어)</td>\n",
       "      <td>비제이퍼블릭</td>\n",
       "      <td>28000</td>\n",
       "      <td>25200</td>\n",
       "      <td>20140225</td>\n",
       "      <td>8994774610 9788994774619</td>\n",
       "    </tr>\n",
       "  </tbody>\n",
       "</table>\n",
       "</div>"
      ],
      "text/plain": [
       "    keyword                                          title publisher   price  \\\n",
       "995     파이썬                 쿠버네티스 쿡북 (클라우드 네이티브 애플리케이션 구축)     에이콘출판   20000   \n",
       "996     파이썬  더 강해지다 Active Defense (실습으로 미리 준비하는 보안 프레임워크)    비제이퍼블릭   21000   \n",
       "997     파이썬            오픈 소스 소프트웨어 아키텍처 (25개 애플리케이션으로 배우는)      인사이트   36000   \n",
       "998     파이썬  라즈베리 파이, 상상을 현실로 만드는 프로젝트 입문편 + 라즈베리 파이 키트 세트      영진닷컴  105000   \n",
       "999     파이썬           가장 쉬운 하스켈 책 (느긋하지만, 우아하고 세련된 함수형 언어)    비제이퍼블릭   28000   \n",
       "\n",
       "    discount   pubdate                      isbn  \n",
       "995    18000  20180912  1161752013 9791161752013  \n",
       "996    18900  20191011  1190014505 9791190014502  \n",
       "997    32400  20150511  8966261264 9788966261260  \n",
       "998           20181115  8931459610 9788931459616  \n",
       "999    25200  20140225  8994774610 9788994774619  "
      ]
     },
     "execution_count": 32,
     "metadata": {},
     "output_type": "execute_result"
    }
   ],
   "source": [
    "tmp_result.reset_index(inplace=True)\n",
    "del tmp_result[\"index\"]\n",
    "tmp_result.tail()"
   ]
  },
  {
   "cell_type": "code",
   "execution_count": 34,
   "metadata": {},
   "outputs": [],
   "source": [
    "result_book = pd.concat([result_book, tmp_result])"
   ]
  },
  {
   "cell_type": "code",
   "execution_count": 35,
   "metadata": {},
   "outputs": [
    {
     "data": {
      "text/html": [
       "<div>\n",
       "<style scoped>\n",
       "    .dataframe tbody tr th:only-of-type {\n",
       "        vertical-align: middle;\n",
       "    }\n",
       "\n",
       "    .dataframe tbody tr th {\n",
       "        vertical-align: top;\n",
       "    }\n",
       "\n",
       "    .dataframe thead th {\n",
       "        text-align: right;\n",
       "    }\n",
       "</style>\n",
       "<table border=\"1\" class=\"dataframe\">\n",
       "  <thead>\n",
       "    <tr style=\"text-align: right;\">\n",
       "      <th></th>\n",
       "      <th>keyword</th>\n",
       "      <th>title</th>\n",
       "      <th>publisher</th>\n",
       "      <th>price</th>\n",
       "      <th>discount</th>\n",
       "      <th>pubdate</th>\n",
       "      <th>isbn</th>\n",
       "    </tr>\n",
       "  </thead>\n",
       "  <tbody>\n",
       "    <tr>\n",
       "      <th>995</th>\n",
       "      <td>파이썬</td>\n",
       "      <td>쿠버네티스 쿡북 (클라우드 네이티브 애플리케이션 구축)</td>\n",
       "      <td>에이콘출판</td>\n",
       "      <td>20000</td>\n",
       "      <td>18000</td>\n",
       "      <td>20180912</td>\n",
       "      <td>1161752013 9791161752013</td>\n",
       "    </tr>\n",
       "    <tr>\n",
       "      <th>996</th>\n",
       "      <td>파이썬</td>\n",
       "      <td>더 강해지다 Active Defense (실습으로 미리 준비하는 보안 프레임워크)</td>\n",
       "      <td>비제이퍼블릭</td>\n",
       "      <td>21000</td>\n",
       "      <td>18900</td>\n",
       "      <td>20191011</td>\n",
       "      <td>1190014505 9791190014502</td>\n",
       "    </tr>\n",
       "    <tr>\n",
       "      <th>997</th>\n",
       "      <td>파이썬</td>\n",
       "      <td>오픈 소스 소프트웨어 아키텍처 (25개 애플리케이션으로 배우는)</td>\n",
       "      <td>인사이트</td>\n",
       "      <td>36000</td>\n",
       "      <td>32400</td>\n",
       "      <td>20150511</td>\n",
       "      <td>8966261264 9788966261260</td>\n",
       "    </tr>\n",
       "    <tr>\n",
       "      <th>998</th>\n",
       "      <td>파이썬</td>\n",
       "      <td>라즈베리 파이, 상상을 현실로 만드는 프로젝트 입문편 + 라즈베리 파이 키트 세트</td>\n",
       "      <td>영진닷컴</td>\n",
       "      <td>105000</td>\n",
       "      <td></td>\n",
       "      <td>20181115</td>\n",
       "      <td>8931459610 9788931459616</td>\n",
       "    </tr>\n",
       "    <tr>\n",
       "      <th>999</th>\n",
       "      <td>파이썬</td>\n",
       "      <td>가장 쉬운 하스켈 책 (느긋하지만, 우아하고 세련된 함수형 언어)</td>\n",
       "      <td>비제이퍼블릭</td>\n",
       "      <td>28000</td>\n",
       "      <td>25200</td>\n",
       "      <td>20140225</td>\n",
       "      <td>8994774610 9788994774619</td>\n",
       "    </tr>\n",
       "  </tbody>\n",
       "</table>\n",
       "</div>"
      ],
      "text/plain": [
       "    keyword                                          title publisher   price  \\\n",
       "995     파이썬                 쿠버네티스 쿡북 (클라우드 네이티브 애플리케이션 구축)     에이콘출판   20000   \n",
       "996     파이썬  더 강해지다 Active Defense (실습으로 미리 준비하는 보안 프레임워크)    비제이퍼블릭   21000   \n",
       "997     파이썬            오픈 소스 소프트웨어 아키텍처 (25개 애플리케이션으로 배우는)      인사이트   36000   \n",
       "998     파이썬  라즈베리 파이, 상상을 현실로 만드는 프로젝트 입문편 + 라즈베리 파이 키트 세트      영진닷컴  105000   \n",
       "999     파이썬           가장 쉬운 하스켈 책 (느긋하지만, 우아하고 세련된 함수형 언어)    비제이퍼블릭   28000   \n",
       "\n",
       "    discount   pubdate                      isbn  \n",
       "995    18000  20180912  1161752013 9791161752013  \n",
       "996    18900  20191011  1190014505 9791190014502  \n",
       "997    32400  20150511  8966261264 9788966261260  \n",
       "998           20181115  8931459610 9788931459616  \n",
       "999    25200  20140225  8994774610 9788994774619  "
      ]
     },
     "execution_count": 35,
     "metadata": {},
     "output_type": "execute_result"
    }
   ],
   "source": [
    "result_book.tail()"
   ]
  },
  {
   "cell_type": "code",
   "execution_count": 36,
   "metadata": {},
   "outputs": [
    {
     "name": "stdout",
     "output_type": "stream",
     "text": [
      "<class 'pandas.core.frame.DataFrame'>\n",
      "Int64Index: 2000 entries, 0 to 999\n",
      "Data columns (total 7 columns):\n",
      " #   Column     Non-Null Count  Dtype \n",
      "---  ------     --------------  ----- \n",
      " 0   keyword    2000 non-null   object\n",
      " 1   title      2000 non-null   object\n",
      " 2   publisher  2000 non-null   object\n",
      " 3   price      2000 non-null   object\n",
      " 4   discount   2000 non-null   object\n",
      " 5   pubdate    2000 non-null   object\n",
      " 6   isbn       2000 non-null   object\n",
      "dtypes: object(7)\n",
      "memory usage: 125.0+ KB\n"
     ]
    }
   ],
   "source": [
    "result_book.info()"
   ]
  },
  {
   "cell_type": "code",
   "execution_count": 37,
   "metadata": {},
   "outputs": [
    {
     "name": "stdout",
     "output_type": "stream",
     "text": [
      "[2021-10-20 14:05:01.903200] Url Request Success\n",
      "[2021-10-20 14:05:02.284116] Url Request Success\n",
      "[2021-10-20 14:05:02.635531] Url Request Success\n",
      "[2021-10-20 14:05:02.959378] Url Request Success\n",
      "[2021-10-20 14:05:03.327197] Url Request Success\n",
      "[2021-10-20 14:05:03.647411] Url Request Success\n",
      "[2021-10-20 14:05:03.914394] Url Request Success\n",
      "[2021-10-20 14:05:04.169180] Url Request Success\n",
      "[2021-10-20 14:05:04.513483] Url Request Success\n",
      "[2021-10-20 14:05:04.860631] Url Request Success\n"
     ]
    }
   ],
   "source": [
    "# C programming\n",
    "\n",
    "tmp_result = []\n",
    "for n in range(1, 1000, 100):\n",
    "    url = gen_search_url(\"C programming\", n, 100)\n",
    "    json_result = get_result_onpage(url)\n",
    "    pd_result = get_fields(\"C programming\", json_result)\n",
    "\n",
    "    tmp_result.append(pd_result)\n",
    "\n",
    "tmp_result = pd.concat(tmp_result)\n",
    "\n",
    "tmp_result.reset_index(inplace=True)\n",
    "del tmp_result[\"index\"]\n",
    "\n",
    "result_book = pd.concat([result_book, tmp_result])"
   ]
  },
  {
   "cell_type": "code",
   "execution_count": 38,
   "metadata": {},
   "outputs": [
    {
     "name": "stdout",
     "output_type": "stream",
     "text": [
      "<class 'pandas.core.frame.DataFrame'>\n",
      "Int64Index: 3000 entries, 0 to 999\n",
      "Data columns (total 7 columns):\n",
      " #   Column     Non-Null Count  Dtype \n",
      "---  ------     --------------  ----- \n",
      " 0   keyword    3000 non-null   object\n",
      " 1   title      3000 non-null   object\n",
      " 2   publisher  3000 non-null   object\n",
      " 3   price      3000 non-null   object\n",
      " 4   discount   3000 non-null   object\n",
      " 5   pubdate    3000 non-null   object\n",
      " 6   isbn       3000 non-null   object\n",
      "dtypes: object(7)\n",
      "memory usage: 187.5+ KB\n"
     ]
    }
   ],
   "source": [
    "result_book.info()"
   ]
  },
  {
   "cell_type": "code",
   "execution_count": 39,
   "metadata": {},
   "outputs": [
    {
     "name": "stdout",
     "output_type": "stream",
     "text": [
      "[2021-10-20 14:05:33.179353] Url Request Success\n",
      "[2021-10-20 14:05:33.529968] Url Request Success\n",
      "[2021-10-20 14:05:33.876992] Url Request Success\n",
      "[2021-10-20 14:05:34.250106] Url Request Success\n",
      "[2021-10-20 14:05:34.557224] Url Request Success\n",
      "[2021-10-20 14:05:34.839637] Url Request Success\n",
      "[2021-10-20 14:05:35.158468] Url Request Success\n",
      "[2021-10-20 14:05:35.600063] Url Request Success\n",
      "[2021-10-20 14:05:35.983079] Url Request Success\n",
      "[2021-10-20 14:05:36.389546] Url Request Success\n"
     ]
    }
   ],
   "source": [
    "# C programming\n",
    "\n",
    "tmp_result = []\n",
    "for n in range(1, 1000, 100):\n",
    "    url = gen_search_url(\"C 프로그래밍\", n, 100)\n",
    "    json_result = get_result_onpage(url)\n",
    "    pd_result = get_fields(\"C 프로그래밍\", json_result)\n",
    "\n",
    "    tmp_result.append(pd_result)\n",
    "\n",
    "tmp_result = pd.concat(tmp_result)\n",
    "\n",
    "tmp_result.reset_index(inplace=True)\n",
    "del tmp_result[\"index\"]\n",
    "\n",
    "result_book = pd.concat([result_book, tmp_result])"
   ]
  },
  {
   "cell_type": "code",
   "execution_count": 40,
   "metadata": {},
   "outputs": [
    {
     "name": "stdout",
     "output_type": "stream",
     "text": [
      "<class 'pandas.core.frame.DataFrame'>\n",
      "Int64Index: 4000 entries, 0 to 999\n",
      "Data columns (total 7 columns):\n",
      " #   Column     Non-Null Count  Dtype \n",
      "---  ------     --------------  ----- \n",
      " 0   keyword    4000 non-null   object\n",
      " 1   title      4000 non-null   object\n",
      " 2   publisher  4000 non-null   object\n",
      " 3   price      4000 non-null   object\n",
      " 4   discount   4000 non-null   object\n",
      " 5   pubdate    4000 non-null   object\n",
      " 6   isbn       4000 non-null   object\n",
      "dtypes: object(7)\n",
      "memory usage: 250.0+ KB\n"
     ]
    }
   ],
   "source": [
    "result_book.info()"
   ]
  },
  {
   "cell_type": "code",
   "execution_count": 41,
   "metadata": {},
   "outputs": [
    {
     "name": "stdout",
     "output_type": "stream",
     "text": [
      "[2021-10-20 14:11:31.471861] Url Request Success\n",
      "[2021-10-20 14:11:31.872757] Url Request Success\n",
      "[2021-10-20 14:11:32.231694] Url Request Success\n",
      "[2021-10-20 14:11:32.578888] Url Request Success\n",
      "[2021-10-20 14:11:33.015542] Url Request Success\n",
      "[2021-10-20 14:11:33.396684] Url Request Success\n",
      "[2021-10-20 14:11:33.758329] Url Request Success\n",
      "[2021-10-20 14:11:34.165867] Url Request Success\n",
      "[2021-10-20 14:11:34.555286] Url Request Success\n",
      "[2021-10-20 14:11:34.917010] Url Request Success\n",
      "[2021-10-20 14:11:35.241171] Url Request Success\n",
      "[2021-10-20 14:11:35.626280] Url Request Success\n",
      "[2021-10-20 14:11:35.955946] Url Request Success\n",
      "[2021-10-20 14:11:36.255987] Url Request Success\n",
      "[2021-10-20 14:11:36.570909] Url Request Success\n",
      "[2021-10-20 14:11:36.872866] Url Request Success\n",
      "[2021-10-20 14:11:37.155555] Url Request Success\n",
      "[2021-10-20 14:11:37.406089] Url Request Success\n",
      "[2021-10-20 14:11:37.723140] Url Request Success\n",
      "[2021-10-20 14:11:38.064782] Url Request Success\n",
      "[2021-10-20 14:11:38.531519] Url Request Success\n",
      "[2021-10-20 14:11:38.959935] Url Request Success\n",
      "[2021-10-20 14:11:39.344786] Url Request Success\n",
      "[2021-10-20 14:11:39.775514] Url Request Success\n",
      "[2021-10-20 14:11:40.239688] Url Request Success\n",
      "[2021-10-20 14:11:40.660047] Url Request Success\n",
      "[2021-10-20 14:11:40.984710] Url Request Success\n",
      "[2021-10-20 14:11:41.263155] Url Request Success\n",
      "[2021-10-20 14:11:41.538476] Url Request Success\n",
      "[2021-10-20 14:11:41.832697] Url Request Success\n",
      "[2021-10-20 14:11:42.165450] Url Request Success\n",
      "[2021-10-20 14:11:42.520308] Url Request Success\n",
      "[2021-10-20 14:11:42.899456] Url Request Success\n",
      "[2021-10-20 14:11:43.270606] Url Request Success\n",
      "[2021-10-20 14:11:43.681278] Url Request Success\n",
      "[2021-10-20 14:11:44.114761] Url Request Success\n",
      "[2021-10-20 14:11:44.516556] Url Request Success\n",
      "[2021-10-20 14:11:44.922760] Url Request Success\n",
      "[2021-10-20 14:11:45.327064] Url Request Success\n",
      "[2021-10-20 14:11:45.706492] Url Request Success\n",
      "[2021-10-20 14:11:46.069769] Url Request Success\n",
      "[2021-10-20 14:11:46.430084] Url Request Success\n",
      "[2021-10-20 14:11:46.707676] Url Request Success\n",
      "[2021-10-20 14:11:47.042144] Url Request Success\n",
      "[2021-10-20 14:11:47.457497] Url Request Success\n",
      "[2021-10-20 14:11:47.812944] Url Request Success\n",
      "[2021-10-20 14:11:48.268700] Url Request Success\n",
      "[2021-10-20 14:11:48.692679] Url Request Success\n",
      "[2021-10-20 14:11:49.143382] Url Request Success\n",
      "[2021-10-20 14:11:49.625855] Url Request Success\n",
      "[2021-10-20 14:11:50.019487] Url Request Success\n",
      "[2021-10-20 14:11:50.404093] Url Request Success\n",
      "[2021-10-20 14:11:50.785713] Url Request Success\n",
      "[2021-10-20 14:11:51.258021] Url Request Success\n",
      "[2021-10-20 14:11:51.676814] Url Request Success\n",
      "[2021-10-20 14:11:51.988343] Url Request Success\n",
      "[2021-10-20 14:11:52.069827] Url Request Success\n",
      "[2021-10-20 14:11:52.141886] Url Request Success\n",
      "[2021-10-20 14:11:52.215487] Url Request Success\n",
      "[2021-10-20 14:11:52.294635] Url Request Success\n"
     ]
    }
   ],
   "source": [
    "# 나머지 작업 반복문으로 자동화\n",
    "\n",
    "double_keyword = [\"Java\", \"자바\", \"JavaScript\", \"자바스크립트\", \"R programming\", \"R 프로그래밍\"]\n",
    "\n",
    "for keyword in double_keyword:\n",
    "    tmp_result = []\n",
    "    for n in range(1, 1000, 100):\n",
    "        url = gen_search_url(keyword, n, 100)\n",
    "        json_result = get_result_onpage(url)\n",
    "        pd_result = get_fields(keyword, json_result)\n",
    "\n",
    "        tmp_result.append(pd_result)\n",
    "\n",
    "    tmp_result = pd.concat(tmp_result)\n",
    "\n",
    "    tmp_result.reset_index(inplace=True)\n",
    "    del tmp_result[\"index\"]\n",
    "\n",
    "    result_book = pd.concat([result_book, tmp_result])"
   ]
  },
  {
   "cell_type": "code",
   "execution_count": 42,
   "metadata": {},
   "outputs": [
    {
     "name": "stdout",
     "output_type": "stream",
     "text": [
      "<class 'pandas.core.frame.DataFrame'>\n",
      "Int64Index: 9576 entries, 0 to 575\n",
      "Data columns (total 7 columns):\n",
      " #   Column     Non-Null Count  Dtype \n",
      "---  ------     --------------  ----- \n",
      " 0   keyword    9576 non-null   object\n",
      " 1   title      9576 non-null   object\n",
      " 2   publisher  9576 non-null   object\n",
      " 3   price      9576 non-null   object\n",
      " 4   discount   9576 non-null   object\n",
      " 5   pubdate    9576 non-null   object\n",
      " 6   isbn       9576 non-null   object\n",
      "dtypes: object(7)\n",
      "memory usage: 598.5+ KB\n"
     ]
    }
   ],
   "source": [
    "result_book.info()"
   ]
  },
  {
   "cell_type": "code",
   "execution_count": 43,
   "metadata": {},
   "outputs": [
    {
     "data": {
      "text/plain": [
       "['C++', 'C#', 'Visual Basic', 'SQL', 'PHP']"
      ]
     },
     "execution_count": 43,
     "metadata": {},
     "output_type": "execute_result"
    }
   ],
   "source": [
    "single_keyword"
   ]
  },
  {
   "cell_type": "code",
   "execution_count": 44,
   "metadata": {},
   "outputs": [
    {
     "name": "stdout",
     "output_type": "stream",
     "text": [
      "[2021-10-20 14:13:31.524275] Url Request Success\n",
      "[2021-10-20 14:13:31.877806] Url Request Success\n",
      "[2021-10-20 14:13:32.191201] Url Request Success\n",
      "[2021-10-20 14:13:32.523998] Url Request Success\n",
      "[2021-10-20 14:13:32.838609] Url Request Success\n",
      "[2021-10-20 14:13:33.186456] Url Request Success\n",
      "[2021-10-20 14:13:33.526199] Url Request Success\n",
      "[2021-10-20 14:13:33.871952] Url Request Success\n",
      "[2021-10-20 14:13:34.202523] Url Request Success\n",
      "[2021-10-20 14:13:34.609689] Url Request Success\n",
      "[2021-10-20 14:13:34.987204] Url Request Success\n",
      "[2021-10-20 14:13:35.316241] Url Request Success\n",
      "[2021-10-20 14:13:35.668602] Url Request Success\n",
      "[2021-10-20 14:13:36.008828] Url Request Success\n",
      "[2021-10-20 14:13:36.374029] Url Request Success\n",
      "[2021-10-20 14:13:36.737424] Url Request Success\n",
      "[2021-10-20 14:13:37.197198] Url Request Success\n",
      "[2021-10-20 14:13:37.559580] Url Request Success\n",
      "[2021-10-20 14:13:37.902688] Url Request Success\n",
      "[2021-10-20 14:13:38.189788] Url Request Success\n",
      "[2021-10-20 14:13:38.525335] Url Request Success\n",
      "[2021-10-20 14:13:38.893507] Url Request Success\n",
      "[2021-10-20 14:13:39.262481] Url Request Success\n",
      "[2021-10-20 14:13:39.693819] Url Request Success\n",
      "[2021-10-20 14:13:40.066702] Url Request Success\n",
      "[2021-10-20 14:13:40.429611] Url Request Success\n",
      "[2021-10-20 14:13:40.770338] Url Request Success\n",
      "[2021-10-20 14:13:41.110142] Url Request Success\n",
      "[2021-10-20 14:13:41.402133] Url Request Success\n",
      "[2021-10-20 14:13:41.688416] Url Request Success\n",
      "[2021-10-20 14:13:42.103387] Url Request Success\n",
      "[2021-10-20 14:13:42.474359] Url Request Success\n",
      "[2021-10-20 14:13:42.836517] Url Request Success\n",
      "[2021-10-20 14:13:43.180175] Url Request Success\n",
      "[2021-10-20 14:13:43.522163] Url Request Success\n",
      "[2021-10-20 14:13:43.844780] Url Request Success\n",
      "[2021-10-20 14:13:44.204262] Url Request Success\n",
      "[2021-10-20 14:13:44.585192] Url Request Success\n",
      "[2021-10-20 14:13:44.977878] Url Request Success\n",
      "[2021-10-20 14:13:45.393143] Url Request Success\n",
      "[2021-10-20 14:13:45.712749] Url Request Success\n",
      "[2021-10-20 14:13:46.079593] Url Request Success\n",
      "[2021-10-20 14:13:46.436623] Url Request Success\n",
      "[2021-10-20 14:13:46.790622] Url Request Success\n",
      "[2021-10-20 14:13:47.140634] Url Request Success\n",
      "[2021-10-20 14:13:47.499210] Url Request Success\n",
      "[2021-10-20 14:13:47.834761] Url Request Success\n",
      "[2021-10-20 14:13:48.157764] Url Request Success\n",
      "[2021-10-20 14:13:48.460596] Url Request Success\n",
      "[2021-10-20 14:13:48.748591] Url Request Success\n"
     ]
    }
   ],
   "source": [
    "# 검색 키워드 1개짜리 마찬가지로 반복\n",
    "for keyword in single_keyword:\n",
    "    tmp_result = []\n",
    "    for n in range(1, 1000, 100):\n",
    "        url = gen_search_url(keyword, n, 100)\n",
    "        json_result = get_result_onpage(url)\n",
    "        pd_result = get_fields(keyword, json_result)\n",
    "\n",
    "        tmp_result.append(pd_result)\n",
    "\n",
    "    tmp_result = pd.concat(tmp_result)\n",
    "\n",
    "    tmp_result.reset_index(inplace=True)\n",
    "    del tmp_result[\"index\"]\n",
    "\n",
    "    result_book = pd.concat([result_book, tmp_result])"
   ]
  },
  {
   "cell_type": "code",
   "execution_count": 45,
   "metadata": {},
   "outputs": [
    {
     "name": "stdout",
     "output_type": "stream",
     "text": [
      "<class 'pandas.core.frame.DataFrame'>\n",
      "Int64Index: 14576 entries, 0 to 999\n",
      "Data columns (total 7 columns):\n",
      " #   Column     Non-Null Count  Dtype \n",
      "---  ------     --------------  ----- \n",
      " 0   keyword    14576 non-null  object\n",
      " 1   title      14576 non-null  object\n",
      " 2   publisher  14576 non-null  object\n",
      " 3   price      14576 non-null  object\n",
      " 4   discount   14576 non-null  object\n",
      " 5   pubdate    14576 non-null  object\n",
      " 6   isbn       14576 non-null  object\n",
      "dtypes: object(7)\n",
      "memory usage: 911.0+ KB\n"
     ]
    }
   ],
   "source": [
    "result_book.info()"
   ]
  },
  {
   "cell_type": "code",
   "execution_count": 46,
   "metadata": {},
   "outputs": [
    {
     "data": {
      "text/html": [
       "<div>\n",
       "<style scoped>\n",
       "    .dataframe tbody tr th:only-of-type {\n",
       "        vertical-align: middle;\n",
       "    }\n",
       "\n",
       "    .dataframe tbody tr th {\n",
       "        vertical-align: top;\n",
       "    }\n",
       "\n",
       "    .dataframe thead th {\n",
       "        text-align: right;\n",
       "    }\n",
       "</style>\n",
       "<table border=\"1\" class=\"dataframe\">\n",
       "  <thead>\n",
       "    <tr style=\"text-align: right;\">\n",
       "      <th></th>\n",
       "      <th>index</th>\n",
       "      <th>keyword</th>\n",
       "      <th>title</th>\n",
       "      <th>publisher</th>\n",
       "      <th>price</th>\n",
       "      <th>discount</th>\n",
       "      <th>pubdate</th>\n",
       "      <th>isbn</th>\n",
       "    </tr>\n",
       "  </thead>\n",
       "  <tbody>\n",
       "    <tr>\n",
       "      <th>14571</th>\n",
       "      <td>995</td>\n",
       "      <td>PHP</td>\n",
       "      <td>PHP のびのび子育て 2018年4月號</td>\n",
       "      <td>PHP硏究所</td>\n",
       "      <td>4840</td>\n",
       "      <td></td>\n",
       "      <td>20180309</td>\n",
       "      <td>0079090486 4910079090481</td>\n",
       "    </tr>\n",
       "    <tr>\n",
       "      <th>14572</th>\n",
       "      <td>996</td>\n",
       "      <td>PHP</td>\n",
       "      <td>年を取るほど健康になる! ワンダフルエイジング7つの法則 (PHP文庫) (文庫)</td>\n",
       "      <td>PHP硏究所</td>\n",
       "      <td>9750</td>\n",
       "      <td>0</td>\n",
       "      <td>20120904</td>\n",
       "      <td>4569678548 9784569678542</td>\n",
       "    </tr>\n",
       "    <tr>\n",
       "      <th>14573</th>\n",
       "      <td>997</td>\n",
       "      <td>PHP</td>\n",
       "      <td>「もの忘れ外來」のボケない技術(テク) (PHP文庫) (文庫)</td>\n",
       "      <td>PHP硏究所</td>\n",
       "      <td>9830</td>\n",
       "      <td>0</td>\n",
       "      <td>20120602</td>\n",
       "      <td>4569678351 9784569678351</td>\n",
       "    </tr>\n",
       "    <tr>\n",
       "      <th>14574</th>\n",
       "      <td>998</td>\n",
       "      <td>PHP</td>\n",
       "      <td>小さな幸せ物語 (PHP文藝文庫) (文庫)</td>\n",
       "      <td>PHP硏究所</td>\n",
       "      <td>9880</td>\n",
       "      <td>0</td>\n",
       "      <td>20120315</td>\n",
       "      <td>4569678114 9784569678115</td>\n",
       "    </tr>\n",
       "    <tr>\n",
       "      <th>14575</th>\n",
       "      <td>999</td>\n",
       "      <td>PHP</td>\n",
       "      <td>マンガ最終戰爭論 (PHPコミックス) (單行本(ソフトカバ-))</td>\n",
       "      <td>PHP硏究所</td>\n",
       "      <td>18680</td>\n",
       "      <td>0</td>\n",
       "      <td>20120121</td>\n",
       "      <td>456979596X 9784569795966</td>\n",
       "    </tr>\n",
       "  </tbody>\n",
       "</table>\n",
       "</div>"
      ],
      "text/plain": [
       "       index keyword                                      title publisher  \\\n",
       "14571    995     PHP                       PHP のびのび子育て 2018年4月號    PHP硏究所   \n",
       "14572    996     PHP  年を取るほど健康になる! ワンダフルエイジング7つの法則 (PHP文庫) (文庫)    PHP硏究所   \n",
       "14573    997     PHP           「もの忘れ外來」のボケない技術(テク) (PHP文庫) (文庫)    PHP硏究所   \n",
       "14574    998     PHP                     小さな幸せ物語 (PHP文藝文庫) (文庫)    PHP硏究所   \n",
       "14575    999     PHP          マンガ最終戰爭論 (PHPコミックス) (單行本(ソフトカバ-))    PHP硏究所   \n",
       "\n",
       "       price discount   pubdate                      isbn  \n",
       "14571   4840           20180309  0079090486 4910079090481  \n",
       "14572   9750        0  20120904  4569678548 9784569678542  \n",
       "14573   9830        0  20120602  4569678351 9784569678351  \n",
       "14574   9880        0  20120315  4569678114 9784569678115  \n",
       "14575  18680        0  20120121  456979596X 9784569795966  "
      ]
     },
     "execution_count": 46,
     "metadata": {},
     "output_type": "execute_result"
    }
   ],
   "source": [
    "# 인덱스 재설정\n",
    "result_book.reset_index(inplace=True)\n",
    "result_book.tail()"
   ]
  },
  {
   "cell_type": "code",
   "execution_count": 47,
   "metadata": {},
   "outputs": [
    {
     "data": {
      "text/html": [
       "<div>\n",
       "<style scoped>\n",
       "    .dataframe tbody tr th:only-of-type {\n",
       "        vertical-align: middle;\n",
       "    }\n",
       "\n",
       "    .dataframe tbody tr th {\n",
       "        vertical-align: top;\n",
       "    }\n",
       "\n",
       "    .dataframe thead th {\n",
       "        text-align: right;\n",
       "    }\n",
       "</style>\n",
       "<table border=\"1\" class=\"dataframe\">\n",
       "  <thead>\n",
       "    <tr style=\"text-align: right;\">\n",
       "      <th></th>\n",
       "      <th>keyword</th>\n",
       "      <th>title</th>\n",
       "      <th>publisher</th>\n",
       "      <th>price</th>\n",
       "      <th>discount</th>\n",
       "      <th>pubdate</th>\n",
       "      <th>isbn</th>\n",
       "    </tr>\n",
       "  </thead>\n",
       "  <tbody>\n",
       "    <tr>\n",
       "      <th>14571</th>\n",
       "      <td>PHP</td>\n",
       "      <td>PHP のびのび子育て 2018年4月號</td>\n",
       "      <td>PHP硏究所</td>\n",
       "      <td>4840</td>\n",
       "      <td></td>\n",
       "      <td>20180309</td>\n",
       "      <td>0079090486 4910079090481</td>\n",
       "    </tr>\n",
       "    <tr>\n",
       "      <th>14572</th>\n",
       "      <td>PHP</td>\n",
       "      <td>年を取るほど健康になる! ワンダフルエイジング7つの法則 (PHP文庫) (文庫)</td>\n",
       "      <td>PHP硏究所</td>\n",
       "      <td>9750</td>\n",
       "      <td>0</td>\n",
       "      <td>20120904</td>\n",
       "      <td>4569678548 9784569678542</td>\n",
       "    </tr>\n",
       "    <tr>\n",
       "      <th>14573</th>\n",
       "      <td>PHP</td>\n",
       "      <td>「もの忘れ外來」のボケない技術(テク) (PHP文庫) (文庫)</td>\n",
       "      <td>PHP硏究所</td>\n",
       "      <td>9830</td>\n",
       "      <td>0</td>\n",
       "      <td>20120602</td>\n",
       "      <td>4569678351 9784569678351</td>\n",
       "    </tr>\n",
       "    <tr>\n",
       "      <th>14574</th>\n",
       "      <td>PHP</td>\n",
       "      <td>小さな幸せ物語 (PHP文藝文庫) (文庫)</td>\n",
       "      <td>PHP硏究所</td>\n",
       "      <td>9880</td>\n",
       "      <td>0</td>\n",
       "      <td>20120315</td>\n",
       "      <td>4569678114 9784569678115</td>\n",
       "    </tr>\n",
       "    <tr>\n",
       "      <th>14575</th>\n",
       "      <td>PHP</td>\n",
       "      <td>マンガ最終戰爭論 (PHPコミックス) (單行本(ソフトカバ-))</td>\n",
       "      <td>PHP硏究所</td>\n",
       "      <td>18680</td>\n",
       "      <td>0</td>\n",
       "      <td>20120121</td>\n",
       "      <td>456979596X 9784569795966</td>\n",
       "    </tr>\n",
       "  </tbody>\n",
       "</table>\n",
       "</div>"
      ],
      "text/plain": [
       "      keyword                                      title publisher  price  \\\n",
       "14571     PHP                       PHP のびのび子育て 2018年4月號    PHP硏究所   4840   \n",
       "14572     PHP  年を取るほど健康になる! ワンダフルエイジング7つの法則 (PHP文庫) (文庫)    PHP硏究所   9750   \n",
       "14573     PHP           「もの忘れ外來」のボケない技術(テク) (PHP文庫) (文庫)    PHP硏究所   9830   \n",
       "14574     PHP                     小さな幸せ物語 (PHP文藝文庫) (文庫)    PHP硏究所   9880   \n",
       "14575     PHP          マンガ最終戰爭論 (PHPコミックス) (單行本(ソフトカバ-))    PHP硏究所  18680   \n",
       "\n",
       "      discount   pubdate                      isbn  \n",
       "14571           20180309  0079090486 4910079090481  \n",
       "14572        0  20120904  4569678548 9784569678542  \n",
       "14573        0  20120602  4569678351 9784569678351  \n",
       "14574        0  20120315  4569678114 9784569678115  \n",
       "14575        0  20120121  456979596X 9784569795966  "
      ]
     },
     "execution_count": 47,
     "metadata": {},
     "output_type": "execute_result"
    }
   ],
   "source": [
    "del result_book[\"index\"]\n",
    "result_book.tail()"
   ]
  },
  {
   "cell_type": "code",
   "execution_count": 48,
   "metadata": {},
   "outputs": [],
   "source": [
    "# 데이터 임시 저장\n",
    "result_book.to_csv(\"./naver_book_raw_data.csv\", sep=\",\", encoding='utf-8')"
   ]
  },
  {
   "cell_type": "markdown",
   "metadata": {},
   "source": [
    "----"
   ]
  },
  {
   "cell_type": "markdown",
   "metadata": {},
   "source": [
    "# 문제 2\n",
    "\n",
    "## ISBN 넘버로 중복데이터 제거"
   ]
  },
  {
   "cell_type": "code",
   "execution_count": 49,
   "metadata": {},
   "outputs": [
    {
     "data": {
      "text/html": [
       "<div>\n",
       "<style scoped>\n",
       "    .dataframe tbody tr th:only-of-type {\n",
       "        vertical-align: middle;\n",
       "    }\n",
       "\n",
       "    .dataframe tbody tr th {\n",
       "        vertical-align: top;\n",
       "    }\n",
       "\n",
       "    .dataframe thead th {\n",
       "        text-align: right;\n",
       "    }\n",
       "</style>\n",
       "<table border=\"1\" class=\"dataframe\">\n",
       "  <thead>\n",
       "    <tr style=\"text-align: right;\">\n",
       "      <th></th>\n",
       "      <th>keyword</th>\n",
       "      <th>title</th>\n",
       "      <th>publisher</th>\n",
       "      <th>price</th>\n",
       "      <th>discount</th>\n",
       "      <th>pubdate</th>\n",
       "      <th>isbn</th>\n",
       "    </tr>\n",
       "  </thead>\n",
       "  <tbody>\n",
       "    <tr>\n",
       "      <th>14571</th>\n",
       "      <td>PHP</td>\n",
       "      <td>PHP のびのび子育て 2018年4月號</td>\n",
       "      <td>PHP硏究所</td>\n",
       "      <td>4840</td>\n",
       "      <td></td>\n",
       "      <td>20180309</td>\n",
       "      <td>0079090486 4910079090481</td>\n",
       "    </tr>\n",
       "    <tr>\n",
       "      <th>14572</th>\n",
       "      <td>PHP</td>\n",
       "      <td>年を取るほど健康になる! ワンダフルエイジング7つの法則 (PHP文庫) (文庫)</td>\n",
       "      <td>PHP硏究所</td>\n",
       "      <td>9750</td>\n",
       "      <td>0</td>\n",
       "      <td>20120904</td>\n",
       "      <td>4569678548 9784569678542</td>\n",
       "    </tr>\n",
       "    <tr>\n",
       "      <th>14573</th>\n",
       "      <td>PHP</td>\n",
       "      <td>「もの忘れ外來」のボケない技術(テク) (PHP文庫) (文庫)</td>\n",
       "      <td>PHP硏究所</td>\n",
       "      <td>9830</td>\n",
       "      <td>0</td>\n",
       "      <td>20120602</td>\n",
       "      <td>4569678351 9784569678351</td>\n",
       "    </tr>\n",
       "    <tr>\n",
       "      <th>14574</th>\n",
       "      <td>PHP</td>\n",
       "      <td>小さな幸せ物語 (PHP文藝文庫) (文庫)</td>\n",
       "      <td>PHP硏究所</td>\n",
       "      <td>9880</td>\n",
       "      <td>0</td>\n",
       "      <td>20120315</td>\n",
       "      <td>4569678114 9784569678115</td>\n",
       "    </tr>\n",
       "    <tr>\n",
       "      <th>14575</th>\n",
       "      <td>PHP</td>\n",
       "      <td>マンガ最終戰爭論 (PHPコミックス) (單行本(ソフトカバ-))</td>\n",
       "      <td>PHP硏究所</td>\n",
       "      <td>18680</td>\n",
       "      <td>0</td>\n",
       "      <td>20120121</td>\n",
       "      <td>456979596X 9784569795966</td>\n",
       "    </tr>\n",
       "  </tbody>\n",
       "</table>\n",
       "</div>"
      ],
      "text/plain": [
       "      keyword                                      title publisher  price  \\\n",
       "14571     PHP                       PHP のびのび子育て 2018年4月號    PHP硏究所   4840   \n",
       "14572     PHP  年を取るほど健康になる! ワンダフルエイジング7つの法則 (PHP文庫) (文庫)    PHP硏究所   9750   \n",
       "14573     PHP           「もの忘れ外來」のボケない技術(テク) (PHP文庫) (文庫)    PHP硏究所   9830   \n",
       "14574     PHP                     小さな幸せ物語 (PHP文藝文庫) (文庫)    PHP硏究所   9880   \n",
       "14575     PHP          マンガ最終戰爭論 (PHPコミックス) (單行本(ソフトカバ-))    PHP硏究所  18680   \n",
       "\n",
       "      discount   pubdate                      isbn  \n",
       "14571           20180309  0079090486 4910079090481  \n",
       "14572        0  20120904  4569678548 9784569678542  \n",
       "14573        0  20120602  4569678351 9784569678351  \n",
       "14574        0  20120315  4569678114 9784569678115  \n",
       "14575        0  20120121  456979596X 9784569795966  "
      ]
     },
     "execution_count": 49,
     "metadata": {},
     "output_type": "execute_result"
    }
   ],
   "source": [
    "result_book.tail()"
   ]
  },
  {
   "cell_type": "code",
   "execution_count": 50,
   "metadata": {},
   "outputs": [
    {
     "name": "stdout",
     "output_type": "stream",
     "text": [
      "<class 'pandas.core.frame.DataFrame'>\n",
      "RangeIndex: 14576 entries, 0 to 14575\n",
      "Data columns (total 7 columns):\n",
      " #   Column     Non-Null Count  Dtype \n",
      "---  ------     --------------  ----- \n",
      " 0   keyword    14576 non-null  object\n",
      " 1   title      14576 non-null  object\n",
      " 2   publisher  14576 non-null  object\n",
      " 3   price      14576 non-null  object\n",
      " 4   discount   14576 non-null  object\n",
      " 5   pubdate    14576 non-null  object\n",
      " 6   isbn       14576 non-null  object\n",
      "dtypes: object(7)\n",
      "memory usage: 797.2+ KB\n"
     ]
    }
   ],
   "source": [
    "result_book.info()"
   ]
  },
  {
   "cell_type": "code",
   "execution_count": 51,
   "metadata": {},
   "outputs": [
    {
     "data": {
      "text/plain": [
       "12986"
      ]
     },
     "execution_count": 51,
     "metadata": {},
     "output_type": "execute_result"
    }
   ],
   "source": [
    "len(result_book['isbn'].unique())"
   ]
  },
  {
   "cell_type": "markdown",
   "metadata": {},
   "source": [
    "- isbn이 책의 고유 식별 정보라면 14576 - 12986 = 1590건 만큼의 중복 데이터가 존재한다."
   ]
  },
  {
   "cell_type": "code",
   "execution_count": 54,
   "metadata": {},
   "outputs": [],
   "source": [
    "result_book = result_book.drop_duplicates(['isbn'])"
   ]
  },
  {
   "cell_type": "code",
   "execution_count": 55,
   "metadata": {},
   "outputs": [
    {
     "name": "stdout",
     "output_type": "stream",
     "text": [
      "<class 'pandas.core.frame.DataFrame'>\n",
      "Int64Index: 12986 entries, 0 to 14575\n",
      "Data columns (total 7 columns):\n",
      " #   Column     Non-Null Count  Dtype \n",
      "---  ------     --------------  ----- \n",
      " 0   keyword    12986 non-null  object\n",
      " 1   title      12986 non-null  object\n",
      " 2   publisher  12986 non-null  object\n",
      " 3   price      12986 non-null  object\n",
      " 4   discount   12986 non-null  object\n",
      " 5   pubdate    12986 non-null  object\n",
      " 6   isbn       12986 non-null  object\n",
      "dtypes: object(7)\n",
      "memory usage: 811.6+ KB\n"
     ]
    }
   ],
   "source": [
    "result_book.info()"
   ]
  },
  {
   "cell_type": "code",
   "execution_count": 56,
   "metadata": {},
   "outputs": [],
   "source": [
    "## 임시저장\n",
    "result_book.to_csv(\"./isbn_filter.csv\", sep=\",\", encoding=\"utf-8\")"
   ]
  },
  {
   "cell_type": "markdown",
   "metadata": {},
   "source": [
    "---"
   ]
  },
  {
   "cell_type": "markdown",
   "metadata": {},
   "source": [
    "# 문제 3\n",
    "\n",
    "## 문제2의 결과로부터 각 언어별 출판물의 양 순위 매기고 시각화하기"
   ]
  },
  {
   "cell_type": "markdown",
   "metadata": {},
   "source": [
    "### 두개의 키워드로 검색했던 언어 통일\n",
    "- Python, 파이썬 = Python\n",
    "- C programming, C 프로그래밍 = C\n",
    "- Java, 자바 = Java\n",
    "- JavaScript, 자바스크립트 = JavaScript\n",
    "- R programming, R프로그래밍 = R"
   ]
  },
  {
   "cell_type": "code",
   "execution_count": 106,
   "metadata": {},
   "outputs": [
    {
     "data": {
      "text/html": [
       "<div>\n",
       "<style scoped>\n",
       "    .dataframe tbody tr th:only-of-type {\n",
       "        vertical-align: middle;\n",
       "    }\n",
       "\n",
       "    .dataframe tbody tr th {\n",
       "        vertical-align: top;\n",
       "    }\n",
       "\n",
       "    .dataframe thead th {\n",
       "        text-align: right;\n",
       "    }\n",
       "</style>\n",
       "<table border=\"1\" class=\"dataframe\">\n",
       "  <thead>\n",
       "    <tr style=\"text-align: right;\">\n",
       "      <th></th>\n",
       "      <th>keyword</th>\n",
       "      <th>title</th>\n",
       "      <th>publisher</th>\n",
       "      <th>price</th>\n",
       "      <th>discount</th>\n",
       "      <th>pubdate</th>\n",
       "      <th>isbn</th>\n",
       "    </tr>\n",
       "  </thead>\n",
       "  <tbody>\n",
       "    <tr>\n",
       "      <th>14571</th>\n",
       "      <td>PHP</td>\n",
       "      <td>PHP のびのび子育て 2018年4月號</td>\n",
       "      <td>PHP硏究所</td>\n",
       "      <td>4840.0</td>\n",
       "      <td>NaN</td>\n",
       "      <td>20180309</td>\n",
       "      <td>0079090486 4910079090481</td>\n",
       "    </tr>\n",
       "    <tr>\n",
       "      <th>14572</th>\n",
       "      <td>PHP</td>\n",
       "      <td>年を取るほど健康になる! ワンダフルエイジング7つの法則 (PHP文庫) (文庫)</td>\n",
       "      <td>PHP硏究所</td>\n",
       "      <td>9750.0</td>\n",
       "      <td>0.0</td>\n",
       "      <td>20120904</td>\n",
       "      <td>4569678548 9784569678542</td>\n",
       "    </tr>\n",
       "    <tr>\n",
       "      <th>14573</th>\n",
       "      <td>PHP</td>\n",
       "      <td>「もの忘れ外來」のボケない技術(テク) (PHP文庫) (文庫)</td>\n",
       "      <td>PHP硏究所</td>\n",
       "      <td>9830.0</td>\n",
       "      <td>0.0</td>\n",
       "      <td>20120602</td>\n",
       "      <td>4569678351 9784569678351</td>\n",
       "    </tr>\n",
       "    <tr>\n",
       "      <th>14574</th>\n",
       "      <td>PHP</td>\n",
       "      <td>小さな幸せ物語 (PHP文藝文庫) (文庫)</td>\n",
       "      <td>PHP硏究所</td>\n",
       "      <td>9880.0</td>\n",
       "      <td>0.0</td>\n",
       "      <td>20120315</td>\n",
       "      <td>4569678114 9784569678115</td>\n",
       "    </tr>\n",
       "    <tr>\n",
       "      <th>14575</th>\n",
       "      <td>PHP</td>\n",
       "      <td>マンガ最終戰爭論 (PHPコミックス) (單行本(ソフトカバ-))</td>\n",
       "      <td>PHP硏究所</td>\n",
       "      <td>18680.0</td>\n",
       "      <td>0.0</td>\n",
       "      <td>20120121</td>\n",
       "      <td>456979596X 9784569795966</td>\n",
       "    </tr>\n",
       "  </tbody>\n",
       "</table>\n",
       "</div>"
      ],
      "text/plain": [
       "      keyword                                      title publisher    price  \\\n",
       "14571     PHP                       PHP のびのび子育て 2018年4月號    PHP硏究所   4840.0   \n",
       "14572     PHP  年を取るほど健康になる! ワンダフルエイジング7つの法則 (PHP文庫) (文庫)    PHP硏究所   9750.0   \n",
       "14573     PHP           「もの忘れ外來」のボケない技術(テク) (PHP文庫) (文庫)    PHP硏究所   9830.0   \n",
       "14574     PHP                     小さな幸せ物語 (PHP文藝文庫) (文庫)    PHP硏究所   9880.0   \n",
       "14575     PHP          マンガ最終戰爭論 (PHPコミックス) (單行本(ソフトカバ-))    PHP硏究所  18680.0   \n",
       "\n",
       "       discount   pubdate                      isbn  \n",
       "14571       NaN  20180309  0079090486 4910079090481  \n",
       "14572       0.0  20120904  4569678548 9784569678542  \n",
       "14573       0.0  20120602  4569678351 9784569678351  \n",
       "14574       0.0  20120315  4569678114 9784569678115  \n",
       "14575       0.0  20120121  456979596X 9784569795966  "
      ]
     },
     "execution_count": 106,
     "metadata": {},
     "output_type": "execute_result"
    }
   ],
   "source": [
    "result_book = pd.read_csv(\"./isbn_filter.csv\", encoding='utf-8', index_col=0)\n",
    "result_book.tail()"
   ]
  },
  {
   "cell_type": "code",
   "execution_count": 107,
   "metadata": {},
   "outputs": [
    {
     "name": "stdout",
     "output_type": "stream",
     "text": [
      "<class 'pandas.core.frame.DataFrame'>\n",
      "Int64Index: 12986 entries, 0 to 14575\n",
      "Data columns (total 7 columns):\n",
      " #   Column     Non-Null Count  Dtype  \n",
      "---  ------     --------------  -----  \n",
      " 0   keyword    12986 non-null  object \n",
      " 1   title      12986 non-null  object \n",
      " 2   publisher  12985 non-null  object \n",
      " 3   price      12969 non-null  float64\n",
      " 4   discount   6626 non-null   float64\n",
      " 5   pubdate    12978 non-null  object \n",
      " 6   isbn       12985 non-null  object \n",
      "dtypes: float64(2), object(5)\n",
      "memory usage: 811.6+ KB\n"
     ]
    }
   ],
   "source": [
    "result_book.info()"
   ]
  },
  {
   "cell_type": "code",
   "execution_count": 108,
   "metadata": {},
   "outputs": [],
   "source": [
    "# drop 컬럼후 인덱스 재정리\n",
    "result_book.reset_index(inplace=True)\n",
    "del result_book[\"index\"]"
   ]
  },
  {
   "cell_type": "code",
   "execution_count": 109,
   "metadata": {},
   "outputs": [
    {
     "data": {
      "text/html": [
       "<div>\n",
       "<style scoped>\n",
       "    .dataframe tbody tr th:only-of-type {\n",
       "        vertical-align: middle;\n",
       "    }\n",
       "\n",
       "    .dataframe tbody tr th {\n",
       "        vertical-align: top;\n",
       "    }\n",
       "\n",
       "    .dataframe thead th {\n",
       "        text-align: right;\n",
       "    }\n",
       "</style>\n",
       "<table border=\"1\" class=\"dataframe\">\n",
       "  <thead>\n",
       "    <tr style=\"text-align: right;\">\n",
       "      <th></th>\n",
       "      <th>keyword</th>\n",
       "      <th>title</th>\n",
       "      <th>publisher</th>\n",
       "      <th>price</th>\n",
       "      <th>discount</th>\n",
       "      <th>pubdate</th>\n",
       "      <th>isbn</th>\n",
       "    </tr>\n",
       "  </thead>\n",
       "  <tbody>\n",
       "    <tr>\n",
       "      <th>12981</th>\n",
       "      <td>PHP</td>\n",
       "      <td>PHP のびのび子育て 2018年4月號</td>\n",
       "      <td>PHP硏究所</td>\n",
       "      <td>4840.0</td>\n",
       "      <td>NaN</td>\n",
       "      <td>20180309</td>\n",
       "      <td>0079090486 4910079090481</td>\n",
       "    </tr>\n",
       "    <tr>\n",
       "      <th>12982</th>\n",
       "      <td>PHP</td>\n",
       "      <td>年を取るほど健康になる! ワンダフルエイジング7つの法則 (PHP文庫) (文庫)</td>\n",
       "      <td>PHP硏究所</td>\n",
       "      <td>9750.0</td>\n",
       "      <td>0.0</td>\n",
       "      <td>20120904</td>\n",
       "      <td>4569678548 9784569678542</td>\n",
       "    </tr>\n",
       "    <tr>\n",
       "      <th>12983</th>\n",
       "      <td>PHP</td>\n",
       "      <td>「もの忘れ外來」のボケない技術(テク) (PHP文庫) (文庫)</td>\n",
       "      <td>PHP硏究所</td>\n",
       "      <td>9830.0</td>\n",
       "      <td>0.0</td>\n",
       "      <td>20120602</td>\n",
       "      <td>4569678351 9784569678351</td>\n",
       "    </tr>\n",
       "    <tr>\n",
       "      <th>12984</th>\n",
       "      <td>PHP</td>\n",
       "      <td>小さな幸せ物語 (PHP文藝文庫) (文庫)</td>\n",
       "      <td>PHP硏究所</td>\n",
       "      <td>9880.0</td>\n",
       "      <td>0.0</td>\n",
       "      <td>20120315</td>\n",
       "      <td>4569678114 9784569678115</td>\n",
       "    </tr>\n",
       "    <tr>\n",
       "      <th>12985</th>\n",
       "      <td>PHP</td>\n",
       "      <td>マンガ最終戰爭論 (PHPコミックス) (單行本(ソフトカバ-))</td>\n",
       "      <td>PHP硏究所</td>\n",
       "      <td>18680.0</td>\n",
       "      <td>0.0</td>\n",
       "      <td>20120121</td>\n",
       "      <td>456979596X 9784569795966</td>\n",
       "    </tr>\n",
       "  </tbody>\n",
       "</table>\n",
       "</div>"
      ],
      "text/plain": [
       "      keyword                                      title publisher    price  \\\n",
       "12981     PHP                       PHP のびのび子育て 2018年4月號    PHP硏究所   4840.0   \n",
       "12982     PHP  年を取るほど健康になる! ワンダフルエイジング7つの法則 (PHP文庫) (文庫)    PHP硏究所   9750.0   \n",
       "12983     PHP           「もの忘れ外來」のボケない技術(テク) (PHP文庫) (文庫)    PHP硏究所   9830.0   \n",
       "12984     PHP                     小さな幸せ物語 (PHP文藝文庫) (文庫)    PHP硏究所   9880.0   \n",
       "12985     PHP          マンガ最終戰爭論 (PHPコミックス) (單行本(ソフトカバ-))    PHP硏究所  18680.0   \n",
       "\n",
       "       discount   pubdate                      isbn  \n",
       "12981       NaN  20180309  0079090486 4910079090481  \n",
       "12982       0.0  20120904  4569678548 9784569678542  \n",
       "12983       0.0  20120602  4569678351 9784569678351  \n",
       "12984       0.0  20120315  4569678114 9784569678115  \n",
       "12985       0.0  20120121  456979596X 9784569795966  "
      ]
     },
     "execution_count": 109,
     "metadata": {},
     "output_type": "execute_result"
    }
   ],
   "source": [
    "result_book.tail()"
   ]
  },
  {
   "cell_type": "code",
   "execution_count": 110,
   "metadata": {},
   "outputs": [],
   "source": [
    "result_book.loc[result_book[\"keyword\"]==\"파이썬\", \"keyword\"] = \"Python\""
   ]
  },
  {
   "cell_type": "code",
   "execution_count": 111,
   "metadata": {},
   "outputs": [
    {
     "data": {
      "text/html": [
       "<div>\n",
       "<style scoped>\n",
       "    .dataframe tbody tr th:only-of-type {\n",
       "        vertical-align: middle;\n",
       "    }\n",
       "\n",
       "    .dataframe tbody tr th {\n",
       "        vertical-align: top;\n",
       "    }\n",
       "\n",
       "    .dataframe thead th {\n",
       "        text-align: right;\n",
       "    }\n",
       "</style>\n",
       "<table border=\"1\" class=\"dataframe\">\n",
       "  <thead>\n",
       "    <tr style=\"text-align: right;\">\n",
       "      <th></th>\n",
       "      <th>keyword</th>\n",
       "      <th>title</th>\n",
       "      <th>publisher</th>\n",
       "      <th>price</th>\n",
       "      <th>discount</th>\n",
       "      <th>pubdate</th>\n",
       "      <th>isbn</th>\n",
       "    </tr>\n",
       "  </thead>\n",
       "  <tbody>\n",
       "  </tbody>\n",
       "</table>\n",
       "</div>"
      ],
      "text/plain": [
       "Empty DataFrame\n",
       "Columns: [keyword, title, publisher, price, discount, pubdate, isbn]\n",
       "Index: []"
      ]
     },
     "execution_count": 111,
     "metadata": {},
     "output_type": "execute_result"
    }
   ],
   "source": [
    "result_book[result_book['keyword'] == \"파이썬\"]"
   ]
  },
  {
   "cell_type": "code",
   "execution_count": 112,
   "metadata": {},
   "outputs": [],
   "source": [
    "# 마찬가지 과정으로 나머지 진행\n",
    "result_book.loc[result_book[\"keyword\"]==\"C programming\", \"keyword\"] = \"C\"\n",
    "result_book.loc[result_book[\"keyword\"]==\"C 프로그래밍\", \"keyword\"] = \"C\"\n",
    "result_book.loc[result_book[\"keyword\"]==\"자바\", \"keyword\"] = \"Java\"\n",
    "result_book.loc[result_book[\"keyword\"]==\"자바스크립트\", \"keyword\"] = \"JavaScript\"\n",
    "result_book.loc[result_book[\"keyword\"]==\"R programming\", \"keyword\"] = \"R\"\n",
    "result_book.loc[result_book[\"keyword\"]==\"R 프로그래밍\", \"keyword\"] = \"R\""
   ]
  },
  {
   "cell_type": "code",
   "execution_count": 113,
   "metadata": {},
   "outputs": [
    {
     "data": {
      "text/plain": [
       "Python          1960\n",
       "C               1930\n",
       "Java            1871\n",
       "R               1385\n",
       "JavaScript      1249\n",
       "Visual Basic     958\n",
       "C#               934\n",
       "SQL              915\n",
       "PHP              897\n",
       "C++              887\n",
       "Name: keyword, dtype: int64"
      ]
     },
     "execution_count": 113,
     "metadata": {},
     "output_type": "execute_result"
    }
   ],
   "source": [
    "# 이제 각 언어별 도서수 개략적으로 확인해보기\n",
    "\n",
    "result_book[\"keyword\"].value_counts()"
   ]
  },
  {
   "cell_type": "code",
   "execution_count": 114,
   "metadata": {},
   "outputs": [],
   "source": [
    "## 임시저장\n",
    "result_book.to_csv(\"./keyword_fix.csv\", sep=\",\", encoding='utf-8')"
   ]
  },
  {
   "cell_type": "markdown",
   "metadata": {},
   "source": [
    "```\n",
    "아까 isbn 넘버로 한번 중복되는 데이터들을 필터링 하긴 했지만 네이버 책에서 검색해 봣을 당시 자바로 검색하면 자바스크립트 도서에 대한 결과도\n",
    "같이 섞여 들어 오는것을 알 수 있었다. 따라서 자바와 자바스크립트의 경우 서로 키워드와 맞지 않는 책들을 다시한번 필터링 해주도록 한다.\n",
    "```"
   ]
  },
  {
   "cell_type": "markdown",
   "metadata": {},
   "source": [
    "#### Java keyword 안에 JavaScript가 있는 경우"
   ]
  },
  {
   "cell_type": "code",
   "execution_count": 64,
   "metadata": {},
   "outputs": [
    {
     "data": {
      "text/html": [
       "<div>\n",
       "<style scoped>\n",
       "    .dataframe tbody tr th:only-of-type {\n",
       "        vertical-align: middle;\n",
       "    }\n",
       "\n",
       "    .dataframe tbody tr th {\n",
       "        vertical-align: top;\n",
       "    }\n",
       "\n",
       "    .dataframe thead th {\n",
       "        text-align: right;\n",
       "    }\n",
       "</style>\n",
       "<table border=\"1\" class=\"dataframe\">\n",
       "  <thead>\n",
       "    <tr style=\"text-align: right;\">\n",
       "      <th></th>\n",
       "      <th>keyword</th>\n",
       "      <th>title</th>\n",
       "      <th>publisher</th>\n",
       "      <th>price</th>\n",
       "      <th>discount</th>\n",
       "      <th>pubdate</th>\n",
       "      <th>isbn</th>\n",
       "    </tr>\n",
       "  </thead>\n",
       "  <tbody>\n",
       "  </tbody>\n",
       "</table>\n",
       "</div>"
      ],
      "text/plain": [
       "Empty DataFrame\n",
       "Columns: [keyword, title, publisher, price, discount, pubdate, isbn]\n",
       "Index: []"
      ]
     },
     "execution_count": 64,
     "metadata": {},
     "output_type": "execute_result"
    }
   ],
   "source": [
    "result_book[result_book[\"keyword\"] == \"자바\"] # 아까 키워드 치환이 제대로 됫나 확인"
   ]
  },
  {
   "cell_type": "code",
   "execution_count": 129,
   "metadata": {},
   "outputs": [],
   "source": [
    "tmp = result_book.query('title.str.contains(\"JavaScript | javascript | 자바스크립트\")', engine='python')"
   ]
  },
  {
   "cell_type": "code",
   "execution_count": 144,
   "metadata": {},
   "outputs": [
    {
     "data": {
      "text/html": [
       "<div>\n",
       "<style scoped>\n",
       "    .dataframe tbody tr th:only-of-type {\n",
       "        vertical-align: middle;\n",
       "    }\n",
       "\n",
       "    .dataframe tbody tr th {\n",
       "        vertical-align: top;\n",
       "    }\n",
       "\n",
       "    .dataframe thead th {\n",
       "        text-align: right;\n",
       "    }\n",
       "</style>\n",
       "<table border=\"1\" class=\"dataframe\">\n",
       "  <thead>\n",
       "    <tr style=\"text-align: right;\">\n",
       "      <th></th>\n",
       "      <th>keyword</th>\n",
       "      <th>title</th>\n",
       "      <th>publisher</th>\n",
       "      <th>price</th>\n",
       "      <th>discount</th>\n",
       "      <th>pubdate</th>\n",
       "      <th>isbn</th>\n",
       "    </tr>\n",
       "  </thead>\n",
       "  <tbody>\n",
       "    <tr>\n",
       "      <th>3901</th>\n",
       "      <td>Java</td>\n",
       "      <td>Decoupled Django: Understand and Build Decoupl...</td>\n",
       "      <td>Apress</td>\n",
       "      <td>64670.0</td>\n",
       "      <td>NaN</td>\n",
       "      <td>20211018</td>\n",
       "      <td>1484271432 9781484271438</td>\n",
       "    </tr>\n",
       "    <tr>\n",
       "      <th>3907</th>\n",
       "      <td>Java</td>\n",
       "      <td>초보자를 위한 JavaScript 200제</td>\n",
       "      <td>정보문화사</td>\n",
       "      <td>25000.0</td>\n",
       "      <td>22500.0</td>\n",
       "      <td>20190310</td>\n",
       "      <td>8956748241 9788956748245</td>\n",
       "    </tr>\n",
       "    <tr>\n",
       "      <th>3909</th>\n",
       "      <td>Java</td>\n",
       "      <td>Programacion en JavaScript  para principiantes...</td>\n",
       "      <td>CristinaCafagno</td>\n",
       "      <td>43480.0</td>\n",
       "      <td>NaN</td>\n",
       "      <td>20210906</td>\n",
       "      <td>1803668334 9781803668338</td>\n",
       "    </tr>\n",
       "    <tr>\n",
       "      <th>3911</th>\n",
       "      <td>Java</td>\n",
       "      <td>JavaScript Cookbook: Programming the Web (Prog...</td>\n",
       "      <td>O'ReillyMedia</td>\n",
       "      <td>99730.0</td>\n",
       "      <td>79290.0</td>\n",
       "      <td>20210907</td>\n",
       "      <td>1492055751 9781492055754</td>\n",
       "    </tr>\n",
       "    <tr>\n",
       "      <th>3920</th>\n",
       "      <td>Java</td>\n",
       "      <td>머신러닝 TensorFlow.js JavaScript (자바스크립트와 TensorF...</td>\n",
       "      <td>생각나눔</td>\n",
       "      <td>32000.0</td>\n",
       "      <td>28800.0</td>\n",
       "      <td>20190417</td>\n",
       "      <td>1196672431 9791196672430</td>\n",
       "    </tr>\n",
       "    <tr>\n",
       "      <th>...</th>\n",
       "      <td>...</td>\n",
       "      <td>...</td>\n",
       "      <td>...</td>\n",
       "      <td>...</td>\n",
       "      <td>...</td>\n",
       "      <td>...</td>\n",
       "      <td>...</td>\n",
       "    </tr>\n",
       "    <tr>\n",
       "      <th>5714</th>\n",
       "      <td>Java</td>\n",
       "      <td>러닝 웹 디자인 (시작하는 사람을 위한 HTML, CSS, 자바스크립트, 웹 그래픽...</td>\n",
       "      <td>프리렉</td>\n",
       "      <td>38000.0</td>\n",
       "      <td>NaN</td>\n",
       "      <td>20151205</td>\n",
       "      <td>8965401100 9788965401100</td>\n",
       "    </tr>\n",
       "    <tr>\n",
       "      <th>5715</th>\n",
       "      <td>Java</td>\n",
       "      <td>jQuery 1.3 + jQuery API 레퍼런스 가이드 세트 (작고 강력한 자바...</td>\n",
       "      <td>위키북스</td>\n",
       "      <td>35000.0</td>\n",
       "      <td>NaN</td>\n",
       "      <td>20110929</td>\n",
       "      <td>8992939930 9788992939935</td>\n",
       "    </tr>\n",
       "    <tr>\n",
       "      <th>5716</th>\n",
       "      <td>Java</td>\n",
       "      <td>웹 프로그래밍 (HTML, 자바스크립트, ASP를 중심으로)</td>\n",
       "      <td>생능출판사</td>\n",
       "      <td>20000.0</td>\n",
       "      <td>NaN</td>\n",
       "      <td>20100220</td>\n",
       "      <td>8970506047 9788970506043</td>\n",
       "    </tr>\n",
       "    <tr>\n",
       "      <th>5722</th>\n",
       "      <td>Java</td>\n",
       "      <td>iPhone JavaScript Cookbook (자바스크립트로 만드는 아이폰 애플...</td>\n",
       "      <td>에이콘출판</td>\n",
       "      <td>30000.0</td>\n",
       "      <td>NaN</td>\n",
       "      <td>20120620</td>\n",
       "      <td>8960773115 9788960773110</td>\n",
       "    </tr>\n",
       "    <tr>\n",
       "      <th>5733</th>\n",
       "      <td>Java</td>\n",
       "      <td>알기쉬운 홈페이지 만들 (HTML과 자바스크립트 기반의)</td>\n",
       "      <td>대영사</td>\n",
       "      <td>13000.0</td>\n",
       "      <td>12700.0</td>\n",
       "      <td>20010727</td>\n",
       "      <td>8971631694 9788971631690</td>\n",
       "    </tr>\n",
       "  </tbody>\n",
       "</table>\n",
       "<p>289 rows × 7 columns</p>\n",
       "</div>"
      ],
      "text/plain": [
       "     keyword                                              title  \\\n",
       "3901    Java  Decoupled Django: Understand and Build Decoupl...   \n",
       "3907    Java                            초보자를 위한 JavaScript 200제   \n",
       "3909    Java  Programacion en JavaScript  para principiantes...   \n",
       "3911    Java  JavaScript Cookbook: Programming the Web (Prog...   \n",
       "3920    Java  머신러닝 TensorFlow.js JavaScript (자바스크립트와 TensorF...   \n",
       "...      ...                                                ...   \n",
       "5714    Java  러닝 웹 디자인 (시작하는 사람을 위한 HTML, CSS, 자바스크립트, 웹 그래픽...   \n",
       "5715    Java  jQuery 1.3 + jQuery API 레퍼런스 가이드 세트 (작고 강력한 자바...   \n",
       "5716    Java                  웹 프로그래밍 (HTML, 자바스크립트, ASP를 중심으로)   \n",
       "5722    Java  iPhone JavaScript Cookbook (자바스크립트로 만드는 아이폰 애플...   \n",
       "5733    Java                    알기쉬운 홈페이지 만들 (HTML과 자바스크립트 기반의)   \n",
       "\n",
       "            publisher    price  discount   pubdate                      isbn  \n",
       "3901           Apress  64670.0       NaN  20211018  1484271432 9781484271438  \n",
       "3907            정보문화사  25000.0   22500.0  20190310  8956748241 9788956748245  \n",
       "3909  CristinaCafagno  43480.0       NaN  20210906  1803668334 9781803668338  \n",
       "3911    O'ReillyMedia  99730.0   79290.0  20210907  1492055751 9781492055754  \n",
       "3920             생각나눔  32000.0   28800.0  20190417  1196672431 9791196672430  \n",
       "...               ...      ...       ...       ...                       ...  \n",
       "5714              프리렉  38000.0       NaN  20151205  8965401100 9788965401100  \n",
       "5715             위키북스  35000.0       NaN  20110929  8992939930 9788992939935  \n",
       "5716            생능출판사  20000.0       NaN  20100220  8970506047 9788970506043  \n",
       "5722            에이콘출판  30000.0       NaN  20120620  8960773115 9788960773110  \n",
       "5733              대영사  13000.0   12700.0  20010727  8971631694 9788971631690  \n",
       "\n",
       "[289 rows x 7 columns]"
      ]
     },
     "execution_count": 144,
     "metadata": {},
     "output_type": "execute_result"
    }
   ],
   "source": [
    "tmp[tmp['keyword'] == 'Java']"
   ]
  },
  {
   "cell_type": "markdown",
   "metadata": {},
   "source": [
    "- 위 결과들은 키워드가 자바이나 사실상 자바스크립트에 관한 서적들의 리스트이다"
   ]
  },
  {
   "cell_type": "code",
   "execution_count": 146,
   "metadata": {},
   "outputs": [],
   "source": [
    "tmp = tmp[tmp['keyword'] == 'Java']"
   ]
  },
  {
   "cell_type": "code",
   "execution_count": 150,
   "metadata": {},
   "outputs": [
    {
     "name": "stdout",
     "output_type": "stream",
     "text": [
      "<class 'pandas.core.frame.DataFrame'>\n",
      "Int64Index: 289 entries, 3901 to 5733\n",
      "Data columns (total 7 columns):\n",
      " #   Column     Non-Null Count  Dtype  \n",
      "---  ------     --------------  -----  \n",
      " 0   keyword    289 non-null    object \n",
      " 1   title      289 non-null    object \n",
      " 2   publisher  289 non-null    object \n",
      " 3   price      288 non-null    float64\n",
      " 4   discount   152 non-null    float64\n",
      " 5   pubdate    289 non-null    object \n",
      " 6   isbn       289 non-null    object \n",
      "dtypes: float64(2), object(5)\n",
      "memory usage: 18.1+ KB\n"
     ]
    }
   ],
   "source": [
    "tmp.info()"
   ]
  },
  {
   "cell_type": "code",
   "execution_count": 154,
   "metadata": {},
   "outputs": [
    {
     "name": "stdout",
     "output_type": "stream",
     "text": [
      "<class 'pandas.core.frame.DataFrame'>\n",
      "RangeIndex: 12986 entries, 0 to 12985\n",
      "Data columns (total 7 columns):\n",
      " #   Column     Non-Null Count  Dtype  \n",
      "---  ------     --------------  -----  \n",
      " 0   keyword    12986 non-null  object \n",
      " 1   title      12986 non-null  object \n",
      " 2   publisher  12985 non-null  object \n",
      " 3   price      12969 non-null  float64\n",
      " 4   discount   6626 non-null   float64\n",
      " 5   pubdate    12978 non-null  object \n",
      " 6   isbn       12985 non-null  object \n",
      "dtypes: float64(2), object(5)\n",
      "memory usage: 710.3+ KB\n"
     ]
    }
   ],
   "source": [
    "result_book.info()"
   ]
  },
  {
   "cell_type": "code",
   "execution_count": 155,
   "metadata": {},
   "outputs": [],
   "source": [
    "for idx, row in tmp.iterrows():\n",
    "    result_book = result_book[result_book['isbn'] != row['isbn']]"
   ]
  },
  {
   "cell_type": "code",
   "execution_count": 156,
   "metadata": {},
   "outputs": [
    {
     "data": {
      "text/plain": [
       "Python          1960\n",
       "C               1930\n",
       "Java            1582\n",
       "R               1385\n",
       "JavaScript      1249\n",
       "Visual Basic     958\n",
       "C#               934\n",
       "SQL              915\n",
       "PHP              897\n",
       "C++              887\n",
       "Name: keyword, dtype: int64"
      ]
     },
     "execution_count": 156,
     "metadata": {},
     "output_type": "execute_result"
    }
   ],
   "source": [
    "result_book[\"keyword\"].value_counts()"
   ]
  },
  {
   "cell_type": "markdown",
   "metadata": {},
   "source": [
    "- 마찬가지 방법으로 Javascript에 Java가 포함된 경우도 제거"
   ]
  },
  {
   "cell_type": "code",
   "execution_count": 159,
   "metadata": {},
   "outputs": [],
   "source": [
    "tmp = result_book.query('title.str.contains(\"Java | 자바 \")', engine='python')"
   ]
  },
  {
   "cell_type": "code",
   "execution_count": 160,
   "metadata": {},
   "outputs": [
    {
     "data": {
      "text/html": [
       "<div>\n",
       "<style scoped>\n",
       "    .dataframe tbody tr th:only-of-type {\n",
       "        vertical-align: middle;\n",
       "    }\n",
       "\n",
       "    .dataframe tbody tr th {\n",
       "        vertical-align: top;\n",
       "    }\n",
       "\n",
       "    .dataframe thead th {\n",
       "        text-align: right;\n",
       "    }\n",
       "</style>\n",
       "<table border=\"1\" class=\"dataframe\">\n",
       "  <thead>\n",
       "    <tr style=\"text-align: right;\">\n",
       "      <th></th>\n",
       "      <th>keyword</th>\n",
       "      <th>title</th>\n",
       "      <th>publisher</th>\n",
       "      <th>price</th>\n",
       "      <th>discount</th>\n",
       "      <th>pubdate</th>\n",
       "      <th>isbn</th>\n",
       "    </tr>\n",
       "  </thead>\n",
       "  <tbody>\n",
       "    <tr>\n",
       "      <th>5872</th>\n",
       "      <td>JavaScript</td>\n",
       "      <td>Java Script:Complete Concepts and Techniques 2...</td>\n",
       "      <td>Course</td>\n",
       "      <td>22000.0</td>\n",
       "      <td>NaN</td>\n",
       "      <td>20010000</td>\n",
       "      <td>0789562332 6100789562332</td>\n",
       "    </tr>\n",
       "    <tr>\n",
       "      <th>5942</th>\n",
       "      <td>JavaScript</td>\n",
       "      <td>Java Script Unleashed 3/E(BK+CD)</td>\n",
       "      <td>Sams</td>\n",
       "      <td>50000.0</td>\n",
       "      <td>NaN</td>\n",
       "      <td>20000000</td>\n",
       "      <td>067231763X 6100672317636</td>\n",
       "    </tr>\n",
       "    <tr>\n",
       "      <th>5959</th>\n",
       "      <td>JavaScript</td>\n",
       "      <td>Mastering Java Script and JScript</td>\n",
       "      <td>Manning</td>\n",
       "      <td>48000.0</td>\n",
       "      <td>NaN</td>\n",
       "      <td>19990401</td>\n",
       "      <td>0782124925 6100782124926</td>\n",
       "    </tr>\n",
       "    <tr>\n",
       "      <th>5960</th>\n",
       "      <td>JavaScript</td>\n",
       "      <td>Programming Java: Java Programming, JavaScript...</td>\n",
       "      <td>Lulu.com</td>\n",
       "      <td>47720.0</td>\n",
       "      <td>NaN</td>\n",
       "      <td>20160107</td>\n",
       "      <td>1329779002 9781329779006</td>\n",
       "    </tr>\n",
       "    <tr>\n",
       "      <th>5975</th>\n",
       "      <td>JavaScript</td>\n",
       "      <td>Java 2 and JavaScript for C and C++ Programmer...</td>\n",
       "      <td>Wiley</td>\n",
       "      <td>45000.0</td>\n",
       "      <td>NaN</td>\n",
       "      <td>19981101</td>\n",
       "      <td>0471327190 6100471327195</td>\n",
       "    </tr>\n",
       "    <tr>\n",
       "      <th>5984</th>\n",
       "      <td>JavaScript</td>\n",
       "      <td>Instant Java Script</td>\n",
       "      <td>McGraw-Hill</td>\n",
       "      <td>48000.0</td>\n",
       "      <td>NaN</td>\n",
       "      <td>20010308</td>\n",
       "      <td>0072129948 6100072129945</td>\n",
       "    </tr>\n",
       "    <tr>\n",
       "      <th>6002</th>\n",
       "      <td>JavaScript</td>\n",
       "      <td>Professional Java Script</td>\n",
       "      <td>Wrox</td>\n",
       "      <td>59000.0</td>\n",
       "      <td>0.0</td>\n",
       "      <td>19990923</td>\n",
       "      <td>186100270X 9781861002709</td>\n",
       "    </tr>\n",
       "    <tr>\n",
       "      <th>6031</th>\n",
       "      <td>JavaScript</td>\n",
       "      <td>Internet Programming with VBScript and Java Sc...</td>\n",
       "      <td>Course</td>\n",
       "      <td>26000.0</td>\n",
       "      <td>NaN</td>\n",
       "      <td>20000101</td>\n",
       "      <td>0619015233 6100619015236</td>\n",
       "    </tr>\n",
       "    <tr>\n",
       "      <th>6057</th>\n",
       "      <td>JavaScript</td>\n",
       "      <td>Building Hybrid Android Apps with Java and Jav...</td>\n",
       "      <td>O'ReillyMedia</td>\n",
       "      <td>25230.0</td>\n",
       "      <td>24370.0</td>\n",
       "      <td>20140416</td>\n",
       "      <td>1449361919 9781449361914</td>\n",
       "    </tr>\n",
       "    <tr>\n",
       "      <th>6088</th>\n",
       "      <td>JavaScript</td>\n",
       "      <td>Domino 5 Web Programming with XML Java &amp; Java ...</td>\n",
       "      <td>Que</td>\n",
       "      <td>50000.0</td>\n",
       "      <td>NaN</td>\n",
       "      <td>20000101</td>\n",
       "      <td>0789722755 6100789722750</td>\n",
       "    </tr>\n",
       "    <tr>\n",
       "      <th>6163</th>\n",
       "      <td>JavaScript</td>\n",
       "      <td>Java Script 101 Version 3.0 (Paperback / Stude...</td>\n",
       "      <td>CengageLearning</td>\n",
       "      <td>65360.0</td>\n",
       "      <td>53600.0</td>\n",
       "      <td>20070920</td>\n",
       "      <td>0759318875 9780759318878</td>\n",
       "    </tr>\n",
       "    <tr>\n",
       "      <th>6347</th>\n",
       "      <td>JavaScript</td>\n",
       "      <td>SQL Programming: Java Script and Coding Progra...</td>\n",
       "      <td>Createspace</td>\n",
       "      <td>14820.0</td>\n",
       "      <td>12160.0</td>\n",
       "      <td>20150710</td>\n",
       "      <td>1515023664 9781515023661</td>\n",
       "    </tr>\n",
       "    <tr>\n",
       "      <th>6370</th>\n",
       "      <td>JavaScript</td>\n",
       "      <td>Beginning Java 8 APIs, Extensions and Librarie...</td>\n",
       "      <td>Apress</td>\n",
       "      <td>89220.0</td>\n",
       "      <td>80300.0</td>\n",
       "      <td>20140915</td>\n",
       "      <td>1430266619 9781430266617</td>\n",
       "    </tr>\n",
       "    <tr>\n",
       "      <th>6407</th>\n",
       "      <td>JavaScript</td>\n",
       "      <td>獨習 Java Script 第2版</td>\n",
       "      <td>翔泳社</td>\n",
       "      <td>39390.0</td>\n",
       "      <td>39390.0</td>\n",
       "      <td>20130705</td>\n",
       "      <td>4798130842 9784798130842</td>\n",
       "    </tr>\n",
       "    <tr>\n",
       "      <th>6437</th>\n",
       "      <td>JavaScript</td>\n",
       "      <td>Understanding Java Including Java Virtual Mach...</td>\n",
       "      <td>Webster's</td>\n",
       "      <td>28780.0</td>\n",
       "      <td>NaN</td>\n",
       "      <td>20121102</td>\n",
       "      <td>1241724776 9781241724771</td>\n",
       "    </tr>\n",
       "  </tbody>\n",
       "</table>\n",
       "</div>"
      ],
      "text/plain": [
       "         keyword                                              title  \\\n",
       "5872  JavaScript  Java Script:Complete Concepts and Techniques 2...   \n",
       "5942  JavaScript                   Java Script Unleashed 3/E(BK+CD)   \n",
       "5959  JavaScript                  Mastering Java Script and JScript   \n",
       "5960  JavaScript  Programming Java: Java Programming, JavaScript...   \n",
       "5975  JavaScript  Java 2 and JavaScript for C and C++ Programmer...   \n",
       "5984  JavaScript                                Instant Java Script   \n",
       "6002  JavaScript                           Professional Java Script   \n",
       "6031  JavaScript  Internet Programming with VBScript and Java Sc...   \n",
       "6057  JavaScript  Building Hybrid Android Apps with Java and Jav...   \n",
       "6088  JavaScript  Domino 5 Web Programming with XML Java & Java ...   \n",
       "6163  JavaScript  Java Script 101 Version 3.0 (Paperback / Stude...   \n",
       "6347  JavaScript  SQL Programming: Java Script and Coding Progra...   \n",
       "6370  JavaScript  Beginning Java 8 APIs, Extensions and Librarie...   \n",
       "6407  JavaScript                                 獨習 Java Script 第2版   \n",
       "6437  JavaScript  Understanding Java Including Java Virtual Mach...   \n",
       "\n",
       "            publisher    price  discount   pubdate                      isbn  \n",
       "5872           Course  22000.0       NaN  20010000  0789562332 6100789562332  \n",
       "5942             Sams  50000.0       NaN  20000000  067231763X 6100672317636  \n",
       "5959          Manning  48000.0       NaN  19990401  0782124925 6100782124926  \n",
       "5960         Lulu.com  47720.0       NaN  20160107  1329779002 9781329779006  \n",
       "5975            Wiley  45000.0       NaN  19981101  0471327190 6100471327195  \n",
       "5984      McGraw-Hill  48000.0       NaN  20010308  0072129948 6100072129945  \n",
       "6002             Wrox  59000.0       0.0  19990923  186100270X 9781861002709  \n",
       "6031           Course  26000.0       NaN  20000101  0619015233 6100619015236  \n",
       "6057    O'ReillyMedia  25230.0   24370.0  20140416  1449361919 9781449361914  \n",
       "6088              Que  50000.0       NaN  20000101  0789722755 6100789722750  \n",
       "6163  CengageLearning  65360.0   53600.0  20070920  0759318875 9780759318878  \n",
       "6347      Createspace  14820.0   12160.0  20150710  1515023664 9781515023661  \n",
       "6370           Apress  89220.0   80300.0  20140915  1430266619 9781430266617  \n",
       "6407              翔泳社  39390.0   39390.0  20130705  4798130842 9784798130842  \n",
       "6437        Webster's  28780.0       NaN  20121102  1241724776 9781241724771  "
      ]
     },
     "execution_count": 160,
     "metadata": {},
     "output_type": "execute_result"
    }
   ],
   "source": [
    "tmp[tmp['keyword'] == 'JavaScript']"
   ]
  },
  {
   "cell_type": "code",
   "execution_count": 161,
   "metadata": {},
   "outputs": [
    {
     "data": {
      "text/plain": [
       "15"
      ]
     },
     "execution_count": 161,
     "metadata": {},
     "output_type": "execute_result"
    }
   ],
   "source": [
    "len(tmp[tmp['keyword'] == 'JavaScript'])"
   ]
  },
  {
   "cell_type": "markdown",
   "metadata": {},
   "source": [
    "- 위의 데이터에서 특별히 자바 도서가 섞여 들어가지 않은것으로 보아 별도의 삭제과정은 거치지 않는다."
   ]
  },
  {
   "cell_type": "code",
   "execution_count": 162,
   "metadata": {},
   "outputs": [
    {
     "data": {
      "text/plain": [
       "Python          1960\n",
       "C               1930\n",
       "Java            1582\n",
       "R               1385\n",
       "JavaScript      1249\n",
       "Visual Basic     958\n",
       "C#               934\n",
       "SQL              915\n",
       "PHP              897\n",
       "C++              887\n",
       "Name: keyword, dtype: int64"
      ]
     },
     "execution_count": 162,
     "metadata": {},
     "output_type": "execute_result"
    }
   ],
   "source": [
    "## 개략적으로 살펴본 언어별 도서수\n",
    "result_book[\"keyword\"].value_counts()\n"
   ]
  },
  {
   "cell_type": "code",
   "execution_count": 167,
   "metadata": {},
   "outputs": [
    {
     "data": {
      "text/html": [
       "<div>\n",
       "<style scoped>\n",
       "    .dataframe tbody tr th:only-of-type {\n",
       "        vertical-align: middle;\n",
       "    }\n",
       "\n",
       "    .dataframe tbody tr th {\n",
       "        vertical-align: top;\n",
       "    }\n",
       "\n",
       "    .dataframe thead th {\n",
       "        text-align: right;\n",
       "    }\n",
       "</style>\n",
       "<table border=\"1\" class=\"dataframe\">\n",
       "  <thead>\n",
       "    <tr style=\"text-align: right;\">\n",
       "      <th></th>\n",
       "      <th>keyword</th>\n",
       "    </tr>\n",
       "  </thead>\n",
       "  <tbody>\n",
       "    <tr>\n",
       "      <th>Python</th>\n",
       "      <td>1960</td>\n",
       "    </tr>\n",
       "    <tr>\n",
       "      <th>C</th>\n",
       "      <td>1930</td>\n",
       "    </tr>\n",
       "    <tr>\n",
       "      <th>Java</th>\n",
       "      <td>1582</td>\n",
       "    </tr>\n",
       "    <tr>\n",
       "      <th>R</th>\n",
       "      <td>1385</td>\n",
       "    </tr>\n",
       "    <tr>\n",
       "      <th>JavaScript</th>\n",
       "      <td>1249</td>\n",
       "    </tr>\n",
       "    <tr>\n",
       "      <th>Visual Basic</th>\n",
       "      <td>958</td>\n",
       "    </tr>\n",
       "    <tr>\n",
       "      <th>C#</th>\n",
       "      <td>934</td>\n",
       "    </tr>\n",
       "    <tr>\n",
       "      <th>SQL</th>\n",
       "      <td>915</td>\n",
       "    </tr>\n",
       "    <tr>\n",
       "      <th>PHP</th>\n",
       "      <td>897</td>\n",
       "    </tr>\n",
       "    <tr>\n",
       "      <th>C++</th>\n",
       "      <td>887</td>\n",
       "    </tr>\n",
       "  </tbody>\n",
       "</table>\n",
       "</div>"
      ],
      "text/plain": [
       "              keyword\n",
       "Python           1960\n",
       "C                1930\n",
       "Java             1582\n",
       "R                1385\n",
       "JavaScript       1249\n",
       "Visual Basic      958\n",
       "C#                934\n",
       "SQL               915\n",
       "PHP               897\n",
       "C++               887"
      ]
     },
     "execution_count": 167,
     "metadata": {},
     "output_type": "execute_result"
    }
   ],
   "source": [
    "book_count = pd.DataFrame(data=result_book[\"keyword\"].value_counts())\n",
    "book_count"
   ]
  },
  {
   "cell_type": "code",
   "execution_count": 168,
   "metadata": {},
   "outputs": [],
   "source": [
    "book_count.reset_index(inplace=True)"
   ]
  },
  {
   "cell_type": "code",
   "execution_count": 169,
   "metadata": {},
   "outputs": [
    {
     "data": {
      "text/html": [
       "<div>\n",
       "<style scoped>\n",
       "    .dataframe tbody tr th:only-of-type {\n",
       "        vertical-align: middle;\n",
       "    }\n",
       "\n",
       "    .dataframe tbody tr th {\n",
       "        vertical-align: top;\n",
       "    }\n",
       "\n",
       "    .dataframe thead th {\n",
       "        text-align: right;\n",
       "    }\n",
       "</style>\n",
       "<table border=\"1\" class=\"dataframe\">\n",
       "  <thead>\n",
       "    <tr style=\"text-align: right;\">\n",
       "      <th></th>\n",
       "      <th>index</th>\n",
       "      <th>keyword</th>\n",
       "    </tr>\n",
       "  </thead>\n",
       "  <tbody>\n",
       "    <tr>\n",
       "      <th>0</th>\n",
       "      <td>Python</td>\n",
       "      <td>1960</td>\n",
       "    </tr>\n",
       "    <tr>\n",
       "      <th>1</th>\n",
       "      <td>C</td>\n",
       "      <td>1930</td>\n",
       "    </tr>\n",
       "    <tr>\n",
       "      <th>2</th>\n",
       "      <td>Java</td>\n",
       "      <td>1582</td>\n",
       "    </tr>\n",
       "    <tr>\n",
       "      <th>3</th>\n",
       "      <td>R</td>\n",
       "      <td>1385</td>\n",
       "    </tr>\n",
       "    <tr>\n",
       "      <th>4</th>\n",
       "      <td>JavaScript</td>\n",
       "      <td>1249</td>\n",
       "    </tr>\n",
       "    <tr>\n",
       "      <th>5</th>\n",
       "      <td>Visual Basic</td>\n",
       "      <td>958</td>\n",
       "    </tr>\n",
       "    <tr>\n",
       "      <th>6</th>\n",
       "      <td>C#</td>\n",
       "      <td>934</td>\n",
       "    </tr>\n",
       "    <tr>\n",
       "      <th>7</th>\n",
       "      <td>SQL</td>\n",
       "      <td>915</td>\n",
       "    </tr>\n",
       "    <tr>\n",
       "      <th>8</th>\n",
       "      <td>PHP</td>\n",
       "      <td>897</td>\n",
       "    </tr>\n",
       "    <tr>\n",
       "      <th>9</th>\n",
       "      <td>C++</td>\n",
       "      <td>887</td>\n",
       "    </tr>\n",
       "  </tbody>\n",
       "</table>\n",
       "</div>"
      ],
      "text/plain": [
       "          index  keyword\n",
       "0        Python     1960\n",
       "1             C     1930\n",
       "2          Java     1582\n",
       "3             R     1385\n",
       "4    JavaScript     1249\n",
       "5  Visual Basic      958\n",
       "6            C#      934\n",
       "7           SQL      915\n",
       "8           PHP      897\n",
       "9           C++      887"
      ]
     },
     "execution_count": 169,
     "metadata": {},
     "output_type": "execute_result"
    }
   ],
   "source": [
    "book_count"
   ]
  },
  {
   "cell_type": "code",
   "execution_count": 170,
   "metadata": {},
   "outputs": [
    {
     "data": {
      "text/html": [
       "<div>\n",
       "<style scoped>\n",
       "    .dataframe tbody tr th:only-of-type {\n",
       "        vertical-align: middle;\n",
       "    }\n",
       "\n",
       "    .dataframe tbody tr th {\n",
       "        vertical-align: top;\n",
       "    }\n",
       "\n",
       "    .dataframe thead th {\n",
       "        text-align: right;\n",
       "    }\n",
       "</style>\n",
       "<table border=\"1\" class=\"dataframe\">\n",
       "  <thead>\n",
       "    <tr style=\"text-align: right;\">\n",
       "      <th></th>\n",
       "      <th>index</th>\n",
       "      <th>도서수</th>\n",
       "    </tr>\n",
       "  </thead>\n",
       "  <tbody>\n",
       "    <tr>\n",
       "      <th>0</th>\n",
       "      <td>Python</td>\n",
       "      <td>1960</td>\n",
       "    </tr>\n",
       "    <tr>\n",
       "      <th>1</th>\n",
       "      <td>C</td>\n",
       "      <td>1930</td>\n",
       "    </tr>\n",
       "    <tr>\n",
       "      <th>2</th>\n",
       "      <td>Java</td>\n",
       "      <td>1582</td>\n",
       "    </tr>\n",
       "    <tr>\n",
       "      <th>3</th>\n",
       "      <td>R</td>\n",
       "      <td>1385</td>\n",
       "    </tr>\n",
       "    <tr>\n",
       "      <th>4</th>\n",
       "      <td>JavaScript</td>\n",
       "      <td>1249</td>\n",
       "    </tr>\n",
       "    <tr>\n",
       "      <th>5</th>\n",
       "      <td>Visual Basic</td>\n",
       "      <td>958</td>\n",
       "    </tr>\n",
       "    <tr>\n",
       "      <th>6</th>\n",
       "      <td>C#</td>\n",
       "      <td>934</td>\n",
       "    </tr>\n",
       "    <tr>\n",
       "      <th>7</th>\n",
       "      <td>SQL</td>\n",
       "      <td>915</td>\n",
       "    </tr>\n",
       "    <tr>\n",
       "      <th>8</th>\n",
       "      <td>PHP</td>\n",
       "      <td>897</td>\n",
       "    </tr>\n",
       "    <tr>\n",
       "      <th>9</th>\n",
       "      <td>C++</td>\n",
       "      <td>887</td>\n",
       "    </tr>\n",
       "  </tbody>\n",
       "</table>\n",
       "</div>"
      ],
      "text/plain": [
       "          index   도서수\n",
       "0        Python  1960\n",
       "1             C  1930\n",
       "2          Java  1582\n",
       "3             R  1385\n",
       "4    JavaScript  1249\n",
       "5  Visual Basic   958\n",
       "6            C#   934\n",
       "7           SQL   915\n",
       "8           PHP   897\n",
       "9           C++   887"
      ]
     },
     "execution_count": 170,
     "metadata": {},
     "output_type": "execute_result"
    }
   ],
   "source": [
    "book_count.rename(columns={\"keyword\": \"도서수\"}, inplace=True)\n",
    "book_count"
   ]
  },
  {
   "cell_type": "code",
   "execution_count": 171,
   "metadata": {},
   "outputs": [
    {
     "data": {
      "text/html": [
       "<div>\n",
       "<style scoped>\n",
       "    .dataframe tbody tr th:only-of-type {\n",
       "        vertical-align: middle;\n",
       "    }\n",
       "\n",
       "    .dataframe tbody tr th {\n",
       "        vertical-align: top;\n",
       "    }\n",
       "\n",
       "    .dataframe thead th {\n",
       "        text-align: right;\n",
       "    }\n",
       "</style>\n",
       "<table border=\"1\" class=\"dataframe\">\n",
       "  <thead>\n",
       "    <tr style=\"text-align: right;\">\n",
       "      <th></th>\n",
       "      <th>언어</th>\n",
       "      <th>도서수</th>\n",
       "    </tr>\n",
       "  </thead>\n",
       "  <tbody>\n",
       "    <tr>\n",
       "      <th>0</th>\n",
       "      <td>Python</td>\n",
       "      <td>1960</td>\n",
       "    </tr>\n",
       "    <tr>\n",
       "      <th>1</th>\n",
       "      <td>C</td>\n",
       "      <td>1930</td>\n",
       "    </tr>\n",
       "    <tr>\n",
       "      <th>2</th>\n",
       "      <td>Java</td>\n",
       "      <td>1582</td>\n",
       "    </tr>\n",
       "    <tr>\n",
       "      <th>3</th>\n",
       "      <td>R</td>\n",
       "      <td>1385</td>\n",
       "    </tr>\n",
       "    <tr>\n",
       "      <th>4</th>\n",
       "      <td>JavaScript</td>\n",
       "      <td>1249</td>\n",
       "    </tr>\n",
       "    <tr>\n",
       "      <th>5</th>\n",
       "      <td>Visual Basic</td>\n",
       "      <td>958</td>\n",
       "    </tr>\n",
       "    <tr>\n",
       "      <th>6</th>\n",
       "      <td>C#</td>\n",
       "      <td>934</td>\n",
       "    </tr>\n",
       "    <tr>\n",
       "      <th>7</th>\n",
       "      <td>SQL</td>\n",
       "      <td>915</td>\n",
       "    </tr>\n",
       "    <tr>\n",
       "      <th>8</th>\n",
       "      <td>PHP</td>\n",
       "      <td>897</td>\n",
       "    </tr>\n",
       "    <tr>\n",
       "      <th>9</th>\n",
       "      <td>C++</td>\n",
       "      <td>887</td>\n",
       "    </tr>\n",
       "  </tbody>\n",
       "</table>\n",
       "</div>"
      ],
      "text/plain": [
       "             언어   도서수\n",
       "0        Python  1960\n",
       "1             C  1930\n",
       "2          Java  1582\n",
       "3             R  1385\n",
       "4    JavaScript  1249\n",
       "5  Visual Basic   958\n",
       "6            C#   934\n",
       "7           SQL   915\n",
       "8           PHP   897\n",
       "9           C++   887"
      ]
     },
     "execution_count": 171,
     "metadata": {},
     "output_type": "execute_result"
    }
   ],
   "source": [
    "book_count.rename(columns={\"index\": \"언어\"}, inplace=True)\n",
    "book_count"
   ]
  },
  {
   "cell_type": "code",
   "execution_count": 172,
   "metadata": {},
   "outputs": [
    {
     "name": "stdout",
     "output_type": "stream",
     "text": [
      "<class 'pandas.core.frame.DataFrame'>\n",
      "Int64Index: 12697 entries, 0 to 12985\n",
      "Data columns (total 7 columns):\n",
      " #   Column     Non-Null Count  Dtype  \n",
      "---  ------     --------------  -----  \n",
      " 0   keyword    12697 non-null  object \n",
      " 1   title      12697 non-null  object \n",
      " 2   publisher  12696 non-null  object \n",
      " 3   price      12681 non-null  float64\n",
      " 4   discount   6474 non-null   float64\n",
      " 5   pubdate    12689 non-null  object \n",
      " 6   isbn       12696 non-null  object \n",
      "dtypes: float64(2), object(5)\n",
      "memory usage: 793.6+ KB\n"
     ]
    }
   ],
   "source": [
    "result_book.info()"
   ]
  },
  {
   "cell_type": "code",
   "execution_count": 173,
   "metadata": {},
   "outputs": [],
   "source": [
    "# 총 책에서 차지하는 퍼센티지 비율 추가\n",
    "book_count[\"비율\"] = book_count[\"도서수\"] / 12697 * 100"
   ]
  },
  {
   "cell_type": "code",
   "execution_count": 174,
   "metadata": {},
   "outputs": [
    {
     "data": {
      "text/html": [
       "<div>\n",
       "<style scoped>\n",
       "    .dataframe tbody tr th:only-of-type {\n",
       "        vertical-align: middle;\n",
       "    }\n",
       "\n",
       "    .dataframe tbody tr th {\n",
       "        vertical-align: top;\n",
       "    }\n",
       "\n",
       "    .dataframe thead th {\n",
       "        text-align: right;\n",
       "    }\n",
       "</style>\n",
       "<table border=\"1\" class=\"dataframe\">\n",
       "  <thead>\n",
       "    <tr style=\"text-align: right;\">\n",
       "      <th></th>\n",
       "      <th>언어</th>\n",
       "      <th>도서수</th>\n",
       "      <th>비율</th>\n",
       "    </tr>\n",
       "  </thead>\n",
       "  <tbody>\n",
       "    <tr>\n",
       "      <th>0</th>\n",
       "      <td>Python</td>\n",
       "      <td>1960</td>\n",
       "      <td>15.436717</td>\n",
       "    </tr>\n",
       "    <tr>\n",
       "      <th>1</th>\n",
       "      <td>C</td>\n",
       "      <td>1930</td>\n",
       "      <td>15.200441</td>\n",
       "    </tr>\n",
       "    <tr>\n",
       "      <th>2</th>\n",
       "      <td>Java</td>\n",
       "      <td>1582</td>\n",
       "      <td>12.459636</td>\n",
       "    </tr>\n",
       "    <tr>\n",
       "      <th>3</th>\n",
       "      <td>R</td>\n",
       "      <td>1385</td>\n",
       "      <td>10.908089</td>\n",
       "    </tr>\n",
       "    <tr>\n",
       "      <th>4</th>\n",
       "      <td>JavaScript</td>\n",
       "      <td>1249</td>\n",
       "      <td>9.836969</td>\n",
       "    </tr>\n",
       "    <tr>\n",
       "      <th>5</th>\n",
       "      <td>Visual Basic</td>\n",
       "      <td>958</td>\n",
       "      <td>7.545089</td>\n",
       "    </tr>\n",
       "    <tr>\n",
       "      <th>6</th>\n",
       "      <td>C#</td>\n",
       "      <td>934</td>\n",
       "      <td>7.356068</td>\n",
       "    </tr>\n",
       "    <tr>\n",
       "      <th>7</th>\n",
       "      <td>SQL</td>\n",
       "      <td>915</td>\n",
       "      <td>7.206427</td>\n",
       "    </tr>\n",
       "    <tr>\n",
       "      <th>8</th>\n",
       "      <td>PHP</td>\n",
       "      <td>897</td>\n",
       "      <td>7.064661</td>\n",
       "    </tr>\n",
       "    <tr>\n",
       "      <th>9</th>\n",
       "      <td>C++</td>\n",
       "      <td>887</td>\n",
       "      <td>6.985902</td>\n",
       "    </tr>\n",
       "  </tbody>\n",
       "</table>\n",
       "</div>"
      ],
      "text/plain": [
       "             언어   도서수         비율\n",
       "0        Python  1960  15.436717\n",
       "1             C  1930  15.200441\n",
       "2          Java  1582  12.459636\n",
       "3             R  1385  10.908089\n",
       "4    JavaScript  1249   9.836969\n",
       "5  Visual Basic   958   7.545089\n",
       "6            C#   934   7.356068\n",
       "7           SQL   915   7.206427\n",
       "8           PHP   897   7.064661\n",
       "9           C++   887   6.985902"
      ]
     },
     "execution_count": 174,
     "metadata": {},
     "output_type": "execute_result"
    }
   ],
   "source": [
    "book_count"
   ]
  },
  {
   "cell_type": "markdown",
   "metadata": {},
   "source": [
    "### 시각화 1 - 파이차트"
   ]
  },
  {
   "cell_type": "code",
   "execution_count": 180,
   "metadata": {},
   "outputs": [
    {
     "data": {
      "image/png": "[encoded data removed]",
      "text/plain": [
       "<Figure size 720x720 with 2 Axes>"
      ]
     },
     "metadata": {
      "needs_background": "light"
     },
     "output_type": "display_data"
    }
   ],
   "source": [
    "plt.figure(figsize=(10, 10))\n",
    "plt.title('언어별 도서수')\n",
    "ax = plt.axes()\n",
    "ax.set_facecolor('white')\n",
    "plt.pie(book_count[\"비율\"], labels=book_count[\"언어\"], autopct='%.2f%%')\n",
    "plt.show()"
   ]
  },
  {
   "cell_type": "markdown",
   "metadata": {},
   "source": [
    "```\n",
    "위의 파이차트를 보면 Python, C 언어, Java, R 이 10퍼센트 이상을 차지하고 있고 그 다음으로 높은건 Javascript\n",
    "나머지 언어들의 도서수는 얼추 비슷해 보인다.\n",
    "그러나 위의 API로 검색하기전 네이버 책 부분에서 분야별 해외도서수 + 컴퓨터 IT의 도서수를 합한 실질적결과는 다음과 같다.\n",
    "\n",
    "데이터 출처: naver 책검색\n",
    "```"
   ]
  },
  {
   "cell_type": "code",
   "execution_count": 181,
   "metadata": {},
   "outputs": [],
   "source": [
    "ratio = [3982, 8585, 14015, 4769, 5537, 2192, 6361, 7425, 9147, 2067]\n",
    "labels = ['Python', 'C', 'Java', 'JavaScript', 'C++', 'C#', 'Visual Basic', 'SQL', 'PHP', 'R']"
   ]
  },
  {
   "cell_type": "markdown",
   "metadata": {},
   "source": [
    "- 위 데이터는 실제 네이버 책의 검색에서 중복등의 데이터를 고려하지 않고 rough하게 분야별 검색된 도서의 수만 합한 결과이다\n",
    "- 저결과만 봐도 알수 있듯이 국내 java의 유행으로 java 관련 도서가 압도적으로 많은 것을 확인할 수 있었다."
   ]
  },
  {
   "cell_type": "code",
   "execution_count": 185,
   "metadata": {},
   "outputs": [
    {
     "data": {
      "text/plain": [
       "[6.21, 13.4, 21.87, 7.44, 8.64, 3.42, 9.93, 11.59, 14.27, 3.23]"
      ]
     },
     "execution_count": 185,
     "metadata": {},
     "output_type": "execute_result"
    }
   ],
   "source": [
    "real_ratio = []\n",
    "for item in ratio:\n",
    "    real_ratio.append(round(item/sum(ratio) * 100, 2))\n",
    "\n",
    "real_ratio"
   ]
  },
  {
   "cell_type": "code",
   "execution_count": 186,
   "metadata": {},
   "outputs": [
    {
     "data": {
      "image/png": "[encoded data removed]",
      "text/plain": [
       "<Figure size 720x720 with 2 Axes>"
      ]
     },
     "metadata": {
      "needs_background": "light"
     },
     "output_type": "display_data"
    }
   ],
   "source": [
    "plt.figure(figsize=(10, 10))\n",
    "plt.title('언어별 도서수(실제 naver 책 자료)')\n",
    "ax = plt.axes()\n",
    "ax.set_facecolor('white')\n",
    "plt.pie(real_ratio, labels=labels, autopct='%.2f%%')\n",
    "plt.show()"
   ]
  },
  {
   "cell_type": "markdown",
   "metadata": {},
   "source": [
    "```\n",
    "아까와는 확연한 차이를 느낄수 있다. 이런결과의 차이가 나는건 아마도 naver api 검색수 제한이 가장 큰 영향을 줫음을 알 수 있다.\n",
    "1000건에 대한 검색밖에 수행하지 못하므로 실제 검색해오지 못한 자료들이 많을수도 있다. 또한 키워드 별로 검색수가 천차만별로 차이가 나기 때문에\n",
    "실질적 분석을 위해선 더 많은 자료들을 수집해올 필요성이 있어보인다.\n",
    "```"
   ]
  },
  {
   "cell_type": "markdown",
   "metadata": {},
   "source": [
    "## 바 차트를 통한 분석"
   ]
  },
  {
   "cell_type": "code",
   "execution_count": 190,
   "metadata": {},
   "outputs": [
    {
     "data": {
      "text/html": [
       "<div>\n",
       "<style scoped>\n",
       "    .dataframe tbody tr th:only-of-type {\n",
       "        vertical-align: middle;\n",
       "    }\n",
       "\n",
       "    .dataframe tbody tr th {\n",
       "        vertical-align: top;\n",
       "    }\n",
       "\n",
       "    .dataframe thead th {\n",
       "        text-align: right;\n",
       "    }\n",
       "</style>\n",
       "<table border=\"1\" class=\"dataframe\">\n",
       "  <thead>\n",
       "    <tr style=\"text-align: right;\">\n",
       "      <th></th>\n",
       "      <th>언어</th>\n",
       "      <th>도서수</th>\n",
       "      <th>비율</th>\n",
       "    </tr>\n",
       "  </thead>\n",
       "  <tbody>\n",
       "    <tr>\n",
       "      <th>9</th>\n",
       "      <td>C++</td>\n",
       "      <td>887</td>\n",
       "      <td>6.985902</td>\n",
       "    </tr>\n",
       "    <tr>\n",
       "      <th>8</th>\n",
       "      <td>PHP</td>\n",
       "      <td>897</td>\n",
       "      <td>7.064661</td>\n",
       "    </tr>\n",
       "    <tr>\n",
       "      <th>7</th>\n",
       "      <td>SQL</td>\n",
       "      <td>915</td>\n",
       "      <td>7.206427</td>\n",
       "    </tr>\n",
       "    <tr>\n",
       "      <th>6</th>\n",
       "      <td>C#</td>\n",
       "      <td>934</td>\n",
       "      <td>7.356068</td>\n",
       "    </tr>\n",
       "    <tr>\n",
       "      <th>5</th>\n",
       "      <td>Visual Basic</td>\n",
       "      <td>958</td>\n",
       "      <td>7.545089</td>\n",
       "    </tr>\n",
       "    <tr>\n",
       "      <th>4</th>\n",
       "      <td>JavaScript</td>\n",
       "      <td>1249</td>\n",
       "      <td>9.836969</td>\n",
       "    </tr>\n",
       "    <tr>\n",
       "      <th>3</th>\n",
       "      <td>R</td>\n",
       "      <td>1385</td>\n",
       "      <td>10.908089</td>\n",
       "    </tr>\n",
       "    <tr>\n",
       "      <th>2</th>\n",
       "      <td>Java</td>\n",
       "      <td>1582</td>\n",
       "      <td>12.459636</td>\n",
       "    </tr>\n",
       "    <tr>\n",
       "      <th>1</th>\n",
       "      <td>C</td>\n",
       "      <td>1930</td>\n",
       "      <td>15.200441</td>\n",
       "    </tr>\n",
       "    <tr>\n",
       "      <th>0</th>\n",
       "      <td>Python</td>\n",
       "      <td>1960</td>\n",
       "      <td>15.436717</td>\n",
       "    </tr>\n",
       "  </tbody>\n",
       "</table>\n",
       "</div>"
      ],
      "text/plain": [
       "             언어   도서수         비율\n",
       "9           C++   887   6.985902\n",
       "8           PHP   897   7.064661\n",
       "7           SQL   915   7.206427\n",
       "6            C#   934   7.356068\n",
       "5  Visual Basic   958   7.545089\n",
       "4    JavaScript  1249   9.836969\n",
       "3             R  1385  10.908089\n",
       "2          Java  1582  12.459636\n",
       "1             C  1930  15.200441\n",
       "0        Python  1960  15.436717"
      ]
     },
     "execution_count": 190,
     "metadata": {},
     "output_type": "execute_result"
    }
   ],
   "source": [
    "rank_list = book_count.sort_values(\"비율\", ascending=True)\n",
    "rank_list"
   ]
  },
  {
   "cell_type": "code",
   "execution_count": 234,
   "metadata": {},
   "outputs": [
    {
     "name": "stderr",
     "output_type": "stream",
     "text": [
      "No handles with labels found to put in legend.\n"
     ]
    },
    {
     "data": {
      "image/png": "[encoded data removed]",
      "text/plain": [
       "<Figure size 1440x720 with 1 Axes>"
      ]
     },
     "metadata": {
      "needs_background": "light"
     },
     "output_type": "display_data"
    }
   ],
   "source": [
    "plt.figure(figsize=(20,10))\n",
    "colors = sns.color_palette('hls', len(rank_list[\"언어\"]))\n",
    "plt.barh(rank_list[\"언어\"], rank_list[\"비율\"], color=colors)\n",
    "plt.legend()\n",
    "plt.grid(True)\n",
    "plt.title('언어별 도서 비율')\n",
    "plt.xlabel(\"비율(%)\")\n",
    "plt.ylabel(\"언어\")\n",
    "plt.show()"
   ]
  },
  {
   "cell_type": "markdown",
   "metadata": {},
   "source": [
    "```\n",
    "API를 통해 얻은 데이터에 의하면 Python과 C 언어에 대한 도서가 가장 많은것으로 나오고 그 다음으로\n",
    "Java, R, JavaScript순으로 도서가 많다고 결과가 나오고 있다.\n",
    "```"
   ]
  },
  {
   "cell_type": "markdown",
   "metadata": {},
   "source": [
    "---"
   ]
  },
  {
   "cell_type": "markdown",
   "metadata": {},
   "source": [
    "# 문제4"
   ]
  },
  {
   "cell_type": "markdown",
   "metadata": {},
   "source": [
    "## 수집된 정보를 기반으로 우리나라 컴퓨터 언어 관련 출판사 순위 확인해 보기"
   ]
  },
  {
   "cell_type": "markdown",
   "metadata": {},
   "source": [
    "- 국내 출판사 순위의 기준은 가장 많은 도서를 출판한 출판사라 가정"
   ]
  },
  {
   "cell_type": "code",
   "execution_count": 199,
   "metadata": {},
   "outputs": [
    {
     "data": {
      "text/plain": [
       "에이콘출판              427\n",
       "한빛미디어              388\n",
       "PHP硏究所             343\n",
       "Wrox               313\n",
       "PacktPublishing    313\n",
       "                  ... \n",
       "책읽는수요일               1\n",
       "시크릿하우스               1\n",
       "힐북                   1\n",
       "한양대학교출판부             1\n",
       "LuluPress,Inc.       1\n",
       "Name: publisher, Length: 1569, dtype: int64"
      ]
     },
     "execution_count": 199,
     "metadata": {},
     "output_type": "execute_result"
    }
   ],
   "source": [
    "result_book[\"publisher\"].value_counts()"
   ]
  },
  {
   "cell_type": "code",
   "execution_count": 202,
   "metadata": {},
   "outputs": [
    {
     "data": {
      "text/plain": [
       "1569"
      ]
     },
     "execution_count": 202,
     "metadata": {},
     "output_type": "execute_result"
    }
   ],
   "source": [
    "pubisher_list = pd.DataFrame(data=result_book[\"publisher\"].value_counts())\n",
    "len(pubisher_list)"
   ]
  },
  {
   "cell_type": "code",
   "execution_count": 203,
   "metadata": {},
   "outputs": [
    {
     "data": {
      "text/html": [
       "<div>\n",
       "<style scoped>\n",
       "    .dataframe tbody tr th:only-of-type {\n",
       "        vertical-align: middle;\n",
       "    }\n",
       "\n",
       "    .dataframe tbody tr th {\n",
       "        vertical-align: top;\n",
       "    }\n",
       "\n",
       "    .dataframe thead th {\n",
       "        text-align: right;\n",
       "    }\n",
       "</style>\n",
       "<table border=\"1\" class=\"dataframe\">\n",
       "  <thead>\n",
       "    <tr style=\"text-align: right;\">\n",
       "      <th></th>\n",
       "      <th>index</th>\n",
       "      <th>publisher</th>\n",
       "    </tr>\n",
       "  </thead>\n",
       "  <tbody>\n",
       "    <tr>\n",
       "      <th>0</th>\n",
       "      <td>에이콘출판</td>\n",
       "      <td>427</td>\n",
       "    </tr>\n",
       "    <tr>\n",
       "      <th>1</th>\n",
       "      <td>한빛미디어</td>\n",
       "      <td>388</td>\n",
       "    </tr>\n",
       "    <tr>\n",
       "      <th>2</th>\n",
       "      <td>PHP硏究所</td>\n",
       "      <td>343</td>\n",
       "    </tr>\n",
       "    <tr>\n",
       "      <th>3</th>\n",
       "      <td>Wrox</td>\n",
       "      <td>313</td>\n",
       "    </tr>\n",
       "    <tr>\n",
       "      <th>4</th>\n",
       "      <td>PacktPublishing</td>\n",
       "      <td>313</td>\n",
       "    </tr>\n",
       "  </tbody>\n",
       "</table>\n",
       "</div>"
      ],
      "text/plain": [
       "             index  publisher\n",
       "0            에이콘출판        427\n",
       "1            한빛미디어        388\n",
       "2           PHP硏究所        343\n",
       "3             Wrox        313\n",
       "4  PacktPublishing        313"
      ]
     },
     "execution_count": 203,
     "metadata": {},
     "output_type": "execute_result"
    }
   ],
   "source": [
    "pubisher_list.reset_index(inplace=True)\n",
    "pubisher_list.head()"
   ]
  },
  {
   "cell_type": "code",
   "execution_count": 204,
   "metadata": {},
   "outputs": [
    {
     "data": {
      "text/html": [
       "<div>\n",
       "<style scoped>\n",
       "    .dataframe tbody tr th:only-of-type {\n",
       "        vertical-align: middle;\n",
       "    }\n",
       "\n",
       "    .dataframe tbody tr th {\n",
       "        vertical-align: top;\n",
       "    }\n",
       "\n",
       "    .dataframe thead th {\n",
       "        text-align: right;\n",
       "    }\n",
       "</style>\n",
       "<table border=\"1\" class=\"dataframe\">\n",
       "  <thead>\n",
       "    <tr style=\"text-align: right;\">\n",
       "      <th></th>\n",
       "      <th>출판사</th>\n",
       "      <th>도서수</th>\n",
       "    </tr>\n",
       "  </thead>\n",
       "  <tbody>\n",
       "    <tr>\n",
       "      <th>1564</th>\n",
       "      <td>책읽는수요일</td>\n",
       "      <td>1</td>\n",
       "    </tr>\n",
       "    <tr>\n",
       "      <th>1565</th>\n",
       "      <td>시크릿하우스</td>\n",
       "      <td>1</td>\n",
       "    </tr>\n",
       "    <tr>\n",
       "      <th>1566</th>\n",
       "      <td>힐북</td>\n",
       "      <td>1</td>\n",
       "    </tr>\n",
       "    <tr>\n",
       "      <th>1567</th>\n",
       "      <td>한양대학교출판부</td>\n",
       "      <td>1</td>\n",
       "    </tr>\n",
       "    <tr>\n",
       "      <th>1568</th>\n",
       "      <td>LuluPress,Inc.</td>\n",
       "      <td>1</td>\n",
       "    </tr>\n",
       "  </tbody>\n",
       "</table>\n",
       "</div>"
      ],
      "text/plain": [
       "                 출판사  도서수\n",
       "1564          책읽는수요일    1\n",
       "1565          시크릿하우스    1\n",
       "1566              힐북    1\n",
       "1567        한양대학교출판부    1\n",
       "1568  LuluPress,Inc.    1"
      ]
     },
     "execution_count": 204,
     "metadata": {},
     "output_type": "execute_result"
    }
   ],
   "source": [
    "pubisher_list.rename(columns={\"index\": \"출판사\", \"publisher\": \"도서수\"}, inplace=True)\n",
    "pubisher_list.tail()"
   ]
  },
  {
   "cell_type": "markdown",
   "metadata": {},
   "source": [
    "- 위 데이터는 전세계 출판사가 섞여 있다. 여기서 한국 출판사만 필터링 해보도록 하자"
   ]
  },
  {
   "cell_type": "code",
   "execution_count": 205,
   "metadata": {},
   "outputs": [
    {
     "data": {
      "text/html": [
       "<div>\n",
       "<style scoped>\n",
       "    .dataframe tbody tr th:only-of-type {\n",
       "        vertical-align: middle;\n",
       "    }\n",
       "\n",
       "    .dataframe tbody tr th {\n",
       "        vertical-align: top;\n",
       "    }\n",
       "\n",
       "    .dataframe thead th {\n",
       "        text-align: right;\n",
       "    }\n",
       "</style>\n",
       "<table border=\"1\" class=\"dataframe\">\n",
       "  <thead>\n",
       "    <tr style=\"text-align: right;\">\n",
       "      <th></th>\n",
       "      <th>출판사</th>\n",
       "      <th>도서수</th>\n",
       "    </tr>\n",
       "  </thead>\n",
       "  <tbody>\n",
       "    <tr>\n",
       "      <th>0</th>\n",
       "      <td>에이콘출판</td>\n",
       "      <td>427</td>\n",
       "    </tr>\n",
       "    <tr>\n",
       "      <th>1</th>\n",
       "      <td>한빛미디어</td>\n",
       "      <td>388</td>\n",
       "    </tr>\n",
       "    <tr>\n",
       "      <th>5</th>\n",
       "      <td>정보문화사</td>\n",
       "      <td>252</td>\n",
       "    </tr>\n",
       "    <tr>\n",
       "      <th>6</th>\n",
       "      <td>영진닷컴</td>\n",
       "      <td>231</td>\n",
       "    </tr>\n",
       "    <tr>\n",
       "      <th>8</th>\n",
       "      <td>위키북스</td>\n",
       "      <td>172</td>\n",
       "    </tr>\n",
       "    <tr>\n",
       "      <th>...</th>\n",
       "      <td>...</td>\n",
       "      <td>...</td>\n",
       "    </tr>\n",
       "    <tr>\n",
       "      <th>1563</th>\n",
       "      <td>DK로드북스</td>\n",
       "      <td>1</td>\n",
       "    </tr>\n",
       "    <tr>\n",
       "      <th>1564</th>\n",
       "      <td>책읽는수요일</td>\n",
       "      <td>1</td>\n",
       "    </tr>\n",
       "    <tr>\n",
       "      <th>1565</th>\n",
       "      <td>시크릿하우스</td>\n",
       "      <td>1</td>\n",
       "    </tr>\n",
       "    <tr>\n",
       "      <th>1566</th>\n",
       "      <td>힐북</td>\n",
       "      <td>1</td>\n",
       "    </tr>\n",
       "    <tr>\n",
       "      <th>1567</th>\n",
       "      <td>한양대학교출판부</td>\n",
       "      <td>1</td>\n",
       "    </tr>\n",
       "  </tbody>\n",
       "</table>\n",
       "<p>678 rows × 2 columns</p>\n",
       "</div>"
      ],
      "text/plain": [
       "           출판사  도서수\n",
       "0        에이콘출판  427\n",
       "1        한빛미디어  388\n",
       "5        정보문화사  252\n",
       "6         영진닷컴  231\n",
       "8         위키북스  172\n",
       "...        ...  ...\n",
       "1563    DK로드북스    1\n",
       "1564    책읽는수요일    1\n",
       "1565    시크릿하우스    1\n",
       "1566        힐북    1\n",
       "1567  한양대학교출판부    1\n",
       "\n",
       "[678 rows x 2 columns]"
      ]
     },
     "execution_count": 205,
     "metadata": {},
     "output_type": "execute_result"
    }
   ],
   "source": [
    "pubisher_list[pubisher_list[\"출판사\"].str.contains(r'[가-힣]')]"
   ]
  },
  {
   "cell_type": "code",
   "execution_count": 206,
   "metadata": {},
   "outputs": [
    {
     "data": {
      "text/plain": [
       "678"
      ]
     },
     "execution_count": 206,
     "metadata": {},
     "output_type": "execute_result"
    }
   ],
   "source": [
    "len(pubisher_list[pubisher_list[\"출판사\"].str.contains(r'[가-힣]')])"
   ]
  },
  {
   "cell_type": "code",
   "execution_count": 207,
   "metadata": {},
   "outputs": [
    {
     "data": {
      "text/html": [
       "<div>\n",
       "<style scoped>\n",
       "    .dataframe tbody tr th:only-of-type {\n",
       "        vertical-align: middle;\n",
       "    }\n",
       "\n",
       "    .dataframe tbody tr th {\n",
       "        vertical-align: top;\n",
       "    }\n",
       "\n",
       "    .dataframe thead th {\n",
       "        text-align: right;\n",
       "    }\n",
       "</style>\n",
       "<table border=\"1\" class=\"dataframe\">\n",
       "  <thead>\n",
       "    <tr style=\"text-align: right;\">\n",
       "      <th></th>\n",
       "      <th>index</th>\n",
       "      <th>출판사</th>\n",
       "      <th>도서수</th>\n",
       "    </tr>\n",
       "  </thead>\n",
       "  <tbody>\n",
       "    <tr>\n",
       "      <th>673</th>\n",
       "      <td>1563</td>\n",
       "      <td>DK로드북스</td>\n",
       "      <td>1</td>\n",
       "    </tr>\n",
       "    <tr>\n",
       "      <th>674</th>\n",
       "      <td>1564</td>\n",
       "      <td>책읽는수요일</td>\n",
       "      <td>1</td>\n",
       "    </tr>\n",
       "    <tr>\n",
       "      <th>675</th>\n",
       "      <td>1565</td>\n",
       "      <td>시크릿하우스</td>\n",
       "      <td>1</td>\n",
       "    </tr>\n",
       "    <tr>\n",
       "      <th>676</th>\n",
       "      <td>1566</td>\n",
       "      <td>힐북</td>\n",
       "      <td>1</td>\n",
       "    </tr>\n",
       "    <tr>\n",
       "      <th>677</th>\n",
       "      <td>1567</td>\n",
       "      <td>한양대학교출판부</td>\n",
       "      <td>1</td>\n",
       "    </tr>\n",
       "  </tbody>\n",
       "</table>\n",
       "</div>"
      ],
      "text/plain": [
       "     index       출판사  도서수\n",
       "673   1563    DK로드북스    1\n",
       "674   1564    책읽는수요일    1\n",
       "675   1565    시크릿하우스    1\n",
       "676   1566        힐북    1\n",
       "677   1567  한양대학교출판부    1"
      ]
     },
     "execution_count": 207,
     "metadata": {},
     "output_type": "execute_result"
    }
   ],
   "source": [
    "korea_publisher = pubisher_list[pubisher_list[\"출판사\"].str.contains(r'[가-힣]')]\n",
    "korea_publisher.reset_index(inplace=True)\n",
    "korea_publisher.tail()"
   ]
  },
  {
   "cell_type": "code",
   "execution_count": 208,
   "metadata": {},
   "outputs": [],
   "source": [
    "del korea_publisher[\"index\"]"
   ]
  },
  {
   "cell_type": "code",
   "execution_count": 209,
   "metadata": {},
   "outputs": [
    {
     "data": {
      "text/html": [
       "<div>\n",
       "<style scoped>\n",
       "    .dataframe tbody tr th:only-of-type {\n",
       "        vertical-align: middle;\n",
       "    }\n",
       "\n",
       "    .dataframe tbody tr th {\n",
       "        vertical-align: top;\n",
       "    }\n",
       "\n",
       "    .dataframe thead th {\n",
       "        text-align: right;\n",
       "    }\n",
       "</style>\n",
       "<table border=\"1\" class=\"dataframe\">\n",
       "  <thead>\n",
       "    <tr style=\"text-align: right;\">\n",
       "      <th></th>\n",
       "      <th>출판사</th>\n",
       "      <th>도서수</th>\n",
       "    </tr>\n",
       "  </thead>\n",
       "  <tbody>\n",
       "    <tr>\n",
       "      <th>673</th>\n",
       "      <td>DK로드북스</td>\n",
       "      <td>1</td>\n",
       "    </tr>\n",
       "    <tr>\n",
       "      <th>674</th>\n",
       "      <td>책읽는수요일</td>\n",
       "      <td>1</td>\n",
       "    </tr>\n",
       "    <tr>\n",
       "      <th>675</th>\n",
       "      <td>시크릿하우스</td>\n",
       "      <td>1</td>\n",
       "    </tr>\n",
       "    <tr>\n",
       "      <th>676</th>\n",
       "      <td>힐북</td>\n",
       "      <td>1</td>\n",
       "    </tr>\n",
       "    <tr>\n",
       "      <th>677</th>\n",
       "      <td>한양대학교출판부</td>\n",
       "      <td>1</td>\n",
       "    </tr>\n",
       "  </tbody>\n",
       "</table>\n",
       "</div>"
      ],
      "text/plain": [
       "          출판사  도서수\n",
       "673    DK로드북스    1\n",
       "674    책읽는수요일    1\n",
       "675    시크릿하우스    1\n",
       "676        힐북    1\n",
       "677  한양대학교출판부    1"
      ]
     },
     "execution_count": 209,
     "metadata": {},
     "output_type": "execute_result"
    }
   ],
   "source": [
    "korea_publisher.tail()"
   ]
  },
  {
   "cell_type": "code",
   "execution_count": 210,
   "metadata": {},
   "outputs": [
    {
     "name": "stdout",
     "output_type": "stream",
     "text": [
      "<class 'pandas.core.frame.DataFrame'>\n",
      "RangeIndex: 678 entries, 0 to 677\n",
      "Data columns (total 2 columns):\n",
      " #   Column  Non-Null Count  Dtype \n",
      "---  ------  --------------  ----- \n",
      " 0   출판사     678 non-null    object\n",
      " 1   도서수     678 non-null    int64 \n",
      "dtypes: int64(1), object(1)\n",
      "memory usage: 10.7+ KB\n"
     ]
    }
   ],
   "source": [
    "korea_publisher.info()"
   ]
  },
  {
   "cell_type": "code",
   "execution_count": 211,
   "metadata": {},
   "outputs": [
    {
     "data": {
      "text/html": [
       "<div>\n",
       "<style scoped>\n",
       "    .dataframe tbody tr th:only-of-type {\n",
       "        vertical-align: middle;\n",
       "    }\n",
       "\n",
       "    .dataframe tbody tr th {\n",
       "        vertical-align: top;\n",
       "    }\n",
       "\n",
       "    .dataframe thead th {\n",
       "        text-align: right;\n",
       "    }\n",
       "</style>\n",
       "<table border=\"1\" class=\"dataframe\">\n",
       "  <thead>\n",
       "    <tr style=\"text-align: right;\">\n",
       "      <th></th>\n",
       "      <th>도서수</th>\n",
       "    </tr>\n",
       "  </thead>\n",
       "  <tbody>\n",
       "    <tr>\n",
       "      <th>count</th>\n",
       "      <td>678.000000</td>\n",
       "    </tr>\n",
       "    <tr>\n",
       "      <th>mean</th>\n",
       "      <td>8.325959</td>\n",
       "    </tr>\n",
       "    <tr>\n",
       "      <th>std</th>\n",
       "      <td>29.764387</td>\n",
       "    </tr>\n",
       "    <tr>\n",
       "      <th>min</th>\n",
       "      <td>1.000000</td>\n",
       "    </tr>\n",
       "    <tr>\n",
       "      <th>25%</th>\n",
       "      <td>1.000000</td>\n",
       "    </tr>\n",
       "    <tr>\n",
       "      <th>50%</th>\n",
       "      <td>2.000000</td>\n",
       "    </tr>\n",
       "    <tr>\n",
       "      <th>75%</th>\n",
       "      <td>4.000000</td>\n",
       "    </tr>\n",
       "    <tr>\n",
       "      <th>max</th>\n",
       "      <td>427.000000</td>\n",
       "    </tr>\n",
       "  </tbody>\n",
       "</table>\n",
       "</div>"
      ],
      "text/plain": [
       "              도서수\n",
       "count  678.000000\n",
       "mean     8.325959\n",
       "std     29.764387\n",
       "min      1.000000\n",
       "25%      1.000000\n",
       "50%      2.000000\n",
       "75%      4.000000\n",
       "max    427.000000"
      ]
     },
     "execution_count": 211,
     "metadata": {},
     "output_type": "execute_result"
    }
   ],
   "source": [
    "korea_publisher.describe()"
   ]
  },
  {
   "cell_type": "code",
   "execution_count": 214,
   "metadata": {},
   "outputs": [
    {
     "data": {
      "text/html": [
       "<div>\n",
       "<style scoped>\n",
       "    .dataframe tbody tr th:only-of-type {\n",
       "        vertical-align: middle;\n",
       "    }\n",
       "\n",
       "    .dataframe tbody tr th {\n",
       "        vertical-align: top;\n",
       "    }\n",
       "\n",
       "    .dataframe thead th {\n",
       "        text-align: right;\n",
       "    }\n",
       "</style>\n",
       "<table border=\"1\" class=\"dataframe\">\n",
       "  <thead>\n",
       "    <tr style=\"text-align: right;\">\n",
       "      <th></th>\n",
       "      <th>출판사</th>\n",
       "      <th>도서수</th>\n",
       "    </tr>\n",
       "  </thead>\n",
       "  <tbody>\n",
       "    <tr>\n",
       "      <th>0</th>\n",
       "      <td>에이콘출판</td>\n",
       "      <td>427</td>\n",
       "    </tr>\n",
       "    <tr>\n",
       "      <th>1</th>\n",
       "      <td>한빛미디어</td>\n",
       "      <td>388</td>\n",
       "    </tr>\n",
       "    <tr>\n",
       "      <th>2</th>\n",
       "      <td>정보문화사</td>\n",
       "      <td>252</td>\n",
       "    </tr>\n",
       "    <tr>\n",
       "      <th>3</th>\n",
       "      <td>영진닷컴</td>\n",
       "      <td>231</td>\n",
       "    </tr>\n",
       "    <tr>\n",
       "      <th>4</th>\n",
       "      <td>위키북스</td>\n",
       "      <td>172</td>\n",
       "    </tr>\n",
       "    <tr>\n",
       "      <th>5</th>\n",
       "      <td>길벗</td>\n",
       "      <td>161</td>\n",
       "    </tr>\n",
       "    <tr>\n",
       "      <th>6</th>\n",
       "      <td>성안당</td>\n",
       "      <td>119</td>\n",
       "    </tr>\n",
       "    <tr>\n",
       "      <th>7</th>\n",
       "      <td>제이펍</td>\n",
       "      <td>108</td>\n",
       "    </tr>\n",
       "    <tr>\n",
       "      <th>8</th>\n",
       "      <td>인사이트</td>\n",
       "      <td>94</td>\n",
       "    </tr>\n",
       "    <tr>\n",
       "      <th>9</th>\n",
       "      <td>홍릉과학출판사</td>\n",
       "      <td>94</td>\n",
       "    </tr>\n",
       "  </tbody>\n",
       "</table>\n",
       "</div>"
      ],
      "text/plain": [
       "       출판사  도서수\n",
       "0    에이콘출판  427\n",
       "1    한빛미디어  388\n",
       "2    정보문화사  252\n",
       "3     영진닷컴  231\n",
       "4     위키북스  172\n",
       "5       길벗  161\n",
       "6      성안당  119\n",
       "7      제이펍  108\n",
       "8     인사이트   94\n",
       "9  홍릉과학출판사   94"
      ]
     },
     "execution_count": 214,
     "metadata": {},
     "output_type": "execute_result"
    }
   ],
   "source": [
    "korea_publisher.head(10)"
   ]
  },
  {
   "cell_type": "markdown",
   "metadata": {},
   "source": [
    "- 개략적으로 살펴보면 출판 도서수의 중간값은 8권 정도, 4권 정도만 출판한 출판사는 전체 75퍼센트에해당한다.\n",
    "위 데이터를 보면 알 수 있듯이 대부분 소수의 출판사가 거의 대부분의 책을 내고 있음을 알 수 있다."
   ]
  },
  {
   "cell_type": "markdown",
   "metadata": {},
   "source": [
    "### 시각화"
   ]
  },
  {
   "cell_type": "markdown",
   "metadata": {},
   "source": [
    "- 실제 출판사는 678개 이나 상위 30 군데의 데이터만 차트를 통해확인해 보도록 한다.\n",
    "(안그러면 그래프 가독성이 너무 떨어짐)"
   ]
  },
  {
   "cell_type": "code",
   "execution_count": 230,
   "metadata": {},
   "outputs": [],
   "source": [
    "tmp_kor = korea_publisher.iloc[:30]"
   ]
  },
  {
   "cell_type": "code",
   "execution_count": 231,
   "metadata": {},
   "outputs": [
    {
     "data": {
      "text/html": [
       "<div>\n",
       "<style scoped>\n",
       "    .dataframe tbody tr th:only-of-type {\n",
       "        vertical-align: middle;\n",
       "    }\n",
       "\n",
       "    .dataframe tbody tr th {\n",
       "        vertical-align: top;\n",
       "    }\n",
       "\n",
       "    .dataframe thead th {\n",
       "        text-align: right;\n",
       "    }\n",
       "</style>\n",
       "<table border=\"1\" class=\"dataframe\">\n",
       "  <thead>\n",
       "    <tr style=\"text-align: right;\">\n",
       "      <th></th>\n",
       "      <th>출판사</th>\n",
       "      <th>도서수</th>\n",
       "    </tr>\n",
       "  </thead>\n",
       "  <tbody>\n",
       "    <tr>\n",
       "      <th>25</th>\n",
       "      <td>퍼플</td>\n",
       "      <td>40</td>\n",
       "    </tr>\n",
       "    <tr>\n",
       "      <th>26</th>\n",
       "      <td>복두출판사</td>\n",
       "      <td>38</td>\n",
       "    </tr>\n",
       "    <tr>\n",
       "      <th>27</th>\n",
       "      <td>북스홀릭퍼블리싱</td>\n",
       "      <td>38</td>\n",
       "    </tr>\n",
       "    <tr>\n",
       "      <th>28</th>\n",
       "      <td>사이버출판사</td>\n",
       "      <td>38</td>\n",
       "    </tr>\n",
       "    <tr>\n",
       "      <th>29</th>\n",
       "      <td>기전연구사</td>\n",
       "      <td>36</td>\n",
       "    </tr>\n",
       "  </tbody>\n",
       "</table>\n",
       "</div>"
      ],
      "text/plain": [
       "         출판사  도서수\n",
       "25        퍼플   40\n",
       "26     복두출판사   38\n",
       "27  북스홀릭퍼블리싱   38\n",
       "28    사이버출판사   38\n",
       "29     기전연구사   36"
      ]
     },
     "execution_count": 231,
     "metadata": {},
     "output_type": "execute_result"
    }
   ],
   "source": [
    "tmp_kor.tail()"
   ]
  },
  {
   "cell_type": "code",
   "execution_count": 235,
   "metadata": {},
   "outputs": [
    {
     "data": {
      "image/png": "[encoded data removed]",
      "text/plain": [
       "<Figure size 1440x720 with 1 Axes>"
      ]
     },
     "metadata": {
      "needs_background": "light"
     },
     "output_type": "display_data"
    }
   ],
   "source": [
    "plt.figure(figsize=(20,10))\n",
    "colors = sns.color_palette('hls', len(tmp_kor[\"출판사\"]))\n",
    "plt.bar(tmp_kor[\"출판사\"], tmp_kor[\"도서수\"], color=colors)\n",
    "plt.title('출판사별 출판 도서수')\n",
    "plt.xlabel(\"출판사\")\n",
    "plt.ylabel(\"도서 권수(권)\")\n",
    "plt.xticks(rotation=90)\n",
    "plt.show()"
   ]
  },
  {
   "cell_type": "markdown",
   "metadata": {},
   "source": [
    "```\n",
    "위 결과를 보면 75퍼센트의 출판사는 평균 1권정도의 책을 출간했으나 상위 30군대의 출판사는 적개는 50권 많게는 400권이 넘는 책을 출간했다.\n",
    "특이 에이콘출판, 한빛미디어는 압도적으로 많은 책을 출간했다.\n",
    "```"
   ]
  },
  {
   "cell_type": "markdown",
   "metadata": {},
   "source": [
    "---"
   ]
  },
  {
   "cell_type": "markdown",
   "metadata": {},
   "source": [
    "# 문제 5\n",
    "\n",
    "## 출판일 기준 20년, 21년 그리고 17,18,19년 데이터를 비교해서 특이점 찾아보기"
   ]
  },
  {
   "cell_type": "code",
   "execution_count": 236,
   "metadata": {},
   "outputs": [
    {
     "name": "stdout",
     "output_type": "stream",
     "text": [
      "<class 'pandas.core.frame.DataFrame'>\n",
      "RangeIndex: 12697 entries, 0 to 12696\n",
      "Data columns (total 8 columns):\n",
      " #   Column     Non-Null Count  Dtype  \n",
      "---  ------     --------------  -----  \n",
      " 0   index      12697 non-null  int64  \n",
      " 1   keyword    12697 non-null  object \n",
      " 2   title      12697 non-null  object \n",
      " 3   publisher  12696 non-null  object \n",
      " 4   price      12681 non-null  float64\n",
      " 5   discount   6474 non-null   float64\n",
      " 6   pubdate    12689 non-null  object \n",
      " 7   isbn       12696 non-null  object \n",
      "dtypes: float64(2), int64(1), object(5)\n",
      "memory usage: 793.7+ KB\n"
     ]
    }
   ],
   "source": [
    "result_book.info()"
   ]
  },
  {
   "cell_type": "markdown",
   "metadata": {},
   "source": [
    "- pubdate 칼럼 datetime으로 변환하기\n",
    "- csv파일을 열어보면 discount 데이터가 없는경우 pubdate가 밀려간 경우가 있엇다.\n",
    "- 이 결측치들을 다시한번 정리하도록 한다.\n",
    "- 하지만 예외인 경우가 너무 많아 앞의 연도만 잘라와 새로운 그룹을 만들도록 하겠다."
   ]
  },
  {
   "cell_type": "code",
   "execution_count": 302,
   "metadata": {},
   "outputs": [
    {
     "data": {
      "text/plain": [
       "2500"
      ]
     },
     "execution_count": 302,
     "metadata": {},
     "output_type": "execute_result"
    }
   ],
   "source": [
    "# 2021년, 2020년 출판된 게시물\n",
    "\n",
    "group1 = []\n",
    "for idx, row in result_book.iterrows():\n",
    "    if str(row[\"pubdate\"])[:4] == '2020' or str(row[\"pubdate\"])[:4] == '2021':\n",
    "        group1.append(row)\n",
    "\n",
    "len(group1)"
   ]
  },
  {
   "cell_type": "code",
   "execution_count": 303,
   "metadata": {},
   "outputs": [
    {
     "data": {
      "text/plain": [
       "2083"
      ]
     },
     "execution_count": 303,
     "metadata": {},
     "output_type": "execute_result"
    }
   ],
   "source": [
    "# 2017년 ~ 2019년 출판된 게시물\n",
    "\n",
    "group2 = []\n",
    "for idx, row in result_book.iterrows():\n",
    "    if str(row[\"pubdate\"])[:4] == '2017' or str(row[\"pubdate\"])[:4] == '2018' or str(row[\"pubdate\"])[:4] == '2019':\n",
    "        group2.append(row)\n",
    "\n",
    "len(group2)"
   ]
  },
  {
   "cell_type": "markdown",
   "metadata": {},
   "source": [
    "- 위 데이터를 보면 2017년부터 2019년까지 3년간 출판된 책보다 2020년부터 올해까지 출간된 책이 더 많음을 알 수 있다."
   ]
  },
  {
   "cell_type": "code",
   "execution_count": 307,
   "metadata": {},
   "outputs": [
    {
     "data": {
      "text/html": [
       "<div>\n",
       "<style scoped>\n",
       "    .dataframe tbody tr th:only-of-type {\n",
       "        vertical-align: middle;\n",
       "    }\n",
       "\n",
       "    .dataframe tbody tr th {\n",
       "        vertical-align: top;\n",
       "    }\n",
       "\n",
       "    .dataframe thead th {\n",
       "        text-align: right;\n",
       "    }\n",
       "</style>\n",
       "<table border=\"1\" class=\"dataframe\">\n",
       "  <thead>\n",
       "    <tr style=\"text-align: right;\">\n",
       "      <th></th>\n",
       "      <th>index</th>\n",
       "      <th>keyword</th>\n",
       "      <th>title</th>\n",
       "      <th>publisher</th>\n",
       "      <th>price</th>\n",
       "      <th>discount</th>\n",
       "      <th>pubdate</th>\n",
       "      <th>isbn</th>\n",
       "    </tr>\n",
       "  </thead>\n",
       "  <tbody>\n",
       "    <tr>\n",
       "      <th>0</th>\n",
       "      <td>0</td>\n",
       "      <td>Python</td>\n",
       "      <td>Effective Python 2nd 이펙티브 파이썬 : 파이썬 코딩의 기술 (똑똑...</td>\n",
       "      <td>길벗</td>\n",
       "      <td>32000.0</td>\n",
       "      <td>28800.0</td>\n",
       "      <td>20201030</td>\n",
       "      <td>1165213192 9791165213190</td>\n",
       "    </tr>\n",
       "    <tr>\n",
       "      <th>1</th>\n",
       "      <td>1</td>\n",
       "      <td>Python</td>\n",
       "      <td>파이썬 딥러닝 파이토치(Python Deep Learning PyTorch)</td>\n",
       "      <td>정보문화사</td>\n",
       "      <td>25000.0</td>\n",
       "      <td>22500.0</td>\n",
       "      <td>20201008</td>\n",
       "      <td>8956748578 9788956748573</td>\n",
       "    </tr>\n",
       "    <tr>\n",
       "      <th>2</th>\n",
       "      <td>2</td>\n",
       "      <td>Python</td>\n",
       "      <td>Intuitive Python: Productive Development for P...</td>\n",
       "      <td>PragmaticBookshelf</td>\n",
       "      <td>38060.0</td>\n",
       "      <td>NaN</td>\n",
       "      <td>20211005</td>\n",
       "      <td>1680508237 9781680508239</td>\n",
       "    </tr>\n",
       "    <tr>\n",
       "      <th>3</th>\n",
       "      <td>3</td>\n",
       "      <td>Python</td>\n",
       "      <td>Python으로 시작하는 빅데이터분석 및 인공지능 (개정판)</td>\n",
       "      <td>인피니티북스</td>\n",
       "      <td>26000.0</td>\n",
       "      <td>25500.0</td>\n",
       "      <td>20210225</td>\n",
       "      <td>118557879X 9791185578798</td>\n",
       "    </tr>\n",
       "    <tr>\n",
       "      <th>4</th>\n",
       "      <td>4</td>\n",
       "      <td>Python</td>\n",
       "      <td>Fluent Python: Clear, Concise, and Effective P...</td>\n",
       "      <td>O'ReillyMedia</td>\n",
       "      <td>99730.0</td>\n",
       "      <td>NaN</td>\n",
       "      <td>20211019</td>\n",
       "      <td>1492056359 9781492056355</td>\n",
       "    </tr>\n",
       "  </tbody>\n",
       "</table>\n",
       "</div>"
      ],
      "text/plain": [
       "   index keyword                                              title  \\\n",
       "0      0  Python  Effective Python 2nd 이펙티브 파이썬 : 파이썬 코딩의 기술 (똑똑...   \n",
       "1      1  Python         파이썬 딥러닝 파이토치(Python Deep Learning PyTorch)   \n",
       "2      2  Python  Intuitive Python: Productive Development for P...   \n",
       "3      3  Python                  Python으로 시작하는 빅데이터분석 및 인공지능 (개정판)   \n",
       "4      4  Python  Fluent Python: Clear, Concise, and Effective P...   \n",
       "\n",
       "            publisher    price  discount   pubdate                      isbn  \n",
       "0                  길벗  32000.0   28800.0  20201030  1165213192 9791165213190  \n",
       "1               정보문화사  25000.0   22500.0  20201008  8956748578 9788956748573  \n",
       "2  PragmaticBookshelf  38060.0       NaN  20211005  1680508237 9781680508239  \n",
       "3              인피니티북스  26000.0   25500.0  20210225  118557879X 9791185578798  \n",
       "4       O'ReillyMedia  99730.0       NaN  20211019  1492056359 9781492056355  "
      ]
     },
     "execution_count": 307,
     "metadata": {},
     "output_type": "execute_result"
    }
   ],
   "source": [
    "group_one = pd.DataFrame(data=group1)\n",
    "group_one.head()"
   ]
  },
  {
   "cell_type": "code",
   "execution_count": 308,
   "metadata": {},
   "outputs": [
    {
     "data": {
      "text/html": [
       "<div>\n",
       "<style scoped>\n",
       "    .dataframe tbody tr th:only-of-type {\n",
       "        vertical-align: middle;\n",
       "    }\n",
       "\n",
       "    .dataframe tbody tr th {\n",
       "        vertical-align: top;\n",
       "    }\n",
       "\n",
       "    .dataframe thead th {\n",
       "        text-align: right;\n",
       "    }\n",
       "</style>\n",
       "<table border=\"1\" class=\"dataframe\">\n",
       "  <thead>\n",
       "    <tr style=\"text-align: right;\">\n",
       "      <th></th>\n",
       "      <th>keyword</th>\n",
       "      <th>title</th>\n",
       "      <th>publisher</th>\n",
       "      <th>price</th>\n",
       "      <th>discount</th>\n",
       "      <th>pubdate</th>\n",
       "      <th>isbn</th>\n",
       "    </tr>\n",
       "  </thead>\n",
       "  <tbody>\n",
       "    <tr>\n",
       "      <th>12010</th>\n",
       "      <td>PHP</td>\n",
       "      <td>PHPくらしラク~る♪ 2020年3月號</td>\n",
       "      <td>PHP硏究所</td>\n",
       "      <td>4980.0</td>\n",
       "      <td>4980.0</td>\n",
       "      <td>20200207</td>\n",
       "      <td>0076650308 4910076650305</td>\n",
       "    </tr>\n",
       "    <tr>\n",
       "      <th>12011</th>\n",
       "      <td>PHP</td>\n",
       "      <td>PHPからだスマイル 2020年3月號</td>\n",
       "      <td>PHP硏究所</td>\n",
       "      <td>5880.0</td>\n",
       "      <td>5880.0</td>\n",
       "      <td>20200207</td>\n",
       "      <td>0177050306 4910177050301</td>\n",
       "    </tr>\n",
       "    <tr>\n",
       "      <th>12012</th>\n",
       "      <td>PHP</td>\n",
       "      <td>PHPスペシャル 2020年2月號</td>\n",
       "      <td>PHP硏究所</td>\n",
       "      <td>4950.0</td>\n",
       "      <td>4920.0</td>\n",
       "      <td>20200109</td>\n",
       "      <td>0076550206 4910076550209</td>\n",
       "    </tr>\n",
       "    <tr>\n",
       "      <th>12017</th>\n",
       "      <td>PHP</td>\n",
       "      <td>PHPからだスマイル 2020年2月號</td>\n",
       "      <td>PHP硏究所</td>\n",
       "      <td>5920.0</td>\n",
       "      <td>5880.0</td>\n",
       "      <td>20200109</td>\n",
       "      <td>0177050209 4910177050202</td>\n",
       "    </tr>\n",
       "    <tr>\n",
       "      <th>12018</th>\n",
       "      <td>PHP</td>\n",
       "      <td>PHPくらしラク~る♪ 2020年2月號</td>\n",
       "      <td>PHP硏究所</td>\n",
       "      <td>5010.0</td>\n",
       "      <td>4980.0</td>\n",
       "      <td>20200109</td>\n",
       "      <td>0076650200 4910076650206</td>\n",
       "    </tr>\n",
       "  </tbody>\n",
       "</table>\n",
       "</div>"
      ],
      "text/plain": [
       "      keyword                 title publisher   price  discount   pubdate  \\\n",
       "12010     PHP  PHPくらしラク~る♪ 2020年3月號    PHP硏究所  4980.0    4980.0  20200207   \n",
       "12011     PHP   PHPからだスマイル 2020年3月號    PHP硏究所  5880.0    5880.0  20200207   \n",
       "12012     PHP     PHPスペシャル 2020年2月號    PHP硏究所  4950.0    4920.0  20200109   \n",
       "12017     PHP   PHPからだスマイル 2020年2月號    PHP硏究所  5920.0    5880.0  20200109   \n",
       "12018     PHP  PHPくらしラク~る♪ 2020年2月號    PHP硏究所  5010.0    4980.0  20200109   \n",
       "\n",
       "                           isbn  \n",
       "12010  0076650308 4910076650305  \n",
       "12011  0177050306 4910177050301  \n",
       "12012  0076550206 4910076550209  \n",
       "12017  0177050209 4910177050202  \n",
       "12018  0076650200 4910076650206  "
      ]
     },
     "execution_count": 308,
     "metadata": {},
     "output_type": "execute_result"
    }
   ],
   "source": [
    "# 필요없는 컬럼 제거\n",
    "del group_one[\"index\"]\n",
    "group_one.tail()"
   ]
  },
  {
   "cell_type": "code",
   "execution_count": 309,
   "metadata": {},
   "outputs": [
    {
     "name": "stdout",
     "output_type": "stream",
     "text": [
      "<class 'pandas.core.frame.DataFrame'>\n",
      "Int64Index: 2500 entries, 0 to 12018\n",
      "Data columns (total 7 columns):\n",
      " #   Column     Non-Null Count  Dtype  \n",
      "---  ------     --------------  -----  \n",
      " 0   keyword    2500 non-null   object \n",
      " 1   title      2500 non-null   object \n",
      " 2   publisher  2500 non-null   object \n",
      " 3   price      2500 non-null   float64\n",
      " 4   discount   1224 non-null   float64\n",
      " 5   pubdate    2500 non-null   object \n",
      " 6   isbn       2500 non-null   object \n",
      "dtypes: float64(2), object(5)\n",
      "memory usage: 156.2+ KB\n"
     ]
    }
   ],
   "source": [
    "group_one.info()"
   ]
  },
  {
   "cell_type": "code",
   "execution_count": 310,
   "metadata": {},
   "outputs": [],
   "source": [
    "# 인덱스 정리\n",
    "group_one.reset_index(inplace=True)"
   ]
  },
  {
   "cell_type": "code",
   "execution_count": 312,
   "metadata": {},
   "outputs": [],
   "source": [
    "del group_one[\"index\"]"
   ]
  },
  {
   "cell_type": "code",
   "execution_count": 313,
   "metadata": {},
   "outputs": [
    {
     "data": {
      "text/html": [
       "<div>\n",
       "<style scoped>\n",
       "    .dataframe tbody tr th:only-of-type {\n",
       "        vertical-align: middle;\n",
       "    }\n",
       "\n",
       "    .dataframe tbody tr th {\n",
       "        vertical-align: top;\n",
       "    }\n",
       "\n",
       "    .dataframe thead th {\n",
       "        text-align: right;\n",
       "    }\n",
       "</style>\n",
       "<table border=\"1\" class=\"dataframe\">\n",
       "  <thead>\n",
       "    <tr style=\"text-align: right;\">\n",
       "      <th></th>\n",
       "      <th>keyword</th>\n",
       "      <th>title</th>\n",
       "      <th>publisher</th>\n",
       "      <th>price</th>\n",
       "      <th>discount</th>\n",
       "      <th>pubdate</th>\n",
       "      <th>isbn</th>\n",
       "    </tr>\n",
       "  </thead>\n",
       "  <tbody>\n",
       "    <tr>\n",
       "      <th>2495</th>\n",
       "      <td>PHP</td>\n",
       "      <td>PHPくらしラク~る♪ 2020年3月號</td>\n",
       "      <td>PHP硏究所</td>\n",
       "      <td>4980.0</td>\n",
       "      <td>4980.0</td>\n",
       "      <td>20200207</td>\n",
       "      <td>0076650308 4910076650305</td>\n",
       "    </tr>\n",
       "    <tr>\n",
       "      <th>2496</th>\n",
       "      <td>PHP</td>\n",
       "      <td>PHPからだスマイル 2020年3月號</td>\n",
       "      <td>PHP硏究所</td>\n",
       "      <td>5880.0</td>\n",
       "      <td>5880.0</td>\n",
       "      <td>20200207</td>\n",
       "      <td>0177050306 4910177050301</td>\n",
       "    </tr>\n",
       "    <tr>\n",
       "      <th>2497</th>\n",
       "      <td>PHP</td>\n",
       "      <td>PHPスペシャル 2020年2月號</td>\n",
       "      <td>PHP硏究所</td>\n",
       "      <td>4950.0</td>\n",
       "      <td>4920.0</td>\n",
       "      <td>20200109</td>\n",
       "      <td>0076550206 4910076550209</td>\n",
       "    </tr>\n",
       "    <tr>\n",
       "      <th>2498</th>\n",
       "      <td>PHP</td>\n",
       "      <td>PHPからだスマイル 2020年2月號</td>\n",
       "      <td>PHP硏究所</td>\n",
       "      <td>5920.0</td>\n",
       "      <td>5880.0</td>\n",
       "      <td>20200109</td>\n",
       "      <td>0177050209 4910177050202</td>\n",
       "    </tr>\n",
       "    <tr>\n",
       "      <th>2499</th>\n",
       "      <td>PHP</td>\n",
       "      <td>PHPくらしラク~る♪ 2020年2月號</td>\n",
       "      <td>PHP硏究所</td>\n",
       "      <td>5010.0</td>\n",
       "      <td>4980.0</td>\n",
       "      <td>20200109</td>\n",
       "      <td>0076650200 4910076650206</td>\n",
       "    </tr>\n",
       "  </tbody>\n",
       "</table>\n",
       "</div>"
      ],
      "text/plain": [
       "     keyword                 title publisher   price  discount   pubdate  \\\n",
       "2495     PHP  PHPくらしラク~る♪ 2020年3月號    PHP硏究所  4980.0    4980.0  20200207   \n",
       "2496     PHP   PHPからだスマイル 2020年3月號    PHP硏究所  5880.0    5880.0  20200207   \n",
       "2497     PHP     PHPスペシャル 2020年2月號    PHP硏究所  4950.0    4920.0  20200109   \n",
       "2498     PHP   PHPからだスマイル 2020年2月號    PHP硏究所  5920.0    5880.0  20200109   \n",
       "2499     PHP  PHPくらしラク~る♪ 2020年2月號    PHP硏究所  5010.0    4980.0  20200109   \n",
       "\n",
       "                          isbn  \n",
       "2495  0076650308 4910076650305  \n",
       "2496  0177050306 4910177050301  \n",
       "2497  0076550206 4910076550209  \n",
       "2498  0177050209 4910177050202  \n",
       "2499  0076650200 4910076650206  "
      ]
     },
     "execution_count": 313,
     "metadata": {},
     "output_type": "execute_result"
    }
   ],
   "source": [
    "group_one.tail()"
   ]
  },
  {
   "cell_type": "code",
   "execution_count": 314,
   "metadata": {},
   "outputs": [
    {
     "data": {
      "text/html": [
       "<div>\n",
       "<style scoped>\n",
       "    .dataframe tbody tr th:only-of-type {\n",
       "        vertical-align: middle;\n",
       "    }\n",
       "\n",
       "    .dataframe tbody tr th {\n",
       "        vertical-align: top;\n",
       "    }\n",
       "\n",
       "    .dataframe thead th {\n",
       "        text-align: right;\n",
       "    }\n",
       "</style>\n",
       "<table border=\"1\" class=\"dataframe\">\n",
       "  <thead>\n",
       "    <tr style=\"text-align: right;\">\n",
       "      <th></th>\n",
       "      <th>level_0</th>\n",
       "      <th>keyword</th>\n",
       "      <th>title</th>\n",
       "      <th>publisher</th>\n",
       "      <th>price</th>\n",
       "      <th>discount</th>\n",
       "      <th>pubdate</th>\n",
       "      <th>isbn</th>\n",
       "    </tr>\n",
       "  </thead>\n",
       "  <tbody>\n",
       "    <tr>\n",
       "      <th>2078</th>\n",
       "      <td>12688</td>\n",
       "      <td>PHP</td>\n",
       "      <td>PHP增刊 2018年5月號 (自分の生き方を持っている人)</td>\n",
       "      <td>PHP硏究所</td>\n",
       "      <td>5570.0</td>\n",
       "      <td>5570.0</td>\n",
       "      <td>20180317</td>\n",
       "      <td>0076280586 4910076280588</td>\n",
       "    </tr>\n",
       "    <tr>\n",
       "      <th>2079</th>\n",
       "      <td>12689</td>\n",
       "      <td>PHP</td>\n",
       "      <td>Pro Functional PHP Programming: Application De...</td>\n",
       "      <td>Apress</td>\n",
       "      <td>57980.0</td>\n",
       "      <td>53530.0</td>\n",
       "      <td>20180315</td>\n",
       "      <td>1484229576 9781484229576</td>\n",
       "    </tr>\n",
       "    <tr>\n",
       "      <th>2080</th>\n",
       "      <td>12690</td>\n",
       "      <td>PHP</td>\n",
       "      <td>PHPスペシャル 2018年4月號</td>\n",
       "      <td>PHP硏究所</td>\n",
       "      <td>4450.0</td>\n",
       "      <td>NaN</td>\n",
       "      <td>20180309</td>\n",
       "      <td>0076550486 4910076550483</td>\n",
       "    </tr>\n",
       "    <tr>\n",
       "      <th>2081</th>\n",
       "      <td>12691</td>\n",
       "      <td>PHP</td>\n",
       "      <td>PHPくらしラク~る♪ 2018年4月號</td>\n",
       "      <td>PHP硏究所</td>\n",
       "      <td>4450.0</td>\n",
       "      <td>NaN</td>\n",
       "      <td>20180309</td>\n",
       "      <td>0076650480 4910076650480</td>\n",
       "    </tr>\n",
       "    <tr>\n",
       "      <th>2082</th>\n",
       "      <td>12692</td>\n",
       "      <td>PHP</td>\n",
       "      <td>PHP のびのび子育て 2018年4月號</td>\n",
       "      <td>PHP硏究所</td>\n",
       "      <td>4840.0</td>\n",
       "      <td>NaN</td>\n",
       "      <td>20180309</td>\n",
       "      <td>0079090486 4910079090481</td>\n",
       "    </tr>\n",
       "  </tbody>\n",
       "</table>\n",
       "</div>"
      ],
      "text/plain": [
       "      level_0 keyword                                              title  \\\n",
       "2078    12688     PHP                     PHP增刊 2018年5月號 (自分の生き方を持っている人)   \n",
       "2079    12689     PHP  Pro Functional PHP Programming: Application De...   \n",
       "2080    12690     PHP                                  PHPスペシャル 2018年4月號   \n",
       "2081    12691     PHP                               PHPくらしラク~る♪ 2018年4月號   \n",
       "2082    12692     PHP                               PHP のびのび子育て 2018年4月號   \n",
       "\n",
       "     publisher    price  discount   pubdate                      isbn  \n",
       "2078    PHP硏究所   5570.0    5570.0  20180317  0076280586 4910076280588  \n",
       "2079    Apress  57980.0   53530.0  20180315  1484229576 9781484229576  \n",
       "2080    PHP硏究所   4450.0       NaN  20180309  0076550486 4910076550483  \n",
       "2081    PHP硏究所   4450.0       NaN  20180309  0076650480 4910076650480  \n",
       "2082    PHP硏究所   4840.0       NaN  20180309  0079090486 4910079090481  "
      ]
     },
     "execution_count": 314,
     "metadata": {},
     "output_type": "execute_result"
    }
   ],
   "source": [
    "# 마찬가지로 group2 프레임만들기\n",
    "group_two = pd.DataFrame(data=group2)\n",
    "group_two.reset_index(inplace=True)\n",
    "del group_two[\"index\"]\n",
    "group_two.tail()"
   ]
  },
  {
   "cell_type": "code",
   "execution_count": 315,
   "metadata": {},
   "outputs": [
    {
     "data": {
      "text/html": [
       "<div>\n",
       "<style scoped>\n",
       "    .dataframe tbody tr th:only-of-type {\n",
       "        vertical-align: middle;\n",
       "    }\n",
       "\n",
       "    .dataframe tbody tr th {\n",
       "        vertical-align: top;\n",
       "    }\n",
       "\n",
       "    .dataframe thead th {\n",
       "        text-align: right;\n",
       "    }\n",
       "</style>\n",
       "<table border=\"1\" class=\"dataframe\">\n",
       "  <thead>\n",
       "    <tr style=\"text-align: right;\">\n",
       "      <th></th>\n",
       "      <th>keyword</th>\n",
       "      <th>title</th>\n",
       "      <th>publisher</th>\n",
       "      <th>price</th>\n",
       "      <th>discount</th>\n",
       "      <th>pubdate</th>\n",
       "      <th>isbn</th>\n",
       "    </tr>\n",
       "  </thead>\n",
       "  <tbody>\n",
       "    <tr>\n",
       "      <th>2078</th>\n",
       "      <td>PHP</td>\n",
       "      <td>PHP增刊 2018年5月號 (自分の生き方を持っている人)</td>\n",
       "      <td>PHP硏究所</td>\n",
       "      <td>5570.0</td>\n",
       "      <td>5570.0</td>\n",
       "      <td>20180317</td>\n",
       "      <td>0076280586 4910076280588</td>\n",
       "    </tr>\n",
       "    <tr>\n",
       "      <th>2079</th>\n",
       "      <td>PHP</td>\n",
       "      <td>Pro Functional PHP Programming: Application De...</td>\n",
       "      <td>Apress</td>\n",
       "      <td>57980.0</td>\n",
       "      <td>53530.0</td>\n",
       "      <td>20180315</td>\n",
       "      <td>1484229576 9781484229576</td>\n",
       "    </tr>\n",
       "    <tr>\n",
       "      <th>2080</th>\n",
       "      <td>PHP</td>\n",
       "      <td>PHPスペシャル 2018年4月號</td>\n",
       "      <td>PHP硏究所</td>\n",
       "      <td>4450.0</td>\n",
       "      <td>NaN</td>\n",
       "      <td>20180309</td>\n",
       "      <td>0076550486 4910076550483</td>\n",
       "    </tr>\n",
       "    <tr>\n",
       "      <th>2081</th>\n",
       "      <td>PHP</td>\n",
       "      <td>PHPくらしラク~る♪ 2018年4月號</td>\n",
       "      <td>PHP硏究所</td>\n",
       "      <td>4450.0</td>\n",
       "      <td>NaN</td>\n",
       "      <td>20180309</td>\n",
       "      <td>0076650480 4910076650480</td>\n",
       "    </tr>\n",
       "    <tr>\n",
       "      <th>2082</th>\n",
       "      <td>PHP</td>\n",
       "      <td>PHP のびのび子育て 2018年4月號</td>\n",
       "      <td>PHP硏究所</td>\n",
       "      <td>4840.0</td>\n",
       "      <td>NaN</td>\n",
       "      <td>20180309</td>\n",
       "      <td>0079090486 4910079090481</td>\n",
       "    </tr>\n",
       "  </tbody>\n",
       "</table>\n",
       "</div>"
      ],
      "text/plain": [
       "     keyword                                              title publisher  \\\n",
       "2078     PHP                     PHP增刊 2018年5月號 (自分の生き方を持っている人)    PHP硏究所   \n",
       "2079     PHP  Pro Functional PHP Programming: Application De...    Apress   \n",
       "2080     PHP                                  PHPスペシャル 2018年4月號    PHP硏究所   \n",
       "2081     PHP                               PHPくらしラク~る♪ 2018年4月號    PHP硏究所   \n",
       "2082     PHP                               PHP のびのび子育て 2018年4月號    PHP硏究所   \n",
       "\n",
       "        price  discount   pubdate                      isbn  \n",
       "2078   5570.0    5570.0  20180317  0076280586 4910076280588  \n",
       "2079  57980.0   53530.0  20180315  1484229576 9781484229576  \n",
       "2080   4450.0       NaN  20180309  0076550486 4910076550483  \n",
       "2081   4450.0       NaN  20180309  0076650480 4910076650480  \n",
       "2082   4840.0       NaN  20180309  0079090486 4910079090481  "
      ]
     },
     "execution_count": 315,
     "metadata": {},
     "output_type": "execute_result"
    }
   ],
   "source": [
    "del group_two[\"level_0\"]\n",
    "group_two.tail()"
   ]
  },
  {
   "cell_type": "code",
   "execution_count": 316,
   "metadata": {},
   "outputs": [
    {
     "data": {
      "image/png": "[encoded data removed]",
      "text/plain": [
       "<Figure size 1440x720 with 1 Axes>"
      ]
     },
     "metadata": {
      "needs_background": "light"
     },
     "output_type": "display_data"
    }
   ],
   "source": [
    "x = [\"2017-2019\", \"2020-2021\"]\n",
    "y = [len(group_two), len(group_one)]\n",
    "plt.figure(figsize=(20,10))\n",
    "colors = sns.color_palette('hls', len(tmp_kor[\"출판사\"]))\n",
    "plt.bar(x,y, color=colors)\n",
    "plt.title('그룹별 출판권수')\n",
    "plt.xlabel(\"그룹\")\n",
    "plt.ylabel(\"도서 권수(권)\")\n",
    "plt.show()"
   ]
  },
  {
   "cell_type": "markdown",
   "metadata": {},
   "source": [
    "- 이렇게 시각화를 통해 보면 두 그룹 총 출판 권수에 차이가 있음이 분명히 보인다. 대략 5000권 가량 정도가 더 많이 출판되었다."
   ]
  },
  {
   "cell_type": "markdown",
   "metadata": {},
   "source": [
    "#### 언어별 연도수 출판 권수 차이 보기"
   ]
  },
  {
   "cell_type": "code",
   "execution_count": 317,
   "metadata": {},
   "outputs": [
    {
     "data": {
      "text/html": [
       "<div>\n",
       "<style scoped>\n",
       "    .dataframe tbody tr th:only-of-type {\n",
       "        vertical-align: middle;\n",
       "    }\n",
       "\n",
       "    .dataframe tbody tr th {\n",
       "        vertical-align: top;\n",
       "    }\n",
       "\n",
       "    .dataframe thead th {\n",
       "        text-align: right;\n",
       "    }\n",
       "</style>\n",
       "<table border=\"1\" class=\"dataframe\">\n",
       "  <thead>\n",
       "    <tr style=\"text-align: right;\">\n",
       "      <th></th>\n",
       "      <th>index</th>\n",
       "      <th>keyword</th>\n",
       "      <th>title</th>\n",
       "      <th>publisher</th>\n",
       "      <th>price</th>\n",
       "      <th>discount</th>\n",
       "      <th>pubdate</th>\n",
       "      <th>isbn</th>\n",
       "    </tr>\n",
       "  </thead>\n",
       "  <tbody>\n",
       "    <tr>\n",
       "      <th>0</th>\n",
       "      <td>0</td>\n",
       "      <td>Python</td>\n",
       "      <td>Effective Python 2nd 이펙티브 파이썬 : 파이썬 코딩의 기술 (똑똑...</td>\n",
       "      <td>길벗</td>\n",
       "      <td>32000.0</td>\n",
       "      <td>28800.0</td>\n",
       "      <td>20201030</td>\n",
       "      <td>1165213192 9791165213190</td>\n",
       "    </tr>\n",
       "    <tr>\n",
       "      <th>1</th>\n",
       "      <td>1</td>\n",
       "      <td>Python</td>\n",
       "      <td>파이썬 딥러닝 파이토치(Python Deep Learning PyTorch)</td>\n",
       "      <td>정보문화사</td>\n",
       "      <td>25000.0</td>\n",
       "      <td>22500.0</td>\n",
       "      <td>20201008</td>\n",
       "      <td>8956748578 9788956748573</td>\n",
       "    </tr>\n",
       "    <tr>\n",
       "      <th>2</th>\n",
       "      <td>2</td>\n",
       "      <td>Python</td>\n",
       "      <td>Intuitive Python: Productive Development for P...</td>\n",
       "      <td>PragmaticBookshelf</td>\n",
       "      <td>38060.0</td>\n",
       "      <td>NaN</td>\n",
       "      <td>20211005</td>\n",
       "      <td>1680508237 9781680508239</td>\n",
       "    </tr>\n",
       "    <tr>\n",
       "      <th>3</th>\n",
       "      <td>3</td>\n",
       "      <td>Python</td>\n",
       "      <td>Python으로 시작하는 빅데이터분석 및 인공지능 (개정판)</td>\n",
       "      <td>인피니티북스</td>\n",
       "      <td>26000.0</td>\n",
       "      <td>25500.0</td>\n",
       "      <td>20210225</td>\n",
       "      <td>118557879X 9791185578798</td>\n",
       "    </tr>\n",
       "    <tr>\n",
       "      <th>4</th>\n",
       "      <td>4</td>\n",
       "      <td>Python</td>\n",
       "      <td>Fluent Python: Clear, Concise, and Effective P...</td>\n",
       "      <td>O'ReillyMedia</td>\n",
       "      <td>99730.0</td>\n",
       "      <td>NaN</td>\n",
       "      <td>20211019</td>\n",
       "      <td>1492056359 9781492056355</td>\n",
       "    </tr>\n",
       "  </tbody>\n",
       "</table>\n",
       "</div>"
      ],
      "text/plain": [
       "   index keyword                                              title  \\\n",
       "0      0  Python  Effective Python 2nd 이펙티브 파이썬 : 파이썬 코딩의 기술 (똑똑...   \n",
       "1      1  Python         파이썬 딥러닝 파이토치(Python Deep Learning PyTorch)   \n",
       "2      2  Python  Intuitive Python: Productive Development for P...   \n",
       "3      3  Python                  Python으로 시작하는 빅데이터분석 및 인공지능 (개정판)   \n",
       "4      4  Python  Fluent Python: Clear, Concise, and Effective P...   \n",
       "\n",
       "            publisher    price  discount   pubdate                      isbn  \n",
       "0                  길벗  32000.0   28800.0  20201030  1165213192 9791165213190  \n",
       "1               정보문화사  25000.0   22500.0  20201008  8956748578 9788956748573  \n",
       "2  PragmaticBookshelf  38060.0       NaN  20211005  1680508237 9781680508239  \n",
       "3              인피니티북스  26000.0   25500.0  20210225  118557879X 9791185578798  \n",
       "4       O'ReillyMedia  99730.0       NaN  20211019  1492056359 9781492056355  "
      ]
     },
     "execution_count": 317,
     "metadata": {},
     "output_type": "execute_result"
    }
   ],
   "source": [
    "result_book.head()"
   ]
  },
  {
   "cell_type": "code",
   "execution_count": 319,
   "metadata": {},
   "outputs": [
    {
     "data": {
      "text/plain": [
       "Python          1380\n",
       "Java             266\n",
       "C                166\n",
       "SQL              165\n",
       "R                156\n",
       "PHP              124\n",
       "C++              106\n",
       "C#                79\n",
       "JavaScript        47\n",
       "Visual Basic      11\n",
       "Name: keyword, dtype: int64"
      ]
     },
     "execution_count": 319,
     "metadata": {},
     "output_type": "execute_result"
    }
   ],
   "source": [
    "group_one[\"keyword\"].value_counts()"
   ]
  },
  {
   "cell_type": "code",
   "execution_count": 328,
   "metadata": {},
   "outputs": [
    {
     "data": {
      "text/html": [
       "<div>\n",
       "<style scoped>\n",
       "    .dataframe tbody tr th:only-of-type {\n",
       "        vertical-align: middle;\n",
       "    }\n",
       "\n",
       "    .dataframe tbody tr th {\n",
       "        vertical-align: top;\n",
       "    }\n",
       "\n",
       "    .dataframe thead th {\n",
       "        text-align: right;\n",
       "    }\n",
       "</style>\n",
       "<table border=\"1\" class=\"dataframe\">\n",
       "  <thead>\n",
       "    <tr style=\"text-align: right;\">\n",
       "      <th></th>\n",
       "      <th>keyword</th>\n",
       "    </tr>\n",
       "  </thead>\n",
       "  <tbody>\n",
       "    <tr>\n",
       "      <th>Python</th>\n",
       "      <td>1380</td>\n",
       "    </tr>\n",
       "    <tr>\n",
       "      <th>Java</th>\n",
       "      <td>266</td>\n",
       "    </tr>\n",
       "    <tr>\n",
       "      <th>C</th>\n",
       "      <td>166</td>\n",
       "    </tr>\n",
       "    <tr>\n",
       "      <th>SQL</th>\n",
       "      <td>165</td>\n",
       "    </tr>\n",
       "    <tr>\n",
       "      <th>R</th>\n",
       "      <td>156</td>\n",
       "    </tr>\n",
       "  </tbody>\n",
       "</table>\n",
       "</div>"
      ],
      "text/plain": [
       "        keyword\n",
       "Python     1380\n",
       "Java        266\n",
       "C           166\n",
       "SQL         165\n",
       "R           156"
      ]
     },
     "execution_count": 328,
     "metadata": {},
     "output_type": "execute_result"
    }
   ],
   "source": [
    "total_count_data = pd.DataFrame(data=group_one[\"keyword\"].value_counts())\n",
    "total_count_data.head()"
   ]
  },
  {
   "cell_type": "code",
   "execution_count": 329,
   "metadata": {},
   "outputs": [
    {
     "data": {
      "text/html": [
       "<div>\n",
       "<style scoped>\n",
       "    .dataframe tbody tr th:only-of-type {\n",
       "        vertical-align: middle;\n",
       "    }\n",
       "\n",
       "    .dataframe tbody tr th {\n",
       "        vertical-align: top;\n",
       "    }\n",
       "\n",
       "    .dataframe thead th {\n",
       "        text-align: right;\n",
       "    }\n",
       "</style>\n",
       "<table border=\"1\" class=\"dataframe\">\n",
       "  <thead>\n",
       "    <tr style=\"text-align: right;\">\n",
       "      <th></th>\n",
       "      <th>index</th>\n",
       "      <th>keyword</th>\n",
       "    </tr>\n",
       "  </thead>\n",
       "  <tbody>\n",
       "    <tr>\n",
       "      <th>0</th>\n",
       "      <td>Python</td>\n",
       "      <td>1380</td>\n",
       "    </tr>\n",
       "    <tr>\n",
       "      <th>1</th>\n",
       "      <td>Java</td>\n",
       "      <td>266</td>\n",
       "    </tr>\n",
       "    <tr>\n",
       "      <th>2</th>\n",
       "      <td>C</td>\n",
       "      <td>166</td>\n",
       "    </tr>\n",
       "    <tr>\n",
       "      <th>3</th>\n",
       "      <td>SQL</td>\n",
       "      <td>165</td>\n",
       "    </tr>\n",
       "    <tr>\n",
       "      <th>4</th>\n",
       "      <td>R</td>\n",
       "      <td>156</td>\n",
       "    </tr>\n",
       "  </tbody>\n",
       "</table>\n",
       "</div>"
      ],
      "text/plain": [
       "    index  keyword\n",
       "0  Python     1380\n",
       "1    Java      266\n",
       "2       C      166\n",
       "3     SQL      165\n",
       "4       R      156"
      ]
     },
     "execution_count": 329,
     "metadata": {},
     "output_type": "execute_result"
    }
   ],
   "source": [
    "total_count_data.reset_index(inplace=True)\n",
    "total_count_data.head()"
   ]
  },
  {
   "cell_type": "code",
   "execution_count": 330,
   "metadata": {},
   "outputs": [
    {
     "data": {
      "text/html": [
       "<div>\n",
       "<style scoped>\n",
       "    .dataframe tbody tr th:only-of-type {\n",
       "        vertical-align: middle;\n",
       "    }\n",
       "\n",
       "    .dataframe tbody tr th {\n",
       "        vertical-align: top;\n",
       "    }\n",
       "\n",
       "    .dataframe thead th {\n",
       "        text-align: right;\n",
       "    }\n",
       "</style>\n",
       "<table border=\"1\" class=\"dataframe\">\n",
       "  <thead>\n",
       "    <tr style=\"text-align: right;\">\n",
       "      <th></th>\n",
       "      <th>언어</th>\n",
       "      <th>2020-2021권수</th>\n",
       "    </tr>\n",
       "  </thead>\n",
       "  <tbody>\n",
       "    <tr>\n",
       "      <th>0</th>\n",
       "      <td>Python</td>\n",
       "      <td>1380</td>\n",
       "    </tr>\n",
       "    <tr>\n",
       "      <th>1</th>\n",
       "      <td>Java</td>\n",
       "      <td>266</td>\n",
       "    </tr>\n",
       "    <tr>\n",
       "      <th>2</th>\n",
       "      <td>C</td>\n",
       "      <td>166</td>\n",
       "    </tr>\n",
       "    <tr>\n",
       "      <th>3</th>\n",
       "      <td>SQL</td>\n",
       "      <td>165</td>\n",
       "    </tr>\n",
       "    <tr>\n",
       "      <th>4</th>\n",
       "      <td>R</td>\n",
       "      <td>156</td>\n",
       "    </tr>\n",
       "  </tbody>\n",
       "</table>\n",
       "</div>"
      ],
      "text/plain": [
       "       언어  2020-2021권수\n",
       "0  Python         1380\n",
       "1    Java          266\n",
       "2       C          166\n",
       "3     SQL          165\n",
       "4       R          156"
      ]
     },
     "execution_count": 330,
     "metadata": {},
     "output_type": "execute_result"
    }
   ],
   "source": [
    "total_count_data = total_count_data.rename(columns={\"index\": \"언어\", \"keyword\": \"2020-2021권수\"})\n",
    "total_count_data.head()"
   ]
  },
  {
   "cell_type": "code",
   "execution_count": 320,
   "metadata": {},
   "outputs": [
    {
     "data": {
      "text/plain": [
       "Python          434\n",
       "Java            317\n",
       "R               291\n",
       "C               232\n",
       "JavaScript      231\n",
       "SQL             161\n",
       "PHP             138\n",
       "C++             125\n",
       "C#              113\n",
       "Visual Basic     41\n",
       "Name: keyword, dtype: int64"
      ]
     },
     "execution_count": 320,
     "metadata": {},
     "output_type": "execute_result"
    }
   ],
   "source": [
    "group_two[\"keyword\"].value_counts()"
   ]
  },
  {
   "cell_type": "code",
   "execution_count": 331,
   "metadata": {},
   "outputs": [
    {
     "data": {
      "text/html": [
       "<div>\n",
       "<style scoped>\n",
       "    .dataframe tbody tr th:only-of-type {\n",
       "        vertical-align: middle;\n",
       "    }\n",
       "\n",
       "    .dataframe tbody tr th {\n",
       "        vertical-align: top;\n",
       "    }\n",
       "\n",
       "    .dataframe thead th {\n",
       "        text-align: right;\n",
       "    }\n",
       "</style>\n",
       "<table border=\"1\" class=\"dataframe\">\n",
       "  <thead>\n",
       "    <tr style=\"text-align: right;\">\n",
       "      <th></th>\n",
       "      <th>언어</th>\n",
       "      <th>2017-2019권수</th>\n",
       "    </tr>\n",
       "  </thead>\n",
       "  <tbody>\n",
       "    <tr>\n",
       "      <th>0</th>\n",
       "      <td>Python</td>\n",
       "      <td>434</td>\n",
       "    </tr>\n",
       "    <tr>\n",
       "      <th>1</th>\n",
       "      <td>Java</td>\n",
       "      <td>317</td>\n",
       "    </tr>\n",
       "    <tr>\n",
       "      <th>2</th>\n",
       "      <td>R</td>\n",
       "      <td>291</td>\n",
       "    </tr>\n",
       "    <tr>\n",
       "      <th>3</th>\n",
       "      <td>C</td>\n",
       "      <td>232</td>\n",
       "    </tr>\n",
       "    <tr>\n",
       "      <th>4</th>\n",
       "      <td>JavaScript</td>\n",
       "      <td>231</td>\n",
       "    </tr>\n",
       "  </tbody>\n",
       "</table>\n",
       "</div>"
      ],
      "text/plain": [
       "           언어  2017-2019권수\n",
       "0      Python          434\n",
       "1        Java          317\n",
       "2           R          291\n",
       "3           C          232\n",
       "4  JavaScript          231"
      ]
     },
     "execution_count": 331,
     "metadata": {},
     "output_type": "execute_result"
    }
   ],
   "source": [
    "tmp = pd.DataFrame(data=group_two[\"keyword\"].value_counts())\n",
    "tmp.reset_index(inplace=True)\n",
    "tmp = tmp.rename(columns={\"index\": \"언어\", \"keyword\": \"2017-2019권수\"})\n",
    "tmp.head()"
   ]
  },
  {
   "cell_type": "code",
   "execution_count": 332,
   "metadata": {},
   "outputs": [
    {
     "data": {
      "text/html": [
       "<div>\n",
       "<style scoped>\n",
       "    .dataframe tbody tr th:only-of-type {\n",
       "        vertical-align: middle;\n",
       "    }\n",
       "\n",
       "    .dataframe tbody tr th {\n",
       "        vertical-align: top;\n",
       "    }\n",
       "\n",
       "    .dataframe thead th {\n",
       "        text-align: right;\n",
       "    }\n",
       "</style>\n",
       "<table border=\"1\" class=\"dataframe\">\n",
       "  <thead>\n",
       "    <tr style=\"text-align: right;\">\n",
       "      <th></th>\n",
       "      <th>언어</th>\n",
       "      <th>2020-2021권수</th>\n",
       "      <th>2017-2019권수</th>\n",
       "    </tr>\n",
       "  </thead>\n",
       "  <tbody>\n",
       "    <tr>\n",
       "      <th>0</th>\n",
       "      <td>Python</td>\n",
       "      <td>1380</td>\n",
       "      <td>434</td>\n",
       "    </tr>\n",
       "    <tr>\n",
       "      <th>1</th>\n",
       "      <td>Java</td>\n",
       "      <td>266</td>\n",
       "      <td>317</td>\n",
       "    </tr>\n",
       "    <tr>\n",
       "      <th>2</th>\n",
       "      <td>C</td>\n",
       "      <td>166</td>\n",
       "      <td>232</td>\n",
       "    </tr>\n",
       "    <tr>\n",
       "      <th>3</th>\n",
       "      <td>SQL</td>\n",
       "      <td>165</td>\n",
       "      <td>161</td>\n",
       "    </tr>\n",
       "    <tr>\n",
       "      <th>4</th>\n",
       "      <td>R</td>\n",
       "      <td>156</td>\n",
       "      <td>291</td>\n",
       "    </tr>\n",
       "    <tr>\n",
       "      <th>5</th>\n",
       "      <td>PHP</td>\n",
       "      <td>124</td>\n",
       "      <td>138</td>\n",
       "    </tr>\n",
       "    <tr>\n",
       "      <th>6</th>\n",
       "      <td>C++</td>\n",
       "      <td>106</td>\n",
       "      <td>125</td>\n",
       "    </tr>\n",
       "    <tr>\n",
       "      <th>7</th>\n",
       "      <td>C#</td>\n",
       "      <td>79</td>\n",
       "      <td>113</td>\n",
       "    </tr>\n",
       "    <tr>\n",
       "      <th>8</th>\n",
       "      <td>JavaScript</td>\n",
       "      <td>47</td>\n",
       "      <td>231</td>\n",
       "    </tr>\n",
       "    <tr>\n",
       "      <th>9</th>\n",
       "      <td>Visual Basic</td>\n",
       "      <td>11</td>\n",
       "      <td>41</td>\n",
       "    </tr>\n",
       "  </tbody>\n",
       "</table>\n",
       "</div>"
      ],
      "text/plain": [
       "             언어  2020-2021권수  2017-2019권수\n",
       "0        Python         1380          434\n",
       "1          Java          266          317\n",
       "2             C          166          232\n",
       "3           SQL          165          161\n",
       "4             R          156          291\n",
       "5           PHP          124          138\n",
       "6           C++          106          125\n",
       "7            C#           79          113\n",
       "8    JavaScript           47          231\n",
       "9  Visual Basic           11           41"
      ]
     },
     "execution_count": 332,
     "metadata": {},
     "output_type": "execute_result"
    }
   ],
   "source": [
    "total_count_data = pd.merge(total_count_data, tmp, on=\"언어\")\n",
    "total_count_data"
   ]
  },
  {
   "cell_type": "code",
   "execution_count": 335,
   "metadata": {},
   "outputs": [
    {
     "data": {
      "image/png": "[encoded data removed]",
      "text/plain": [
       "<Figure size 1440x576 with 1 Axes>"
      ]
     },
     "metadata": {
      "needs_background": "light"
     },
     "output_type": "display_data"
    }
   ],
   "source": [
    "plt.figure(figsize=(20, 8))\n",
    "x = np.array(range(len(total_count_data[\"언어\"])))\n",
    "w = 0.3\n",
    "label = list(total_count_data[\"언어\"].values)\n",
    "\n",
    "plt.bar(x, total_count_data[\"2017-2019권수\"],\n",
    "             width = w, \n",
    "             color='g', \n",
    "             alpha=0.5,\n",
    ")\n",
    "x = x + w\n",
    "plt.bar(x, total_count_data[\"2020-2021권수\"],\n",
    "             width = w,\n",
    "             color='b', \n",
    "             alpha=0.5,\n",
    ")\n",
    "plt.legend(labels=[\"2017-2019\", \"2020-2021\"])\n",
    "plt.grid(True)\n",
    "plt.title(\"연도, 언어별 출판권수\")\n",
    "plt.xlabel(\"언어\")\n",
    "plt.xticks(np.arange(len(label)), label,rotation=\"vertical\")\n",
    "plt.ylabel(\"출판권수(권)\")\n",
    "plt.show()"
   ]
  },
  {
   "cell_type": "markdown",
   "metadata": {},
   "source": [
    "```\n",
    "위데이터를 보면 다른 언어책들은 2017-2019년도에비해 2020-2021년도에 출판권수가 전체적으로 줄어든 경향을 볼 수 있다.\n",
    "하지만 파이썬은 반대로 2020-2021년도 출판권수가 급등했다. 특히 2017-2019년도에는 자바와 별 차이가 없었으나 2020-2021년도에 들어선 후 급격하게 출판 부수 차이가 나는점이 눈에 띈다.\n",
    "실제로 티오베 지수에서도 작년에는 3위였으나 올해 급속도로 인기지수가 높아진걸 실감할 수 있는 데이터 인것 같다.\n",
    "\n",
    "```"
   ]
  }
 ],
 "metadata": {
  "interpreter": {
   "hash": "fff8a2ebda7d7c31fff9abc7af7b4b1a85e6e317ed9dea4607b41f7b3e93769e"
  },
  "kernelspec": {
   "display_name": "Python 3.8.11 64-bit ('ds_study': conda)",
   "name": "python3"
  },
  "language_info": {
   "codemirror_mode": {
    "name": "ipython",
    "version": 3
   },
   "file_extension": ".py",
   "mimetype": "text/x-python",
   "name": "python",
   "nbconvert_exporter": "python",
   "pygments_lexer": "ipython3",
   "version": "3.8.11"
  },
  "orig_nbformat": 4
 },
 "nbformat": 4,
 "nbformat_minor": 2
}
