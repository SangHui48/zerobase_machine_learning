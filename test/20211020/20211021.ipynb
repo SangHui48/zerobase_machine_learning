{
 "cells": [
  {
   "cell_type": "markdown",
   "metadata": {},
   "source": [
    "# 추가과제\n",
    "\n",
    "## TIOBE INDEX 20위까지 확장해서 검색해보기\n",
    "\n",
    "### 책 가격, 페이지수 함꼐 수집할 것"
   ]
  },
  {
   "cell_type": "markdown",
   "metadata": {},
   "source": [
    "- 'Python', 'C', 'Java', 'C++', 'C#', 'Visual Basic', 'JavaScript', 'SQL', 'PHP', 'Assembly language', \n",
    "'Class Visual Basic', 'Go', 'MATLAB', 'R', 'Groovy', 'Ruby', 'Swift', 'Fortran', 'Perl', 'Delphi/Object Pascal'"
   ]
  },
  {
   "cell_type": "code",
   "execution_count": 9,
   "metadata": {},
   "outputs": [],
   "source": [
    "# 필요한 모듈 import\n",
    "import os\n",
    "import sys\n",
    "import json\n",
    "import datetime\n",
    "import platform\n",
    "import urllib.request\n",
    "import pandas as pd\n",
    "import numpy as np\n",
    "import seaborn as sns\n",
    "import matplotlib.pyplot as plt\n",
    "from matplotlib import font_manager, rc\n",
    "from bs4 import BeautifulSoup\n",
    "import ssl\n",
    "from fake_useragent import UserAgent\n",
    "from tqdm import tqdm_notebook\n",
    "# API 요청  429 에러로 사용\n",
    "import time"
   ]
  },
  {
   "cell_type": "code",
   "execution_count": 231,
   "metadata": {},
   "outputs": [
    {
     "name": "stdout",
     "output_type": "stream",
     "text": [
      "Hangul OK in your Windows!!!\n"
     ]
    }
   ],
   "source": [
    "path = \"C:/Windows/Fonts/malgun.ttf\"\n",
    "\n",
    "if platform.system() == \"Darwin\":\n",
    "    print(\"Hangul OK in your MAC!!\")\n",
    "    rc(\"font\", family=\"Arial Unicode MS\")\n",
    "elif platform.system() == \"Windows\":\n",
    "    font_name = font_manager.FontProperties(fname=path).get_name()\n",
    "    print('Hangul OK in your Windows!!!')\n",
    "    rc(\"font\", family=font_name)\n",
    "else:\n",
    "    print('Unknown system. sorry!!~')\n",
    "\n",
    "plt.rcParams[\"axes.unicode_minus\"] = False"
   ]
  },
  {
   "cell_type": "code",
   "execution_count": 4,
   "metadata": {},
   "outputs": [],
   "source": [
    "# 네이버 API key\n",
    "client_id = \"RpCSsXQbjViP1An4myaR\"\n",
    "client_secret = \"g1hzDn5hAk\""
   ]
  },
  {
   "cell_type": "code",
   "execution_count": 5,
   "metadata": {},
   "outputs": [],
   "source": [
    "# 책 조회 url 생성 함수\n",
    "def gen_search_url(search_text, start_num, disp_num):\n",
    "    base = \"https://openapi.naver.com/v1/search/book\"\n",
    "    param_query = \"?query=\" + urllib.parse.quote(search_text)\n",
    "    param_start = \"&start=\" + str(start_num)\n",
    "    param_disp = \"&display=\" + str(disp_num)\n",
    "\n",
    "    return base + param_query + param_start + param_disp"
   ]
  },
  {
   "cell_type": "code",
   "execution_count": 49,
   "metadata": {},
   "outputs": [],
   "source": [
    "# 해당 페이지로부터 정보 얻어오기\n",
    "def get_result_onpage(url):\n",
    "    request = urllib.request.Request(url)\n",
    "    request.add_header(\"X-Naver-Client-Id\",client_id)\n",
    "    request.add_header(\"X-Naver-Client-Secret\",client_secret)\n",
    "    response = urllib.request.urlopen(request)\n",
    "    print(\"[%s] Url Request Success\" % datetime.datetime.now()) # log용 print\n",
    "    return json.loads(response.read().decode('utf-8'))"
   ]
  },
  {
   "cell_type": "markdown",
   "metadata": {},
   "source": [
    "```\n",
    "Python, 파이썬\n",
    "C programming, C 프로그래밍\n",
    "Java, 자바\n",
    "JavaScript, 자바스크립트\n",
    "C++\n",
    "C#\n",
    "Visual Basic -> Visual Basic.NET\n",
    "SQL\n",
    "PHP programming, PHP 프로그래밍\n",
    "Assembly language\n",
    "Classic Visual Basic -> Visual Basic\n",
    "Go -> Go programming, Go 프로그래밍\n",
    "MATLAB\n",
    "R programming, R 프로그래밍\n",
    "Groovy programming, Groovy 프로그래밍\n",
    "Ruby 프로그래밍, Ruby programming\n",
    "Swift 프로그래밍, Swift programming\n",
    "Fortran\n",
    "Perl 프로그래밍, Perl programming\n",
    "Delphi, Object Pascal\n",
    "```"
   ]
  },
  {
   "cell_type": "code",
   "execution_count": 10,
   "metadata": {},
   "outputs": [
    {
     "name": "stdout",
     "output_type": "stream",
     "text": [
      "[2021-10-21 00:55:17.243839] Url Request Success\n"
     ]
    }
   ],
   "source": [
    "# test\n",
    "url = gen_search_url(\"Python\", 1, 3)\n",
    "one_result = get_result_onpage(url)"
   ]
  },
  {
   "cell_type": "code",
   "execution_count": 12,
   "metadata": {},
   "outputs": [
    {
     "data": {
      "text/plain": [
       "'http://book.naver.com/bookdb/book_detail.php?bid=16876960'"
      ]
     },
     "execution_count": 12,
     "metadata": {},
     "output_type": "execute_result"
    }
   ],
   "source": [
    "one_result[\"items\"][0].get(\"link\")"
   ]
  },
  {
   "cell_type": "code",
   "execution_count": 22,
   "metadata": {},
   "outputs": [],
   "source": [
    "# req = urllib.request.Request(one_result[\"items\"][0].get(\"link\"))\n",
    "req = urllib.request.Request(\"https://book.naver.com/bookdb/book_detail.naver?bid=21014669\")\n",
    "response = urllib.request.urlopen(req)\n",
    "soup = BeautifulSoup(response, \"html.parser\")\n",
    "# print(soup.prettify())"
   ]
  },
  {
   "cell_type": "code",
   "execution_count": 24,
   "metadata": {},
   "outputs": [
    {
     "data": {
      "text/plain": [
       "['\\nISBN  9784569901640']"
      ]
     },
     "execution_count": 24,
     "metadata": {},
     "output_type": "execute_result"
    }
   ],
   "source": [
    "soup.select_one('#container > div.spot > div.book_info > div.book_info_inner > div:nth-child(3)').text.split('|')"
   ]
  },
  {
   "cell_type": "code",
   "execution_count": 6,
   "metadata": {},
   "outputs": [],
   "source": [
    "# 제목에 붙은 <b> 태그 지우기\n",
    "def delete_tag(input_str):\n",
    "    input_str = input_str.replace(\"<b>\", \"\")\n",
    "    input_str = input_str.replace(\"</b>\", \"\")\n",
    "    return input_str"
   ]
  },
  {
   "cell_type": "code",
   "execution_count": 32,
   "metadata": {},
   "outputs": [],
   "source": [
    "# 데이터 프레임화 시키는 함수\n",
    "def get_fields(keyword, json_data):\n",
    "    keyword = [keyword] * len(json_data[\"items\"])\n",
    "    title = [delete_tag(each[\"title\"]) for each in json_data[\"items\"]]\n",
    "    publisher = [each[\"publisher\"] for each in json_data[\"items\"]]\n",
    "    price = [each[\"price\"] for each in json_data[\"items\"]]\n",
    "    pubdate = [each[\"pubdate\"] for each in json_data[\"items\"]]\n",
    "    isbn = [each[\"isbn\"] for each in json_data[\"items\"]]\n",
    "    link = [each[\"link\"] for each in json_data[\"items\"]]\n",
    "\n",
    "    result_pd = pd.DataFrame({\n",
    "        \"keyword\": keyword,\n",
    "        \"title\": title,\n",
    "        \"publisher\": publisher,\n",
    "        \"price\": price,\n",
    "        \"pubdate\": pubdate,\n",
    "        \"isbn\": isbn,\n",
    "        \"link\": link\n",
    "    })\n",
    "\n",
    "    return result_pd"
   ]
  },
  {
   "cell_type": "code",
   "execution_count": 26,
   "metadata": {},
   "outputs": [
    {
     "data": {
      "text/html": [
       "<div>\n",
       "<style scoped>\n",
       "    .dataframe tbody tr th:only-of-type {\n",
       "        vertical-align: middle;\n",
       "    }\n",
       "\n",
       "    .dataframe tbody tr th {\n",
       "        vertical-align: top;\n",
       "    }\n",
       "\n",
       "    .dataframe thead th {\n",
       "        text-align: right;\n",
       "    }\n",
       "</style>\n",
       "<table border=\"1\" class=\"dataframe\">\n",
       "  <thead>\n",
       "    <tr style=\"text-align: right;\">\n",
       "      <th></th>\n",
       "      <th>keyword</th>\n",
       "      <th>title</th>\n",
       "      <th>publisher</th>\n",
       "      <th>price</th>\n",
       "      <th>pubdate</th>\n",
       "      <th>isbn</th>\n",
       "      <th>page</th>\n",
       "    </tr>\n",
       "  </thead>\n",
       "  <tbody>\n",
       "    <tr>\n",
       "      <th>0</th>\n",
       "      <td>Python</td>\n",
       "      <td>Effective Python 2nd 이펙티브 파이썬 : 파이썬 코딩의 기술 (똑똑...</td>\n",
       "      <td>길벗</td>\n",
       "      <td>32000</td>\n",
       "      <td>20201030</td>\n",
       "      <td>1165213192 9791165213190</td>\n",
       "      <td>640</td>\n",
       "    </tr>\n",
       "    <tr>\n",
       "      <th>1</th>\n",
       "      <td>Python</td>\n",
       "      <td>파이썬 딥러닝 파이토치(Python Deep Learning PyTorch)</td>\n",
       "      <td>정보문화사</td>\n",
       "      <td>25000</td>\n",
       "      <td>20201008</td>\n",
       "      <td>8956748578 9788956748573</td>\n",
       "      <td>310</td>\n",
       "    </tr>\n",
       "    <tr>\n",
       "      <th>2</th>\n",
       "      <td>Python</td>\n",
       "      <td>Intuitive Python: Productive Development for P...</td>\n",
       "      <td>PragmaticBookshelf</td>\n",
       "      <td>38060</td>\n",
       "      <td>20211005</td>\n",
       "      <td>1680508237 9781680508239</td>\n",
       "      <td>130</td>\n",
       "    </tr>\n",
       "  </tbody>\n",
       "</table>\n",
       "</div>"
      ],
      "text/plain": [
       "  keyword                                              title  \\\n",
       "0  Python  Effective Python 2nd 이펙티브 파이썬 : 파이썬 코딩의 기술 (똑똑...   \n",
       "1  Python         파이썬 딥러닝 파이토치(Python Deep Learning PyTorch)   \n",
       "2  Python  Intuitive Python: Productive Development for P...   \n",
       "\n",
       "            publisher  price   pubdate                      isbn page  \n",
       "0                  길벗  32000  20201030  1165213192 9791165213190  640  \n",
       "1               정보문화사  25000  20201008  8956748578 9788956748573  310  \n",
       "2  PragmaticBookshelf  38060  20211005  1680508237 9781680508239  130  "
      ]
     },
     "execution_count": 26,
     "metadata": {},
     "output_type": "execute_result"
    }
   ],
   "source": [
    "# 함수 동작 test\n",
    "test = get_fields(\"Python\", one_result)\n",
    "test.head()"
   ]
  },
  {
   "cell_type": "code",
   "execution_count": 30,
   "metadata": {},
   "outputs": [],
   "source": [
    "search_list = [\"파이썬\", \"C programming\", \"C 프로그래밍\", \"Java\", \"자바\",\n",
    "\"JavaScript\", \"자바스크립트\", \"C++\", \"C#\", \"Visual Basic.NET\", \"SQL\", \"PHP programming\",\n",
    "\"PHP 프로그래밍\", \"Assembly language\", \"Visual Basic\", \"Go programming\", \"Go 프로그래밍\",\n",
    "\"MATLAB\", \"R programming\", \"R 프로그래밍\", \"Groovy programming\", \"Groovy 프로그래밍\", \"Ruby 프로그래밍\",\n",
    "\"Ruby programming\", \"Swift programming\", \"Swift 프로그래밍\", \"Fortran\", \"Perl programming\",\n",
    "\"Perl 프로그래밍\", \"Delphi\", \"Object Pascal\"\n",
    "]"
   ]
  },
  {
   "cell_type": "code",
   "execution_count": 33,
   "metadata": {},
   "outputs": [
    {
     "name": "stdout",
     "output_type": "stream",
     "text": [
      "[2021-10-21 01:45:11.382524] Url Request Success\n",
      "[2021-10-21 01:45:11.745737] Url Request Success\n",
      "[2021-10-21 01:45:12.154201] Url Request Success\n",
      "[2021-10-21 01:45:12.552087] Url Request Success\n",
      "[2021-10-21 01:45:12.956093] Url Request Success\n",
      "[2021-10-21 01:45:13.346501] Url Request Success\n",
      "[2021-10-21 01:45:13.723256] Url Request Success\n",
      "[2021-10-21 01:45:14.127809] Url Request Success\n",
      "[2021-10-21 01:45:14.518888] Url Request Success\n",
      "[2021-10-21 01:45:14.903771] Url Request Success\n"
     ]
    }
   ],
   "source": [
    "# Python\n",
    "result_book = []\n",
    "\n",
    "for n in range(1, 1000, 100):\n",
    "    url = gen_search_url(\"Python\", n, 100)\n",
    "    json_result = get_result_onpage(url)\n",
    "    pd_result = get_fields(\"Python\", json_result)\n",
    "\n",
    "    result_book.append(pd_result)\n",
    "\n",
    "result_book = pd.concat(result_book)"
   ]
  },
  {
   "cell_type": "code",
   "execution_count": 34,
   "metadata": {},
   "outputs": [
    {
     "data": {
      "text/html": [
       "<div>\n",
       "<style scoped>\n",
       "    .dataframe tbody tr th:only-of-type {\n",
       "        vertical-align: middle;\n",
       "    }\n",
       "\n",
       "    .dataframe tbody tr th {\n",
       "        vertical-align: top;\n",
       "    }\n",
       "\n",
       "    .dataframe thead th {\n",
       "        text-align: right;\n",
       "    }\n",
       "</style>\n",
       "<table border=\"1\" class=\"dataframe\">\n",
       "  <thead>\n",
       "    <tr style=\"text-align: right;\">\n",
       "      <th></th>\n",
       "      <th>keyword</th>\n",
       "      <th>title</th>\n",
       "      <th>publisher</th>\n",
       "      <th>price</th>\n",
       "      <th>pubdate</th>\n",
       "      <th>isbn</th>\n",
       "      <th>link</th>\n",
       "    </tr>\n",
       "  </thead>\n",
       "  <tbody>\n",
       "    <tr>\n",
       "      <th>0</th>\n",
       "      <td>Python</td>\n",
       "      <td>Effective Python 2nd 이펙티브 파이썬 : 파이썬 코딩의 기술 (똑똑...</td>\n",
       "      <td>길벗</td>\n",
       "      <td>32000</td>\n",
       "      <td>20201030</td>\n",
       "      <td>1165213192 9791165213190</td>\n",
       "      <td>http://book.naver.com/bookdb/book_detail.php?b...</td>\n",
       "    </tr>\n",
       "    <tr>\n",
       "      <th>1</th>\n",
       "      <td>Python</td>\n",
       "      <td>파이썬 딥러닝 파이토치(Python Deep Learning PyTorch)</td>\n",
       "      <td>정보문화사</td>\n",
       "      <td>25000</td>\n",
       "      <td>20201008</td>\n",
       "      <td>8956748578 9788956748573</td>\n",
       "      <td>http://book.naver.com/bookdb/book_detail.php?b...</td>\n",
       "    </tr>\n",
       "    <tr>\n",
       "      <th>2</th>\n",
       "      <td>Python</td>\n",
       "      <td>Intuitive Python: Productive Development for P...</td>\n",
       "      <td>PragmaticBookshelf</td>\n",
       "      <td>38060</td>\n",
       "      <td>20211005</td>\n",
       "      <td>1680508237 9781680508239</td>\n",
       "      <td>http://book.naver.com/bookdb/book_detail.php?b...</td>\n",
       "    </tr>\n",
       "    <tr>\n",
       "      <th>3</th>\n",
       "      <td>Python</td>\n",
       "      <td>Python으로 시작하는 빅데이터분석 및 인공지능 (개정판)</td>\n",
       "      <td>인피니티북스</td>\n",
       "      <td>26000</td>\n",
       "      <td>20210225</td>\n",
       "      <td>118557879X 9791185578798</td>\n",
       "      <td>http://book.naver.com/bookdb/book_detail.php?b...</td>\n",
       "    </tr>\n",
       "    <tr>\n",
       "      <th>4</th>\n",
       "      <td>Python</td>\n",
       "      <td>Fluent Python: Clear, Concise, and Effective P...</td>\n",
       "      <td>O'ReillyMedia</td>\n",
       "      <td>99730</td>\n",
       "      <td>20211019</td>\n",
       "      <td>1492056359 9781492056355</td>\n",
       "      <td>http://book.naver.com/bookdb/book_detail.php?b...</td>\n",
       "    </tr>\n",
       "  </tbody>\n",
       "</table>\n",
       "</div>"
      ],
      "text/plain": [
       "  keyword                                              title  \\\n",
       "0  Python  Effective Python 2nd 이펙티브 파이썬 : 파이썬 코딩의 기술 (똑똑...   \n",
       "1  Python         파이썬 딥러닝 파이토치(Python Deep Learning PyTorch)   \n",
       "2  Python  Intuitive Python: Productive Development for P...   \n",
       "3  Python                  Python으로 시작하는 빅데이터분석 및 인공지능 (개정판)   \n",
       "4  Python  Fluent Python: Clear, Concise, and Effective P...   \n",
       "\n",
       "            publisher  price   pubdate                      isbn  \\\n",
       "0                  길벗  32000  20201030  1165213192 9791165213190   \n",
       "1               정보문화사  25000  20201008  8956748578 9788956748573   \n",
       "2  PragmaticBookshelf  38060  20211005  1680508237 9781680508239   \n",
       "3              인피니티북스  26000  20210225  118557879X 9791185578798   \n",
       "4       O'ReillyMedia  99730  20211019  1492056359 9781492056355   \n",
       "\n",
       "                                                link  \n",
       "0  http://book.naver.com/bookdb/book_detail.php?b...  \n",
       "1  http://book.naver.com/bookdb/book_detail.php?b...  \n",
       "2  http://book.naver.com/bookdb/book_detail.php?b...  \n",
       "3  http://book.naver.com/bookdb/book_detail.php?b...  \n",
       "4  http://book.naver.com/bookdb/book_detail.php?b...  "
      ]
     },
     "execution_count": 34,
     "metadata": {},
     "output_type": "execute_result"
    }
   ],
   "source": [
    "result_book.head()"
   ]
  },
  {
   "cell_type": "code",
   "execution_count": 35,
   "metadata": {},
   "outputs": [
    {
     "name": "stdout",
     "output_type": "stream",
     "text": [
      "<class 'pandas.core.frame.DataFrame'>\n",
      "Int64Index: 1000 entries, 0 to 99\n",
      "Data columns (total 7 columns):\n",
      " #   Column     Non-Null Count  Dtype \n",
      "---  ------     --------------  ----- \n",
      " 0   keyword    1000 non-null   object\n",
      " 1   title      1000 non-null   object\n",
      " 2   publisher  1000 non-null   object\n",
      " 3   price      1000 non-null   object\n",
      " 4   pubdate    1000 non-null   object\n",
      " 5   isbn       1000 non-null   object\n",
      " 6   link       1000 non-null   object\n",
      "dtypes: object(7)\n",
      "memory usage: 62.5+ KB\n"
     ]
    }
   ],
   "source": [
    "result_book.info()"
   ]
  },
  {
   "cell_type": "code",
   "execution_count": 36,
   "metadata": {},
   "outputs": [
    {
     "name": "stderr",
     "output_type": "stream",
     "text": [
      "C:\\Users\\sanghui\\AppData\\Local\\Temp/ipykernel_17104/1979051933.py:3: TqdmDeprecationWarning: This function will be removed in tqdm==5.0.0\n",
      "Please use `tqdm.notebook.tqdm` instead of `tqdm.tqdm_notebook`\n",
      "  for keyword in tqdm_notebook(search_list):\n"
     ]
    },
    {
     "data": {
      "application/vnd.jupyter.widget-view+json": {
       "model_id": "08d0a3c5112845f7a0fe2bb2626c9326",
       "version_major": 2,
       "version_minor": 0
      },
      "text/plain": [
       "  0%|          | 0/31 [00:00<?, ?it/s]"
      ]
     },
     "metadata": {},
     "output_type": "display_data"
    },
    {
     "name": "stdout",
     "output_type": "stream",
     "text": [
      "[2021-10-21 01:45:49.357504] Url Request Success\n",
      "[2021-10-21 01:45:49.682034] Url Request Success\n",
      "[2021-10-21 01:45:50.017764] Url Request Success\n",
      "[2021-10-21 01:45:50.332897] Url Request Success\n",
      "[2021-10-21 01:45:50.658895] Url Request Success\n",
      "[2021-10-21 01:45:50.962817] Url Request Success\n",
      "[2021-10-21 01:45:51.299876] Url Request Success\n",
      "[2021-10-21 01:45:51.703310] Url Request Success\n",
      "[2021-10-21 01:45:52.092176] Url Request Success\n",
      "[2021-10-21 01:45:52.472760] Url Request Success\n",
      "[2021-10-21 01:45:52.800831] Url Request Success\n",
      "[2021-10-21 01:45:53.177708] Url Request Success\n",
      "[2021-10-21 01:45:53.499313] Url Request Success\n",
      "[2021-10-21 01:45:53.792631] Url Request Success\n",
      "[2021-10-21 01:45:54.134535] Url Request Success\n",
      "[2021-10-21 01:45:54.478541] Url Request Success\n",
      "[2021-10-21 01:45:54.727982] Url Request Success\n",
      "[2021-10-21 01:45:54.988338] Url Request Success\n",
      "[2021-10-21 01:45:55.403165] Url Request Success\n",
      "[2021-10-21 01:45:55.766082] Url Request Success\n",
      "[2021-10-21 01:45:56.098520] Url Request Success\n",
      "[2021-10-21 01:45:56.409010] Url Request Success\n",
      "[2021-10-21 01:45:56.739012] Url Request Success\n",
      "[2021-10-21 01:45:57.094337] Url Request Success\n",
      "[2021-10-21 01:45:57.428482] Url Request Success\n",
      "[2021-10-21 01:45:57.734675] Url Request Success\n",
      "[2021-10-21 01:45:58.069245] Url Request Success\n",
      "[2021-10-21 01:45:58.452344] Url Request Success\n",
      "[2021-10-21 01:45:58.810378] Url Request Success\n",
      "[2021-10-21 01:45:59.173608] Url Request Success\n",
      "[2021-10-21 01:45:59.571775] Url Request Success\n",
      "[2021-10-21 01:45:59.973607] Url Request Success\n",
      "[2021-10-21 01:46:00.343333] Url Request Success\n",
      "[2021-10-21 01:46:00.708193] Url Request Success\n",
      "[2021-10-21 01:46:01.066121] Url Request Success\n",
      "[2021-10-21 01:46:01.424508] Url Request Success\n",
      "[2021-10-21 01:46:01.759141] Url Request Success\n",
      "[2021-10-21 01:46:02.132685] Url Request Success\n",
      "[2021-10-21 01:46:02.477998] Url Request Success\n",
      "[2021-10-21 01:46:02.829997] Url Request Success\n",
      "[2021-10-21 01:46:03.197443] Url Request Success\n",
      "[2021-10-21 01:46:03.524020] Url Request Success\n",
      "[2021-10-21 01:46:03.867755] Url Request Success\n",
      "[2021-10-21 01:46:04.183070] Url Request Success\n",
      "[2021-10-21 01:46:04.499000] Url Request Success\n",
      "[2021-10-21 01:46:04.795825] Url Request Success\n",
      "[2021-10-21 01:46:05.230098] Url Request Success\n",
      "[2021-10-21 01:46:05.487291] Url Request Success\n",
      "[2021-10-21 01:46:05.824797] Url Request Success\n",
      "[2021-10-21 01:46:06.173882] Url Request Success\n",
      "[2021-10-21 01:46:06.606910] Url Request Success\n",
      "[2021-10-21 01:46:06.992017] Url Request Success\n",
      "[2021-10-21 01:46:07.380167] Url Request Success\n",
      "[2021-10-21 01:46:07.807746] Url Request Success\n",
      "[2021-10-21 01:46:08.263200] Url Request Success\n",
      "[2021-10-21 01:46:08.625277] Url Request Success\n",
      "[2021-10-21 01:46:08.961641] Url Request Success\n",
      "[2021-10-21 01:46:09.231154] Url Request Success\n",
      "[2021-10-21 01:46:09.542734] Url Request Success\n",
      "[2021-10-21 01:46:09.789735] Url Request Success\n",
      "[2021-10-21 01:46:10.106110] Url Request Success\n",
      "[2021-10-21 01:46:10.430645] Url Request Success\n",
      "[2021-10-21 01:46:10.767854] Url Request Success\n",
      "[2021-10-21 01:46:11.130084] Url Request Success\n",
      "[2021-10-21 01:46:11.561085] Url Request Success\n",
      "[2021-10-21 01:46:11.960634] Url Request Success\n",
      "[2021-10-21 01:46:12.339675] Url Request Success\n",
      "[2021-10-21 01:46:12.719308] Url Request Success\n",
      "[2021-10-21 01:46:13.098600] Url Request Success\n",
      "[2021-10-21 01:46:13.507121] Url Request Success\n",
      "[2021-10-21 01:46:13.858136] Url Request Success\n",
      "[2021-10-21 01:46:14.214815] Url Request Success\n",
      "[2021-10-21 01:46:14.544255] Url Request Success\n",
      "[2021-10-21 01:46:14.878158] Url Request Success\n",
      "[2021-10-21 01:46:15.206025] Url Request Success\n",
      "[2021-10-21 01:46:15.516203] Url Request Success\n",
      "[2021-10-21 01:46:15.849568] Url Request Success\n",
      "[2021-10-21 01:46:16.170228] Url Request Success\n",
      "[2021-10-21 01:46:16.480633] Url Request Success\n",
      "[2021-10-21 01:46:16.845471] Url Request Success\n",
      "[2021-10-21 01:46:17.192525] Url Request Success\n",
      "[2021-10-21 01:46:17.502716] Url Request Success\n",
      "[2021-10-21 01:46:17.811570] Url Request Success\n",
      "[2021-10-21 01:46:18.122670] Url Request Success\n",
      "[2021-10-21 01:46:18.465029] Url Request Success\n",
      "[2021-10-21 01:46:18.812653] Url Request Success\n",
      "[2021-10-21 01:46:19.157329] Url Request Success\n",
      "[2021-10-21 01:46:19.495038] Url Request Success\n",
      "[2021-10-21 01:46:19.780333] Url Request Success\n",
      "[2021-10-21 01:46:20.055560] Url Request Success\n",
      "[2021-10-21 01:46:20.426543] Url Request Success\n",
      "[2021-10-21 01:46:20.751661] Url Request Success\n",
      "[2021-10-21 01:46:21.025169] Url Request Success\n",
      "[2021-10-21 01:46:21.318876] Url Request Success\n",
      "[2021-10-21 01:46:21.588299] Url Request Success\n",
      "[2021-10-21 01:46:22.002358] Url Request Success\n",
      "[2021-10-21 01:46:22.458463] Url Request Success\n",
      "[2021-10-21 01:46:22.878215] Url Request Success\n",
      "[2021-10-21 01:46:23.307095] Url Request Success\n",
      "[2021-10-21 01:46:23.738688] Url Request Success\n",
      "[2021-10-21 01:46:24.094778] Url Request Success\n",
      "[2021-10-21 01:46:24.482909] Url Request Success\n",
      "[2021-10-21 01:46:24.826274] Url Request Success\n",
      "[2021-10-21 01:46:25.133311] Url Request Success\n",
      "[2021-10-21 01:46:25.464037] Url Request Success\n",
      "[2021-10-21 01:46:25.803906] Url Request Success\n",
      "[2021-10-21 01:46:26.154168] Url Request Success\n",
      "[2021-10-21 01:46:26.508120] Url Request Success\n",
      "[2021-10-21 01:46:26.902127] Url Request Success\n",
      "[2021-10-21 01:46:27.282448] Url Request Success\n",
      "[2021-10-21 01:46:27.576223] Url Request Success\n",
      "[2021-10-21 01:46:27.919508] Url Request Success\n",
      "[2021-10-21 01:46:28.365536] Url Request Success\n",
      "[2021-10-21 01:46:28.774795] Url Request Success\n",
      "[2021-10-21 01:46:29.211452] Url Request Success\n",
      "[2021-10-21 01:46:29.564044] Url Request Success\n",
      "[2021-10-21 01:46:29.667881] Url Request Success\n",
      "[2021-10-21 01:46:29.762857] Url Request Success\n",
      "[2021-10-21 01:46:29.840983] Url Request Success\n",
      "[2021-10-21 01:46:29.898390] Url Request Success\n",
      "[2021-10-21 01:46:30.246295] Url Request Success\n",
      "[2021-10-21 01:46:30.628160] Url Request Success\n",
      "[2021-10-21 01:46:31.012151] Url Request Success\n",
      "[2021-10-21 01:46:31.418011] Url Request Success\n",
      "[2021-10-21 01:46:31.536789] Url Request Success\n",
      "[2021-10-21 01:46:31.615866] Url Request Success\n",
      "[2021-10-21 01:46:31.682786] Url Request Success\n",
      "[2021-10-21 01:46:31.745286] Url Request Success\n",
      "[2021-10-21 01:46:31.833958] Url Request Success\n",
      "[2021-10-21 01:46:31.914693] Url Request Success\n",
      "[2021-10-21 01:46:32.236844] Url Request Success\n",
      "[2021-10-21 01:46:32.482082] Url Request Success\n",
      "[2021-10-21 01:46:32.706249] Url Request Success\n",
      "[2021-10-21 01:46:32.967467] Url Request Success\n",
      "[2021-10-21 01:46:33.364281] Url Request Success\n",
      "[2021-10-21 01:46:33.746502] Url Request Success\n",
      "[2021-10-21 01:46:34.191951] Url Request Success\n",
      "[2021-10-21 01:46:34.600921] Url Request Success\n",
      "[2021-10-21 01:46:35.004434] Url Request Success\n",
      "[2021-10-21 01:46:35.381729] Url Request Success\n",
      "[2021-10-21 01:46:35.719105] Url Request Success\n",
      "[2021-10-21 01:46:36.057281] Url Request Success\n",
      "[2021-10-21 01:46:36.384342] Url Request Success\n",
      "[2021-10-21 01:46:36.769849] Url Request Success\n",
      "[2021-10-21 01:46:37.163526] Url Request Success\n",
      "[2021-10-21 01:46:37.528566] Url Request Success\n",
      "[2021-10-21 01:46:37.888674] Url Request Success\n",
      "[2021-10-21 01:46:38.215273] Url Request Success\n",
      "[2021-10-21 01:46:38.505827] Url Request Success\n",
      "[2021-10-21 01:46:38.759987] Url Request Success\n",
      "[2021-10-21 01:46:39.136753] Url Request Success\n",
      "[2021-10-21 01:46:39.568670] Url Request Success\n",
      "[2021-10-21 01:46:40.003510] Url Request Success\n",
      "[2021-10-21 01:46:40.431499] Url Request Success\n",
      "[2021-10-21 01:46:40.856081] Url Request Success\n",
      "[2021-10-21 01:46:41.310523] Url Request Success\n",
      "[2021-10-21 01:46:41.760605] Url Request Success\n",
      "[2021-10-21 01:46:42.220392] Url Request Success\n",
      "[2021-10-21 01:46:42.685025] Url Request Success\n",
      "[2021-10-21 01:46:43.178529] Url Request Success\n",
      "[2021-10-21 01:46:43.577874] Url Request Success\n",
      "[2021-10-21 01:46:43.779889] Url Request Success\n",
      "[2021-10-21 01:46:43.858153] Url Request Success\n",
      "[2021-10-21 01:46:43.926125] Url Request Success\n",
      "[2021-10-21 01:46:43.986082] Url Request Success\n",
      "[2021-10-21 01:46:44.045939] Url Request Success\n",
      "[2021-10-21 01:46:44.120802] Url Request Success\n",
      "[2021-10-21 01:46:44.192274] Url Request Success\n",
      "[2021-10-21 01:46:44.270003] Url Request Success\n",
      "[2021-10-21 01:46:44.347268] Url Request Success\n",
      "[2021-10-21 01:46:44.659068] Url Request Success\n",
      "[2021-10-21 01:46:45.047436] Url Request Success\n",
      "[2021-10-21 01:46:45.345940] Url Request Success\n",
      "[2021-10-21 01:46:45.679850] Url Request Success\n",
      "[2021-10-21 01:46:46.013311] Url Request Success\n",
      "[2021-10-21 01:46:46.381079] Url Request Success\n",
      "[2021-10-21 01:46:46.757131] Url Request Success\n",
      "[2021-10-21 01:46:47.134177] Url Request Success\n",
      "[2021-10-21 01:46:47.465354] Url Request Success\n",
      "[2021-10-21 01:46:47.783660] Url Request Success\n",
      "[2021-10-21 01:46:48.188374] Url Request Success\n",
      "[2021-10-21 01:46:48.568184] Url Request Success\n",
      "[2021-10-21 01:46:48.844370] Url Request Success\n",
      "[2021-10-21 01:46:49.114176] Url Request Success\n",
      "[2021-10-21 01:46:49.544608] Url Request Success\n",
      "[2021-10-21 01:46:49.901076] Url Request Success\n",
      "[2021-10-21 01:46:50.352385] Url Request Success\n",
      "[2021-10-21 01:46:50.774629] Url Request Success\n",
      "[2021-10-21 01:46:51.207199] Url Request Success\n",
      "[2021-10-21 01:46:51.721998] Url Request Success\n",
      "[2021-10-21 01:46:52.116286] Url Request Success\n",
      "[2021-10-21 01:46:52.488240] Url Request Success\n",
      "[2021-10-21 01:46:52.882988] Url Request Success\n",
      "[2021-10-21 01:46:53.319125] Url Request Success\n",
      "[2021-10-21 01:46:53.724573] Url Request Success\n",
      "[2021-10-21 01:46:54.022545] Url Request Success\n",
      "[2021-10-21 01:46:54.109030] Url Request Success\n",
      "[2021-10-21 01:46:54.179171] Url Request Success\n",
      "[2021-10-21 01:46:54.267239] Url Request Success\n",
      "[2021-10-21 01:46:54.349987] Url Request Success\n",
      "[2021-10-21 01:46:54.539350] Url Request Success\n",
      "[2021-10-21 01:46:54.608653] Url Request Success\n",
      "[2021-10-21 01:46:54.674017] Url Request Success\n",
      "[2021-10-21 01:46:54.736709] Url Request Success\n",
      "[2021-10-21 01:46:54.830419] Url Request Success\n",
      "[2021-10-21 01:46:54.927487] Url Request Success\n",
      "[2021-10-21 01:46:54.996147] Url Request Success\n",
      "[2021-10-21 01:46:55.061103] Url Request Success\n",
      "[2021-10-21 01:46:55.133103] Url Request Success\n",
      "[2021-10-21 01:46:55.205114] Url Request Success\n",
      "[2021-10-21 01:46:55.293374] Url Request Success\n"
     ]
    },
    {
     "ename": "HTTPError",
     "evalue": "HTTP Error 429: Too Many Requests",
     "output_type": "error",
     "traceback": [
      "\u001b[1;31m---------------------------------------------------------------------------\u001b[0m",
      "\u001b[1;31mHTTPError\u001b[0m                                 Traceback (most recent call last)",
      "\u001b[1;32m~\\AppData\\Local\\Temp/ipykernel_17104/1979051933.py\u001b[0m in \u001b[0;36m<module>\u001b[1;34m\u001b[0m\n\u001b[0;32m      5\u001b[0m     \u001b[1;32mfor\u001b[0m \u001b[0mn\u001b[0m \u001b[1;32min\u001b[0m \u001b[0mrange\u001b[0m\u001b[1;33m(\u001b[0m\u001b[1;36m1\u001b[0m\u001b[1;33m,\u001b[0m \u001b[1;36m1000\u001b[0m\u001b[1;33m,\u001b[0m \u001b[1;36m100\u001b[0m\u001b[1;33m)\u001b[0m\u001b[1;33m:\u001b[0m\u001b[1;33m\u001b[0m\u001b[1;33m\u001b[0m\u001b[0m\n\u001b[0;32m      6\u001b[0m         \u001b[0murl\u001b[0m \u001b[1;33m=\u001b[0m \u001b[0mgen_search_url\u001b[0m\u001b[1;33m(\u001b[0m\u001b[0mkeyword\u001b[0m\u001b[1;33m,\u001b[0m \u001b[0mn\u001b[0m\u001b[1;33m,\u001b[0m \u001b[1;36m100\u001b[0m\u001b[1;33m)\u001b[0m\u001b[1;33m\u001b[0m\u001b[1;33m\u001b[0m\u001b[0m\n\u001b[1;32m----> 7\u001b[1;33m         \u001b[0mjson_result\u001b[0m \u001b[1;33m=\u001b[0m \u001b[0mget_result_onpage\u001b[0m\u001b[1;33m(\u001b[0m\u001b[0murl\u001b[0m\u001b[1;33m)\u001b[0m\u001b[1;33m\u001b[0m\u001b[1;33m\u001b[0m\u001b[0m\n\u001b[0m\u001b[0;32m      8\u001b[0m         \u001b[0mpd_result\u001b[0m \u001b[1;33m=\u001b[0m \u001b[0mget_fields\u001b[0m\u001b[1;33m(\u001b[0m\u001b[0mkeyword\u001b[0m\u001b[1;33m,\u001b[0m \u001b[0mjson_result\u001b[0m\u001b[1;33m)\u001b[0m\u001b[1;33m\u001b[0m\u001b[1;33m\u001b[0m\u001b[0m\n\u001b[0;32m      9\u001b[0m \u001b[1;33m\u001b[0m\u001b[0m\n",
      "\u001b[1;32m~\\AppData\\Local\\Temp/ipykernel_17104/2522407904.py\u001b[0m in \u001b[0;36mget_result_onpage\u001b[1;34m(url)\u001b[0m\n\u001b[0;32m      4\u001b[0m     \u001b[0mrequest\u001b[0m\u001b[1;33m.\u001b[0m\u001b[0madd_header\u001b[0m\u001b[1;33m(\u001b[0m\u001b[1;34m\"X-Naver-Client-Id\"\u001b[0m\u001b[1;33m,\u001b[0m\u001b[0mclient_id\u001b[0m\u001b[1;33m)\u001b[0m\u001b[1;33m\u001b[0m\u001b[1;33m\u001b[0m\u001b[0m\n\u001b[0;32m      5\u001b[0m     \u001b[0mrequest\u001b[0m\u001b[1;33m.\u001b[0m\u001b[0madd_header\u001b[0m\u001b[1;33m(\u001b[0m\u001b[1;34m\"X-Naver-Client-Secret\"\u001b[0m\u001b[1;33m,\u001b[0m\u001b[0mclient_secret\u001b[0m\u001b[1;33m)\u001b[0m\u001b[1;33m\u001b[0m\u001b[1;33m\u001b[0m\u001b[0m\n\u001b[1;32m----> 6\u001b[1;33m     \u001b[0mresponse\u001b[0m \u001b[1;33m=\u001b[0m \u001b[0murllib\u001b[0m\u001b[1;33m.\u001b[0m\u001b[0mrequest\u001b[0m\u001b[1;33m.\u001b[0m\u001b[0murlopen\u001b[0m\u001b[1;33m(\u001b[0m\u001b[0mrequest\u001b[0m\u001b[1;33m)\u001b[0m\u001b[1;33m\u001b[0m\u001b[1;33m\u001b[0m\u001b[0m\n\u001b[0m\u001b[0;32m      7\u001b[0m     \u001b[0mprint\u001b[0m\u001b[1;33m(\u001b[0m\u001b[1;34m\"[%s] Url Request Success\"\u001b[0m \u001b[1;33m%\u001b[0m \u001b[0mdatetime\u001b[0m\u001b[1;33m.\u001b[0m\u001b[0mdatetime\u001b[0m\u001b[1;33m.\u001b[0m\u001b[0mnow\u001b[0m\u001b[1;33m(\u001b[0m\u001b[1;33m)\u001b[0m\u001b[1;33m)\u001b[0m \u001b[1;31m# log용 print\u001b[0m\u001b[1;33m\u001b[0m\u001b[1;33m\u001b[0m\u001b[0m\n\u001b[0;32m      8\u001b[0m     \u001b[1;32mreturn\u001b[0m \u001b[0mjson\u001b[0m\u001b[1;33m.\u001b[0m\u001b[0mloads\u001b[0m\u001b[1;33m(\u001b[0m\u001b[0mresponse\u001b[0m\u001b[1;33m.\u001b[0m\u001b[0mread\u001b[0m\u001b[1;33m(\u001b[0m\u001b[1;33m)\u001b[0m\u001b[1;33m.\u001b[0m\u001b[0mdecode\u001b[0m\u001b[1;33m(\u001b[0m\u001b[1;34m'utf-8'\u001b[0m\u001b[1;33m)\u001b[0m\u001b[1;33m)\u001b[0m\u001b[1;33m\u001b[0m\u001b[1;33m\u001b[0m\u001b[0m\n",
      "\u001b[1;32m~\\miniconda3\\envs\\ds_study\\lib\\urllib\\request.py\u001b[0m in \u001b[0;36murlopen\u001b[1;34m(url, data, timeout, cafile, capath, cadefault, context)\u001b[0m\n\u001b[0;32m    220\u001b[0m     \u001b[1;32melse\u001b[0m\u001b[1;33m:\u001b[0m\u001b[1;33m\u001b[0m\u001b[1;33m\u001b[0m\u001b[0m\n\u001b[0;32m    221\u001b[0m         \u001b[0mopener\u001b[0m \u001b[1;33m=\u001b[0m \u001b[0m_opener\u001b[0m\u001b[1;33m\u001b[0m\u001b[1;33m\u001b[0m\u001b[0m\n\u001b[1;32m--> 222\u001b[1;33m     \u001b[1;32mreturn\u001b[0m \u001b[0mopener\u001b[0m\u001b[1;33m.\u001b[0m\u001b[0mopen\u001b[0m\u001b[1;33m(\u001b[0m\u001b[0murl\u001b[0m\u001b[1;33m,\u001b[0m \u001b[0mdata\u001b[0m\u001b[1;33m,\u001b[0m \u001b[0mtimeout\u001b[0m\u001b[1;33m)\u001b[0m\u001b[1;33m\u001b[0m\u001b[1;33m\u001b[0m\u001b[0m\n\u001b[0m\u001b[0;32m    223\u001b[0m \u001b[1;33m\u001b[0m\u001b[0m\n\u001b[0;32m    224\u001b[0m \u001b[1;32mdef\u001b[0m \u001b[0minstall_opener\u001b[0m\u001b[1;33m(\u001b[0m\u001b[0mopener\u001b[0m\u001b[1;33m)\u001b[0m\u001b[1;33m:\u001b[0m\u001b[1;33m\u001b[0m\u001b[1;33m\u001b[0m\u001b[0m\n",
      "\u001b[1;32m~\\miniconda3\\envs\\ds_study\\lib\\urllib\\request.py\u001b[0m in \u001b[0;36mopen\u001b[1;34m(self, fullurl, data, timeout)\u001b[0m\n\u001b[0;32m    529\u001b[0m         \u001b[1;32mfor\u001b[0m \u001b[0mprocessor\u001b[0m \u001b[1;32min\u001b[0m \u001b[0mself\u001b[0m\u001b[1;33m.\u001b[0m\u001b[0mprocess_response\u001b[0m\u001b[1;33m.\u001b[0m\u001b[0mget\u001b[0m\u001b[1;33m(\u001b[0m\u001b[0mprotocol\u001b[0m\u001b[1;33m,\u001b[0m \u001b[1;33m[\u001b[0m\u001b[1;33m]\u001b[0m\u001b[1;33m)\u001b[0m\u001b[1;33m:\u001b[0m\u001b[1;33m\u001b[0m\u001b[1;33m\u001b[0m\u001b[0m\n\u001b[0;32m    530\u001b[0m             \u001b[0mmeth\u001b[0m \u001b[1;33m=\u001b[0m \u001b[0mgetattr\u001b[0m\u001b[1;33m(\u001b[0m\u001b[0mprocessor\u001b[0m\u001b[1;33m,\u001b[0m \u001b[0mmeth_name\u001b[0m\u001b[1;33m)\u001b[0m\u001b[1;33m\u001b[0m\u001b[1;33m\u001b[0m\u001b[0m\n\u001b[1;32m--> 531\u001b[1;33m             \u001b[0mresponse\u001b[0m \u001b[1;33m=\u001b[0m \u001b[0mmeth\u001b[0m\u001b[1;33m(\u001b[0m\u001b[0mreq\u001b[0m\u001b[1;33m,\u001b[0m \u001b[0mresponse\u001b[0m\u001b[1;33m)\u001b[0m\u001b[1;33m\u001b[0m\u001b[1;33m\u001b[0m\u001b[0m\n\u001b[0m\u001b[0;32m    532\u001b[0m \u001b[1;33m\u001b[0m\u001b[0m\n\u001b[0;32m    533\u001b[0m         \u001b[1;32mreturn\u001b[0m \u001b[0mresponse\u001b[0m\u001b[1;33m\u001b[0m\u001b[1;33m\u001b[0m\u001b[0m\n",
      "\u001b[1;32m~\\miniconda3\\envs\\ds_study\\lib\\urllib\\request.py\u001b[0m in \u001b[0;36mhttp_response\u001b[1;34m(self, request, response)\u001b[0m\n\u001b[0;32m    638\u001b[0m         \u001b[1;31m# request was successfully received, understood, and accepted.\u001b[0m\u001b[1;33m\u001b[0m\u001b[1;33m\u001b[0m\u001b[1;33m\u001b[0m\u001b[0m\n\u001b[0;32m    639\u001b[0m         \u001b[1;32mif\u001b[0m \u001b[1;32mnot\u001b[0m \u001b[1;33m(\u001b[0m\u001b[1;36m200\u001b[0m \u001b[1;33m<=\u001b[0m \u001b[0mcode\u001b[0m \u001b[1;33m<\u001b[0m \u001b[1;36m300\u001b[0m\u001b[1;33m)\u001b[0m\u001b[1;33m:\u001b[0m\u001b[1;33m\u001b[0m\u001b[1;33m\u001b[0m\u001b[0m\n\u001b[1;32m--> 640\u001b[1;33m             response = self.parent.error(\n\u001b[0m\u001b[0;32m    641\u001b[0m                 'http', request, response, code, msg, hdrs)\n\u001b[0;32m    642\u001b[0m \u001b[1;33m\u001b[0m\u001b[0m\n",
      "\u001b[1;32m~\\miniconda3\\envs\\ds_study\\lib\\urllib\\request.py\u001b[0m in \u001b[0;36merror\u001b[1;34m(self, proto, *args)\u001b[0m\n\u001b[0;32m    567\u001b[0m         \u001b[1;32mif\u001b[0m \u001b[0mhttp_err\u001b[0m\u001b[1;33m:\u001b[0m\u001b[1;33m\u001b[0m\u001b[1;33m\u001b[0m\u001b[0m\n\u001b[0;32m    568\u001b[0m             \u001b[0margs\u001b[0m \u001b[1;33m=\u001b[0m \u001b[1;33m(\u001b[0m\u001b[0mdict\u001b[0m\u001b[1;33m,\u001b[0m \u001b[1;34m'default'\u001b[0m\u001b[1;33m,\u001b[0m \u001b[1;34m'http_error_default'\u001b[0m\u001b[1;33m)\u001b[0m \u001b[1;33m+\u001b[0m \u001b[0morig_args\u001b[0m\u001b[1;33m\u001b[0m\u001b[1;33m\u001b[0m\u001b[0m\n\u001b[1;32m--> 569\u001b[1;33m             \u001b[1;32mreturn\u001b[0m \u001b[0mself\u001b[0m\u001b[1;33m.\u001b[0m\u001b[0m_call_chain\u001b[0m\u001b[1;33m(\u001b[0m\u001b[1;33m*\u001b[0m\u001b[0margs\u001b[0m\u001b[1;33m)\u001b[0m\u001b[1;33m\u001b[0m\u001b[1;33m\u001b[0m\u001b[0m\n\u001b[0m\u001b[0;32m    570\u001b[0m \u001b[1;33m\u001b[0m\u001b[0m\n\u001b[0;32m    571\u001b[0m \u001b[1;31m# XXX probably also want an abstract factory that knows when it makes\u001b[0m\u001b[1;33m\u001b[0m\u001b[1;33m\u001b[0m\u001b[1;33m\u001b[0m\u001b[0m\n",
      "\u001b[1;32m~\\miniconda3\\envs\\ds_study\\lib\\urllib\\request.py\u001b[0m in \u001b[0;36m_call_chain\u001b[1;34m(self, chain, kind, meth_name, *args)\u001b[0m\n\u001b[0;32m    500\u001b[0m         \u001b[1;32mfor\u001b[0m \u001b[0mhandler\u001b[0m \u001b[1;32min\u001b[0m \u001b[0mhandlers\u001b[0m\u001b[1;33m:\u001b[0m\u001b[1;33m\u001b[0m\u001b[1;33m\u001b[0m\u001b[0m\n\u001b[0;32m    501\u001b[0m             \u001b[0mfunc\u001b[0m \u001b[1;33m=\u001b[0m \u001b[0mgetattr\u001b[0m\u001b[1;33m(\u001b[0m\u001b[0mhandler\u001b[0m\u001b[1;33m,\u001b[0m \u001b[0mmeth_name\u001b[0m\u001b[1;33m)\u001b[0m\u001b[1;33m\u001b[0m\u001b[1;33m\u001b[0m\u001b[0m\n\u001b[1;32m--> 502\u001b[1;33m             \u001b[0mresult\u001b[0m \u001b[1;33m=\u001b[0m \u001b[0mfunc\u001b[0m\u001b[1;33m(\u001b[0m\u001b[1;33m*\u001b[0m\u001b[0margs\u001b[0m\u001b[1;33m)\u001b[0m\u001b[1;33m\u001b[0m\u001b[1;33m\u001b[0m\u001b[0m\n\u001b[0m\u001b[0;32m    503\u001b[0m             \u001b[1;32mif\u001b[0m \u001b[0mresult\u001b[0m \u001b[1;32mis\u001b[0m \u001b[1;32mnot\u001b[0m \u001b[1;32mNone\u001b[0m\u001b[1;33m:\u001b[0m\u001b[1;33m\u001b[0m\u001b[1;33m\u001b[0m\u001b[0m\n\u001b[0;32m    504\u001b[0m                 \u001b[1;32mreturn\u001b[0m \u001b[0mresult\u001b[0m\u001b[1;33m\u001b[0m\u001b[1;33m\u001b[0m\u001b[0m\n",
      "\u001b[1;32m~\\miniconda3\\envs\\ds_study\\lib\\urllib\\request.py\u001b[0m in \u001b[0;36mhttp_error_default\u001b[1;34m(self, req, fp, code, msg, hdrs)\u001b[0m\n\u001b[0;32m    647\u001b[0m \u001b[1;32mclass\u001b[0m \u001b[0mHTTPDefaultErrorHandler\u001b[0m\u001b[1;33m(\u001b[0m\u001b[0mBaseHandler\u001b[0m\u001b[1;33m)\u001b[0m\u001b[1;33m:\u001b[0m\u001b[1;33m\u001b[0m\u001b[1;33m\u001b[0m\u001b[0m\n\u001b[0;32m    648\u001b[0m     \u001b[1;32mdef\u001b[0m \u001b[0mhttp_error_default\u001b[0m\u001b[1;33m(\u001b[0m\u001b[0mself\u001b[0m\u001b[1;33m,\u001b[0m \u001b[0mreq\u001b[0m\u001b[1;33m,\u001b[0m \u001b[0mfp\u001b[0m\u001b[1;33m,\u001b[0m \u001b[0mcode\u001b[0m\u001b[1;33m,\u001b[0m \u001b[0mmsg\u001b[0m\u001b[1;33m,\u001b[0m \u001b[0mhdrs\u001b[0m\u001b[1;33m)\u001b[0m\u001b[1;33m:\u001b[0m\u001b[1;33m\u001b[0m\u001b[1;33m\u001b[0m\u001b[0m\n\u001b[1;32m--> 649\u001b[1;33m         \u001b[1;32mraise\u001b[0m \u001b[0mHTTPError\u001b[0m\u001b[1;33m(\u001b[0m\u001b[0mreq\u001b[0m\u001b[1;33m.\u001b[0m\u001b[0mfull_url\u001b[0m\u001b[1;33m,\u001b[0m \u001b[0mcode\u001b[0m\u001b[1;33m,\u001b[0m \u001b[0mmsg\u001b[0m\u001b[1;33m,\u001b[0m \u001b[0mhdrs\u001b[0m\u001b[1;33m,\u001b[0m \u001b[0mfp\u001b[0m\u001b[1;33m)\u001b[0m\u001b[1;33m\u001b[0m\u001b[1;33m\u001b[0m\u001b[0m\n\u001b[0m\u001b[0;32m    650\u001b[0m \u001b[1;33m\u001b[0m\u001b[0m\n\u001b[0;32m    651\u001b[0m \u001b[1;32mclass\u001b[0m \u001b[0mHTTPRedirectHandler\u001b[0m\u001b[1;33m(\u001b[0m\u001b[0mBaseHandler\u001b[0m\u001b[1;33m)\u001b[0m\u001b[1;33m:\u001b[0m\u001b[1;33m\u001b[0m\u001b[1;33m\u001b[0m\u001b[0m\n",
      "\u001b[1;31mHTTPError\u001b[0m: HTTP Error 429: Too Many Requests"
     ]
    }
   ],
   "source": [
    "from tqdm import tqdm_notebook\n",
    "\n",
    "for keyword in tqdm_notebook(search_list):\n",
    "    tmp_result = []\n",
    "    for n in range(1, 1000, 100):\n",
    "        url = gen_search_url(keyword, n, 100)\n",
    "        json_result = get_result_onpage(url)\n",
    "        pd_result = get_fields(keyword, json_result)\n",
    "\n",
    "        tmp_result.append(pd_result)\n",
    "\n",
    "    tmp_result = pd.concat(tmp_result)\n",
    "\n",
    "    tmp_result.reset_index(inplace=True)\n",
    "    del tmp_result[\"index\"]\n",
    "\n",
    "    result_book = pd.concat([result_book, tmp_result])"
   ]
  },
  {
   "cell_type": "code",
   "execution_count": 52,
   "metadata": {},
   "outputs": [
    {
     "data": {
      "text/html": [
       "<div>\n",
       "<style scoped>\n",
       "    .dataframe tbody tr th:only-of-type {\n",
       "        vertical-align: middle;\n",
       "    }\n",
       "\n",
       "    .dataframe tbody tr th {\n",
       "        vertical-align: top;\n",
       "    }\n",
       "\n",
       "    .dataframe thead th {\n",
       "        text-align: right;\n",
       "    }\n",
       "</style>\n",
       "<table border=\"1\" class=\"dataframe\">\n",
       "  <thead>\n",
       "    <tr style=\"text-align: right;\">\n",
       "      <th></th>\n",
       "      <th>keyword</th>\n",
       "      <th>title</th>\n",
       "      <th>publisher</th>\n",
       "      <th>price</th>\n",
       "      <th>pubdate</th>\n",
       "      <th>isbn</th>\n",
       "      <th>link</th>\n",
       "    </tr>\n",
       "  </thead>\n",
       "  <tbody>\n",
       "    <tr>\n",
       "      <th>25</th>\n",
       "      <td>Groovy programming</td>\n",
       "      <td>Real-time Web Application Development with Vert.x</td>\n",
       "      <td>PacktPublishing</td>\n",
       "      <td>47980</td>\n",
       "      <td>20130810</td>\n",
       "      <td>1782167951 9781782167952</td>\n",
       "      <td>http://book.naver.com/bookdb/book_detail.php?b...</td>\n",
       "    </tr>\n",
       "    <tr>\n",
       "      <th>26</th>\n",
       "      <td>Groovy programming</td>\n",
       "      <td>The Thoughtworks Anthology (Paperback) (Essays...</td>\n",
       "      <td>Oreilly&amp;AssociatesInc</td>\n",
       "      <td>46690</td>\n",
       "      <td>20080411</td>\n",
       "      <td>193435614X 9781934356142</td>\n",
       "      <td>http://book.naver.com/bookdb/book_detail.php?b...</td>\n",
       "    </tr>\n",
       "    <tr>\n",
       "      <th>27</th>\n",
       "      <td>Groovy programming</td>\n",
       "      <td>Learn Java for Web Development: Modern Java We...</td>\n",
       "      <td>Springer</td>\n",
       "      <td>66920</td>\n",
       "      <td>20131231</td>\n",
       "      <td>1430259833 9781430259831</td>\n",
       "      <td>http://book.naver.com/bookdb/book_detail.php?b...</td>\n",
       "    </tr>\n",
       "    <tr>\n",
       "      <th>28</th>\n",
       "      <td>Groovy programming</td>\n",
       "      <td>Introducing Spring Framework: A Primer (A Primer)</td>\n",
       "      <td>Apress</td>\n",
       "      <td>66910</td>\n",
       "      <td>20140626</td>\n",
       "      <td>1430265329 9781430265320</td>\n",
       "      <td>http://book.naver.com/bookdb/book_detail.php?b...</td>\n",
       "    </tr>\n",
       "    <tr>\n",
       "      <th>29</th>\n",
       "      <td>Groovy programming</td>\n",
       "      <td>Agile Entwicklung Von Web-Anwendungen Mit Grails</td>\n",
       "      <td>GrinVerlag</td>\n",
       "      <td>28640</td>\n",
       "      <td>20130807</td>\n",
       "      <td>3640983750 9783640983759</td>\n",
       "      <td>http://book.naver.com/bookdb/book_detail.php?b...</td>\n",
       "    </tr>\n",
       "  </tbody>\n",
       "</table>\n",
       "</div>"
      ],
      "text/plain": [
       "               keyword                                              title  \\\n",
       "25  Groovy programming  Real-time Web Application Development with Vert.x   \n",
       "26  Groovy programming  The Thoughtworks Anthology (Paperback) (Essays...   \n",
       "27  Groovy programming  Learn Java for Web Development: Modern Java We...   \n",
       "28  Groovy programming  Introducing Spring Framework: A Primer (A Primer)   \n",
       "29  Groovy programming   Agile Entwicklung Von Web-Anwendungen Mit Grails   \n",
       "\n",
       "                publisher  price   pubdate                      isbn  \\\n",
       "25        PacktPublishing  47980  20130810  1782167951 9781782167952   \n",
       "26  Oreilly&AssociatesInc  46690  20080411  193435614X 9781934356142   \n",
       "27               Springer  66920  20131231  1430259833 9781430259831   \n",
       "28                 Apress  66910  20140626  1430265329 9781430265320   \n",
       "29             GrinVerlag  28640  20130807  3640983750 9783640983759   \n",
       "\n",
       "                                                 link  \n",
       "25  http://book.naver.com/bookdb/book_detail.php?b...  \n",
       "26  http://book.naver.com/bookdb/book_detail.php?b...  \n",
       "27  http://book.naver.com/bookdb/book_detail.php?b...  \n",
       "28  http://book.naver.com/bookdb/book_detail.php?b...  \n",
       "29  http://book.naver.com/bookdb/book_detail.php?b...  "
      ]
     },
     "execution_count": 52,
     "metadata": {},
     "output_type": "execute_result"
    }
   ],
   "source": [
    "result_book.tail()"
   ]
  },
  {
   "cell_type": "code",
   "execution_count": 53,
   "metadata": {},
   "outputs": [],
   "source": [
    "# 에러 난 시점부터 삭제\n",
    "result_book = result_book[result_book['keyword'] != 'Groovy programming']"
   ]
  },
  {
   "cell_type": "code",
   "execution_count": 54,
   "metadata": {},
   "outputs": [
    {
     "data": {
      "text/html": [
       "<div>\n",
       "<style scoped>\n",
       "    .dataframe tbody tr th:only-of-type {\n",
       "        vertical-align: middle;\n",
       "    }\n",
       "\n",
       "    .dataframe tbody tr th {\n",
       "        vertical-align: top;\n",
       "    }\n",
       "\n",
       "    .dataframe thead th {\n",
       "        text-align: right;\n",
       "    }\n",
       "</style>\n",
       "<table border=\"1\" class=\"dataframe\">\n",
       "  <thead>\n",
       "    <tr style=\"text-align: right;\">\n",
       "      <th></th>\n",
       "      <th>keyword</th>\n",
       "      <th>title</th>\n",
       "      <th>publisher</th>\n",
       "      <th>price</th>\n",
       "      <th>pubdate</th>\n",
       "      <th>isbn</th>\n",
       "      <th>link</th>\n",
       "    </tr>\n",
       "  </thead>\n",
       "  <tbody>\n",
       "    <tr>\n",
       "      <th>571</th>\n",
       "      <td>R 프로그래밍</td>\n",
       "      <td>9가지 사례로 익히는 고급 스파크 분석 (현실 세계 빅데이터로 배우는 가장 실용적인...</td>\n",
       "      <td>한빛미디어</td>\n",
       "      <td>26000</td>\n",
       "      <td>20160701</td>\n",
       "      <td>8968482896 9788968482892</td>\n",
       "      <td>http://book.naver.com/bookdb/book_detail.php?b...</td>\n",
       "    </tr>\n",
       "    <tr>\n",
       "      <th>572</th>\n",
       "      <td>R 프로그래밍</td>\n",
       "      <td>컴퓨터 과학개론 (컴퓨터 이해와 활용을 위한)</td>\n",
       "      <td>21세기사</td>\n",
       "      <td>22000</td>\n",
       "      <td>20090225</td>\n",
       "      <td>8984682934 9788984682931</td>\n",
       "      <td>http://book.naver.com/bookdb/book_detail.php?b...</td>\n",
       "    </tr>\n",
       "    <tr>\n",
       "      <th>573</th>\n",
       "      <td>R 프로그래밍</td>\n",
       "      <td>이것이 자바다 (JAVA 세상, JAVA 개발자로 가는길(무료 인터넷 강의, Q/A...</td>\n",
       "      <td>한빛미디어</td>\n",
       "      <td>30000</td>\n",
       "      <td>20150105</td>\n",
       "      <td>6000834225 9786000834227</td>\n",
       "      <td>http://book.naver.com/bookdb/book_detail.php?b...</td>\n",
       "    </tr>\n",
       "    <tr>\n",
       "      <th>574</th>\n",
       "      <td>R 프로그래밍</td>\n",
       "      <td>정보처리산업기사 실기 (e-런닝으로 확실하게 합격하는)</td>\n",
       "      <td>성안당</td>\n",
       "      <td>20000</td>\n",
       "      <td>20070102</td>\n",
       "      <td>8931548990 9788931548990</td>\n",
       "      <td>http://book.naver.com/bookdb/book_detail.php?b...</td>\n",
       "    </tr>\n",
       "    <tr>\n",
       "      <th>575</th>\n",
       "      <td>R 프로그래밍</td>\n",
       "      <td>컴퓨터 활용과 인터넷</td>\n",
       "      <td>생능</td>\n",
       "      <td>16000</td>\n",
       "      <td>19970303</td>\n",
       "      <td>8970501258 9788970501253</td>\n",
       "      <td>http://book.naver.com/bookdb/book_detail.php?b...</td>\n",
       "    </tr>\n",
       "  </tbody>\n",
       "</table>\n",
       "</div>"
      ],
      "text/plain": [
       "     keyword                                              title publisher  \\\n",
       "571  R 프로그래밍  9가지 사례로 익히는 고급 스파크 분석 (현실 세계 빅데이터로 배우는 가장 실용적인...     한빛미디어   \n",
       "572  R 프로그래밍                          컴퓨터 과학개론 (컴퓨터 이해와 활용을 위한)     21세기사   \n",
       "573  R 프로그래밍  이것이 자바다 (JAVA 세상, JAVA 개발자로 가는길(무료 인터넷 강의, Q/A...     한빛미디어   \n",
       "574  R 프로그래밍                     정보처리산업기사 실기 (e-런닝으로 확실하게 합격하는)       성안당   \n",
       "575  R 프로그래밍                                        컴퓨터 활용과 인터넷        생능   \n",
       "\n",
       "     price   pubdate                      isbn  \\\n",
       "571  26000  20160701  8968482896 9788968482892   \n",
       "572  22000  20090225  8984682934 9788984682931   \n",
       "573  30000  20150105  6000834225 9786000834227   \n",
       "574  20000  20070102  8931548990 9788931548990   \n",
       "575  16000  19970303  8970501258 9788970501253   \n",
       "\n",
       "                                                  link  \n",
       "571  http://book.naver.com/bookdb/book_detail.php?b...  \n",
       "572  http://book.naver.com/bookdb/book_detail.php?b...  \n",
       "573  http://book.naver.com/bookdb/book_detail.php?b...  \n",
       "574  http://book.naver.com/bookdb/book_detail.php?b...  \n",
       "575  http://book.naver.com/bookdb/book_detail.php?b...  "
      ]
     },
     "execution_count": 54,
     "metadata": {},
     "output_type": "execute_result"
    }
   ],
   "source": [
    "result_book.tail()"
   ]
  },
  {
   "cell_type": "code",
   "execution_count": 55,
   "metadata": {},
   "outputs": [
    {
     "data": {
      "text/plain": [
       "['Groovy programming',\n",
       " 'Groovy 프로그래밍',\n",
       " 'Ruby 프로그래밍',\n",
       " 'Ruby programming',\n",
       " 'Swift programming',\n",
       " 'Swift 프로그래밍',\n",
       " 'Fortran',\n",
       " 'Perl programming',\n",
       " 'Perl 프로그래밍',\n",
       " 'Delphi',\n",
       " 'Object Pascal']"
      ]
     },
     "execution_count": 55,
     "metadata": {},
     "output_type": "execute_result"
    }
   ],
   "source": [
    "tmp_list = search_list[-11:]\n",
    "tmp_list"
   ]
  },
  {
   "cell_type": "code",
   "execution_count": 56,
   "metadata": {},
   "outputs": [
    {
     "name": "stderr",
     "output_type": "stream",
     "text": [
      "C:\\Users\\sanghui\\AppData\\Local\\Temp/ipykernel_17104/4253321360.py:1: TqdmDeprecationWarning: This function will be removed in tqdm==5.0.0\n",
      "Please use `tqdm.notebook.tqdm` instead of `tqdm.tqdm_notebook`\n",
      "  for keyword in tqdm_notebook(tmp_list):\n"
     ]
    },
    {
     "data": {
      "application/vnd.jupyter.widget-view+json": {
       "model_id": "550a02b87fbd4f14a17d989dc238c9ba",
       "version_major": 2,
       "version_minor": 0
      },
      "text/plain": [
       "  0%|          | 0/11 [00:00<?, ?it/s]"
      ]
     },
     "metadata": {},
     "output_type": "display_data"
    },
    {
     "name": "stdout",
     "output_type": "stream",
     "text": [
      "[2021-10-21 02:02:45.702473] Url Request Success\n",
      "[2021-10-21 02:02:48.800672] Url Request Success\n",
      "[2021-10-21 02:02:51.891110] Url Request Success\n",
      "[2021-10-21 02:02:54.986199] Url Request Success\n",
      "[2021-10-21 02:02:58.084291] Url Request Success\n",
      "[2021-10-21 02:03:01.189425] Url Request Success\n",
      "[2021-10-21 02:03:04.276759] Url Request Success\n",
      "[2021-10-21 02:03:07.376839] Url Request Success\n",
      "[2021-10-21 02:03:10.475398] Url Request Success\n",
      "[2021-10-21 02:03:13.564072] Url Request Success\n",
      "[2021-10-21 02:03:16.680085] Url Request Success\n",
      "[2021-10-21 02:03:19.849671] Url Request Success\n",
      "[2021-10-21 02:03:22.935745] Url Request Success\n",
      "[2021-10-21 02:03:26.037912] Url Request Success\n",
      "[2021-10-21 02:03:29.141429] Url Request Success\n",
      "[2021-10-21 02:03:32.239153] Url Request Success\n",
      "[2021-10-21 02:03:35.324451] Url Request Success\n",
      "[2021-10-21 02:03:38.411745] Url Request Success\n",
      "[2021-10-21 02:03:41.509251] Url Request Success\n",
      "[2021-10-21 02:03:44.782768] Url Request Success\n",
      "[2021-10-21 02:03:48.036073] Url Request Success\n",
      "[2021-10-21 02:03:51.170793] Url Request Success\n",
      "[2021-10-21 02:03:54.265532] Url Request Success\n",
      "[2021-10-21 02:03:57.377520] Url Request Success\n",
      "[2021-10-21 02:04:00.468538] Url Request Success\n",
      "[2021-10-21 02:04:03.587501] Url Request Success\n",
      "[2021-10-21 02:04:06.704485] Url Request Success\n",
      "[2021-10-21 02:04:09.776664] Url Request Success\n",
      "[2021-10-21 02:04:12.875317] Url Request Success\n",
      "[2021-10-21 02:04:15.963417] Url Request Success\n",
      "[2021-10-21 02:04:19.364930] Url Request Success\n",
      "[2021-10-21 02:04:22.788428] Url Request Success\n",
      "[2021-10-21 02:04:26.146762] Url Request Success\n",
      "[2021-10-21 02:04:29.241531] Url Request Success\n",
      "[2021-10-21 02:04:32.332306] Url Request Success\n",
      "[2021-10-21 02:04:35.433041] Url Request Success\n",
      "[2021-10-21 02:04:38.522351] Url Request Success\n",
      "[2021-10-21 02:04:41.618710] Url Request Success\n",
      "[2021-10-21 02:04:44.705544] Url Request Success\n",
      "[2021-10-21 02:04:47.805737] Url Request Success\n",
      "[2021-10-21 02:04:51.121434] Url Request Success\n",
      "[2021-10-21 02:04:54.502317] Url Request Success\n",
      "[2021-10-21 02:04:57.616471] Url Request Success\n",
      "[2021-10-21 02:05:00.717469] Url Request Success\n",
      "[2021-10-21 02:05:03.831736] Url Request Success\n",
      "[2021-10-21 02:05:06.937921] Url Request Success\n",
      "[2021-10-21 02:05:10.027451] Url Request Success\n",
      "[2021-10-21 02:05:13.128106] Url Request Success\n",
      "[2021-10-21 02:05:16.242421] Url Request Success\n",
      "[2021-10-21 02:05:19.342828] Url Request Success\n",
      "[2021-10-21 02:05:22.608992] Url Request Success\n",
      "[2021-10-21 02:05:25.709519] Url Request Success\n",
      "[2021-10-21 02:05:28.796707] Url Request Success\n",
      "[2021-10-21 02:05:31.885476] Url Request Success\n",
      "[2021-10-21 02:05:34.963949] Url Request Success\n",
      "[2021-10-21 02:05:38.072223] Url Request Success\n",
      "[2021-10-21 02:05:41.171831] Url Request Success\n",
      "[2021-10-21 02:05:44.273479] Url Request Success\n",
      "[2021-10-21 02:05:47.356400] Url Request Success\n",
      "[2021-10-21 02:05:50.452372] Url Request Success\n",
      "[2021-10-21 02:05:53.773754] Url Request Success\n",
      "[2021-10-21 02:05:57.058397] Url Request Success\n",
      "[2021-10-21 02:06:00.299820] Url Request Success\n",
      "[2021-10-21 02:06:03.550789] Url Request Success\n",
      "[2021-10-21 02:06:06.804543] Url Request Success\n",
      "[2021-10-21 02:06:10.049382] Url Request Success\n",
      "[2021-10-21 02:06:13.316085] Url Request Success\n",
      "[2021-10-21 02:06:16.729189] Url Request Success\n",
      "[2021-10-21 02:06:20.134534] Url Request Success\n",
      "[2021-10-21 02:06:23.543161] Url Request Success\n",
      "[2021-10-21 02:06:26.888837] Url Request Success\n",
      "[2021-10-21 02:06:30.325399] Url Request Success\n",
      "[2021-10-21 02:06:33.738147] Url Request Success\n",
      "[2021-10-21 02:06:37.137182] Url Request Success\n",
      "[2021-10-21 02:06:40.619948] Url Request Success\n",
      "[2021-10-21 02:06:44.067876] Url Request Success\n",
      "[2021-10-21 02:06:47.234710] Url Request Success\n",
      "[2021-10-21 02:06:50.310451] Url Request Success\n",
      "[2021-10-21 02:06:53.407582] Url Request Success\n",
      "[2021-10-21 02:06:56.492340] Url Request Success\n",
      "[2021-10-21 02:06:59.862365] Url Request Success\n",
      "[2021-10-21 02:07:03.057498] Url Request Success\n",
      "[2021-10-21 02:07:06.138814] Url Request Success\n",
      "[2021-10-21 02:07:09.212615] Url Request Success\n",
      "[2021-10-21 02:07:12.306990] Url Request Success\n",
      "[2021-10-21 02:07:15.387636] Url Request Success\n",
      "[2021-10-21 02:07:18.477851] Url Request Success\n",
      "[2021-10-21 02:07:21.564083] Url Request Success\n",
      "[2021-10-21 02:07:24.647514] Url Request Success\n",
      "[2021-10-21 02:07:27.736406] Url Request Success\n",
      "[2021-10-21 02:07:31.067231] Url Request Success\n",
      "[2021-10-21 02:07:34.374403] Url Request Success\n",
      "[2021-10-21 02:07:37.617683] Url Request Success\n",
      "[2021-10-21 02:07:40.858969] Url Request Success\n",
      "[2021-10-21 02:07:44.096154] Url Request Success\n",
      "[2021-10-21 02:07:47.345080] Url Request Success\n",
      "[2021-10-21 02:07:50.674909] Url Request Success\n",
      "[2021-10-21 02:07:54.100143] Url Request Success\n",
      "[2021-10-21 02:07:57.518973] Url Request Success\n",
      "[2021-10-21 02:08:00.963279] Url Request Success\n",
      "[2021-10-21 02:08:04.357831] Url Request Success\n",
      "[2021-10-21 02:08:07.740706] Url Request Success\n",
      "[2021-10-21 02:08:10.836123] Url Request Success\n",
      "[2021-10-21 02:08:13.919166] Url Request Success\n",
      "[2021-10-21 02:08:17.006633] Url Request Success\n",
      "[2021-10-21 02:08:20.089017] Url Request Success\n",
      "[2021-10-21 02:08:23.195795] Url Request Success\n",
      "[2021-10-21 02:08:26.288642] Url Request Success\n",
      "[2021-10-21 02:08:29.409579] Url Request Success\n",
      "[2021-10-21 02:08:32.497734] Url Request Success\n"
     ]
    }
   ],
   "source": [
    "# time sleep 건후 다시 시도\n",
    "for keyword in tqdm_notebook(tmp_list):\n",
    "    tmp_result = []\n",
    "    for n in range(1, 1000, 100):\n",
    "        url = gen_search_url(keyword, n, 100)\n",
    "        time.sleep(1)\n",
    "        json_result = get_result_onpage(url)\n",
    "        time.sleep(2)\n",
    "        pd_result = get_fields(keyword, json_result)\n",
    "\n",
    "        tmp_result.append(pd_result)\n",
    "\n",
    "    tmp_result = pd.concat(tmp_result)\n",
    "\n",
    "    tmp_result.reset_index(inplace=True)\n",
    "    del tmp_result[\"index\"]\n",
    "\n",
    "    result_book = pd.concat([result_book, tmp_result])"
   ]
  },
  {
   "cell_type": "code",
   "execution_count": 57,
   "metadata": {},
   "outputs": [
    {
     "name": "stdout",
     "output_type": "stream",
     "text": [
      "<class 'pandas.core.frame.DataFrame'>\n",
      "Int64Index: 22191 entries, 0 to 174\n",
      "Data columns (total 7 columns):\n",
      " #   Column     Non-Null Count  Dtype \n",
      "---  ------     --------------  ----- \n",
      " 0   keyword    22191 non-null  object\n",
      " 1   title      22191 non-null  object\n",
      " 2   publisher  22191 non-null  object\n",
      " 3   price      22191 non-null  object\n",
      " 4   pubdate    22191 non-null  object\n",
      " 5   isbn       22191 non-null  object\n",
      " 6   link       22191 non-null  object\n",
      "dtypes: object(7)\n",
      "memory usage: 1.4+ MB\n"
     ]
    }
   ],
   "source": [
    "result_book.info()"
   ]
  },
  {
   "cell_type": "code",
   "execution_count": 58,
   "metadata": {},
   "outputs": [
    {
     "data": {
      "text/html": [
       "<div>\n",
       "<style scoped>\n",
       "    .dataframe tbody tr th:only-of-type {\n",
       "        vertical-align: middle;\n",
       "    }\n",
       "\n",
       "    .dataframe tbody tr th {\n",
       "        vertical-align: top;\n",
       "    }\n",
       "\n",
       "    .dataframe thead th {\n",
       "        text-align: right;\n",
       "    }\n",
       "</style>\n",
       "<table border=\"1\" class=\"dataframe\">\n",
       "  <thead>\n",
       "    <tr style=\"text-align: right;\">\n",
       "      <th></th>\n",
       "      <th>index</th>\n",
       "      <th>keyword</th>\n",
       "      <th>title</th>\n",
       "      <th>publisher</th>\n",
       "      <th>price</th>\n",
       "      <th>pubdate</th>\n",
       "      <th>isbn</th>\n",
       "      <th>link</th>\n",
       "    </tr>\n",
       "  </thead>\n",
       "  <tbody>\n",
       "    <tr>\n",
       "      <th>22186</th>\n",
       "      <td>170</td>\n",
       "      <td>Object Pascal</td>\n",
       "      <td>Jacques Lacan (Critical Evaluations in Cultura...</td>\n",
       "      <td>Routledge</td>\n",
       "      <td>2692360</td>\n",
       "      <td>20021200</td>\n",
       "      <td>0415278627 9780415278621</td>\n",
       "      <td>http://book.naver.com/bookdb/book_detail.php?b...</td>\n",
       "    </tr>\n",
       "    <tr>\n",
       "      <th>22187</th>\n",
       "      <td>171</td>\n",
       "      <td>Object Pascal</td>\n",
       "      <td>Digital Cognitive Technologies (Epistemology a...</td>\n",
       "      <td>Wiley-ISTE</td>\n",
       "      <td>245380</td>\n",
       "      <td>20130109</td>\n",
       "      <td>0470394234 9780470394236</td>\n",
       "      <td>http://book.naver.com/bookdb/book_detail.php?b...</td>\n",
       "    </tr>\n",
       "    <tr>\n",
       "      <th>22188</th>\n",
       "      <td>172</td>\n",
       "      <td>Object Pascal</td>\n",
       "      <td>You Can Program in C++ (A Programmer's Introdu...</td>\n",
       "      <td>Wiley</td>\n",
       "      <td>51300</td>\n",
       "      <td>20071210</td>\n",
       "      <td>0470295910 9780470295915</td>\n",
       "      <td>http://book.naver.com/bookdb/book_detail.php?b...</td>\n",
       "    </tr>\n",
       "    <tr>\n",
       "      <th>22189</th>\n",
       "      <td>173</td>\n",
       "      <td>Object Pascal</td>\n",
       "      <td>델파이 5.0</td>\n",
       "      <td>정익사</td>\n",
       "      <td>13000</td>\n",
       "      <td>20000801</td>\n",
       "      <td>8935302937 9788935302932</td>\n",
       "      <td>http://book.naver.com/bookdb/book_detail.php?b...</td>\n",
       "    </tr>\n",
       "    <tr>\n",
       "      <th>22190</th>\n",
       "      <td>174</td>\n",
       "      <td>Object Pascal</td>\n",
       "      <td>Microsoft Quickpascal Programming</td>\n",
       "      <td>Microsoft</td>\n",
       "      <td>20000</td>\n",
       "      <td>199000</td>\n",
       "      <td>1556152485 6101556152480</td>\n",
       "      <td>http://book.naver.com/bookdb/book_detail.php?b...</td>\n",
       "    </tr>\n",
       "  </tbody>\n",
       "</table>\n",
       "</div>"
      ],
      "text/plain": [
       "       index        keyword  \\\n",
       "22186    170  Object Pascal   \n",
       "22187    171  Object Pascal   \n",
       "22188    172  Object Pascal   \n",
       "22189    173  Object Pascal   \n",
       "22190    174  Object Pascal   \n",
       "\n",
       "                                                   title   publisher    price  \\\n",
       "22186  Jacques Lacan (Critical Evaluations in Cultura...   Routledge  2692360   \n",
       "22187  Digital Cognitive Technologies (Epistemology a...  Wiley-ISTE   245380   \n",
       "22188  You Can Program in C++ (A Programmer's Introdu...       Wiley    51300   \n",
       "22189                                            델파이 5.0         정익사    13000   \n",
       "22190                  Microsoft Quickpascal Programming   Microsoft    20000   \n",
       "\n",
       "        pubdate                      isbn  \\\n",
       "22186  20021200  0415278627 9780415278621   \n",
       "22187  20130109  0470394234 9780470394236   \n",
       "22188  20071210  0470295910 9780470295915   \n",
       "22189  20000801  8935302937 9788935302932   \n",
       "22190    199000  1556152485 6101556152480   \n",
       "\n",
       "                                                    link  \n",
       "22186  http://book.naver.com/bookdb/book_detail.php?b...  \n",
       "22187  http://book.naver.com/bookdb/book_detail.php?b...  \n",
       "22188  http://book.naver.com/bookdb/book_detail.php?b...  \n",
       "22189  http://book.naver.com/bookdb/book_detail.php?b...  \n",
       "22190  http://book.naver.com/bookdb/book_detail.php?b...  "
      ]
     },
     "execution_count": 58,
     "metadata": {},
     "output_type": "execute_result"
    }
   ],
   "source": [
    "# 인덱스 재설정\n",
    "result_book.reset_index(inplace=True)\n",
    "result_book.tail()"
   ]
  },
  {
   "cell_type": "code",
   "execution_count": 59,
   "metadata": {},
   "outputs": [
    {
     "data": {
      "text/html": [
       "<div>\n",
       "<style scoped>\n",
       "    .dataframe tbody tr th:only-of-type {\n",
       "        vertical-align: middle;\n",
       "    }\n",
       "\n",
       "    .dataframe tbody tr th {\n",
       "        vertical-align: top;\n",
       "    }\n",
       "\n",
       "    .dataframe thead th {\n",
       "        text-align: right;\n",
       "    }\n",
       "</style>\n",
       "<table border=\"1\" class=\"dataframe\">\n",
       "  <thead>\n",
       "    <tr style=\"text-align: right;\">\n",
       "      <th></th>\n",
       "      <th>keyword</th>\n",
       "      <th>title</th>\n",
       "      <th>publisher</th>\n",
       "      <th>price</th>\n",
       "      <th>pubdate</th>\n",
       "      <th>isbn</th>\n",
       "      <th>link</th>\n",
       "    </tr>\n",
       "  </thead>\n",
       "  <tbody>\n",
       "    <tr>\n",
       "      <th>22186</th>\n",
       "      <td>Object Pascal</td>\n",
       "      <td>Jacques Lacan (Critical Evaluations in Cultura...</td>\n",
       "      <td>Routledge</td>\n",
       "      <td>2692360</td>\n",
       "      <td>20021200</td>\n",
       "      <td>0415278627 9780415278621</td>\n",
       "      <td>http://book.naver.com/bookdb/book_detail.php?b...</td>\n",
       "    </tr>\n",
       "    <tr>\n",
       "      <th>22187</th>\n",
       "      <td>Object Pascal</td>\n",
       "      <td>Digital Cognitive Technologies (Epistemology a...</td>\n",
       "      <td>Wiley-ISTE</td>\n",
       "      <td>245380</td>\n",
       "      <td>20130109</td>\n",
       "      <td>0470394234 9780470394236</td>\n",
       "      <td>http://book.naver.com/bookdb/book_detail.php?b...</td>\n",
       "    </tr>\n",
       "    <tr>\n",
       "      <th>22188</th>\n",
       "      <td>Object Pascal</td>\n",
       "      <td>You Can Program in C++ (A Programmer's Introdu...</td>\n",
       "      <td>Wiley</td>\n",
       "      <td>51300</td>\n",
       "      <td>20071210</td>\n",
       "      <td>0470295910 9780470295915</td>\n",
       "      <td>http://book.naver.com/bookdb/book_detail.php?b...</td>\n",
       "    </tr>\n",
       "    <tr>\n",
       "      <th>22189</th>\n",
       "      <td>Object Pascal</td>\n",
       "      <td>델파이 5.0</td>\n",
       "      <td>정익사</td>\n",
       "      <td>13000</td>\n",
       "      <td>20000801</td>\n",
       "      <td>8935302937 9788935302932</td>\n",
       "      <td>http://book.naver.com/bookdb/book_detail.php?b...</td>\n",
       "    </tr>\n",
       "    <tr>\n",
       "      <th>22190</th>\n",
       "      <td>Object Pascal</td>\n",
       "      <td>Microsoft Quickpascal Programming</td>\n",
       "      <td>Microsoft</td>\n",
       "      <td>20000</td>\n",
       "      <td>199000</td>\n",
       "      <td>1556152485 6101556152480</td>\n",
       "      <td>http://book.naver.com/bookdb/book_detail.php?b...</td>\n",
       "    </tr>\n",
       "  </tbody>\n",
       "</table>\n",
       "</div>"
      ],
      "text/plain": [
       "             keyword                                              title  \\\n",
       "22186  Object Pascal  Jacques Lacan (Critical Evaluations in Cultura...   \n",
       "22187  Object Pascal  Digital Cognitive Technologies (Epistemology a...   \n",
       "22188  Object Pascal  You Can Program in C++ (A Programmer's Introdu...   \n",
       "22189  Object Pascal                                            델파이 5.0   \n",
       "22190  Object Pascal                  Microsoft Quickpascal Programming   \n",
       "\n",
       "        publisher    price   pubdate                      isbn  \\\n",
       "22186   Routledge  2692360  20021200  0415278627 9780415278621   \n",
       "22187  Wiley-ISTE   245380  20130109  0470394234 9780470394236   \n",
       "22188       Wiley    51300  20071210  0470295910 9780470295915   \n",
       "22189         정익사    13000  20000801  8935302937 9788935302932   \n",
       "22190   Microsoft    20000    199000  1556152485 6101556152480   \n",
       "\n",
       "                                                    link  \n",
       "22186  http://book.naver.com/bookdb/book_detail.php?b...  \n",
       "22187  http://book.naver.com/bookdb/book_detail.php?b...  \n",
       "22188  http://book.naver.com/bookdb/book_detail.php?b...  \n",
       "22189  http://book.naver.com/bookdb/book_detail.php?b...  \n",
       "22190  http://book.naver.com/bookdb/book_detail.php?b...  "
      ]
     },
     "execution_count": 59,
     "metadata": {},
     "output_type": "execute_result"
    }
   ],
   "source": [
    "del result_book[\"index\"]\n",
    "result_book.tail()"
   ]
  },
  {
   "cell_type": "code",
   "execution_count": 60,
   "metadata": {},
   "outputs": [],
   "source": [
    "# 데이터 임시 저장\n",
    "result_book.to_csv(\"./naver_book_raw_data2.csv\", sep=\",\", encoding='utf-8')"
   ]
  },
  {
   "cell_type": "markdown",
   "metadata": {},
   "source": [
    "---"
   ]
  },
  {
   "cell_type": "markdown",
   "metadata": {},
   "source": [
    "## ISBN 넘버로 중복데이터 제거"
   ]
  },
  {
   "cell_type": "code",
   "execution_count": 61,
   "metadata": {},
   "outputs": [
    {
     "name": "stdout",
     "output_type": "stream",
     "text": [
      "<class 'pandas.core.frame.DataFrame'>\n",
      "RangeIndex: 22191 entries, 0 to 22190\n",
      "Data columns (total 7 columns):\n",
      " #   Column     Non-Null Count  Dtype \n",
      "---  ------     --------------  ----- \n",
      " 0   keyword    22191 non-null  object\n",
      " 1   title      22191 non-null  object\n",
      " 2   publisher  22191 non-null  object\n",
      " 3   price      22191 non-null  object\n",
      " 4   pubdate    22191 non-null  object\n",
      " 5   isbn       22191 non-null  object\n",
      " 6   link       22191 non-null  object\n",
      "dtypes: object(7)\n",
      "memory usage: 1.2+ MB\n"
     ]
    }
   ],
   "source": [
    "result_book.info()"
   ]
  },
  {
   "cell_type": "code",
   "execution_count": 62,
   "metadata": {},
   "outputs": [
    {
     "data": {
      "text/plain": [
       "18967"
      ]
     },
     "execution_count": 62,
     "metadata": {},
     "output_type": "execute_result"
    }
   ],
   "source": [
    "len(result_book['isbn'].unique())"
   ]
  },
  {
   "cell_type": "code",
   "execution_count": 63,
   "metadata": {},
   "outputs": [],
   "source": [
    "result_book = result_book.drop_duplicates(['isbn'])"
   ]
  },
  {
   "cell_type": "code",
   "execution_count": 64,
   "metadata": {},
   "outputs": [
    {
     "name": "stdout",
     "output_type": "stream",
     "text": [
      "<class 'pandas.core.frame.DataFrame'>\n",
      "Int64Index: 18967 entries, 0 to 22190\n",
      "Data columns (total 7 columns):\n",
      " #   Column     Non-Null Count  Dtype \n",
      "---  ------     --------------  ----- \n",
      " 0   keyword    18967 non-null  object\n",
      " 1   title      18967 non-null  object\n",
      " 2   publisher  18967 non-null  object\n",
      " 3   price      18967 non-null  object\n",
      " 4   pubdate    18967 non-null  object\n",
      " 5   isbn       18967 non-null  object\n",
      " 6   link       18967 non-null  object\n",
      "dtypes: object(7)\n",
      "memory usage: 1.2+ MB\n"
     ]
    }
   ],
   "source": [
    "result_book.info()"
   ]
  },
  {
   "cell_type": "code",
   "execution_count": 65,
   "metadata": {},
   "outputs": [],
   "source": [
    "result_book.to_csv(\"./isbn_filter2.csv\", sep=\",\", encoding=\"utf-8\")"
   ]
  },
  {
   "cell_type": "markdown",
   "metadata": {},
   "source": [
    "### 두번 검색한 keyword 정리"
   ]
  },
  {
   "cell_type": "code",
   "execution_count": 66,
   "metadata": {},
   "outputs": [],
   "source": [
    "result_book.loc[result_book[\"keyword\"]==\"파이썬\", \"keyword\"] = \"Python\"\n",
    "result_book.loc[result_book[\"keyword\"]==\"C programming\", \"keyword\"] = \"C\"\n",
    "result_book.loc[result_book[\"keyword\"]==\"C 프로그래밍\", \"keyword\"] = \"C\"\n",
    "result_book.loc[result_book[\"keyword\"]==\"자바\", \"keyword\"] = \"Java\"\n",
    "result_book.loc[result_book[\"keyword\"]==\"자바스크립트\", \"keyword\"] = \"JavaScript\"\n",
    "result_book.loc[result_book[\"keyword\"]==\"Visual Basic\", \"keyword\"] = \"Classic Visual Basic\"\n",
    "result_book.loc[result_book[\"keyword\"]==\"Visual Basic.NET\", \"keyword\"] = \"Visual Basic\"\n",
    "result_book.loc[result_book[\"keyword\"]==\"PHP programming\", \"keyword\"] = \"PHP\"\n",
    "result_book.loc[result_book[\"keyword\"]==\"PHP 프로그래밍\", \"keyword\"] = \"PHP\"\n",
    "result_book.loc[result_book[\"keyword\"]==\"Go programming\", \"keyword\"] = \"Go\"\n",
    "result_book.loc[result_book[\"keyword\"]==\"Go 프로그래밍\", \"keyword\"] = \"Go\"\n",
    "result_book.loc[result_book[\"keyword\"]==\"R programming\", \"keyword\"] = \"R\"\n",
    "result_book.loc[result_book[\"keyword\"]==\"R 프로그래밍\", \"keyword\"] = \"R\"\n",
    "result_book.loc[result_book[\"keyword\"]==\"Groovy programming\", \"keyword\"] = \"Groovy\"\n",
    "result_book.loc[result_book[\"keyword\"]==\"Groovy 프로그래밍\", \"keyword\"] = \"Groovy\"\n",
    "result_book.loc[result_book[\"keyword\"]==\"Ruby programming\", \"keyword\"] = \"Ruby\"\n",
    "result_book.loc[result_book[\"keyword\"]==\"Ruby 프로그래밍\", \"keyword\"] = \"Ruby\"\n",
    "result_book.loc[result_book[\"keyword\"]==\"Swift 프로그래밍\", \"keyword\"] = \"Swift\"\n",
    "result_book.loc[result_book[\"keyword\"]==\"Swift programming\", \"keyword\"] = \"Swift\"\n",
    "result_book.loc[result_book[\"keyword\"]==\"Delphi\", \"keyword\"] = \"Delphi/Object Pascal\"\n",
    "result_book.loc[result_book[\"keyword\"]==\"Object Pascal\", \"keyword\"] = \"Delphi/Object Pascal\"\n",
    "result_book.loc[result_book[\"keyword\"]==\"Perl programming\", \"keyword\"] = \"Perl\"\n",
    "result_book.loc[result_book[\"keyword\"]==\"Perl 프로그래밍\", \"keyword\"] = \"Perl\"\n",
    "\n"
   ]
  },
  {
   "cell_type": "code",
   "execution_count": 67,
   "metadata": {},
   "outputs": [
    {
     "data": {
      "text/html": [
       "<div>\n",
       "<style scoped>\n",
       "    .dataframe tbody tr th:only-of-type {\n",
       "        vertical-align: middle;\n",
       "    }\n",
       "\n",
       "    .dataframe tbody tr th {\n",
       "        vertical-align: top;\n",
       "    }\n",
       "\n",
       "    .dataframe thead th {\n",
       "        text-align: right;\n",
       "    }\n",
       "</style>\n",
       "<table border=\"1\" class=\"dataframe\">\n",
       "  <thead>\n",
       "    <tr style=\"text-align: right;\">\n",
       "      <th></th>\n",
       "      <th>keyword</th>\n",
       "      <th>title</th>\n",
       "      <th>publisher</th>\n",
       "      <th>price</th>\n",
       "      <th>pubdate</th>\n",
       "      <th>isbn</th>\n",
       "      <th>link</th>\n",
       "    </tr>\n",
       "  </thead>\n",
       "  <tbody>\n",
       "  </tbody>\n",
       "</table>\n",
       "</div>"
      ],
      "text/plain": [
       "Empty DataFrame\n",
       "Columns: [keyword, title, publisher, price, pubdate, isbn, link]\n",
       "Index: []"
      ]
     },
     "execution_count": 67,
     "metadata": {},
     "output_type": "execute_result"
    }
   ],
   "source": [
    "# test\n",
    "result_book[result_book['keyword'] == \"Ruby 프로그래밍\"]"
   ]
  },
  {
   "cell_type": "code",
   "execution_count": 68,
   "metadata": {},
   "outputs": [],
   "source": [
    "# 임시 저장\n",
    "result_book.to_csv(\"./book_keyword2.csv\", sep=\",\", encoding=\"utf-8\")"
   ]
  },
  {
   "cell_type": "markdown",
   "metadata": {},
   "source": [
    "---"
   ]
  },
  {
   "cell_type": "markdown",
   "metadata": {},
   "source": [
    "## 페이지 정보 가져오기"
   ]
  },
  {
   "cell_type": "code",
   "execution_count": 35,
   "metadata": {},
   "outputs": [],
   "source": [
    "result_book = pd.read_csv(\"./book_keyword2.csv\", index_col=0)"
   ]
  },
  {
   "cell_type": "code",
   "execution_count": 36,
   "metadata": {},
   "outputs": [
    {
     "data": {
      "text/html": [
       "<div>\n",
       "<style scoped>\n",
       "    .dataframe tbody tr th:only-of-type {\n",
       "        vertical-align: middle;\n",
       "    }\n",
       "\n",
       "    .dataframe tbody tr th {\n",
       "        vertical-align: top;\n",
       "    }\n",
       "\n",
       "    .dataframe thead th {\n",
       "        text-align: right;\n",
       "    }\n",
       "</style>\n",
       "<table border=\"1\" class=\"dataframe\">\n",
       "  <thead>\n",
       "    <tr style=\"text-align: right;\">\n",
       "      <th></th>\n",
       "      <th>keyword</th>\n",
       "      <th>title</th>\n",
       "      <th>publisher</th>\n",
       "      <th>price</th>\n",
       "      <th>pubdate</th>\n",
       "      <th>isbn</th>\n",
       "      <th>link</th>\n",
       "    </tr>\n",
       "  </thead>\n",
       "  <tbody>\n",
       "    <tr>\n",
       "      <th>22186</th>\n",
       "      <td>Delphi/Object Pascal</td>\n",
       "      <td>Jacques Lacan (Critical Evaluations in Cultura...</td>\n",
       "      <td>Routledge</td>\n",
       "      <td>2692360.0</td>\n",
       "      <td>20021200</td>\n",
       "      <td>0415278627 9780415278621</td>\n",
       "      <td>http://book.naver.com/bookdb/book_detail.php?b...</td>\n",
       "    </tr>\n",
       "    <tr>\n",
       "      <th>22187</th>\n",
       "      <td>Delphi/Object Pascal</td>\n",
       "      <td>Digital Cognitive Technologies (Epistemology a...</td>\n",
       "      <td>Wiley-ISTE</td>\n",
       "      <td>245380.0</td>\n",
       "      <td>20130109</td>\n",
       "      <td>0470394234 9780470394236</td>\n",
       "      <td>http://book.naver.com/bookdb/book_detail.php?b...</td>\n",
       "    </tr>\n",
       "    <tr>\n",
       "      <th>22188</th>\n",
       "      <td>Delphi/Object Pascal</td>\n",
       "      <td>You Can Program in C++ (A Programmer's Introdu...</td>\n",
       "      <td>Wiley</td>\n",
       "      <td>51300.0</td>\n",
       "      <td>20071210</td>\n",
       "      <td>0470295910 9780470295915</td>\n",
       "      <td>http://book.naver.com/bookdb/book_detail.php?b...</td>\n",
       "    </tr>\n",
       "    <tr>\n",
       "      <th>22189</th>\n",
       "      <td>Delphi/Object Pascal</td>\n",
       "      <td>델파이 5.0</td>\n",
       "      <td>정익사</td>\n",
       "      <td>13000.0</td>\n",
       "      <td>20000801</td>\n",
       "      <td>8935302937 9788935302932</td>\n",
       "      <td>http://book.naver.com/bookdb/book_detail.php?b...</td>\n",
       "    </tr>\n",
       "    <tr>\n",
       "      <th>22190</th>\n",
       "      <td>Delphi/Object Pascal</td>\n",
       "      <td>Microsoft Quickpascal Programming</td>\n",
       "      <td>Microsoft</td>\n",
       "      <td>20000.0</td>\n",
       "      <td>199000</td>\n",
       "      <td>1556152485 6101556152480</td>\n",
       "      <td>http://book.naver.com/bookdb/book_detail.php?b...</td>\n",
       "    </tr>\n",
       "  </tbody>\n",
       "</table>\n",
       "</div>"
      ],
      "text/plain": [
       "                    keyword  \\\n",
       "22186  Delphi/Object Pascal   \n",
       "22187  Delphi/Object Pascal   \n",
       "22188  Delphi/Object Pascal   \n",
       "22189  Delphi/Object Pascal   \n",
       "22190  Delphi/Object Pascal   \n",
       "\n",
       "                                                   title   publisher  \\\n",
       "22186  Jacques Lacan (Critical Evaluations in Cultura...   Routledge   \n",
       "22187  Digital Cognitive Technologies (Epistemology a...  Wiley-ISTE   \n",
       "22188  You Can Program in C++ (A Programmer's Introdu...       Wiley   \n",
       "22189                                            델파이 5.0         정익사   \n",
       "22190                  Microsoft Quickpascal Programming   Microsoft   \n",
       "\n",
       "           price   pubdate                      isbn  \\\n",
       "22186  2692360.0  20021200  0415278627 9780415278621   \n",
       "22187   245380.0  20130109  0470394234 9780470394236   \n",
       "22188    51300.0  20071210  0470295910 9780470295915   \n",
       "22189    13000.0  20000801  8935302937 9788935302932   \n",
       "22190    20000.0    199000  1556152485 6101556152480   \n",
       "\n",
       "                                                    link  \n",
       "22186  http://book.naver.com/bookdb/book_detail.php?b...  \n",
       "22187  http://book.naver.com/bookdb/book_detail.php?b...  \n",
       "22188  http://book.naver.com/bookdb/book_detail.php?b...  \n",
       "22189  http://book.naver.com/bookdb/book_detail.php?b...  \n",
       "22190  http://book.naver.com/bookdb/book_detail.php?b...  "
      ]
     },
     "execution_count": 36,
     "metadata": {},
     "output_type": "execute_result"
    }
   ],
   "source": [
    "result_book.tail()"
   ]
  },
  {
   "cell_type": "code",
   "execution_count": 16,
   "metadata": {},
   "outputs": [
    {
     "name": "stderr",
     "output_type": "stream",
     "text": [
      "C:\\Users\\sanghui\\AppData\\Local\\Temp/ipykernel_13572/1608432761.py:4: TqdmDeprecationWarning: This function will be removed in tqdm==5.0.0\n",
      "Please use `tqdm.notebook.tqdm` instead of `tqdm.tqdm_notebook`\n",
      "  for idx, row in tqdm_notebook(result_book[:10000].iterrows()):\n"
     ]
    },
    {
     "data": {
      "application/vnd.jupyter.widget-view+json": {
       "model_id": "f2fb54cf42254bf8baa227c2b4df47cf",
       "version_major": 2,
       "version_minor": 0
      },
      "text/plain": [
       "0it [00:00, ?it/s]"
      ]
     },
     "metadata": {},
     "output_type": "display_data"
    }
   ],
   "source": [
    "#페이지 정보 가져오기\n",
    "ua = UserAgent()\n",
    "page = []\n",
    "for idx, row in tqdm_notebook(result_book[:10000].iterrows()):\n",
    "   context = ssl._create_unverified_context()\n",
    "   url = row['link']\n",
    "   req = urllib.request.Request(url, headers={\"User-Agent\": ua.ie})\n",
    "   response = urllib.request.urlopen(req, context=context)\n",
    "   soup = BeautifulSoup(response, \"html.parser\")\n",
    "   try:\n",
    "      info = soup.select_one('#container > div.spot > div.book_info > div.book_info_inner > div:nth-child(3)').text\n",
    "      split_list = info.split('|') if len(info) != 0 else []\n",
    "      if len(split_list) == 2:\n",
    "         page.append(split_list[0][-3:])\n",
    "      else:\n",
    "         page.append(np.nan)\n",
    "   except:\n",
    "            page.append(np.nan)"
   ]
  },
  {
   "cell_type": "code",
   "execution_count": 18,
   "metadata": {},
   "outputs": [],
   "source": [
    "page = page[:10000]"
   ]
  },
  {
   "cell_type": "code",
   "execution_count": 20,
   "metadata": {},
   "outputs": [
    {
     "data": {
      "text/plain": [
       "10000"
      ]
     },
     "execution_count": 20,
     "metadata": {},
     "output_type": "execute_result"
    }
   ],
   "source": [
    "len(page)"
   ]
  },
  {
   "cell_type": "code",
   "execution_count": 21,
   "metadata": {},
   "outputs": [
    {
     "name": "stderr",
     "output_type": "stream",
     "text": [
      "C:\\Users\\sanghui\\AppData\\Local\\Temp/ipykernel_13572/2368212584.py:3: TqdmDeprecationWarning: This function will be removed in tqdm==5.0.0\n",
      "Please use `tqdm.notebook.tqdm` instead of `tqdm.tqdm_notebook`\n",
      "  for idx, row in tqdm_notebook(result_book[10000:20000].iterrows()):\n"
     ]
    },
    {
     "data": {
      "application/vnd.jupyter.widget-view+json": {
       "model_id": "54be578fd48a4fd38c2aa60038d87781",
       "version_major": 2,
       "version_minor": 0
      },
      "text/plain": [
       "0it [00:00, ?it/s]"
      ]
     },
     "metadata": {},
     "output_type": "display_data"
    }
   ],
   "source": [
    "#페이지 정보 가져오기 - 2\n",
    "time.sleep(3)\n",
    "for idx, row in tqdm_notebook(result_book[10000:20000].iterrows()):\n",
    "   context = ssl._create_unverified_context()\n",
    "   url = row['link']\n",
    "   try:\n",
    "      req = urllib.request.Request(url, headers={\"User-Agent\": ua.ie})\n",
    "      response = urllib.request.urlopen(req, context=context)\n",
    "      soup = BeautifulSoup(response, \"html.parser\")\n",
    "      info = soup.select_one('#container > div.spot > div.book_info > div.book_info_inner > div:nth-child(3)').text\n",
    "      split_list = info.split('|') if len(info) != 0 else []\n",
    "      if len(split_list) == 2:\n",
    "         page.append(split_list[0][-3:])\n",
    "      else:\n",
    "         page.append(np.nan)\n",
    "   except:\n",
    "            page.append(np.nan)"
   ]
  },
  {
   "cell_type": "code",
   "execution_count": 22,
   "metadata": {},
   "outputs": [
    {
     "data": {
      "text/plain": [
       "18967"
      ]
     },
     "execution_count": 22,
     "metadata": {},
     "output_type": "execute_result"
    }
   ],
   "source": [
    "len(page)"
   ]
  },
  {
   "cell_type": "code",
   "execution_count": 34,
   "metadata": {},
   "outputs": [],
   "source": [
    "for idx, item in enumerate(page):\n",
    "    try:\n",
    "        item = int(item)\n",
    "    except:\n",
    "        item = np.nan"
   ]
  },
  {
   "cell_type": "code",
   "execution_count": 37,
   "metadata": {},
   "outputs": [],
   "source": [
    "result_book[\"page\"] = page"
   ]
  },
  {
   "cell_type": "code",
   "execution_count": 38,
   "metadata": {},
   "outputs": [
    {
     "data": {
      "text/html": [
       "<div>\n",
       "<style scoped>\n",
       "    .dataframe tbody tr th:only-of-type {\n",
       "        vertical-align: middle;\n",
       "    }\n",
       "\n",
       "    .dataframe tbody tr th {\n",
       "        vertical-align: top;\n",
       "    }\n",
       "\n",
       "    .dataframe thead th {\n",
       "        text-align: right;\n",
       "    }\n",
       "</style>\n",
       "<table border=\"1\" class=\"dataframe\">\n",
       "  <thead>\n",
       "    <tr style=\"text-align: right;\">\n",
       "      <th></th>\n",
       "      <th>keyword</th>\n",
       "      <th>title</th>\n",
       "      <th>publisher</th>\n",
       "      <th>price</th>\n",
       "      <th>pubdate</th>\n",
       "      <th>isbn</th>\n",
       "      <th>link</th>\n",
       "      <th>page</th>\n",
       "    </tr>\n",
       "  </thead>\n",
       "  <tbody>\n",
       "    <tr>\n",
       "      <th>22186</th>\n",
       "      <td>Delphi/Object Pascal</td>\n",
       "      <td>Jacques Lacan (Critical Evaluations in Cultura...</td>\n",
       "      <td>Routledge</td>\n",
       "      <td>2692360.0</td>\n",
       "      <td>20021200</td>\n",
       "      <td>0415278627 9780415278621</td>\n",
       "      <td>http://book.naver.com/bookdb/book_detail.php?b...</td>\n",
       "      <td>600</td>\n",
       "    </tr>\n",
       "    <tr>\n",
       "      <th>22187</th>\n",
       "      <td>Delphi/Object Pascal</td>\n",
       "      <td>Digital Cognitive Technologies (Epistemology a...</td>\n",
       "      <td>Wiley-ISTE</td>\n",
       "      <td>245380.0</td>\n",
       "      <td>20130109</td>\n",
       "      <td>0470394234 9780470394236</td>\n",
       "      <td>http://book.naver.com/bookdb/book_detail.php?b...</td>\n",
       "      <td>416</td>\n",
       "    </tr>\n",
       "    <tr>\n",
       "      <th>22188</th>\n",
       "      <td>Delphi/Object Pascal</td>\n",
       "      <td>You Can Program in C++ (A Programmer's Introdu...</td>\n",
       "      <td>Wiley</td>\n",
       "      <td>51300.0</td>\n",
       "      <td>20071210</td>\n",
       "      <td>0470295910 9780470295915</td>\n",
       "      <td>http://book.naver.com/bookdb/book_detail.php?b...</td>\n",
       "      <td>388</td>\n",
       "    </tr>\n",
       "    <tr>\n",
       "      <th>22189</th>\n",
       "      <td>Delphi/Object Pascal</td>\n",
       "      <td>델파이 5.0</td>\n",
       "      <td>정익사</td>\n",
       "      <td>13000.0</td>\n",
       "      <td>20000801</td>\n",
       "      <td>8935302937 9788935302932</td>\n",
       "      <td>http://book.naver.com/bookdb/book_detail.php?b...</td>\n",
       "      <td>374</td>\n",
       "    </tr>\n",
       "    <tr>\n",
       "      <th>22190</th>\n",
       "      <td>Delphi/Object Pascal</td>\n",
       "      <td>Microsoft Quickpascal Programming</td>\n",
       "      <td>Microsoft</td>\n",
       "      <td>20000.0</td>\n",
       "      <td>199000</td>\n",
       "      <td>1556152485 6101556152480</td>\n",
       "      <td>http://book.naver.com/bookdb/book_detail.php?b...</td>\n",
       "      <td>NaN</td>\n",
       "    </tr>\n",
       "  </tbody>\n",
       "</table>\n",
       "</div>"
      ],
      "text/plain": [
       "                    keyword  \\\n",
       "22186  Delphi/Object Pascal   \n",
       "22187  Delphi/Object Pascal   \n",
       "22188  Delphi/Object Pascal   \n",
       "22189  Delphi/Object Pascal   \n",
       "22190  Delphi/Object Pascal   \n",
       "\n",
       "                                                   title   publisher  \\\n",
       "22186  Jacques Lacan (Critical Evaluations in Cultura...   Routledge   \n",
       "22187  Digital Cognitive Technologies (Epistemology a...  Wiley-ISTE   \n",
       "22188  You Can Program in C++ (A Programmer's Introdu...       Wiley   \n",
       "22189                                            델파이 5.0         정익사   \n",
       "22190                  Microsoft Quickpascal Programming   Microsoft   \n",
       "\n",
       "           price   pubdate                      isbn  \\\n",
       "22186  2692360.0  20021200  0415278627 9780415278621   \n",
       "22187   245380.0  20130109  0470394234 9780470394236   \n",
       "22188    51300.0  20071210  0470295910 9780470295915   \n",
       "22189    13000.0  20000801  8935302937 9788935302932   \n",
       "22190    20000.0    199000  1556152485 6101556152480   \n",
       "\n",
       "                                                    link page  \n",
       "22186  http://book.naver.com/bookdb/book_detail.php?b...  600  \n",
       "22187  http://book.naver.com/bookdb/book_detail.php?b...  416  \n",
       "22188  http://book.naver.com/bookdb/book_detail.php?b...  388  \n",
       "22189  http://book.naver.com/bookdb/book_detail.php?b...  374  \n",
       "22190  http://book.naver.com/bookdb/book_detail.php?b...  NaN  "
      ]
     },
     "execution_count": 38,
     "metadata": {},
     "output_type": "execute_result"
    }
   ],
   "source": [
    "result_book.tail()"
   ]
  },
  {
   "cell_type": "code",
   "execution_count": 26,
   "metadata": {},
   "outputs": [
    {
     "data": {
      "text/html": [
       "<div>\n",
       "<style scoped>\n",
       "    .dataframe tbody tr th:only-of-type {\n",
       "        vertical-align: middle;\n",
       "    }\n",
       "\n",
       "    .dataframe tbody tr th {\n",
       "        vertical-align: top;\n",
       "    }\n",
       "\n",
       "    .dataframe thead th {\n",
       "        text-align: right;\n",
       "    }\n",
       "</style>\n",
       "<table border=\"1\" class=\"dataframe\">\n",
       "  <thead>\n",
       "    <tr style=\"text-align: right;\">\n",
       "      <th></th>\n",
       "      <th>keyword</th>\n",
       "      <th>title</th>\n",
       "      <th>publisher</th>\n",
       "      <th>price</th>\n",
       "      <th>pubdate</th>\n",
       "      <th>isbn</th>\n",
       "      <th>link</th>\n",
       "      <th>page</th>\n",
       "    </tr>\n",
       "  </thead>\n",
       "  <tbody>\n",
       "    <tr>\n",
       "      <th>0</th>\n",
       "      <td>Python</td>\n",
       "      <td>Effective Python 2nd 이펙티브 파이썬 : 파이썬 코딩의 기술 (똑똑...</td>\n",
       "      <td>길벗</td>\n",
       "      <td>32000.0</td>\n",
       "      <td>20201030</td>\n",
       "      <td>1165213192 9791165213190</td>\n",
       "      <td>http://book.naver.com/bookdb/book_detail.php?b...</td>\n",
       "      <td>640</td>\n",
       "    </tr>\n",
       "    <tr>\n",
       "      <th>1</th>\n",
       "      <td>Python</td>\n",
       "      <td>파이썬 딥러닝 파이토치(Python Deep Learning PyTorch)</td>\n",
       "      <td>정보문화사</td>\n",
       "      <td>25000.0</td>\n",
       "      <td>20201008</td>\n",
       "      <td>8956748578 9788956748573</td>\n",
       "      <td>http://book.naver.com/bookdb/book_detail.php?b...</td>\n",
       "      <td>310</td>\n",
       "    </tr>\n",
       "    <tr>\n",
       "      <th>2</th>\n",
       "      <td>Python</td>\n",
       "      <td>Intuitive Python: Productive Development for P...</td>\n",
       "      <td>PragmaticBookshelf</td>\n",
       "      <td>38060.0</td>\n",
       "      <td>20211005</td>\n",
       "      <td>1680508237 9781680508239</td>\n",
       "      <td>http://book.naver.com/bookdb/book_detail.php?b...</td>\n",
       "      <td>130</td>\n",
       "    </tr>\n",
       "    <tr>\n",
       "      <th>3</th>\n",
       "      <td>Python</td>\n",
       "      <td>Python으로 시작하는 빅데이터분석 및 인공지능 (개정판)</td>\n",
       "      <td>인피니티북스</td>\n",
       "      <td>26000.0</td>\n",
       "      <td>20210225</td>\n",
       "      <td>118557879X 9791185578798</td>\n",
       "      <td>http://book.naver.com/bookdb/book_detail.php?b...</td>\n",
       "      <td>368</td>\n",
       "    </tr>\n",
       "    <tr>\n",
       "      <th>4</th>\n",
       "      <td>Python</td>\n",
       "      <td>Fluent Python: Clear, Concise, and Effective P...</td>\n",
       "      <td>O'ReillyMedia</td>\n",
       "      <td>99730.0</td>\n",
       "      <td>20211019</td>\n",
       "      <td>1492056359 9781492056355</td>\n",
       "      <td>http://book.naver.com/bookdb/book_detail.php?b...</td>\n",
       "      <td>850</td>\n",
       "    </tr>\n",
       "  </tbody>\n",
       "</table>\n",
       "</div>"
      ],
      "text/plain": [
       "  keyword                                              title  \\\n",
       "0  Python  Effective Python 2nd 이펙티브 파이썬 : 파이썬 코딩의 기술 (똑똑...   \n",
       "1  Python         파이썬 딥러닝 파이토치(Python Deep Learning PyTorch)   \n",
       "2  Python  Intuitive Python: Productive Development for P...   \n",
       "3  Python                  Python으로 시작하는 빅데이터분석 및 인공지능 (개정판)   \n",
       "4  Python  Fluent Python: Clear, Concise, and Effective P...   \n",
       "\n",
       "            publisher    price   pubdate                      isbn  \\\n",
       "0                  길벗  32000.0  20201030  1165213192 9791165213190   \n",
       "1               정보문화사  25000.0  20201008  8956748578 9788956748573   \n",
       "2  PragmaticBookshelf  38060.0  20211005  1680508237 9781680508239   \n",
       "3              인피니티북스  26000.0  20210225  118557879X 9791185578798   \n",
       "4       O'ReillyMedia  99730.0  20211019  1492056359 9781492056355   \n",
       "\n",
       "                                                link page  \n",
       "0  http://book.naver.com/bookdb/book_detail.php?b...  640  \n",
       "1  http://book.naver.com/bookdb/book_detail.php?b...  310  \n",
       "2  http://book.naver.com/bookdb/book_detail.php?b...  130  \n",
       "3  http://book.naver.com/bookdb/book_detail.php?b...  368  \n",
       "4  http://book.naver.com/bookdb/book_detail.php?b...  850  "
      ]
     },
     "execution_count": 26,
     "metadata": {},
     "output_type": "execute_result"
    }
   ],
   "source": [
    "result_book.head()"
   ]
  },
  {
   "cell_type": "markdown",
   "metadata": {},
   "source": [
    "- page수 nan값 filtering"
   ]
  },
  {
   "cell_type": "code",
   "execution_count": 39,
   "metadata": {},
   "outputs": [
    {
     "data": {
      "text/plain": [
       "18967"
      ]
     },
     "execution_count": 39,
     "metadata": {},
     "output_type": "execute_result"
    }
   ],
   "source": [
    "len(result_book)"
   ]
  },
  {
   "cell_type": "code",
   "execution_count": 40,
   "metadata": {},
   "outputs": [],
   "source": [
    "result_book = result_book[result_book[\"page\"].notna()]"
   ]
  },
  {
   "cell_type": "code",
   "execution_count": 41,
   "metadata": {},
   "outputs": [
    {
     "data": {
      "text/plain": [
       "11290"
      ]
     },
     "execution_count": 41,
     "metadata": {},
     "output_type": "execute_result"
    }
   ],
   "source": [
    "len(result_book)"
   ]
  },
  {
   "cell_type": "code",
   "execution_count": 42,
   "metadata": {},
   "outputs": [
    {
     "name": "stdout",
     "output_type": "stream",
     "text": [
      "<class 'pandas.core.frame.DataFrame'>\n",
      "Int64Index: 11290 entries, 0 to 22189\n",
      "Data columns (total 8 columns):\n",
      " #   Column     Non-Null Count  Dtype  \n",
      "---  ------     --------------  -----  \n",
      " 0   keyword    11290 non-null  object \n",
      " 1   title      11290 non-null  object \n",
      " 2   publisher  11290 non-null  object \n",
      " 3   price      11268 non-null  float64\n",
      " 4   pubdate    11290 non-null  object \n",
      " 5   isbn       11290 non-null  object \n",
      " 6   link       11290 non-null  object \n",
      " 7   page       11290 non-null  object \n",
      "dtypes: float64(1), object(7)\n",
      "memory usage: 793.8+ KB\n"
     ]
    }
   ],
   "source": [
    "result_book.info()"
   ]
  },
  {
   "cell_type": "code",
   "execution_count": 44,
   "metadata": {},
   "outputs": [],
   "source": [
    "# 임시 저장\n",
    "result_book.to_csv(\"./page_price2.csv\", sep=\",\", encoding='utf-8')"
   ]
  },
  {
   "cell_type": "code",
   "execution_count": 153,
   "metadata": {},
   "outputs": [
    {
     "data": {
      "text/html": [
       "<div>\n",
       "<style scoped>\n",
       "    .dataframe tbody tr th:only-of-type {\n",
       "        vertical-align: middle;\n",
       "    }\n",
       "\n",
       "    .dataframe tbody tr th {\n",
       "        vertical-align: top;\n",
       "    }\n",
       "\n",
       "    .dataframe thead th {\n",
       "        text-align: right;\n",
       "    }\n",
       "</style>\n",
       "<table border=\"1\" class=\"dataframe\">\n",
       "  <thead>\n",
       "    <tr style=\"text-align: right;\">\n",
       "      <th></th>\n",
       "      <th>keyword</th>\n",
       "      <th>title</th>\n",
       "      <th>publisher</th>\n",
       "      <th>price</th>\n",
       "      <th>pubdate</th>\n",
       "      <th>isbn</th>\n",
       "      <th>link</th>\n",
       "      <th>page</th>\n",
       "    </tr>\n",
       "  </thead>\n",
       "  <tbody>\n",
       "    <tr>\n",
       "      <th>0</th>\n",
       "      <td>Python</td>\n",
       "      <td>Effective Python 2nd 이펙티브 파이썬 : 파이썬 코딩의 기술 (똑똑...</td>\n",
       "      <td>길벗</td>\n",
       "      <td>32000.0</td>\n",
       "      <td>20201030</td>\n",
       "      <td>1165213192 9791165213190</td>\n",
       "      <td>http://book.naver.com/bookdb/book_detail.php?b...</td>\n",
       "      <td>640</td>\n",
       "    </tr>\n",
       "  </tbody>\n",
       "</table>\n",
       "</div>"
      ],
      "text/plain": [
       "  keyword                                              title publisher  \\\n",
       "0  Python  Effective Python 2nd 이펙티브 파이썬 : 파이썬 코딩의 기술 (똑똑...        길벗   \n",
       "\n",
       "     price   pubdate                      isbn  \\\n",
       "0  32000.0  20201030  1165213192 9791165213190   \n",
       "\n",
       "                                                link page  \n",
       "0  http://book.naver.com/bookdb/book_detail.php?b...  640  "
      ]
     },
     "execution_count": 153,
     "metadata": {},
     "output_type": "execute_result"
    }
   ],
   "source": [
    "result_book = pd.read_csv('./page_price2.csv', index_col=0)\n",
    "result_book.head(1)"
   ]
  },
  {
   "cell_type": "markdown",
   "metadata": {},
   "source": [
    "- page수 int형으로 변환"
   ]
  },
  {
   "cell_type": "code",
   "execution_count": 157,
   "metadata": {},
   "outputs": [],
   "source": [
    "result_book = result_book[result_book['page'] != '지 8']"
   ]
  },
  {
   "cell_type": "code",
   "execution_count": 158,
   "metadata": {},
   "outputs": [
    {
     "name": "stdout",
     "output_type": "stream",
     "text": [
      "<class 'pandas.core.frame.DataFrame'>\n",
      "Int64Index: 11283 entries, 0 to 22189\n",
      "Data columns (total 8 columns):\n",
      " #   Column     Non-Null Count  Dtype  \n",
      "---  ------     --------------  -----  \n",
      " 0   keyword    11283 non-null  object \n",
      " 1   title      11283 non-null  object \n",
      " 2   publisher  11283 non-null  object \n",
      " 3   price      11261 non-null  float64\n",
      " 4   pubdate    11283 non-null  object \n",
      " 5   isbn       11283 non-null  object \n",
      " 6   link       11283 non-null  object \n",
      " 7   page       11283 non-null  object \n",
      "dtypes: float64(1), object(7)\n",
      "memory usage: 793.3+ KB\n"
     ]
    }
   ],
   "source": [
    "result_book.info()"
   ]
  },
  {
   "cell_type": "code",
   "execution_count": 159,
   "metadata": {},
   "outputs": [],
   "source": [
    "result_book = result_book.astype({'page': 'int'})"
   ]
  },
  {
   "cell_type": "code",
   "execution_count": 160,
   "metadata": {},
   "outputs": [],
   "source": [
    "result_book.to_csv(\"./filter_data3.csv\", sep=\",\", encoding=\"utf-8\")"
   ]
  },
  {
   "cell_type": "code",
   "execution_count": 161,
   "metadata": {},
   "outputs": [
    {
     "name": "stdout",
     "output_type": "stream",
     "text": [
      "<class 'pandas.core.frame.DataFrame'>\n",
      "Int64Index: 11283 entries, 0 to 22189\n",
      "Data columns (total 8 columns):\n",
      " #   Column     Non-Null Count  Dtype  \n",
      "---  ------     --------------  -----  \n",
      " 0   keyword    11283 non-null  object \n",
      " 1   title      11283 non-null  object \n",
      " 2   publisher  11283 non-null  object \n",
      " 3   price      11261 non-null  float64\n",
      " 4   pubdate    11283 non-null  object \n",
      " 5   isbn       11283 non-null  object \n",
      " 6   link       11283 non-null  object \n",
      " 7   page       11283 non-null  int32  \n",
      "dtypes: float64(1), int32(1), object(6)\n",
      "memory usage: 749.3+ KB\n"
     ]
    }
   ],
   "source": [
    "result_book.info()"
   ]
  },
  {
   "cell_type": "markdown",
   "metadata": {},
   "source": [
    "---"
   ]
  },
  {
   "cell_type": "markdown",
   "metadata": {},
   "source": [
    "## 언어별 책의 페이지수"
   ]
  },
  {
   "cell_type": "code",
   "execution_count": 162,
   "metadata": {},
   "outputs": [
    {
     "data": {
      "text/html": [
       "<div>\n",
       "<style scoped>\n",
       "    .dataframe tbody tr th:only-of-type {\n",
       "        vertical-align: middle;\n",
       "    }\n",
       "\n",
       "    .dataframe tbody tr th {\n",
       "        vertical-align: top;\n",
       "    }\n",
       "\n",
       "    .dataframe thead th {\n",
       "        text-align: right;\n",
       "    }\n",
       "</style>\n",
       "<table border=\"1\" class=\"dataframe\">\n",
       "  <thead>\n",
       "    <tr style=\"text-align: right;\">\n",
       "      <th></th>\n",
       "      <th>keyword</th>\n",
       "      <th>title</th>\n",
       "      <th>publisher</th>\n",
       "      <th>price</th>\n",
       "      <th>pubdate</th>\n",
       "      <th>isbn</th>\n",
       "      <th>link</th>\n",
       "      <th>page</th>\n",
       "    </tr>\n",
       "  </thead>\n",
       "  <tbody>\n",
       "    <tr>\n",
       "      <th>22184</th>\n",
       "      <td>Delphi/Object Pascal</td>\n",
       "      <td>Design and Implementation of Concurrent Smallt...</td>\n",
       "      <td>WorldScientificPubCoInc</td>\n",
       "      <td>83300.0</td>\n",
       "      <td>20071018</td>\n",
       "      <td>9810201125 9789810201128</td>\n",
       "      <td>http://book.naver.com/bookdb/book_detail.php?b...</td>\n",
       "      <td>153</td>\n",
       "    </tr>\n",
       "    <tr>\n",
       "      <th>22186</th>\n",
       "      <td>Delphi/Object Pascal</td>\n",
       "      <td>Jacques Lacan (Critical Evaluations in Cultura...</td>\n",
       "      <td>Routledge</td>\n",
       "      <td>2692360.0</td>\n",
       "      <td>20021200</td>\n",
       "      <td>0415278627 9780415278621</td>\n",
       "      <td>http://book.naver.com/bookdb/book_detail.php?b...</td>\n",
       "      <td>600</td>\n",
       "    </tr>\n",
       "    <tr>\n",
       "      <th>22187</th>\n",
       "      <td>Delphi/Object Pascal</td>\n",
       "      <td>Digital Cognitive Technologies (Epistemology a...</td>\n",
       "      <td>Wiley-ISTE</td>\n",
       "      <td>245380.0</td>\n",
       "      <td>20130109</td>\n",
       "      <td>0470394234 9780470394236</td>\n",
       "      <td>http://book.naver.com/bookdb/book_detail.php?b...</td>\n",
       "      <td>416</td>\n",
       "    </tr>\n",
       "    <tr>\n",
       "      <th>22188</th>\n",
       "      <td>Delphi/Object Pascal</td>\n",
       "      <td>You Can Program in C++ (A Programmer's Introdu...</td>\n",
       "      <td>Wiley</td>\n",
       "      <td>51300.0</td>\n",
       "      <td>20071210</td>\n",
       "      <td>0470295910 9780470295915</td>\n",
       "      <td>http://book.naver.com/bookdb/book_detail.php?b...</td>\n",
       "      <td>388</td>\n",
       "    </tr>\n",
       "    <tr>\n",
       "      <th>22189</th>\n",
       "      <td>Delphi/Object Pascal</td>\n",
       "      <td>델파이 5.0</td>\n",
       "      <td>정익사</td>\n",
       "      <td>13000.0</td>\n",
       "      <td>20000801</td>\n",
       "      <td>8935302937 9788935302932</td>\n",
       "      <td>http://book.naver.com/bookdb/book_detail.php?b...</td>\n",
       "      <td>374</td>\n",
       "    </tr>\n",
       "  </tbody>\n",
       "</table>\n",
       "</div>"
      ],
      "text/plain": [
       "                    keyword  \\\n",
       "22184  Delphi/Object Pascal   \n",
       "22186  Delphi/Object Pascal   \n",
       "22187  Delphi/Object Pascal   \n",
       "22188  Delphi/Object Pascal   \n",
       "22189  Delphi/Object Pascal   \n",
       "\n",
       "                                                   title  \\\n",
       "22184  Design and Implementation of Concurrent Smallt...   \n",
       "22186  Jacques Lacan (Critical Evaluations in Cultura...   \n",
       "22187  Digital Cognitive Technologies (Epistemology a...   \n",
       "22188  You Can Program in C++ (A Programmer's Introdu...   \n",
       "22189                                            델파이 5.0   \n",
       "\n",
       "                     publisher      price   pubdate                      isbn  \\\n",
       "22184  WorldScientificPubCoInc    83300.0  20071018  9810201125 9789810201128   \n",
       "22186                Routledge  2692360.0  20021200  0415278627 9780415278621   \n",
       "22187               Wiley-ISTE   245380.0  20130109  0470394234 9780470394236   \n",
       "22188                    Wiley    51300.0  20071210  0470295910 9780470295915   \n",
       "22189                      정익사    13000.0  20000801  8935302937 9788935302932   \n",
       "\n",
       "                                                    link  page  \n",
       "22184  http://book.naver.com/bookdb/book_detail.php?b...   153  \n",
       "22186  http://book.naver.com/bookdb/book_detail.php?b...   600  \n",
       "22187  http://book.naver.com/bookdb/book_detail.php?b...   416  \n",
       "22188  http://book.naver.com/bookdb/book_detail.php?b...   388  \n",
       "22189  http://book.naver.com/bookdb/book_detail.php?b...   374  "
      ]
     },
     "execution_count": 162,
     "metadata": {},
     "output_type": "execute_result"
    }
   ],
   "source": [
    "result_book.tail()"
   ]
  },
  {
   "cell_type": "code",
   "execution_count": 163,
   "metadata": {},
   "outputs": [
    {
     "data": {
      "text/html": [
       "<div>\n",
       "<style scoped>\n",
       "    .dataframe tbody tr th:only-of-type {\n",
       "        vertical-align: middle;\n",
       "    }\n",
       "\n",
       "    .dataframe tbody tr th {\n",
       "        vertical-align: top;\n",
       "    }\n",
       "\n",
       "    .dataframe thead th {\n",
       "        text-align: right;\n",
       "    }\n",
       "</style>\n",
       "<table border=\"1\" class=\"dataframe\">\n",
       "  <thead>\n",
       "    <tr style=\"text-align: right;\">\n",
       "      <th></th>\n",
       "      <th>index</th>\n",
       "      <th>keyword</th>\n",
       "      <th>title</th>\n",
       "      <th>publisher</th>\n",
       "      <th>price</th>\n",
       "      <th>pubdate</th>\n",
       "      <th>isbn</th>\n",
       "      <th>link</th>\n",
       "      <th>page</th>\n",
       "    </tr>\n",
       "  </thead>\n",
       "  <tbody>\n",
       "    <tr>\n",
       "      <th>0</th>\n",
       "      <td>0</td>\n",
       "      <td>Python</td>\n",
       "      <td>Effective Python 2nd 이펙티브 파이썬 : 파이썬 코딩의 기술 (똑똑...</td>\n",
       "      <td>길벗</td>\n",
       "      <td>32000.0</td>\n",
       "      <td>20201030</td>\n",
       "      <td>1165213192 9791165213190</td>\n",
       "      <td>http://book.naver.com/bookdb/book_detail.php?b...</td>\n",
       "      <td>640</td>\n",
       "    </tr>\n",
       "    <tr>\n",
       "      <th>1</th>\n",
       "      <td>1</td>\n",
       "      <td>Python</td>\n",
       "      <td>파이썬 딥러닝 파이토치(Python Deep Learning PyTorch)</td>\n",
       "      <td>정보문화사</td>\n",
       "      <td>25000.0</td>\n",
       "      <td>20201008</td>\n",
       "      <td>8956748578 9788956748573</td>\n",
       "      <td>http://book.naver.com/bookdb/book_detail.php?b...</td>\n",
       "      <td>310</td>\n",
       "    </tr>\n",
       "    <tr>\n",
       "      <th>2</th>\n",
       "      <td>2</td>\n",
       "      <td>Python</td>\n",
       "      <td>Intuitive Python: Productive Development for P...</td>\n",
       "      <td>PragmaticBookshelf</td>\n",
       "      <td>38060.0</td>\n",
       "      <td>20211005</td>\n",
       "      <td>1680508237 9781680508239</td>\n",
       "      <td>http://book.naver.com/bookdb/book_detail.php?b...</td>\n",
       "      <td>130</td>\n",
       "    </tr>\n",
       "    <tr>\n",
       "      <th>3</th>\n",
       "      <td>3</td>\n",
       "      <td>Python</td>\n",
       "      <td>Python으로 시작하는 빅데이터분석 및 인공지능 (개정판)</td>\n",
       "      <td>인피니티북스</td>\n",
       "      <td>26000.0</td>\n",
       "      <td>20210225</td>\n",
       "      <td>118557879X 9791185578798</td>\n",
       "      <td>http://book.naver.com/bookdb/book_detail.php?b...</td>\n",
       "      <td>368</td>\n",
       "    </tr>\n",
       "    <tr>\n",
       "      <th>4</th>\n",
       "      <td>4</td>\n",
       "      <td>Python</td>\n",
       "      <td>Fluent Python: Clear, Concise, and Effective P...</td>\n",
       "      <td>O'ReillyMedia</td>\n",
       "      <td>99730.0</td>\n",
       "      <td>20211019</td>\n",
       "      <td>1492056359 9781492056355</td>\n",
       "      <td>http://book.naver.com/bookdb/book_detail.php?b...</td>\n",
       "      <td>850</td>\n",
       "    </tr>\n",
       "  </tbody>\n",
       "</table>\n",
       "</div>"
      ],
      "text/plain": [
       "   index keyword                                              title  \\\n",
       "0      0  Python  Effective Python 2nd 이펙티브 파이썬 : 파이썬 코딩의 기술 (똑똑...   \n",
       "1      1  Python         파이썬 딥러닝 파이토치(Python Deep Learning PyTorch)   \n",
       "2      2  Python  Intuitive Python: Productive Development for P...   \n",
       "3      3  Python                  Python으로 시작하는 빅데이터분석 및 인공지능 (개정판)   \n",
       "4      4  Python  Fluent Python: Clear, Concise, and Effective P...   \n",
       "\n",
       "            publisher    price   pubdate                      isbn  \\\n",
       "0                  길벗  32000.0  20201030  1165213192 9791165213190   \n",
       "1               정보문화사  25000.0  20201008  8956748578 9788956748573   \n",
       "2  PragmaticBookshelf  38060.0  20211005  1680508237 9781680508239   \n",
       "3              인피니티북스  26000.0  20210225  118557879X 9791185578798   \n",
       "4       O'ReillyMedia  99730.0  20211019  1492056359 9781492056355   \n",
       "\n",
       "                                                link  page  \n",
       "0  http://book.naver.com/bookdb/book_detail.php?b...   640  \n",
       "1  http://book.naver.com/bookdb/book_detail.php?b...   310  \n",
       "2  http://book.naver.com/bookdb/book_detail.php?b...   130  \n",
       "3  http://book.naver.com/bookdb/book_detail.php?b...   368  \n",
       "4  http://book.naver.com/bookdb/book_detail.php?b...   850  "
      ]
     },
     "execution_count": 163,
     "metadata": {},
     "output_type": "execute_result"
    }
   ],
   "source": [
    "result_book.reset_index(inplace=True)\n",
    "result_book.head()"
   ]
  },
  {
   "cell_type": "code",
   "execution_count": 164,
   "metadata": {},
   "outputs": [],
   "source": [
    "del result_book['index']"
   ]
  },
  {
   "cell_type": "code",
   "execution_count": 165,
   "metadata": {},
   "outputs": [
    {
     "data": {
      "text/html": [
       "<div>\n",
       "<style scoped>\n",
       "    .dataframe tbody tr th:only-of-type {\n",
       "        vertical-align: middle;\n",
       "    }\n",
       "\n",
       "    .dataframe tbody tr th {\n",
       "        vertical-align: top;\n",
       "    }\n",
       "\n",
       "    .dataframe thead th {\n",
       "        text-align: right;\n",
       "    }\n",
       "</style>\n",
       "<table border=\"1\" class=\"dataframe\">\n",
       "  <thead>\n",
       "    <tr style=\"text-align: right;\">\n",
       "      <th></th>\n",
       "      <th>page</th>\n",
       "    </tr>\n",
       "    <tr>\n",
       "      <th>keyword</th>\n",
       "      <th></th>\n",
       "    </tr>\n",
       "  </thead>\n",
       "  <tbody>\n",
       "    <tr>\n",
       "      <th>Assembly language</th>\n",
       "      <td>393.315186</td>\n",
       "    </tr>\n",
       "    <tr>\n",
       "      <th>C</th>\n",
       "      <td>364.162901</td>\n",
       "    </tr>\n",
       "    <tr>\n",
       "      <th>C#</th>\n",
       "      <td>495.938806</td>\n",
       "    </tr>\n",
       "    <tr>\n",
       "      <th>C++</th>\n",
       "      <td>444.447115</td>\n",
       "    </tr>\n",
       "    <tr>\n",
       "      <th>Classic Visual Basic</th>\n",
       "      <td>480.514377</td>\n",
       "    </tr>\n",
       "    <tr>\n",
       "      <th>Delphi/Object Pascal</th>\n",
       "      <td>284.211405</td>\n",
       "    </tr>\n",
       "    <tr>\n",
       "      <th>Fortran</th>\n",
       "      <td>349.373239</td>\n",
       "    </tr>\n",
       "    <tr>\n",
       "      <th>Go</th>\n",
       "      <td>330.120120</td>\n",
       "    </tr>\n",
       "    <tr>\n",
       "      <th>Groovy</th>\n",
       "      <td>290.625000</td>\n",
       "    </tr>\n",
       "    <tr>\n",
       "      <th>Java</th>\n",
       "      <td>377.096961</td>\n",
       "    </tr>\n",
       "    <tr>\n",
       "      <th>JavaScript</th>\n",
       "      <td>387.041335</td>\n",
       "    </tr>\n",
       "    <tr>\n",
       "      <th>MATLAB</th>\n",
       "      <td>344.164306</td>\n",
       "    </tr>\n",
       "    <tr>\n",
       "      <th>PHP</th>\n",
       "      <td>435.623158</td>\n",
       "    </tr>\n",
       "    <tr>\n",
       "      <th>Perl</th>\n",
       "      <td>431.756410</td>\n",
       "    </tr>\n",
       "    <tr>\n",
       "      <th>Python</th>\n",
       "      <td>280.710825</td>\n",
       "    </tr>\n",
       "    <tr>\n",
       "      <th>R</th>\n",
       "      <td>378.550336</td>\n",
       "    </tr>\n",
       "    <tr>\n",
       "      <th>Ruby</th>\n",
       "      <td>361.915493</td>\n",
       "    </tr>\n",
       "    <tr>\n",
       "      <th>SQL</th>\n",
       "      <td>430.950442</td>\n",
       "    </tr>\n",
       "    <tr>\n",
       "      <th>Swift</th>\n",
       "      <td>368.248276</td>\n",
       "    </tr>\n",
       "    <tr>\n",
       "      <th>Visual Basic</th>\n",
       "      <td>512.321821</td>\n",
       "    </tr>\n",
       "  </tbody>\n",
       "</table>\n",
       "</div>"
      ],
      "text/plain": [
       "                            page\n",
       "keyword                         \n",
       "Assembly language     393.315186\n",
       "C                     364.162901\n",
       "C#                    495.938806\n",
       "C++                   444.447115\n",
       "Classic Visual Basic  480.514377\n",
       "Delphi/Object Pascal  284.211405\n",
       "Fortran               349.373239\n",
       "Go                    330.120120\n",
       "Groovy                290.625000\n",
       "Java                  377.096961\n",
       "JavaScript            387.041335\n",
       "MATLAB                344.164306\n",
       "PHP                   435.623158\n",
       "Perl                  431.756410\n",
       "Python                280.710825\n",
       "R                     378.550336\n",
       "Ruby                  361.915493\n",
       "SQL                   430.950442\n",
       "Swift                 368.248276\n",
       "Visual Basic          512.321821"
      ]
     },
     "execution_count": 165,
     "metadata": {},
     "output_type": "execute_result"
    }
   ],
   "source": [
    "page_pivot = pd.pivot_table(result_book, index='keyword', values='page', aggfunc='mean')\n",
    "page_pivot"
   ]
  },
  {
   "cell_type": "code",
   "execution_count": 166,
   "metadata": {},
   "outputs": [
    {
     "data": {
      "text/html": [
       "<div>\n",
       "<style scoped>\n",
       "    .dataframe tbody tr th:only-of-type {\n",
       "        vertical-align: middle;\n",
       "    }\n",
       "\n",
       "    .dataframe tbody tr th {\n",
       "        vertical-align: top;\n",
       "    }\n",
       "\n",
       "    .dataframe thead th {\n",
       "        text-align: right;\n",
       "    }\n",
       "</style>\n",
       "<table border=\"1\" class=\"dataframe\">\n",
       "  <thead>\n",
       "    <tr style=\"text-align: right;\">\n",
       "      <th></th>\n",
       "      <th>page</th>\n",
       "    </tr>\n",
       "    <tr>\n",
       "      <th>keyword</th>\n",
       "      <th></th>\n",
       "    </tr>\n",
       "  </thead>\n",
       "  <tbody>\n",
       "    <tr>\n",
       "      <th>Python</th>\n",
       "      <td>280.710825</td>\n",
       "    </tr>\n",
       "    <tr>\n",
       "      <th>Delphi/Object Pascal</th>\n",
       "      <td>284.211405</td>\n",
       "    </tr>\n",
       "    <tr>\n",
       "      <th>Groovy</th>\n",
       "      <td>290.625000</td>\n",
       "    </tr>\n",
       "    <tr>\n",
       "      <th>Go</th>\n",
       "      <td>330.120120</td>\n",
       "    </tr>\n",
       "    <tr>\n",
       "      <th>MATLAB</th>\n",
       "      <td>344.164306</td>\n",
       "    </tr>\n",
       "    <tr>\n",
       "      <th>Fortran</th>\n",
       "      <td>349.373239</td>\n",
       "    </tr>\n",
       "    <tr>\n",
       "      <th>Ruby</th>\n",
       "      <td>361.915493</td>\n",
       "    </tr>\n",
       "    <tr>\n",
       "      <th>C</th>\n",
       "      <td>364.162901</td>\n",
       "    </tr>\n",
       "    <tr>\n",
       "      <th>Swift</th>\n",
       "      <td>368.248276</td>\n",
       "    </tr>\n",
       "    <tr>\n",
       "      <th>Java</th>\n",
       "      <td>377.096961</td>\n",
       "    </tr>\n",
       "    <tr>\n",
       "      <th>R</th>\n",
       "      <td>378.550336</td>\n",
       "    </tr>\n",
       "    <tr>\n",
       "      <th>JavaScript</th>\n",
       "      <td>387.041335</td>\n",
       "    </tr>\n",
       "    <tr>\n",
       "      <th>Assembly language</th>\n",
       "      <td>393.315186</td>\n",
       "    </tr>\n",
       "    <tr>\n",
       "      <th>SQL</th>\n",
       "      <td>430.950442</td>\n",
       "    </tr>\n",
       "    <tr>\n",
       "      <th>Perl</th>\n",
       "      <td>431.756410</td>\n",
       "    </tr>\n",
       "    <tr>\n",
       "      <th>PHP</th>\n",
       "      <td>435.623158</td>\n",
       "    </tr>\n",
       "    <tr>\n",
       "      <th>C++</th>\n",
       "      <td>444.447115</td>\n",
       "    </tr>\n",
       "    <tr>\n",
       "      <th>Classic Visual Basic</th>\n",
       "      <td>480.514377</td>\n",
       "    </tr>\n",
       "    <tr>\n",
       "      <th>C#</th>\n",
       "      <td>495.938806</td>\n",
       "    </tr>\n",
       "    <tr>\n",
       "      <th>Visual Basic</th>\n",
       "      <td>512.321821</td>\n",
       "    </tr>\n",
       "  </tbody>\n",
       "</table>\n",
       "</div>"
      ],
      "text/plain": [
       "                            page\n",
       "keyword                         \n",
       "Python                280.710825\n",
       "Delphi/Object Pascal  284.211405\n",
       "Groovy                290.625000\n",
       "Go                    330.120120\n",
       "MATLAB                344.164306\n",
       "Fortran               349.373239\n",
       "Ruby                  361.915493\n",
       "C                     364.162901\n",
       "Swift                 368.248276\n",
       "Java                  377.096961\n",
       "R                     378.550336\n",
       "JavaScript            387.041335\n",
       "Assembly language     393.315186\n",
       "SQL                   430.950442\n",
       "Perl                  431.756410\n",
       "PHP                   435.623158\n",
       "C++                   444.447115\n",
       "Classic Visual Basic  480.514377\n",
       "C#                    495.938806\n",
       "Visual Basic          512.321821"
      ]
     },
     "execution_count": 166,
     "metadata": {},
     "output_type": "execute_result"
    }
   ],
   "source": [
    "page_pivot.sort_values(by='page')"
   ]
  },
  {
   "cell_type": "markdown",
   "metadata": {},
   "source": [
    "```\n",
    "위의 표를 보면 언어별 책 페이지수의 평균을 보여준다. 예상외로 파이썬도서 페이지가 제일 작게 나왓고, C++을 제외한 상대적으로 비주류 언어들에 대한 책 페이지수가 많이 나오는것으로 보인다.\n",
    "```"
   ]
  },
  {
   "cell_type": "code",
   "execution_count": 167,
   "metadata": {},
   "outputs": [
    {
     "data": {
      "text/html": [
       "<div>\n",
       "<style scoped>\n",
       "    .dataframe tbody tr th:only-of-type {\n",
       "        vertical-align: middle;\n",
       "    }\n",
       "\n",
       "    .dataframe tbody tr th {\n",
       "        vertical-align: top;\n",
       "    }\n",
       "\n",
       "    .dataframe thead th {\n",
       "        text-align: right;\n",
       "    }\n",
       "</style>\n",
       "<table border=\"1\" class=\"dataframe\">\n",
       "  <thead>\n",
       "    <tr style=\"text-align: right;\">\n",
       "      <th></th>\n",
       "      <th>keyword</th>\n",
       "      <th>page</th>\n",
       "    </tr>\n",
       "  </thead>\n",
       "  <tbody>\n",
       "    <tr>\n",
       "      <th>0</th>\n",
       "      <td>Assembly language</td>\n",
       "      <td>393.315186</td>\n",
       "    </tr>\n",
       "    <tr>\n",
       "      <th>1</th>\n",
       "      <td>C</td>\n",
       "      <td>364.162901</td>\n",
       "    </tr>\n",
       "    <tr>\n",
       "      <th>2</th>\n",
       "      <td>C#</td>\n",
       "      <td>495.938806</td>\n",
       "    </tr>\n",
       "    <tr>\n",
       "      <th>3</th>\n",
       "      <td>C++</td>\n",
       "      <td>444.447115</td>\n",
       "    </tr>\n",
       "    <tr>\n",
       "      <th>4</th>\n",
       "      <td>Classic Visual Basic</td>\n",
       "      <td>480.514377</td>\n",
       "    </tr>\n",
       "  </tbody>\n",
       "</table>\n",
       "</div>"
      ],
      "text/plain": [
       "                keyword        page\n",
       "0     Assembly language  393.315186\n",
       "1                     C  364.162901\n",
       "2                    C#  495.938806\n",
       "3                   C++  444.447115\n",
       "4  Classic Visual Basic  480.514377"
      ]
     },
     "execution_count": 167,
     "metadata": {},
     "output_type": "execute_result"
    }
   ],
   "source": [
    "page_pivot.reset_index(inplace=True)\n",
    "page_pivot.head()"
   ]
  },
  {
   "cell_type": "code",
   "execution_count": 234,
   "metadata": {},
   "outputs": [],
   "source": [
    "page_pivot =page_pivot.sort_values(by=\"page\")"
   ]
  },
  {
   "cell_type": "code",
   "execution_count": 235,
   "metadata": {},
   "outputs": [
    {
     "name": "stderr",
     "output_type": "stream",
     "text": [
      "No handles with labels found to put in legend.\n"
     ]
    },
    {
     "data": {
      "image/png": "[encoded data removed]",
      "text/plain": [
       "<Figure size 1440x720 with 1 Axes>"
      ]
     },
     "metadata": {},
     "output_type": "display_data"
    }
   ],
   "source": [
    "plt.figure(figsize=(20,10))\n",
    "colors = sns.color_palette('hls', len(page_pivot[\"keyword\"]))\n",
    "plt.barh(page_pivot[\"keyword\"], page_pivot[\"page\"], color=colors)\n",
    "plt.legend()\n",
    "plt.grid(True)\n",
    "plt.title('언어별 페이지수 평균')\n",
    "plt.xlabel(\"페이지수\")\n",
    "plt.ylabel(\"언어\")\n",
    "plt.show()"
   ]
  },
  {
   "cell_type": "markdown",
   "metadata": {},
   "source": [
    "- 위 차트를 보게되면 상대적으로 비 인기 언어들의 도서 페이지수가 평균적으로 더 많은것으로 보인다. 하지만 상대적으로 인기가 제일 많은 파이썬이 페이지수가 가장 적은점이 눈에 띈다."
   ]
  },
  {
   "cell_type": "markdown",
   "metadata": {},
   "source": [
    "---"
   ]
  },
  {
   "cell_type": "markdown",
   "metadata": {},
   "source": [
    "## 언어별 책의 가격"
   ]
  },
  {
   "cell_type": "code",
   "execution_count": 171,
   "metadata": {},
   "outputs": [
    {
     "data": {
      "text/html": [
       "<div>\n",
       "<style scoped>\n",
       "    .dataframe tbody tr th:only-of-type {\n",
       "        vertical-align: middle;\n",
       "    }\n",
       "\n",
       "    .dataframe tbody tr th {\n",
       "        vertical-align: top;\n",
       "    }\n",
       "\n",
       "    .dataframe thead th {\n",
       "        text-align: right;\n",
       "    }\n",
       "</style>\n",
       "<table border=\"1\" class=\"dataframe\">\n",
       "  <thead>\n",
       "    <tr style=\"text-align: right;\">\n",
       "      <th></th>\n",
       "      <th>keyword</th>\n",
       "      <th>title</th>\n",
       "      <th>publisher</th>\n",
       "      <th>price</th>\n",
       "      <th>pubdate</th>\n",
       "      <th>isbn</th>\n",
       "      <th>link</th>\n",
       "      <th>page</th>\n",
       "    </tr>\n",
       "  </thead>\n",
       "  <tbody>\n",
       "    <tr>\n",
       "      <th>0</th>\n",
       "      <td>Python</td>\n",
       "      <td>Effective Python 2nd 이펙티브 파이썬 : 파이썬 코딩의 기술 (똑똑...</td>\n",
       "      <td>길벗</td>\n",
       "      <td>32000.0</td>\n",
       "      <td>20201030</td>\n",
       "      <td>1165213192 9791165213190</td>\n",
       "      <td>http://book.naver.com/bookdb/book_detail.php?b...</td>\n",
       "      <td>640</td>\n",
       "    </tr>\n",
       "    <tr>\n",
       "      <th>1</th>\n",
       "      <td>Python</td>\n",
       "      <td>파이썬 딥러닝 파이토치(Python Deep Learning PyTorch)</td>\n",
       "      <td>정보문화사</td>\n",
       "      <td>25000.0</td>\n",
       "      <td>20201008</td>\n",
       "      <td>8956748578 9788956748573</td>\n",
       "      <td>http://book.naver.com/bookdb/book_detail.php?b...</td>\n",
       "      <td>310</td>\n",
       "    </tr>\n",
       "    <tr>\n",
       "      <th>2</th>\n",
       "      <td>Python</td>\n",
       "      <td>Intuitive Python: Productive Development for P...</td>\n",
       "      <td>PragmaticBookshelf</td>\n",
       "      <td>38060.0</td>\n",
       "      <td>20211005</td>\n",
       "      <td>1680508237 9781680508239</td>\n",
       "      <td>http://book.naver.com/bookdb/book_detail.php?b...</td>\n",
       "      <td>130</td>\n",
       "    </tr>\n",
       "    <tr>\n",
       "      <th>3</th>\n",
       "      <td>Python</td>\n",
       "      <td>Python으로 시작하는 빅데이터분석 및 인공지능 (개정판)</td>\n",
       "      <td>인피니티북스</td>\n",
       "      <td>26000.0</td>\n",
       "      <td>20210225</td>\n",
       "      <td>118557879X 9791185578798</td>\n",
       "      <td>http://book.naver.com/bookdb/book_detail.php?b...</td>\n",
       "      <td>368</td>\n",
       "    </tr>\n",
       "    <tr>\n",
       "      <th>4</th>\n",
       "      <td>Python</td>\n",
       "      <td>Fluent Python: Clear, Concise, and Effective P...</td>\n",
       "      <td>O'ReillyMedia</td>\n",
       "      <td>99730.0</td>\n",
       "      <td>20211019</td>\n",
       "      <td>1492056359 9781492056355</td>\n",
       "      <td>http://book.naver.com/bookdb/book_detail.php?b...</td>\n",
       "      <td>850</td>\n",
       "    </tr>\n",
       "  </tbody>\n",
       "</table>\n",
       "</div>"
      ],
      "text/plain": [
       "  keyword                                              title  \\\n",
       "0  Python  Effective Python 2nd 이펙티브 파이썬 : 파이썬 코딩의 기술 (똑똑...   \n",
       "1  Python         파이썬 딥러닝 파이토치(Python Deep Learning PyTorch)   \n",
       "2  Python  Intuitive Python: Productive Development for P...   \n",
       "3  Python                  Python으로 시작하는 빅데이터분석 및 인공지능 (개정판)   \n",
       "4  Python  Fluent Python: Clear, Concise, and Effective P...   \n",
       "\n",
       "            publisher    price   pubdate                      isbn  \\\n",
       "0                  길벗  32000.0  20201030  1165213192 9791165213190   \n",
       "1               정보문화사  25000.0  20201008  8956748578 9788956748573   \n",
       "2  PragmaticBookshelf  38060.0  20211005  1680508237 9781680508239   \n",
       "3              인피니티북스  26000.0  20210225  118557879X 9791185578798   \n",
       "4       O'ReillyMedia  99730.0  20211019  1492056359 9781492056355   \n",
       "\n",
       "                                                link  page  \n",
       "0  http://book.naver.com/bookdb/book_detail.php?b...   640  \n",
       "1  http://book.naver.com/bookdb/book_detail.php?b...   310  \n",
       "2  http://book.naver.com/bookdb/book_detail.php?b...   130  \n",
       "3  http://book.naver.com/bookdb/book_detail.php?b...   368  \n",
       "4  http://book.naver.com/bookdb/book_detail.php?b...   850  "
      ]
     },
     "execution_count": 171,
     "metadata": {},
     "output_type": "execute_result"
    }
   ],
   "source": [
    "result_book.head()"
   ]
  },
  {
   "cell_type": "code",
   "execution_count": 172,
   "metadata": {},
   "outputs": [
    {
     "name": "stdout",
     "output_type": "stream",
     "text": [
      "<class 'pandas.core.frame.DataFrame'>\n",
      "RangeIndex: 11283 entries, 0 to 11282\n",
      "Data columns (total 8 columns):\n",
      " #   Column     Non-Null Count  Dtype  \n",
      "---  ------     --------------  -----  \n",
      " 0   keyword    11283 non-null  object \n",
      " 1   title      11283 non-null  object \n",
      " 2   publisher  11283 non-null  object \n",
      " 3   price      11261 non-null  float64\n",
      " 4   pubdate    11283 non-null  object \n",
      " 5   isbn       11283 non-null  object \n",
      " 6   link       11283 non-null  object \n",
      " 7   page       11283 non-null  int32  \n",
      "dtypes: float64(1), int32(1), object(6)\n",
      "memory usage: 661.2+ KB\n"
     ]
    }
   ],
   "source": [
    "result_book.info()"
   ]
  },
  {
   "cell_type": "markdown",
   "metadata": {},
   "source": [
    "- price 값 nan 처리 한번 다시하기"
   ]
  },
  {
   "cell_type": "code",
   "execution_count": 173,
   "metadata": {},
   "outputs": [],
   "source": [
    "result_book = result_book[result_book[\"price\"].notna()]"
   ]
  },
  {
   "cell_type": "code",
   "execution_count": 174,
   "metadata": {},
   "outputs": [
    {
     "name": "stdout",
     "output_type": "stream",
     "text": [
      "<class 'pandas.core.frame.DataFrame'>\n",
      "Int64Index: 11261 entries, 0 to 11282\n",
      "Data columns (total 8 columns):\n",
      " #   Column     Non-Null Count  Dtype  \n",
      "---  ------     --------------  -----  \n",
      " 0   keyword    11261 non-null  object \n",
      " 1   title      11261 non-null  object \n",
      " 2   publisher  11261 non-null  object \n",
      " 3   price      11261 non-null  float64\n",
      " 4   pubdate    11261 non-null  object \n",
      " 5   isbn       11261 non-null  object \n",
      " 6   link       11261 non-null  object \n",
      " 7   page       11261 non-null  int32  \n",
      "dtypes: float64(1), int32(1), object(6)\n",
      "memory usage: 747.8+ KB\n"
     ]
    }
   ],
   "source": [
    "result_book.info()"
   ]
  },
  {
   "cell_type": "code",
   "execution_count": 175,
   "metadata": {},
   "outputs": [
    {
     "data": {
      "text/html": [
       "<div>\n",
       "<style scoped>\n",
       "    .dataframe tbody tr th:only-of-type {\n",
       "        vertical-align: middle;\n",
       "    }\n",
       "\n",
       "    .dataframe tbody tr th {\n",
       "        vertical-align: top;\n",
       "    }\n",
       "\n",
       "    .dataframe thead th {\n",
       "        text-align: right;\n",
       "    }\n",
       "</style>\n",
       "<table border=\"1\" class=\"dataframe\">\n",
       "  <thead>\n",
       "    <tr style=\"text-align: right;\">\n",
       "      <th></th>\n",
       "      <th>price</th>\n",
       "    </tr>\n",
       "    <tr>\n",
       "      <th>keyword</th>\n",
       "      <th></th>\n",
       "    </tr>\n",
       "  </thead>\n",
       "  <tbody>\n",
       "    <tr>\n",
       "      <th>Assembly language</th>\n",
       "      <td>86861.499281</td>\n",
       "    </tr>\n",
       "    <tr>\n",
       "      <th>C</th>\n",
       "      <td>58354.480334</td>\n",
       "    </tr>\n",
       "    <tr>\n",
       "      <th>C#</th>\n",
       "      <td>60812.873134</td>\n",
       "    </tr>\n",
       "    <tr>\n",
       "      <th>C++</th>\n",
       "      <td>63899.125000</td>\n",
       "    </tr>\n",
       "    <tr>\n",
       "      <th>Classic Visual Basic</th>\n",
       "      <td>69191.760383</td>\n",
       "    </tr>\n",
       "    <tr>\n",
       "      <th>Delphi/Object Pascal</th>\n",
       "      <td>70779.546853</td>\n",
       "    </tr>\n",
       "    <tr>\n",
       "      <th>Fortran</th>\n",
       "      <td>82702.540780</td>\n",
       "    </tr>\n",
       "    <tr>\n",
       "      <th>Go</th>\n",
       "      <td>53141.692192</td>\n",
       "    </tr>\n",
       "    <tr>\n",
       "      <th>Groovy</th>\n",
       "      <td>49757.083333</td>\n",
       "    </tr>\n",
       "    <tr>\n",
       "      <th>Java</th>\n",
       "      <td>52770.133721</td>\n",
       "    </tr>\n",
       "    <tr>\n",
       "      <th>JavaScript</th>\n",
       "      <td>49006.427663</td>\n",
       "    </tr>\n",
       "    <tr>\n",
       "      <th>MATLAB</th>\n",
       "      <td>102038.858156</td>\n",
       "    </tr>\n",
       "    <tr>\n",
       "      <th>PHP</th>\n",
       "      <td>52144.284211</td>\n",
       "    </tr>\n",
       "    <tr>\n",
       "      <th>Perl</th>\n",
       "      <td>64813.987179</td>\n",
       "    </tr>\n",
       "    <tr>\n",
       "      <th>Python</th>\n",
       "      <td>47321.710825</td>\n",
       "    </tr>\n",
       "    <tr>\n",
       "      <th>R</th>\n",
       "      <td>193273.299191</td>\n",
       "    </tr>\n",
       "    <tr>\n",
       "      <th>Ruby</th>\n",
       "      <td>50386.690141</td>\n",
       "    </tr>\n",
       "    <tr>\n",
       "      <th>SQL</th>\n",
       "      <td>65624.477876</td>\n",
       "    </tr>\n",
       "    <tr>\n",
       "      <th>Swift</th>\n",
       "      <td>52169.103448</td>\n",
       "    </tr>\n",
       "    <tr>\n",
       "      <th>Visual Basic</th>\n",
       "      <td>62581.121260</td>\n",
       "    </tr>\n",
       "  </tbody>\n",
       "</table>\n",
       "</div>"
      ],
      "text/plain": [
       "                              price\n",
       "keyword                            \n",
       "Assembly language      86861.499281\n",
       "C                      58354.480334\n",
       "C#                     60812.873134\n",
       "C++                    63899.125000\n",
       "Classic Visual Basic   69191.760383\n",
       "Delphi/Object Pascal   70779.546853\n",
       "Fortran                82702.540780\n",
       "Go                     53141.692192\n",
       "Groovy                 49757.083333\n",
       "Java                   52770.133721\n",
       "JavaScript             49006.427663\n",
       "MATLAB                102038.858156\n",
       "PHP                    52144.284211\n",
       "Perl                   64813.987179\n",
       "Python                 47321.710825\n",
       "R                     193273.299191\n",
       "Ruby                   50386.690141\n",
       "SQL                    65624.477876\n",
       "Swift                  52169.103448\n",
       "Visual Basic           62581.121260"
      ]
     },
     "execution_count": 175,
     "metadata": {},
     "output_type": "execute_result"
    }
   ],
   "source": [
    "price_pivot = pd.pivot_table(result_book, index='keyword', values='price', aggfunc='mean')\n",
    "price_pivot"
   ]
  },
  {
   "cell_type": "code",
   "execution_count": 176,
   "metadata": {},
   "outputs": [
    {
     "data": {
      "text/html": [
       "<div>\n",
       "<style scoped>\n",
       "    .dataframe tbody tr th:only-of-type {\n",
       "        vertical-align: middle;\n",
       "    }\n",
       "\n",
       "    .dataframe tbody tr th {\n",
       "        vertical-align: top;\n",
       "    }\n",
       "\n",
       "    .dataframe thead th {\n",
       "        text-align: right;\n",
       "    }\n",
       "</style>\n",
       "<table border=\"1\" class=\"dataframe\">\n",
       "  <thead>\n",
       "    <tr style=\"text-align: right;\">\n",
       "      <th></th>\n",
       "      <th>price</th>\n",
       "    </tr>\n",
       "    <tr>\n",
       "      <th>keyword</th>\n",
       "      <th></th>\n",
       "    </tr>\n",
       "  </thead>\n",
       "  <tbody>\n",
       "    <tr>\n",
       "      <th>Python</th>\n",
       "      <td>47321.710825</td>\n",
       "    </tr>\n",
       "    <tr>\n",
       "      <th>JavaScript</th>\n",
       "      <td>49006.427663</td>\n",
       "    </tr>\n",
       "    <tr>\n",
       "      <th>Groovy</th>\n",
       "      <td>49757.083333</td>\n",
       "    </tr>\n",
       "    <tr>\n",
       "      <th>Ruby</th>\n",
       "      <td>50386.690141</td>\n",
       "    </tr>\n",
       "    <tr>\n",
       "      <th>PHP</th>\n",
       "      <td>52144.284211</td>\n",
       "    </tr>\n",
       "    <tr>\n",
       "      <th>Swift</th>\n",
       "      <td>52169.103448</td>\n",
       "    </tr>\n",
       "    <tr>\n",
       "      <th>Java</th>\n",
       "      <td>52770.133721</td>\n",
       "    </tr>\n",
       "    <tr>\n",
       "      <th>Go</th>\n",
       "      <td>53141.692192</td>\n",
       "    </tr>\n",
       "    <tr>\n",
       "      <th>C</th>\n",
       "      <td>58354.480334</td>\n",
       "    </tr>\n",
       "    <tr>\n",
       "      <th>C#</th>\n",
       "      <td>60812.873134</td>\n",
       "    </tr>\n",
       "    <tr>\n",
       "      <th>Visual Basic</th>\n",
       "      <td>62581.121260</td>\n",
       "    </tr>\n",
       "    <tr>\n",
       "      <th>C++</th>\n",
       "      <td>63899.125000</td>\n",
       "    </tr>\n",
       "    <tr>\n",
       "      <th>Perl</th>\n",
       "      <td>64813.987179</td>\n",
       "    </tr>\n",
       "    <tr>\n",
       "      <th>SQL</th>\n",
       "      <td>65624.477876</td>\n",
       "    </tr>\n",
       "    <tr>\n",
       "      <th>Classic Visual Basic</th>\n",
       "      <td>69191.760383</td>\n",
       "    </tr>\n",
       "    <tr>\n",
       "      <th>Delphi/Object Pascal</th>\n",
       "      <td>70779.546853</td>\n",
       "    </tr>\n",
       "    <tr>\n",
       "      <th>Fortran</th>\n",
       "      <td>82702.540780</td>\n",
       "    </tr>\n",
       "    <tr>\n",
       "      <th>Assembly language</th>\n",
       "      <td>86861.499281</td>\n",
       "    </tr>\n",
       "    <tr>\n",
       "      <th>MATLAB</th>\n",
       "      <td>102038.858156</td>\n",
       "    </tr>\n",
       "    <tr>\n",
       "      <th>R</th>\n",
       "      <td>193273.299191</td>\n",
       "    </tr>\n",
       "  </tbody>\n",
       "</table>\n",
       "</div>"
      ],
      "text/plain": [
       "                              price\n",
       "keyword                            \n",
       "Python                 47321.710825\n",
       "JavaScript             49006.427663\n",
       "Groovy                 49757.083333\n",
       "Ruby                   50386.690141\n",
       "PHP                    52144.284211\n",
       "Swift                  52169.103448\n",
       "Java                   52770.133721\n",
       "Go                     53141.692192\n",
       "C                      58354.480334\n",
       "C#                     60812.873134\n",
       "Visual Basic           62581.121260\n",
       "C++                    63899.125000\n",
       "Perl                   64813.987179\n",
       "SQL                    65624.477876\n",
       "Classic Visual Basic   69191.760383\n",
       "Delphi/Object Pascal   70779.546853\n",
       "Fortran                82702.540780\n",
       "Assembly language      86861.499281\n",
       "MATLAB                102038.858156\n",
       "R                     193273.299191"
      ]
     },
     "execution_count": 176,
     "metadata": {},
     "output_type": "execute_result"
    }
   ],
   "source": [
    "price_pivot = price_pivot.sort_values(by=\"price\")\n",
    "price_pivot"
   ]
  },
  {
   "cell_type": "markdown",
   "metadata": {},
   "source": [
    "```\n",
    "위의 테이블은 언어별 도서 가격의 평균값이다. 대체로 저렴한 경우가 평균 47000원 부근이고 비싼 도서는 10만원이 훌쩍 넘는값이었다.\n",
    "이유를 원본 데이터 안에서 찾아보니 외국 도서는 가격이 꾀 나가는 경우가 있었고, 또한 세트 도서로 묶여 있는 경우도 10만원 이상 가격이 나가는 양상이 보였다.\n",
    "```"
   ]
  },
  {
   "cell_type": "code",
   "execution_count": 177,
   "metadata": {},
   "outputs": [
    {
     "data": {
      "text/html": [
       "<div>\n",
       "<style scoped>\n",
       "    .dataframe tbody tr th:only-of-type {\n",
       "        vertical-align: middle;\n",
       "    }\n",
       "\n",
       "    .dataframe tbody tr th {\n",
       "        vertical-align: top;\n",
       "    }\n",
       "\n",
       "    .dataframe thead th {\n",
       "        text-align: right;\n",
       "    }\n",
       "</style>\n",
       "<table border=\"1\" class=\"dataframe\">\n",
       "  <thead>\n",
       "    <tr style=\"text-align: right;\">\n",
       "      <th></th>\n",
       "      <th>keyword</th>\n",
       "      <th>price</th>\n",
       "    </tr>\n",
       "  </thead>\n",
       "  <tbody>\n",
       "    <tr>\n",
       "      <th>0</th>\n",
       "      <td>Python</td>\n",
       "      <td>47321.710825</td>\n",
       "    </tr>\n",
       "    <tr>\n",
       "      <th>1</th>\n",
       "      <td>JavaScript</td>\n",
       "      <td>49006.427663</td>\n",
       "    </tr>\n",
       "    <tr>\n",
       "      <th>2</th>\n",
       "      <td>Groovy</td>\n",
       "      <td>49757.083333</td>\n",
       "    </tr>\n",
       "    <tr>\n",
       "      <th>3</th>\n",
       "      <td>Ruby</td>\n",
       "      <td>50386.690141</td>\n",
       "    </tr>\n",
       "    <tr>\n",
       "      <th>4</th>\n",
       "      <td>PHP</td>\n",
       "      <td>52144.284211</td>\n",
       "    </tr>\n",
       "  </tbody>\n",
       "</table>\n",
       "</div>"
      ],
      "text/plain": [
       "      keyword         price\n",
       "0      Python  47321.710825\n",
       "1  JavaScript  49006.427663\n",
       "2      Groovy  49757.083333\n",
       "3        Ruby  50386.690141\n",
       "4         PHP  52144.284211"
      ]
     },
     "execution_count": 177,
     "metadata": {},
     "output_type": "execute_result"
    }
   ],
   "source": [
    "price_pivot.reset_index(inplace=True)\n",
    "price_pivot.head()"
   ]
  },
  {
   "cell_type": "code",
   "execution_count": 178,
   "metadata": {},
   "outputs": [
    {
     "name": "stderr",
     "output_type": "stream",
     "text": [
      "No handles with labels found to put in legend.\n"
     ]
    },
    {
     "data": {
      "image/png": "[encoded data removed]",
      "text/plain": [
       "<Figure size 1440x720 with 1 Axes>"
      ]
     },
     "metadata": {},
     "output_type": "display_data"
    }
   ],
   "source": [
    "plt.figure(figsize=(20,10))\n",
    "colors = sns.color_palette('hls', len(price_pivot[\"keyword\"]))\n",
    "plt.barh(price_pivot[\"keyword\"], price_pivot[\"price\"], color=colors)\n",
    "plt.legend()\n",
    "plt.grid(True)\n",
    "plt.title('언어별 가격 평균')\n",
    "plt.xlabel(\"가격\")\n",
    "plt.ylabel(\"언어\")\n",
    "plt.show()"
   ]
  },
  {
   "cell_type": "markdown",
   "metadata": {},
   "source": [
    "- 차트를 보게되면 유독 R의 도서 가격이 비싸게 잡혓고, 눈에 띄는건 파이썬은 도서 페이지수도 작고 책의 가격도 저렴한 편인것으로 나타난다."
   ]
  },
  {
   "cell_type": "code",
   "execution_count": 179,
   "metadata": {},
   "outputs": [],
   "source": [
    "result_book.to_csv(\"./filter_data4.csv\", sep=\",\", encoding=\"utf-8\")"
   ]
  },
  {
   "cell_type": "markdown",
   "metadata": {},
   "source": [
    "---"
   ]
  },
  {
   "cell_type": "markdown",
   "metadata": {},
   "source": [
    "## 페이지 수와 가격 사이의 관계 살펴보기"
   ]
  },
  {
   "cell_type": "code",
   "execution_count": 211,
   "metadata": {},
   "outputs": [
    {
     "data": {
      "text/html": [
       "<div>\n",
       "<style scoped>\n",
       "    .dataframe tbody tr th:only-of-type {\n",
       "        vertical-align: middle;\n",
       "    }\n",
       "\n",
       "    .dataframe tbody tr th {\n",
       "        vertical-align: top;\n",
       "    }\n",
       "\n",
       "    .dataframe thead th {\n",
       "        text-align: right;\n",
       "    }\n",
       "</style>\n",
       "<table border=\"1\" class=\"dataframe\">\n",
       "  <thead>\n",
       "    <tr style=\"text-align: right;\">\n",
       "      <th></th>\n",
       "      <th>keyword</th>\n",
       "      <th>title</th>\n",
       "      <th>publisher</th>\n",
       "      <th>price</th>\n",
       "      <th>pubdate</th>\n",
       "      <th>isbn</th>\n",
       "      <th>link</th>\n",
       "      <th>page</th>\n",
       "    </tr>\n",
       "  </thead>\n",
       "  <tbody>\n",
       "    <tr>\n",
       "      <th>0</th>\n",
       "      <td>Python</td>\n",
       "      <td>Effective Python 2nd 이펙티브 파이썬 : 파이썬 코딩의 기술 (똑똑...</td>\n",
       "      <td>길벗</td>\n",
       "      <td>32000.0</td>\n",
       "      <td>20201030</td>\n",
       "      <td>1165213192 9791165213190</td>\n",
       "      <td>http://book.naver.com/bookdb/book_detail.php?b...</td>\n",
       "      <td>640</td>\n",
       "    </tr>\n",
       "  </tbody>\n",
       "</table>\n",
       "</div>"
      ],
      "text/plain": [
       "  keyword                                              title publisher  \\\n",
       "0  Python  Effective Python 2nd 이펙티브 파이썬 : 파이썬 코딩의 기술 (똑똑...        길벗   \n",
       "\n",
       "     price   pubdate                      isbn  \\\n",
       "0  32000.0  20201030  1165213192 9791165213190   \n",
       "\n",
       "                                                link  page  \n",
       "0  http://book.naver.com/bookdb/book_detail.php?b...   640  "
      ]
     },
     "execution_count": 211,
     "metadata": {},
     "output_type": "execute_result"
    }
   ],
   "source": [
    "result_book = pd.read_csv('./filter_data4.csv', index_col=0)\n",
    "result_book.head(1)"
   ]
  },
  {
   "cell_type": "code",
   "execution_count": 212,
   "metadata": {},
   "outputs": [
    {
     "name": "stdout",
     "output_type": "stream",
     "text": [
      "<class 'pandas.core.frame.DataFrame'>\n",
      "Int64Index: 11261 entries, 0 to 11282\n",
      "Data columns (total 8 columns):\n",
      " #   Column     Non-Null Count  Dtype  \n",
      "---  ------     --------------  -----  \n",
      " 0   keyword    11261 non-null  object \n",
      " 1   title      11261 non-null  object \n",
      " 2   publisher  11261 non-null  object \n",
      " 3   price      11261 non-null  float64\n",
      " 4   pubdate    11261 non-null  object \n",
      " 5   isbn       11261 non-null  object \n",
      " 6   link       11261 non-null  object \n",
      " 7   page       11261 non-null  int64  \n",
      "dtypes: float64(1), int64(1), object(6)\n",
      "memory usage: 791.8+ KB\n"
     ]
    }
   ],
   "source": [
    "result_book.info()"
   ]
  },
  {
   "cell_type": "code",
   "execution_count": 213,
   "metadata": {},
   "outputs": [
    {
     "data": {
      "text/html": [
       "<div>\n",
       "<style scoped>\n",
       "    .dataframe tbody tr th:only-of-type {\n",
       "        vertical-align: middle;\n",
       "    }\n",
       "\n",
       "    .dataframe tbody tr th {\n",
       "        vertical-align: top;\n",
       "    }\n",
       "\n",
       "    .dataframe thead th {\n",
       "        text-align: right;\n",
       "    }\n",
       "</style>\n",
       "<table border=\"1\" class=\"dataframe\">\n",
       "  <thead>\n",
       "    <tr style=\"text-align: right;\">\n",
       "      <th></th>\n",
       "      <th>price</th>\n",
       "      <th>page</th>\n",
       "    </tr>\n",
       "  </thead>\n",
       "  <tbody>\n",
       "    <tr>\n",
       "      <th>price</th>\n",
       "      <td>1.000000</td>\n",
       "      <td>0.021315</td>\n",
       "    </tr>\n",
       "    <tr>\n",
       "      <th>page</th>\n",
       "      <td>0.021315</td>\n",
       "      <td>1.000000</td>\n",
       "    </tr>\n",
       "  </tbody>\n",
       "</table>\n",
       "</div>"
      ],
      "text/plain": [
       "          price      page\n",
       "price  1.000000  0.021315\n",
       "page   0.021315  1.000000"
      ]
     },
     "execution_count": 213,
     "metadata": {},
     "output_type": "execute_result"
    }
   ],
   "source": [
    "result_book.corr()"
   ]
  },
  {
   "cell_type": "markdown",
   "metadata": {},
   "source": [
    "- corr() 함수를 통해 상관관계가 있나 살펴봣을떈 0.02정도의 결과로 보아 0.2이하 이므로 거의 무시해도 될 수준의 상관관계를 갖고 있음을 알 수 있다.\n",
    "그렇다면 산점도 그래프를 통해 다시한번 결과를 확인해보자"
   ]
  },
  {
   "cell_type": "code",
   "execution_count": 214,
   "metadata": {},
   "outputs": [
    {
     "data": {
      "image/png": "[encoded data removed]",
      "text/plain": [
       "<Figure size 504x504 with 1 Axes>"
      ]
     },
     "metadata": {},
     "output_type": "display_data"
    }
   ],
   "source": [
    "sns.set_style(\"darkgrid\")\n",
    "sns.lmplot(x=\"page\", y=\"price\", data=result_book, height=7)\n",
    "plt.show()"
   ]
  },
  {
   "cell_type": "markdown",
   "metadata": {},
   "source": [
    "```\n",
    "위 데이터로는 페이지와 가격 사이에 데이터 분포를 확인하기 힘들어 보인다. 또한 상관관계 또한 찾기 힘들어 보인다. 데이터의 노이즈를 제거한 후 다시 한번 확인해 보도록 하자.\n",
    "```"
   ]
  },
  {
   "cell_type": "code",
   "execution_count": 218,
   "metadata": {},
   "outputs": [],
   "source": [
    "result_book[\"price/page\"] = result_book[\"price\"] / result_book[\"page\"]"
   ]
  },
  {
   "cell_type": "code",
   "execution_count": 216,
   "metadata": {},
   "outputs": [
    {
     "data": {
      "text/plain": [
       "inf"
      ]
     },
     "execution_count": 216,
     "metadata": {},
     "output_type": "execute_result"
    }
   ],
   "source": [
    "result_book[\"price/page\"].max()"
   ]
  },
  {
   "cell_type": "markdown",
   "metadata": {},
   "source": [
    "- 무한대로 나왓다는건 페이지의 값이 0일 확률이 크다. 따라서 페이지가 0인 데이터를 한번 지우도록 해보자"
   ]
  },
  {
   "cell_type": "code",
   "execution_count": 187,
   "metadata": {},
   "outputs": [
    {
     "name": "stdout",
     "output_type": "stream",
     "text": [
      "<class 'pandas.core.frame.DataFrame'>\n",
      "Int64Index: 11261 entries, 0 to 11282\n",
      "Data columns (total 9 columns):\n",
      " #   Column      Non-Null Count  Dtype  \n",
      "---  ------      --------------  -----  \n",
      " 0   keyword     11261 non-null  object \n",
      " 1   title       11261 non-null  object \n",
      " 2   publisher   11261 non-null  object \n",
      " 3   price       11261 non-null  float64\n",
      " 4   pubdate     11261 non-null  object \n",
      " 5   isbn        11261 non-null  object \n",
      " 6   link        11261 non-null  object \n",
      " 7   page        11261 non-null  int64  \n",
      " 8   price/page  11261 non-null  float64\n",
      "dtypes: float64(2), int64(1), object(6)\n",
      "memory usage: 879.8+ KB\n"
     ]
    }
   ],
   "source": [
    "result_book.info()"
   ]
  },
  {
   "cell_type": "code",
   "execution_count": 217,
   "metadata": {},
   "outputs": [],
   "source": [
    "result_book = result_book[result_book[\"page\"] != 0]"
   ]
  },
  {
   "cell_type": "code",
   "execution_count": 219,
   "metadata": {},
   "outputs": [
    {
     "data": {
      "text/plain": [
       "153624.79166666666"
      ]
     },
     "execution_count": 219,
     "metadata": {},
     "output_type": "execute_result"
    }
   ],
   "source": [
    "result_book[\"price/page\"].max()"
   ]
  },
  {
   "cell_type": "markdown",
   "metadata": {},
   "source": [
    "- 이제는 수치값이 다시 나오므로 다시한번 데이터를 확인해본다."
   ]
  },
  {
   "cell_type": "code",
   "execution_count": 220,
   "metadata": {},
   "outputs": [],
   "source": [
    "# 노이즈값 제거\n",
    "result_book = result_book[result_book[\"price/page\"] < result_book[\"price/page\"].max()]"
   ]
  },
  {
   "cell_type": "code",
   "execution_count": 221,
   "metadata": {},
   "outputs": [
    {
     "data": {
      "image/png": "[encoded data removed]",
      "text/plain": [
       "<Figure size 504x504 with 1 Axes>"
      ]
     },
     "metadata": {},
     "output_type": "display_data"
    }
   ],
   "source": [
    "sns.set_style(\"darkgrid\")\n",
    "sns.lmplot(x=\"page\", y=\"price\", data=result_book, height=7)\n",
    "plt.show()"
   ]
  },
  {
   "cell_type": "markdown",
   "metadata": {},
   "source": [
    "- 대부분의 자료가 0.5 * 1e6 밑에 있으므로 저 밑에 구간의 데이터들의 상관관계를 살펴본다."
   ]
  },
  {
   "cell_type": "code",
   "execution_count": 222,
   "metadata": {},
   "outputs": [],
   "source": [
    "result_book = result_book[result_book[\"price/page\"] < 500000.0]"
   ]
  },
  {
   "cell_type": "code",
   "execution_count": 196,
   "metadata": {},
   "outputs": [
    {
     "data": {
      "text/plain": [
       "500000.0"
      ]
     },
     "execution_count": 196,
     "metadata": {},
     "output_type": "execute_result"
    }
   ],
   "source": [
    "0.5*1.e6"
   ]
  },
  {
   "cell_type": "code",
   "execution_count": 223,
   "metadata": {},
   "outputs": [
    {
     "data": {
      "image/png": "[encoded data removed]",
      "text/plain": [
       "<Figure size 504x504 with 1 Axes>"
      ]
     },
     "metadata": {},
     "output_type": "display_data"
    }
   ],
   "source": [
    "sns.set_style(\"darkgrid\")\n",
    "sns.lmplot(x=\"page\", y=\"price\", data=result_book, height=7)\n",
    "plt.show()"
   ]
  },
  {
   "cell_type": "markdown",
   "metadata": {},
   "source": [
    "- 번위를 더 줄여본다."
   ]
  },
  {
   "cell_type": "code",
   "execution_count": 204,
   "metadata": {},
   "outputs": [
    {
     "data": {
      "text/plain": [
       "255.63387934817604"
      ]
     },
     "execution_count": 204,
     "metadata": {},
     "output_type": "execute_result"
    }
   ],
   "source": [
    "result_book[\"price/page\"].mean()"
   ]
  },
  {
   "cell_type": "code",
   "execution_count": 224,
   "metadata": {},
   "outputs": [],
   "source": [
    "result_book = result_book[result_book[\"price/page\"] < 1000]"
   ]
  },
  {
   "cell_type": "code",
   "execution_count": 226,
   "metadata": {},
   "outputs": [
    {
     "data": {
      "image/png": "[encoded data removed]",
      "text/plain": [
       "<Figure size 504x504 with 1 Axes>"
      ]
     },
     "metadata": {},
     "output_type": "display_data"
    }
   ],
   "source": [
    "sns.set_style(\"darkgrid\")\n",
    "sns.lmplot(x=\"page\", y=\"price\", data=result_book, height=7, line_kws={'color': 'red'})\n",
    "plt.show()"
   ]
  },
  {
   "cell_type": "markdown",
   "metadata": {},
   "source": [
    "- 평균 근처까지 줄인 경우"
   ]
  },
  {
   "cell_type": "code",
   "execution_count": 227,
   "metadata": {},
   "outputs": [],
   "source": [
    "result_book = result_book[result_book[\"price/page\"] < 255]"
   ]
  },
  {
   "cell_type": "code",
   "execution_count": 228,
   "metadata": {},
   "outputs": [
    {
     "data": {
      "image/png": "[encoded data removed]",
      "text/plain": [
       "<Figure size 504x504 with 1 Axes>"
      ]
     },
     "metadata": {},
     "output_type": "display_data"
    }
   ],
   "source": [
    "sns.set_style(\"darkgrid\")\n",
    "sns.set_palette(\"pastel\")\n",
    "sns.lmplot(x=\"page\", y=\"price\", data=result_book, height=7, line_kws={'color': 'red'})\n",
    "plt.show()"
   ]
  },
  {
   "cell_type": "markdown",
   "metadata": {},
   "source": [
    "```\n",
    "page당 price 가격의 평균은 255원이었다. \n",
    "따라서 이값 부근으로 데이터의 범위를 줄일수록(평균 부근에 있는데이터들 실제로 page당 price의 가격이 1000원 까지 가는것도 현실적으론 힘들다. => 노이즈값이라 볼 수 있다.) \n",
    "page가 많아질수록 price가 많아지는 상관관계를 찾아낼 수 있었다.\n",
    "전체 raw data에서 가격과 페이지수의 상관관계는 거의 없다 봐도 무방하지만\n",
    "데이터의 범위를 줄이면서 노이즈 값들을 제거하게 되면 거의 y < x에 가까워 지는 상관관계를 찾을수 있을것 처럼 보인다.\n",
    "```"
   ]
  }
 ],
 "metadata": {
  "interpreter": {
   "hash": "fff8a2ebda7d7c31fff9abc7af7b4b1a85e6e317ed9dea4607b41f7b3e93769e"
  },
  "kernelspec": {
   "display_name": "Python 3.8.11 64-bit ('ds_study': conda)",
   "name": "python3"
  },
  "language_info": {
   "codemirror_mode": {
    "name": "ipython",
    "version": 3
   },
   "file_extension": ".py",
   "mimetype": "text/x-python",
   "name": "python",
   "nbconvert_exporter": "python",
   "pygments_lexer": "ipython3",
   "version": "3.8.11"
  },
  "orig_nbformat": 4
 },
 "nbformat": 4,
 "nbformat_minor": 2
}
