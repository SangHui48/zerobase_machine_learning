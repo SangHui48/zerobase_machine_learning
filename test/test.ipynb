{
 "cells": [
  {
   "cell_type": "code",
   "execution_count": 1,
   "metadata": {},
   "outputs": [],
   "source": [
    "from bs4 import BeautifulSoup"
   ]
  },
  {
   "cell_type": "code",
   "execution_count": 2,
   "metadata": {},
   "outputs": [],
   "source": [
    "import pandas as pd"
   ]
  },
  {
   "cell_type": "code",
   "execution_count": 1,
   "metadata": {},
   "outputs": [
    {
     "ename": "NameError",
     "evalue": "name 'pd' is not defined",
     "output_type": "error",
     "traceback": [
      "\u001b[1;31m---------------------------------------------------------------------------\u001b[0m",
      "\u001b[1;31mNameError\u001b[0m                                 Traceback (most recent call last)",
      "\u001b[1;32m~\\AppData\\Local\\Temp/ipykernel_9296/3515871732.py\u001b[0m in \u001b[0;36m<module>\u001b[1;34m\u001b[0m\n\u001b[1;32m----> 1\u001b[1;33m \u001b[0mpd\u001b[0m\u001b[1;33m.\u001b[0m\u001b[0mto_csv\u001b[0m\u001b[1;33m(\u001b[0m\u001b[1;33m)\u001b[0m\u001b[1;33m\u001b[0m\u001b[1;33m\u001b[0m\u001b[0m\n\u001b[0m",
      "\u001b[1;31mNameError\u001b[0m: name 'pd' is not defined"
     ]
    }
   ],
   "source": [
    "pd.to_csv()"
   ]
  },
  {
   "cell_type": "code",
   "execution_count": 4,
   "metadata": {},
   "outputs": [
    {
     "name": "stderr",
     "output_type": "stream",
     "text": [
      "C:\\Users\\sanghui\\AppData\\Local\\Temp/ipykernel_9296/1428103143.py:13: DeprecationWarning: use driver.switch_to.frame instead\n",
      "  driver.switch_to_frame(iframe)\n"
     ]
    },
    {
     "data": {
      "text/plain": [
       "'1,187.00'"
      ]
     },
     "execution_count": 4,
     "metadata": {},
     "output_type": "execute_result"
    }
   ],
   "source": [
    "import pandas as pd\n",
    "import time\n",
    "from selenium import webdriver\n",
    "\n",
    "url = \"https://finance.naver.com/marketindex/\"\n",
    "driver = webdriver.Chrome(\"../driver/chromedriver.exe\")\n",
    "driver.get(url)\n",
    "\n",
    "# iframe 태그 지정\n",
    "iframe = driver.find_element_by_css_selector(\"#frame_ex1\")\n",
    "time.sleep(2)\n",
    "# iframe 태그 이동\n",
    "driver.switch_to_frame(iframe)\n",
    "time.sleep(2)\n",
    "# 밑 페이지에 있는 , 매매기준율\n",
    "contents = driver.find_elements_by_css_selector(\"body > div > table > tbody > tr > td.sale\")\n",
    "\n",
    "contents[0].text"
   ]
  },
  {
   "cell_type": "code",
   "execution_count": null,
   "metadata": {},
   "outputs": [],
   "source": []
  }
 ],
 "metadata": {
  "interpreter": {
   "hash": "fff8a2ebda7d7c31fff9abc7af7b4b1a85e6e317ed9dea4607b41f7b3e93769e"
  },
  "kernelspec": {
   "display_name": "Python 3.8.11 64-bit ('ds_study': conda)",
   "name": "python3"
  },
  "language_info": {
   "codemirror_mode": {
    "name": "ipython",
    "version": 3
   },
   "file_extension": ".py",
   "mimetype": "text/x-python",
   "name": "python",
   "nbconvert_exporter": "python",
   "pygments_lexer": "ipython3",
   "version": "3.8.11"
  },
  "orig_nbformat": 4
 },
 "nbformat": 4,
 "nbformat_minor": 2
}
